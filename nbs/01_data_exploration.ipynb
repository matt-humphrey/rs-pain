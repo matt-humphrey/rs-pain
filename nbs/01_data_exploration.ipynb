{
 "cells": [
  {
   "cell_type": "markdown",
   "metadata": {},
   "source": [
    "# TODO\n",
    "\n",
    "Variables to explore:\n",
    "\n",
    "- [x] PN17\n",
    "- [x] PN25\n",
    "- [x] PN34\n",
    "- [x] PN35\n",
    "- [x] PN36\n",
    "- [x] PN9\n",
    "- [x] PN38"
   ]
  },
  {
   "cell_type": "markdown",
   "metadata": {},
   "source": [
    "## Set up"
   ]
  },
  {
   "cell_type": "code",
   "execution_count": null,
   "metadata": {},
   "outputs": [],
   "source": [
    "%load_ext rich\n",
    "%load_ext autoreload\n",
    "%autoreload 2"
   ]
  },
  {
   "cell_type": "code",
   "execution_count": null,
   "metadata": {},
   "outputs": [],
   "source": [
    "from pathlib import Path\n",
    "import polars as pl\n",
    "import pandas as pd\n",
    "import numpy as np\n",
    "from rich import print as rprint\n",
    "\n",
    "from pain.read import *\n",
    "from pain.explore import *"
   ]
  },
  {
   "cell_type": "code",
   "execution_count": null,
   "metadata": {},
   "outputs": [],
   "source": [
    "data_dir = Path(\"../data/raw\")"
   ]
  },
  {
   "cell_type": "code",
   "execution_count": null,
   "metadata": {},
   "outputs": [],
   "source": [
    "datasets = [\n",
    "    Dataset(\"G214_PQ.sav\", data_dir, \"G214_PQ_\", [\"ID\", \"G214_PQ_PN17\", \"G214_PQ_PN25\", \"G214_PQ_PN34\", \"G214_PQ_PN35\", \"G214_PQ_PN36\"]),\n",
    "    Dataset(\"G214_SQ.sav\", data_dir, \"G214_SQ_\", [\"ID\", \"G214_SQ_PN17\", \"G214_SQ_PN25\", \"G214_SQ_PN34\", \"G214_SQ_PN35\", \"G214_SQ_PN36\"]),\n",
    "    Dataset(\"G217_PQ.sav\", data_dir, \"G217_PQ_\", [\"ID\", \"G217_PQ_PN17\", \"G217_PQ_PN25\", \"G217_PQ_PN34\", \"G217_PQ_PN35\", \"G217_PQ_PN36\", \"G217_PQ_PN38\", \"G217_PQ_PN9\"]),\n",
    "    Dataset(\"G217_SQ.sav\", data_dir, \"G217_SQ_\", [\"ID\", \"G217_SQ_PN17\", \"G217_SQ_PN25\", \"G217_SQ_PN34\", \"G217_SQ_PN35\", \"G217_SQ_PN36\", \"G217_SQ_PN38\", \"G217_SQ_PN9\"])\n",
    "]\n",
    "\n",
    "prefixes = [\"G214_PQ_\", \"G214_SQ_\", \"G217_PQ_\", \"G217_SQ_\"]"
   ]
  },
  {
   "cell_type": "code",
   "execution_count": null,
   "metadata": {},
   "outputs": [],
   "source": [
    "dataframes, metadata = read_and_filter_data(datasets)\n",
    "df = combine_dataframes(dataframes)\n",
    "meta = merge_dictionaries(metadata)"
   ]
  },
  {
   "cell_type": "markdown",
   "metadata": {},
   "source": [
    "## PN17"
   ]
  },
  {
   "cell_type": "code",
   "execution_count": null,
   "metadata": {},
   "outputs": [],
   "source": [
    "var = \"PN17\""
   ]
  },
  {
   "cell_type": "markdown",
   "metadata": {},
   "source": [
    "### Data"
   ]
  },
  {
   "cell_type": "markdown",
   "metadata": {},
   "source": [
    "The existing data options for PN17 are all the same:\n",
    "- 0: No\n",
    "- 1: Yes\n",
    "- 9: Missing\n",
    "\n",
    "Changes to make:\n",
    "- Convert 9 to -99 in all cases"
   ]
  },
  {
   "cell_type": "code",
   "execution_count": null,
   "metadata": {},
   "outputs": [
    {
     "data": {
      "text/plain": [
       "\n",
       "\u001b[1m{\u001b[0m\n",
       "    \u001b[32m'G214_PQ_PN17'\u001b[0m: \u001b[1m(\u001b[0m\u001b[3;35mNone\u001b[0m, \u001b[1;36m0.0\u001b[0m, \u001b[1;36m1.0\u001b[0m, \u001b[1;36m9.0\u001b[0m\u001b[1m)\u001b[0m,\n",
       "    \u001b[32m'G214_SQ_PN17'\u001b[0m: \u001b[1m(\u001b[0m\u001b[3;35mNone\u001b[0m, \u001b[1;36m0.0\u001b[0m, \u001b[1;36m1.0\u001b[0m, \u001b[1;36m9.0\u001b[0m\u001b[1m)\u001b[0m,\n",
       "    \u001b[32m'G217_PQ_PN17'\u001b[0m: \u001b[1m(\u001b[0m\u001b[3;35mNone\u001b[0m, \u001b[1;36m0.0\u001b[0m, \u001b[1;36m1.0\u001b[0m, \u001b[1;36m9.0\u001b[0m\u001b[1m)\u001b[0m,\n",
       "    \u001b[32m'G217_SQ_PN17'\u001b[0m: \u001b[1m(\u001b[0m\u001b[3;35mNone\u001b[0m, \u001b[1;36m0.0\u001b[0m, \u001b[1;36m1.0\u001b[0m, \u001b[1;36m9.0\u001b[0m\u001b[1m)\u001b[0m\n",
       "\u001b[1m}\u001b[0m"
      ]
     },
     "execution_count": null,
     "metadata": {},
     "output_type": "execute_result"
    }
   ],
   "source": [
    "unique_values(df, var)"
   ]
  },
  {
   "cell_type": "markdown",
   "metadata": {},
   "source": [
    "### Metadata"
   ]
  },
  {
   "cell_type": "markdown",
   "metadata": {},
   "source": [
    "The metadata is generally identical, with a minor discrepancy in the label for G217_SQ.\n",
    "There are differences in value labels, but these values do not exist in the data, so they can be harmonised without changes to the raw data."
   ]
  },
  {
   "cell_type": "code",
   "execution_count": null,
   "metadata": {},
   "outputs": [
    {
     "data": {
      "text/html": [
       "<div>\n",
       "<style scoped>\n",
       "    .dataframe tbody tr th:only-of-type {\n",
       "        vertical-align: middle;\n",
       "    }\n",
       "\n",
       "    .dataframe tbody tr th {\n",
       "        vertical-align: top;\n",
       "    }\n",
       "\n",
       "    .dataframe thead th {\n",
       "        text-align: right;\n",
       "    }\n",
       "</style>\n",
       "<table border=\"1\" class=\"dataframe\">\n",
       "  <thead>\n",
       "    <tr style=\"text-align: right;\">\n",
       "      <th></th>\n",
       "      <th>G214_PQ_PN17</th>\n",
       "      <th>G214_SQ_PN17</th>\n",
       "      <th>G217_PQ_PN17</th>\n",
       "      <th>G217_SQ_PN17</th>\n",
       "    </tr>\n",
       "  </thead>\n",
       "  <tbody>\n",
       "    <tr>\n",
       "      <th>Label</th>\n",
       "      <td>Ever had back pain</td>\n",
       "      <td>Ever had back pain</td>\n",
       "      <td>Ever had back pain</td>\n",
       "      <td>Ever had back pain?</td>\n",
       "    </tr>\n",
       "    <tr>\n",
       "      <th>Field Type</th>\n",
       "      <td>Numeric</td>\n",
       "      <td>Numeric</td>\n",
       "      <td>Numeric</td>\n",
       "      <td>Numeric</td>\n",
       "    </tr>\n",
       "    <tr>\n",
       "      <th>Field Width</th>\n",
       "      <td>8</td>\n",
       "      <td>8</td>\n",
       "      <td>8</td>\n",
       "      <td>8</td>\n",
       "    </tr>\n",
       "    <tr>\n",
       "      <th>Decimals</th>\n",
       "      <td>0</td>\n",
       "      <td>0</td>\n",
       "      <td>0</td>\n",
       "      <td>0</td>\n",
       "    </tr>\n",
       "    <tr>\n",
       "      <th>Variable Type</th>\n",
       "      <td>scale</td>\n",
       "      <td>scale</td>\n",
       "      <td>scale</td>\n",
       "      <td>scale</td>\n",
       "    </tr>\n",
       "    <tr>\n",
       "      <th>Field Values</th>\n",
       "      <td>{0.0: 'No', 1.0: 'Yes', 8.0: 'Not applicable',...</td>\n",
       "      <td>{0.0: 'No', 1.0: 'Yes', 8.0: 'Not applicable',...</td>\n",
       "      <td>{0.0: 'No', 1.0: 'Yes', 7.0: 'Involved in inco...</td>\n",
       "      <td>{0.0: 'No', 1.0: 'Yes', 9.0: 'Not stated'}</td>\n",
       "    </tr>\n",
       "  </tbody>\n",
       "</table>\n",
       "</div>"
      ],
      "text/plain": [
       "\n",
       "                                                    G214_PQ_PN17  \\\n",
       "Label                                         Ever had back pain   \n",
       "Field Type                                               Numeric   \n",
       "Field Width                                                    \u001b[1;36m8\u001b[0m   \n",
       "Decimals                                                       \u001b[1;36m0\u001b[0m   \n",
       "Variable Type                                              scale   \n",
       "Field Values   \u001b[1m{\u001b[0m\u001b[1;36m0.0\u001b[0m: \u001b[32m'No'\u001b[0m, \u001b[1;36m1.0\u001b[0m: \u001b[32m'Yes'\u001b[0m, \u001b[1;36m8.0\u001b[0m: \u001b[32m'Not applicable'\u001b[0m,\u001b[33m...\u001b[0m   \n",
       "\n",
       "                                                    G214_SQ_PN17  \\\n",
       "Label                                         Ever had back pain   \n",
       "Field Type                                               Numeric   \n",
       "Field Width                                                    \u001b[1;36m8\u001b[0m   \n",
       "Decimals                                                       \u001b[1;36m0\u001b[0m   \n",
       "Variable Type                                              scale   \n",
       "Field Values   \u001b[1m{\u001b[0m\u001b[1;36m0.0\u001b[0m: \u001b[32m'No'\u001b[0m, \u001b[1;36m1.0\u001b[0m: \u001b[32m'Yes'\u001b[0m, \u001b[1;36m8.0\u001b[0m: \u001b[32m'Not applicable'\u001b[0m,\u001b[33m...\u001b[0m   \n",
       "\n",
       "                                                    G217_PQ_PN17  \\\n",
       "Label                                         Ever had back pain   \n",
       "Field Type                                               Numeric   \n",
       "Field Width                                                    \u001b[1;36m8\u001b[0m   \n",
       "Decimals                                                       \u001b[1;36m0\u001b[0m   \n",
       "Variable Type                                              scale   \n",
       "Field Values   \u001b[1m{\u001b[0m\u001b[1;36m0.0\u001b[0m: \u001b[32m'No'\u001b[0m, \u001b[1;36m1.0\u001b[0m: \u001b[32m'Yes'\u001b[0m, \u001b[1;36m7.0\u001b[0m: 'Involved in inco\u001b[33m...\u001b[0m   \n",
       "\n",
       "                                             G217_SQ_PN17  \n",
       "Label                                 Ever had back pain?  \n",
       "Field Type                                        Numeric  \n",
       "Field Width                                             \u001b[1;36m8\u001b[0m  \n",
       "Decimals                                                \u001b[1;36m0\u001b[0m  \n",
       "Variable Type                                       scale  \n",
       "Field Values   \u001b[1m{\u001b[0m\u001b[1;36m0.0\u001b[0m: \u001b[32m'No'\u001b[0m, \u001b[1;36m1.0\u001b[0m: \u001b[32m'Yes'\u001b[0m, \u001b[1;36m9.0\u001b[0m: \u001b[32m'Not stated'\u001b[0m\u001b[1m}\u001b[0m  "
      ]
     },
     "execution_count": null,
     "metadata": {},
     "output_type": "execute_result"
    }
   ],
   "source": [
    "m = filter_metadata(var, df, meta)\n",
    "pd.DataFrame(m).T"
   ]
  },
  {
   "cell_type": "markdown",
   "metadata": {},
   "source": [
    "## PN25"
   ]
  },
  {
   "cell_type": "code",
   "execution_count": null,
   "metadata": {},
   "outputs": [],
   "source": [
    "var = \"PN25\""
   ]
  },
  {
   "cell_type": "markdown",
   "metadata": {},
   "source": [
    "### Data"
   ]
  },
  {
   "cell_type": "markdown",
   "metadata": {},
   "source": [
    "Some of the existing options are the same across all datasets:\n",
    "- 0: No\n",
    "- 1: Yes\n",
    "- 9: Missing\n",
    "\n",
    "For G214_PQ and G214_SQ\n",
    "- 8: N/A\n",
    "\n",
    "For G217_PQ:\n",
    "- 7: Involved in incorrect skip - not answered\n",
    "\n",
    "Values of 7 should be considered missing, as discussed with Alex D'Vauz.\n",
    "\n",
    "Changes:\n",
    "- Convert 8 to -88\n",
    "- Convert 9 to -99\n",
    "- Convert 7 to -99"
   ]
  },
  {
   "cell_type": "code",
   "execution_count": null,
   "metadata": {},
   "outputs": [
    {
     "name": "stdout",
     "output_type": "stream",
     "text": [
      "\u001b[1m{\u001b[0m\n",
      "    \u001b[32m'G214_PQ_PN25'\u001b[0m: \u001b[1m(\u001b[0m\u001b[3;35mNone\u001b[0m, \u001b[1;36m0.0\u001b[0m, \u001b[1;36m1.0\u001b[0m, \u001b[1;36m8.0\u001b[0m, \u001b[1;36m9.0\u001b[0m\u001b[1m)\u001b[0m,\n",
      "    \u001b[32m'G214_SQ_PN25'\u001b[0m: \u001b[1m(\u001b[0m\u001b[3;35mNone\u001b[0m, \u001b[1;36m0.0\u001b[0m, \u001b[1;36m1.0\u001b[0m, \u001b[1;36m8.0\u001b[0m, \u001b[1;36m9.0\u001b[0m\u001b[1m)\u001b[0m,\n",
      "    \u001b[32m'G217_PQ_PN25'\u001b[0m: \u001b[1m(\u001b[0m\u001b[3;35mNone\u001b[0m, \u001b[1;36m0.0\u001b[0m, \u001b[1;36m1.0\u001b[0m, \u001b[1;36m7.0\u001b[0m, \u001b[1;36m9.0\u001b[0m\u001b[1m)\u001b[0m,\n",
      "    \u001b[32m'G217_SQ_PN25'\u001b[0m: \u001b[1m(\u001b[0m\u001b[3;35mNone\u001b[0m, \u001b[1;36m0.0\u001b[0m, \u001b[1;36m1.0\u001b[0m, \u001b[1;36m9.0\u001b[0m\u001b[1m)\u001b[0m\n",
      "\u001b[1m}\u001b[0m\n"
     ]
    }
   ],
   "source": [
    "unique_vals = unique_values(df, var)\n",
    "rprint(unique_vals)"
   ]
  },
  {
   "cell_type": "code",
   "execution_count": null,
   "metadata": {},
   "outputs": [
    {
     "data": {
      "text/plain": [
       "\u001b[1m{\u001b[0m\u001b[1;36m0.0\u001b[0m, \u001b[1;36m1.0\u001b[0m, \u001b[1;36m7.0\u001b[0m, \u001b[1;36m8.0\u001b[0m, \u001b[1;36m9.0\u001b[0m\u001b[1m}\u001b[0m"
      ]
     },
     "execution_count": null,
     "metadata": {},
     "output_type": "execute_result"
    }
   ],
   "source": [
    "# Note the unique values for PN25 across all datasets combined\n",
    "value_options = set()\n",
    "for values in unique_vals.values(): \n",
    "    value_options.update(values)\n",
    "value_options.discard(None)\n",
    "value_options"
   ]
  },
  {
   "cell_type": "markdown",
   "metadata": {},
   "source": [
    "#### Define properties to test, validate, and explore\n",
    "\n",
    "- When PN17 is 0 (No), PN25 should be 8 (N/A)\n",
    "- When PN17 is 1 (Yes), PN25 should be 0, 1, or 9\n",
    "- When PN17 is 9 (Missing), PN25 should be 9"
   ]
  },
  {
   "cell_type": "code",
   "execution_count": null,
   "metadata": {},
   "outputs": [],
   "source": [
    "test = df.clone().collect()"
   ]
  },
  {
   "cell_type": "code",
   "execution_count": null,
   "metadata": {},
   "outputs": [
    {
     "name": "stdout",
     "output_type": "stream",
     "text": [
      "When PN17 == \u001b[1;36m0\u001b[0m\n",
      "\u001b[1m{\u001b[0m\u001b[32m'G214_PQ_PN25'\u001b[0m: \u001b[1m[\u001b[0m\u001b[1;36m8.0\u001b[0m\u001b[1m]\u001b[0m\u001b[1m}\u001b[0m\n",
      "\u001b[1m{\u001b[0m\u001b[32m'G214_SQ_PN25'\u001b[0m: \u001b[1m[\u001b[0m\u001b[1;36m8.0\u001b[0m\u001b[1m]\u001b[0m\u001b[1m}\u001b[0m\n",
      "\u001b[1m{\u001b[0m\u001b[32m'G217_PQ_PN25'\u001b[0m: \u001b[1m[\u001b[0m\u001b[1;36m0.0\u001b[0m, \u001b[1;36m1.0\u001b[0m, \u001b[1;36m7.0\u001b[0m, \u001b[1;36m9.0\u001b[0m\u001b[1m]\u001b[0m\u001b[1m}\u001b[0m\n",
      "\u001b[1m{\u001b[0m\u001b[32m'G217_SQ_PN25'\u001b[0m: \u001b[1m[\u001b[0m\u001b[1;36m0.0\u001b[0m, \u001b[1;36m9.0\u001b[0m, \u001b[1;36m1.0\u001b[0m\u001b[1m]\u001b[0m\u001b[1m}\u001b[0m\n",
      "When PN17 == \u001b[1;36m1\u001b[0m\n",
      "\u001b[1m{\u001b[0m\u001b[32m'G214_PQ_PN25'\u001b[0m: \u001b[1m[\u001b[0m\u001b[1;36m0.0\u001b[0m, \u001b[1;36m1.0\u001b[0m\u001b[1m]\u001b[0m\u001b[1m}\u001b[0m\n",
      "\u001b[1m{\u001b[0m\u001b[32m'G214_SQ_PN25'\u001b[0m: \u001b[1m[\u001b[0m\u001b[1;36m1.0\u001b[0m, \u001b[1;36m0.0\u001b[0m, \u001b[1;36m9.0\u001b[0m\u001b[1m]\u001b[0m\u001b[1m}\u001b[0m\n",
      "\u001b[1m{\u001b[0m\u001b[32m'G217_PQ_PN25'\u001b[0m: \u001b[1m[\u001b[0m\u001b[1;36m0.0\u001b[0m, \u001b[1;36m9.0\u001b[0m, \u001b[1;36m1.0\u001b[0m\u001b[1m]\u001b[0m\u001b[1m}\u001b[0m\n",
      "\u001b[1m{\u001b[0m\u001b[32m'G217_SQ_PN25'\u001b[0m: \u001b[1m[\u001b[0m\u001b[1;36m1.0\u001b[0m, \u001b[1;36m0.0\u001b[0m\u001b[1m]\u001b[0m\u001b[1m}\u001b[0m\n",
      "When PN17 == \u001b[1;36m9\u001b[0m\n",
      "\u001b[1m{\u001b[0m\u001b[32m'G214_PQ_PN25'\u001b[0m: \u001b[1m[\u001b[0m\u001b[1;36m9.0\u001b[0m\u001b[1m]\u001b[0m\u001b[1m}\u001b[0m\n",
      "\u001b[1m{\u001b[0m\u001b[32m'G214_SQ_PN25'\u001b[0m: \u001b[1m[\u001b[0m\u001b[1;36m9.0\u001b[0m\u001b[1m]\u001b[0m\u001b[1m}\u001b[0m\n",
      "\u001b[1m{\u001b[0m\u001b[32m'G217_PQ_PN25'\u001b[0m: \u001b[1m[\u001b[0m\u001b[1;36m9.0\u001b[0m\u001b[1m]\u001b[0m\u001b[1m}\u001b[0m\n",
      "\u001b[1m{\u001b[0m\u001b[32m'G217_SQ_PN25'\u001b[0m: \u001b[1m[\u001b[0m\u001b[1;36m9.0\u001b[0m\u001b[1m]\u001b[0m\u001b[1m}\u001b[0m\n"
     ]
    }
   ],
   "source": [
    "for value in (0, 1, 9):\n",
    "    rprint(f\"When PN17 == {value}\")\n",
    "    for p in prefixes:\n",
    "        rprint(\n",
    "            test\n",
    "            .filter(pl.col(f\"{p}PN17\") == value)\n",
    "            .select(f\"{p}{var}\")\n",
    "            .unique()\n",
    "            .to_dict(as_series=False)\n",
    "        )"
   ]
  },
  {
   "cell_type": "markdown",
   "metadata": {},
   "source": [
    "Properties 2 and 3 were as expected.\n",
    "Property 1 did not pass, as there were differences in the Y17 follow-ups.\n",
    "On further investigation, it appears there were two additional questions, related to neck, and shoulder pain, which changed the following logic of the questions.\n",
    "For Y14, is the participant responded \"No\" to PN17, all following questions were skipped.\n",
    "For Y17, they may have responded \"No\" to PN17, but if they answered \"Yes\" to having either neck or shoulder pain, they still answered the subsequent questions; hence, values of 0, 1 and 9 (and 7 due to incorrect skips)."
   ]
  },
  {
   "cell_type": "code",
   "execution_count": null,
   "metadata": {},
   "outputs": [
    {
     "name": "stdout",
     "output_type": "stream",
     "text": [
      "When PN25 == \u001b[1;36m0.0\u001b[0m\n",
      "\u001b[1m{\u001b[0m\u001b[32m'G214_PQ_PN17'\u001b[0m: \u001b[1m[\u001b[0m\u001b[1;36m1.0\u001b[0m\u001b[1m]\u001b[0m\u001b[1m}\u001b[0m\n",
      "\u001b[1m{\u001b[0m\u001b[32m'G214_SQ_PN17'\u001b[0m: \u001b[1m[\u001b[0m\u001b[1;36m1.0\u001b[0m\u001b[1m]\u001b[0m\u001b[1m}\u001b[0m\n",
      "\u001b[1m{\u001b[0m\u001b[32m'G217_PQ_PN17'\u001b[0m: \u001b[1m[\u001b[0m\u001b[1;36m0.0\u001b[0m, \u001b[1;36m1.0\u001b[0m\u001b[1m]\u001b[0m\u001b[1m}\u001b[0m\n",
      "\u001b[1m{\u001b[0m\u001b[32m'G217_SQ_PN17'\u001b[0m: \u001b[1m[\u001b[0m\u001b[1;36m0.0\u001b[0m, \u001b[1;36m1.0\u001b[0m\u001b[1m]\u001b[0m\u001b[1m}\u001b[0m\n",
      "When PN25 == \u001b[1;36m1.0\u001b[0m\n",
      "\u001b[1m{\u001b[0m\u001b[32m'G214_PQ_PN17'\u001b[0m: \u001b[1m[\u001b[0m\u001b[1;36m1.0\u001b[0m\u001b[1m]\u001b[0m\u001b[1m}\u001b[0m\n",
      "\u001b[1m{\u001b[0m\u001b[32m'G214_SQ_PN17'\u001b[0m: \u001b[1m[\u001b[0m\u001b[1;36m1.0\u001b[0m\u001b[1m]\u001b[0m\u001b[1m}\u001b[0m\n",
      "\u001b[1m{\u001b[0m\u001b[32m'G217_PQ_PN17'\u001b[0m: \u001b[1m[\u001b[0m\u001b[1;36m0.0\u001b[0m, \u001b[1;36m1.0\u001b[0m\u001b[1m]\u001b[0m\u001b[1m}\u001b[0m\n",
      "\u001b[1m{\u001b[0m\u001b[32m'G217_SQ_PN17'\u001b[0m: \u001b[1m[\u001b[0m\u001b[1;36m1.0\u001b[0m, \u001b[1;36m0.0\u001b[0m\u001b[1m]\u001b[0m\u001b[1m}\u001b[0m\n",
      "When PN25 == \u001b[1;36m7.0\u001b[0m\n",
      "\u001b[1m{\u001b[0m\u001b[32m'G214_PQ_PN17'\u001b[0m: \u001b[1m[\u001b[0m\u001b[1m]\u001b[0m\u001b[1m}\u001b[0m\n",
      "\u001b[1m{\u001b[0m\u001b[32m'G214_SQ_PN17'\u001b[0m: \u001b[1m[\u001b[0m\u001b[1m]\u001b[0m\u001b[1m}\u001b[0m\n",
      "\u001b[1m{\u001b[0m\u001b[32m'G217_PQ_PN17'\u001b[0m: \u001b[1m[\u001b[0m\u001b[1;36m0.0\u001b[0m\u001b[1m]\u001b[0m\u001b[1m}\u001b[0m\n",
      "\u001b[1m{\u001b[0m\u001b[32m'G217_SQ_PN17'\u001b[0m: \u001b[1m[\u001b[0m\u001b[1m]\u001b[0m\u001b[1m}\u001b[0m\n",
      "When PN25 == \u001b[1;36m8.0\u001b[0m\n",
      "\u001b[1m{\u001b[0m\u001b[32m'G214_PQ_PN17'\u001b[0m: \u001b[1m[\u001b[0m\u001b[1;36m0.0\u001b[0m\u001b[1m]\u001b[0m\u001b[1m}\u001b[0m\n",
      "\u001b[1m{\u001b[0m\u001b[32m'G214_SQ_PN17'\u001b[0m: \u001b[1m[\u001b[0m\u001b[1;36m0.0\u001b[0m\u001b[1m]\u001b[0m\u001b[1m}\u001b[0m\n",
      "\u001b[1m{\u001b[0m\u001b[32m'G217_PQ_PN17'\u001b[0m: \u001b[1m[\u001b[0m\u001b[1m]\u001b[0m\u001b[1m}\u001b[0m\n",
      "\u001b[1m{\u001b[0m\u001b[32m'G217_SQ_PN17'\u001b[0m: \u001b[1m[\u001b[0m\u001b[1m]\u001b[0m\u001b[1m}\u001b[0m\n",
      "When PN25 == \u001b[1;36m9.0\u001b[0m\n",
      "\u001b[1m{\u001b[0m\u001b[32m'G214_PQ_PN17'\u001b[0m: \u001b[1m[\u001b[0m\u001b[1;36m9.0\u001b[0m\u001b[1m]\u001b[0m\u001b[1m}\u001b[0m\n",
      "\u001b[1m{\u001b[0m\u001b[32m'G214_SQ_PN17'\u001b[0m: \u001b[1m[\u001b[0m\u001b[1;36m9.0\u001b[0m, \u001b[1;36m1.0\u001b[0m\u001b[1m]\u001b[0m\u001b[1m}\u001b[0m\n",
      "\u001b[1m{\u001b[0m\u001b[32m'G217_PQ_PN17'\u001b[0m: \u001b[1m[\u001b[0m\u001b[1;36m0.0\u001b[0m, \u001b[1;36m9.0\u001b[0m, \u001b[1;36m1.0\u001b[0m\u001b[1m]\u001b[0m\u001b[1m}\u001b[0m\n",
      "\u001b[1m{\u001b[0m\u001b[32m'G217_SQ_PN17'\u001b[0m: \u001b[1m[\u001b[0m\u001b[1;36m0.0\u001b[0m, \u001b[1;36m9.0\u001b[0m\u001b[1m]\u001b[0m\u001b[1m}\u001b[0m\n"
     ]
    }
   ],
   "source": [
    "for value in value_options:\n",
    "    rprint(f\"When {var} == {value}\")\n",
    "    for p in prefixes:\n",
    "        rprint(\n",
    "            test\n",
    "            .filter(pl.col(f\"{p}{var}\") == value)\n",
    "            .select(f\"{p}PN17\")\n",
    "            .unique()\n",
    "            .to_dict(as_series=False)\n",
    "        )"
   ]
  },
  {
   "cell_type": "markdown",
   "metadata": {},
   "source": [
    "No additional, unexpected values were found."
   ]
  },
  {
   "cell_type": "markdown",
   "metadata": {},
   "source": [
    "### Metadata"
   ]
  },
  {
   "cell_type": "markdown",
   "metadata": {},
   "source": [
    "Clear discrepancies in labels and field values.\n",
    "\n",
    "Changes:\n",
    "- Harmonised label to \"Sought professional advice/treatment\"\n",
    "- Updated field values to reflect changes in data"
   ]
  },
  {
   "cell_type": "code",
   "execution_count": null,
   "metadata": {},
   "outputs": [],
   "source": [
    "m = filter_metadata(var, df, meta)"
   ]
  },
  {
   "cell_type": "code",
   "execution_count": null,
   "metadata": {},
   "outputs": [
    {
     "name": "stdout",
     "output_type": "stream",
     "text": [
      "\u001b[1;35mdefaultdict\u001b[0m\u001b[1m(\u001b[0m\u001b[1m<\u001b[0m\u001b[1;95mclass\u001b[0m\u001b[39m \u001b[0m\u001b[32m'dict'\u001b[0m\u001b[1m>\u001b[0m, \u001b[1m{\u001b[0m\n",
      "    \u001b[32m'Label'\u001b[0m: \u001b[1m{\u001b[0m\n",
      "        \u001b[32m'G214_PQ_PN25'\u001b[0m: \u001b[32m'Seek pro advice for back pain'\u001b[0m,\n",
      "        \u001b[32m'G214_SQ_PN25'\u001b[0m: \u001b[32m'Seek pro advice for back pain'\u001b[0m,\n",
      "        \u001b[32m'G217_PQ_PN25'\u001b[0m: \u001b[32m'Ever sought health professional advice/treatment for \u001b[0m\n",
      "\u001b[32mback pain'\u001b[0m,\n",
      "        \u001b[32m'G217_SQ_PN25'\u001b[0m: \u001b[32m'Seek treatment for back pain?'\u001b[0m\n",
      "    \u001b[1m}\u001b[0m,\n",
      "    \u001b[32m'Field Type'\u001b[0m: \u001b[1m{\u001b[0m\n",
      "        \u001b[32m'G214_PQ_PN25'\u001b[0m: \u001b[32m'Numeric'\u001b[0m,\n",
      "        \u001b[32m'G214_SQ_PN25'\u001b[0m: \u001b[32m'Numeric'\u001b[0m,\n",
      "        \u001b[32m'G217_PQ_PN25'\u001b[0m: \u001b[32m'Numeric'\u001b[0m,\n",
      "        \u001b[32m'G217_SQ_PN25'\u001b[0m: \u001b[32m'Numeric'\u001b[0m\n",
      "    \u001b[1m}\u001b[0m,\n",
      "    \u001b[32m'Field Width'\u001b[0m: \u001b[1m{\u001b[0m\n",
      "        \u001b[32m'G214_PQ_PN25'\u001b[0m: \u001b[1;36m8\u001b[0m,\n",
      "        \u001b[32m'G214_SQ_PN25'\u001b[0m: \u001b[1;36m8\u001b[0m,\n",
      "        \u001b[32m'G217_PQ_PN25'\u001b[0m: \u001b[1;36m8\u001b[0m,\n",
      "        \u001b[32m'G217_SQ_PN25'\u001b[0m: \u001b[1;36m8\u001b[0m\n",
      "    \u001b[1m}\u001b[0m,\n",
      "    \u001b[32m'Decimals'\u001b[0m: \u001b[1m{\u001b[0m\n",
      "        \u001b[32m'G214_PQ_PN25'\u001b[0m: \u001b[1;36m0\u001b[0m,\n",
      "        \u001b[32m'G214_SQ_PN25'\u001b[0m: \u001b[1;36m0\u001b[0m,\n",
      "        \u001b[32m'G217_PQ_PN25'\u001b[0m: \u001b[1;36m0\u001b[0m,\n",
      "        \u001b[32m'G217_SQ_PN25'\u001b[0m: \u001b[1;36m0\u001b[0m\n",
      "    \u001b[1m}\u001b[0m,\n",
      "    \u001b[32m'Variable Type'\u001b[0m: \u001b[1m{\u001b[0m\n",
      "        \u001b[32m'G214_PQ_PN25'\u001b[0m: \u001b[32m'scale'\u001b[0m,\n",
      "        \u001b[32m'G214_SQ_PN25'\u001b[0m: \u001b[32m'scale'\u001b[0m,\n",
      "        \u001b[32m'G217_PQ_PN25'\u001b[0m: \u001b[32m'scale'\u001b[0m,\n",
      "        \u001b[32m'G217_SQ_PN25'\u001b[0m: \u001b[32m'scale'\u001b[0m\n",
      "    \u001b[1m}\u001b[0m,\n",
      "    \u001b[32m'Field Values'\u001b[0m: \u001b[1m{\u001b[0m\n",
      "        \u001b[32m'G214_PQ_PN25'\u001b[0m: \u001b[1m{\u001b[0m\n",
      "            \u001b[1;36m0.0\u001b[0m: \u001b[32m'No'\u001b[0m,\n",
      "            \u001b[1;36m1.0\u001b[0m: \u001b[32m'Yes'\u001b[0m,\n",
      "            \u001b[1;36m8.0\u001b[0m: \u001b[32m'Not applicable'\u001b[0m,\n",
      "            \u001b[1;36m9.0\u001b[0m: \u001b[32m'Not stated'\u001b[0m\n",
      "        \u001b[1m}\u001b[0m,\n",
      "        \u001b[32m'G214_SQ_PN25'\u001b[0m: \u001b[1m{\u001b[0m\n",
      "            \u001b[1;36m0.0\u001b[0m: \u001b[32m'No'\u001b[0m,\n",
      "            \u001b[1;36m1.0\u001b[0m: \u001b[32m'Yes'\u001b[0m,\n",
      "            \u001b[1;36m8.0\u001b[0m: \u001b[32m'Not applicable'\u001b[0m,\n",
      "            \u001b[1;36m9.0\u001b[0m: \u001b[32m'Not stated'\u001b[0m\n",
      "        \u001b[1m}\u001b[0m,\n",
      "        \u001b[32m'G217_PQ_PN25'\u001b[0m: \u001b[1m{\u001b[0m\n",
      "            \u001b[1;36m0.0\u001b[0m: \u001b[32m'No'\u001b[0m,\n",
      "            \u001b[1;36m1.0\u001b[0m: \u001b[32m'Yes'\u001b[0m,\n",
      "            \u001b[1;36m7.0\u001b[0m: \u001b[32m'Involved in incorrect skip - not answered'\u001b[0m,\n",
      "            \u001b[1;36m9.0\u001b[0m: \u001b[32m'Not stated'\u001b[0m\n",
      "        \u001b[1m}\u001b[0m,\n",
      "        \u001b[32m'G217_SQ_PN25'\u001b[0m: \u001b[1m{\u001b[0m\u001b[1;36m0.0\u001b[0m: \u001b[32m'No'\u001b[0m, \u001b[1;36m1.0\u001b[0m: \u001b[32m'Yes'\u001b[0m, \u001b[1;36m9.0\u001b[0m: \u001b[32m'Not stated'\u001b[0m\u001b[1m}\u001b[0m\n",
      "    \u001b[1m}\u001b[0m\n",
      "\u001b[1m}\u001b[0m\u001b[1m)\u001b[0m\n"
     ]
    }
   ],
   "source": [
    "rprint(m)"
   ]
  },
  {
   "cell_type": "code",
   "execution_count": null,
   "metadata": {},
   "outputs": [
    {
     "name": "stdout",
     "output_type": "stream",
     "text": [
      "\u001b[1m{\u001b[0m\n",
      "    \u001b[32m'G214_PQ_PN25'\u001b[0m: \u001b[1m{\u001b[0m\n",
      "        \u001b[1;36m0.0\u001b[0m: \u001b[32m'No'\u001b[0m,\n",
      "        \u001b[1;36m1.0\u001b[0m: \u001b[32m'Yes'\u001b[0m,\n",
      "        \u001b[1;36m8.0\u001b[0m: \u001b[32m'Not applicable'\u001b[0m,\n",
      "        \u001b[1;36m9.0\u001b[0m: \u001b[32m'Not stated'\u001b[0m\n",
      "    \u001b[1m}\u001b[0m,\n",
      "    \u001b[32m'G214_SQ_PN25'\u001b[0m: \u001b[1m{\u001b[0m\n",
      "        \u001b[1;36m0.0\u001b[0m: \u001b[32m'No'\u001b[0m,\n",
      "        \u001b[1;36m1.0\u001b[0m: \u001b[32m'Yes'\u001b[0m,\n",
      "        \u001b[1;36m8.0\u001b[0m: \u001b[32m'Not applicable'\u001b[0m,\n",
      "        \u001b[1;36m9.0\u001b[0m: \u001b[32m'Not stated'\u001b[0m\n",
      "    \u001b[1m}\u001b[0m,\n",
      "    \u001b[32m'G217_PQ_PN25'\u001b[0m: \u001b[1m{\u001b[0m\n",
      "        \u001b[1;36m0.0\u001b[0m: \u001b[32m'No'\u001b[0m,\n",
      "        \u001b[1;36m1.0\u001b[0m: \u001b[32m'Yes'\u001b[0m,\n",
      "        \u001b[1;36m7.0\u001b[0m: \u001b[32m'Involved in incorrect skip - not answered'\u001b[0m,\n",
      "        \u001b[1;36m9.0\u001b[0m: \u001b[32m'Not stated'\u001b[0m\n",
      "    \u001b[1m}\u001b[0m,\n",
      "    \u001b[32m'G217_SQ_PN25'\u001b[0m: \u001b[1m{\u001b[0m\u001b[1;36m0.0\u001b[0m: \u001b[32m'No'\u001b[0m, \u001b[1;36m1.0\u001b[0m: \u001b[32m'Yes'\u001b[0m, \u001b[1;36m9.0\u001b[0m: \u001b[32m'Not stated'\u001b[0m\u001b[1m}\u001b[0m\n",
      "\u001b[1m}\u001b[0m\n"
     ]
    }
   ],
   "source": [
    "rprint(m[\"Field Values\"])"
   ]
  },
  {
   "cell_type": "code",
   "execution_count": null,
   "metadata": {},
   "outputs": [
    {
     "name": "stderr",
     "output_type": "stream",
     "text": [
      "\u001b[31m┌─\u001b[0m\u001b[31m────────────────────\u001b[0m\u001b[31m \u001b[0m\u001b[1;31mTraceback \u001b[0m\u001b[1;2;31m(most recent call last)\u001b[0m\u001b[31m \u001b[0m\u001b[31m────────────────────\u001b[0m\u001b[31m─┐\u001b[0m\n",
      "\u001b[31m│\u001b[0m in \u001b[92m<module>\u001b[0m:\u001b[94m1\u001b[0m                                                               \u001b[31m│\u001b[0m\n",
      "\u001b[31m│\u001b[0m                                                                             \u001b[31m│\u001b[0m\n",
      "\u001b[31m│\u001b[0m \u001b[31m> \u001b[0m1 PN25 = Metadata(                                                        \u001b[31m│\u001b[0m\n",
      "\u001b[31m│\u001b[0m   \u001b[2m2 \u001b[0m\u001b[2m│   \u001b[0mlabel= \u001b[33m\"\u001b[0m\u001b[33mSought professional advice/treatment\u001b[0m\u001b[33m\"\u001b[0m,                      \u001b[31m│\u001b[0m\n",
      "\u001b[31m│\u001b[0m   \u001b[2m3 \u001b[0m\u001b[2m│   \u001b[0mfield_values = {-\u001b[94m88\u001b[0m: \u001b[33m\"\u001b[0m\u001b[33mN/A\u001b[0m\u001b[33m\"\u001b[0m, -\u001b[94m99\u001b[0m: \u001b[33m\"\u001b[0m\u001b[33mMissing\u001b[0m\u001b[33m\"\u001b[0m, \u001b[94m0\u001b[0m: \u001b[33m\"\u001b[0m\u001b[33mNo\u001b[0m\u001b[33m\"\u001b[0m, \u001b[94m1\u001b[0m: \u001b[33m\"\u001b[0m\u001b[33mYes\u001b[0m\u001b[33m\"\u001b[0m},     \u001b[31m│\u001b[0m\n",
      "\u001b[31m│\u001b[0m   \u001b[2m4 \u001b[0m\u001b[2m│   \u001b[0mfield_type = \u001b[33m\"\u001b[0m\u001b[33mNumeric\u001b[0m\u001b[33m\"\u001b[0m,                                             \u001b[31m│\u001b[0m\n",
      "\u001b[31m│\u001b[0m                                                                             \u001b[31m│\u001b[0m\n",
      "\u001b[31m│\u001b[0m \u001b[33mC:\\Users\\00113294\\Anaconda3\\envs\\my_env\\Lib\\site-packages\\pydantic\\_interna\u001b[0m \u001b[31m│\u001b[0m\n",
      "\u001b[31m│\u001b[0m \u001b[33ml\\_dataclasses.py\u001b[0m:\u001b[94m141\u001b[0m in \u001b[92m__init__\u001b[0m                                           \u001b[31m│\u001b[0m\n",
      "\u001b[31m│\u001b[0m                                                                             \u001b[31m│\u001b[0m\n",
      "\u001b[31m│\u001b[0m   \u001b[2m138 \u001b[0m\u001b[2m│   \u001b[0m\u001b[94mdef\u001b[0m\u001b[90m \u001b[0m\u001b[92m__init__\u001b[0m(__dataclass_self__: PydanticDataclass, *args: Any, * \u001b[31m│\u001b[0m\n",
      "\u001b[31m│\u001b[0m   \u001b[2m139 \u001b[0m\u001b[2m│   │   \u001b[0m__tracebackhide__ = \u001b[94mTrue\u001b[0m                                      \u001b[31m│\u001b[0m\n",
      "\u001b[31m│\u001b[0m   \u001b[2m140 \u001b[0m\u001b[2m│   │   \u001b[0ms = __dataclass_self__                                        \u001b[31m│\u001b[0m\n",
      "\u001b[31m│\u001b[0m \u001b[31m> \u001b[0m141 \u001b[2m│   │   \u001b[0m\u001b[1;4ms.__pydantic_validator__.validate_python(ArgsKwargs(args, kwa\u001b[0m \u001b[31m│\u001b[0m\n",
      "\u001b[31m│\u001b[0m   \u001b[2m142 \u001b[0m\u001b[2m│   \u001b[0m                                                                  \u001b[31m│\u001b[0m\n",
      "\u001b[31m│\u001b[0m   \u001b[2m143 \u001b[0m\u001b[2m│   \u001b[0m\u001b[92m__init__\u001b[0m.\u001b[91m__qualname__\u001b[0m = \u001b[33mf\u001b[0m\u001b[33m'\u001b[0m\u001b[33m{\u001b[0m\u001b[96mcls\u001b[0m.\u001b[91m__qualname__\u001b[0m\u001b[33m}\u001b[0m\u001b[33m.__init__\u001b[0m\u001b[33m'\u001b[0m            \u001b[31m│\u001b[0m\n",
      "\u001b[31m│\u001b[0m   \u001b[2m144 \u001b[0m                                                                      \u001b[31m│\u001b[0m\n",
      "\u001b[31m└─────────────────────────────────────────────────────────────────────────────┘\u001b[0m\n",
      "\u001b[1;91mValidationError: \u001b[0m\u001b[1;36m1\u001b[0m validation error for Metadata\n",
      "variable_basename\n",
      "  Field required \u001b[1m[\u001b[0m\u001b[33mtype\u001b[0m=\u001b[35mmissing\u001b[0m, \u001b[33minput_value\u001b[0m=\u001b[1;35mArgsKwargs\u001b[0m\u001b[1m(\u001b[0m\u001b[1m(\u001b[0m\u001b[1m)\u001b[0m, \u001b[1m{\u001b[0m\u001b[32m'label'\u001b[0m: \n",
      "\u001b[33m...\u001b[0miable_type': \u001b[32m'Nominal'\u001b[0m\u001b[1m}\u001b[0m\u001b[1m)\u001b[0m, \u001b[33minput_type\u001b[0m=\u001b[35mArgsKwargs\u001b[0m\u001b[1m]\u001b[0m\n",
      "    For further information visit \u001b[4;94mhttps://errors.pydantic.dev/2.8/v/missing\u001b[0m\n"
     ]
    }
   ],
   "source": [
    "PN25 = Metadata(\n",
    "    label= \"Sought professional advice/treatment\",\n",
    "    field_values = {-88: \"N/A\", -99: \"Missing\", 0: \"No\", 1: \"Yes\"},\n",
    "    field_type = \"Numeric\",\n",
    "    field_width = 3,\n",
    "    decimals =  0,\n",
    "    variable_type = \"Nominal\"\n",
    ")"
   ]
  },
  {
   "cell_type": "markdown",
   "metadata": {},
   "source": [
    "## PN34"
   ]
  },
  {
   "cell_type": "code",
   "execution_count": null,
   "metadata": {},
   "outputs": [],
   "source": [
    "var = \"PN34\""
   ]
  },
  {
   "cell_type": "markdown",
   "metadata": {},
   "source": [
    "### Data"
   ]
  },
  {
   "cell_type": "markdown",
   "metadata": {},
   "source": [
    "Some of the existing options are the same across all datasets:\n",
    "- 0: No\n",
    "- 1: Yes\n",
    "- 9: Missing\n",
    "\n",
    "For G214_PQ and G214_SQ\n",
    "- 8: N/A\n",
    "\n",
    "For G217_PQ:\n",
    "- 7: Involved in incorrect skip - not answered\n",
    "\n",
    "Values of 7 should be considered missing, as discussed with Alex D'Vauz.\n",
    "\n",
    "Changes:\n",
    "- Convert 8 to -88\n",
    "- Convert 9 to -99\n",
    "- Convert 7 to -99"
   ]
  },
  {
   "cell_type": "code",
   "execution_count": null,
   "metadata": {},
   "outputs": [
    {
     "name": "stdout",
     "output_type": "stream",
     "text": [
      "\u001b[1m{\u001b[0m\n",
      "    \u001b[32m'G214_PQ_PN34'\u001b[0m: \u001b[1m(\u001b[0m\u001b[3;35mNone\u001b[0m, \u001b[1;36m0.0\u001b[0m, \u001b[1;36m1.0\u001b[0m, \u001b[1;36m8.0\u001b[0m, \u001b[1;36m9.0\u001b[0m\u001b[1m)\u001b[0m,\n",
      "    \u001b[32m'G214_SQ_PN34'\u001b[0m: \u001b[1m(\u001b[0m\u001b[3;35mNone\u001b[0m, \u001b[1;36m0.0\u001b[0m, \u001b[1;36m1.0\u001b[0m, \u001b[1;36m8.0\u001b[0m, \u001b[1;36m9.0\u001b[0m\u001b[1m)\u001b[0m,\n",
      "    \u001b[32m'G217_PQ_PN34'\u001b[0m: \u001b[1m(\u001b[0m\u001b[3;35mNone\u001b[0m, \u001b[1;36m0.0\u001b[0m, \u001b[1;36m1.0\u001b[0m, \u001b[1;36m7.0\u001b[0m, \u001b[1;36m9.0\u001b[0m\u001b[1m)\u001b[0m,\n",
      "    \u001b[32m'G217_SQ_PN34'\u001b[0m: \u001b[1m(\u001b[0m\u001b[3;35mNone\u001b[0m, \u001b[1;36m0.0\u001b[0m, \u001b[1;36m1.0\u001b[0m, \u001b[1;36m9.0\u001b[0m\u001b[1m)\u001b[0m\n",
      "\u001b[1m}\u001b[0m\n"
     ]
    }
   ],
   "source": [
    "unique_vals = unique_values(df, var)\n",
    "rprint(unique_vals)"
   ]
  },
  {
   "cell_type": "code",
   "execution_count": null,
   "metadata": {},
   "outputs": [
    {
     "data": {
      "text/plain": [
       "\u001b[1m{\u001b[0m\u001b[1;36m0.0\u001b[0m, \u001b[1;36m1.0\u001b[0m, \u001b[1;36m7.0\u001b[0m, \u001b[1;36m8.0\u001b[0m, \u001b[1;36m9.0\u001b[0m\u001b[1m}\u001b[0m"
      ]
     },
     "execution_count": null,
     "metadata": {},
     "output_type": "execute_result"
    }
   ],
   "source": [
    "# Note the unique values for PN34 across all datasets combined\n",
    "value_options = set()\n",
    "for values in unique_vals.values(): \n",
    "    value_options.update(values)\n",
    "value_options.discard(None)\n",
    "value_options"
   ]
  },
  {
   "cell_type": "markdown",
   "metadata": {},
   "source": [
    "#### Define properties to test, validate, and explore\n",
    "\n",
    "- When PN17 is 0 (No), PN34 should be 8 (N/A)\n",
    "- When PN17 is 1 (Yes), PN34 should be 0, 1, or 9\n",
    "- When PN17 is 9 (Missing), PN34 should be 9"
   ]
  },
  {
   "cell_type": "code",
   "execution_count": null,
   "metadata": {},
   "outputs": [],
   "source": [
    "test = df.clone().collect()"
   ]
  },
  {
   "cell_type": "code",
   "execution_count": null,
   "metadata": {},
   "outputs": [
    {
     "name": "stdout",
     "output_type": "stream",
     "text": [
      "When PN17 == \u001b[1;36m0\u001b[0m\n",
      "\u001b[1m{\u001b[0m\u001b[32m'G214_PQ_PN34'\u001b[0m: \u001b[1m[\u001b[0m\u001b[1;36m8.0\u001b[0m\u001b[1m]\u001b[0m\u001b[1m}\u001b[0m\n",
      "\u001b[1m{\u001b[0m\u001b[32m'G214_SQ_PN34'\u001b[0m: \u001b[1m[\u001b[0m\u001b[1;36m8.0\u001b[0m\u001b[1m]\u001b[0m\u001b[1m}\u001b[0m\n",
      "\u001b[1m{\u001b[0m\u001b[32m'G217_PQ_PN34'\u001b[0m: \u001b[1m[\u001b[0m\u001b[1;36m9.0\u001b[0m, \u001b[1;36m7.0\u001b[0m, \u001b[1;36m1.0\u001b[0m, \u001b[1;36m0.0\u001b[0m\u001b[1m]\u001b[0m\u001b[1m}\u001b[0m\n",
      "\u001b[1m{\u001b[0m\u001b[32m'G217_SQ_PN34'\u001b[0m: \u001b[1m[\u001b[0m\u001b[1;36m1.0\u001b[0m, \u001b[1;36m0.0\u001b[0m, \u001b[1;36m9.0\u001b[0m\u001b[1m]\u001b[0m\u001b[1m}\u001b[0m\n",
      "When PN17 == \u001b[1;36m1\u001b[0m\n",
      "\u001b[1m{\u001b[0m\u001b[32m'G214_PQ_PN34'\u001b[0m: \u001b[1m[\u001b[0m\u001b[1;36m0.0\u001b[0m, \u001b[1;36m1.0\u001b[0m\u001b[1m]\u001b[0m\u001b[1m}\u001b[0m\n",
      "\u001b[1m{\u001b[0m\u001b[32m'G214_SQ_PN34'\u001b[0m: \u001b[1m[\u001b[0m\u001b[1;36m0.0\u001b[0m, \u001b[1;36m9.0\u001b[0m, \u001b[1;36m1.0\u001b[0m\u001b[1m]\u001b[0m\u001b[1m}\u001b[0m\n",
      "\u001b[1m{\u001b[0m\u001b[32m'G217_PQ_PN34'\u001b[0m: \u001b[1m[\u001b[0m\u001b[1;36m0.0\u001b[0m, \u001b[1;36m9.0\u001b[0m, \u001b[1;36m1.0\u001b[0m\u001b[1m]\u001b[0m\u001b[1m}\u001b[0m\n",
      "\u001b[1m{\u001b[0m\u001b[32m'G217_SQ_PN34'\u001b[0m: \u001b[1m[\u001b[0m\u001b[1;36m1.0\u001b[0m, \u001b[1;36m0.0\u001b[0m\u001b[1m]\u001b[0m\u001b[1m}\u001b[0m\n",
      "When PN17 == \u001b[1;36m9\u001b[0m\n",
      "\u001b[1m{\u001b[0m\u001b[32m'G214_PQ_PN34'\u001b[0m: \u001b[1m[\u001b[0m\u001b[1;36m9.0\u001b[0m\u001b[1m]\u001b[0m\u001b[1m}\u001b[0m\n",
      "\u001b[1m{\u001b[0m\u001b[32m'G214_SQ_PN34'\u001b[0m: \u001b[1m[\u001b[0m\u001b[1;36m9.0\u001b[0m\u001b[1m]\u001b[0m\u001b[1m}\u001b[0m\n",
      "\u001b[1m{\u001b[0m\u001b[32m'G217_PQ_PN34'\u001b[0m: \u001b[1m[\u001b[0m\u001b[1;36m9.0\u001b[0m\u001b[1m]\u001b[0m\u001b[1m}\u001b[0m\n",
      "\u001b[1m{\u001b[0m\u001b[32m'G217_SQ_PN34'\u001b[0m: \u001b[1m[\u001b[0m\u001b[1;36m9.0\u001b[0m\u001b[1m]\u001b[0m\u001b[1m}\u001b[0m\n"
     ]
    }
   ],
   "source": [
    "for value in (0, 1, 9):\n",
    "    rprint(f\"When PN17 == {value}\")\n",
    "    for p in prefixes:\n",
    "        rprint(\n",
    "            test\n",
    "            .filter(pl.col(f\"{p}PN17\") == value)\n",
    "            .select(f\"{p}{var}\")\n",
    "            .unique()\n",
    "            .to_dict(as_series=False)\n",
    "        )"
   ]
  },
  {
   "cell_type": "markdown",
   "metadata": {},
   "source": [
    "As per PN25, properties 2 and 3 were as expected and property 1 did not pass due to differences in the Y17 follow-ups."
   ]
  },
  {
   "cell_type": "code",
   "execution_count": null,
   "metadata": {},
   "outputs": [
    {
     "name": "stdout",
     "output_type": "stream",
     "text": [
      "When PN34 == \u001b[1;36m0.0\u001b[0m\n",
      "\u001b[1m{\u001b[0m\u001b[32m'G214_PQ_PN17'\u001b[0m: \u001b[1m[\u001b[0m\u001b[1;36m1.0\u001b[0m\u001b[1m]\u001b[0m\u001b[1m}\u001b[0m\n",
      "\u001b[1m{\u001b[0m\u001b[32m'G214_SQ_PN17'\u001b[0m: \u001b[1m[\u001b[0m\u001b[1;36m1.0\u001b[0m\u001b[1m]\u001b[0m\u001b[1m}\u001b[0m\n",
      "\u001b[1m{\u001b[0m\u001b[32m'G217_PQ_PN17'\u001b[0m: \u001b[1m[\u001b[0m\u001b[1;36m1.0\u001b[0m, \u001b[1;36m0.0\u001b[0m\u001b[1m]\u001b[0m\u001b[1m}\u001b[0m\n",
      "\u001b[1m{\u001b[0m\u001b[32m'G217_SQ_PN17'\u001b[0m: \u001b[1m[\u001b[0m\u001b[1;36m0.0\u001b[0m, \u001b[1;36m1.0\u001b[0m\u001b[1m]\u001b[0m\u001b[1m}\u001b[0m\n",
      "When PN34 == \u001b[1;36m1.0\u001b[0m\n",
      "\u001b[1m{\u001b[0m\u001b[32m'G214_PQ_PN17'\u001b[0m: \u001b[1m[\u001b[0m\u001b[1;36m1.0\u001b[0m\u001b[1m]\u001b[0m\u001b[1m}\u001b[0m\n",
      "\u001b[1m{\u001b[0m\u001b[32m'G214_SQ_PN17'\u001b[0m: \u001b[1m[\u001b[0m\u001b[1;36m1.0\u001b[0m\u001b[1m]\u001b[0m\u001b[1m}\u001b[0m\n",
      "\u001b[1m{\u001b[0m\u001b[32m'G217_PQ_PN17'\u001b[0m: \u001b[1m[\u001b[0m\u001b[1;36m0.0\u001b[0m, \u001b[1;36m1.0\u001b[0m\u001b[1m]\u001b[0m\u001b[1m}\u001b[0m\n",
      "\u001b[1m{\u001b[0m\u001b[32m'G217_SQ_PN17'\u001b[0m: \u001b[1m[\u001b[0m\u001b[1;36m0.0\u001b[0m, \u001b[1;36m1.0\u001b[0m\u001b[1m]\u001b[0m\u001b[1m}\u001b[0m\n",
      "When PN34 == \u001b[1;36m7.0\u001b[0m\n",
      "\u001b[1m{\u001b[0m\u001b[32m'G214_PQ_PN17'\u001b[0m: \u001b[1m[\u001b[0m\u001b[1m]\u001b[0m\u001b[1m}\u001b[0m\n",
      "\u001b[1m{\u001b[0m\u001b[32m'G214_SQ_PN17'\u001b[0m: \u001b[1m[\u001b[0m\u001b[1m]\u001b[0m\u001b[1m}\u001b[0m\n",
      "\u001b[1m{\u001b[0m\u001b[32m'G217_PQ_PN17'\u001b[0m: \u001b[1m[\u001b[0m\u001b[1;36m0.0\u001b[0m\u001b[1m]\u001b[0m\u001b[1m}\u001b[0m\n",
      "\u001b[1m{\u001b[0m\u001b[32m'G217_SQ_PN17'\u001b[0m: \u001b[1m[\u001b[0m\u001b[1m]\u001b[0m\u001b[1m}\u001b[0m\n",
      "When PN34 == \u001b[1;36m8.0\u001b[0m\n",
      "\u001b[1m{\u001b[0m\u001b[32m'G214_PQ_PN17'\u001b[0m: \u001b[1m[\u001b[0m\u001b[1;36m0.0\u001b[0m\u001b[1m]\u001b[0m\u001b[1m}\u001b[0m\n",
      "\u001b[1m{\u001b[0m\u001b[32m'G214_SQ_PN17'\u001b[0m: \u001b[1m[\u001b[0m\u001b[1;36m0.0\u001b[0m\u001b[1m]\u001b[0m\u001b[1m}\u001b[0m\n",
      "\u001b[1m{\u001b[0m\u001b[32m'G217_PQ_PN17'\u001b[0m: \u001b[1m[\u001b[0m\u001b[1m]\u001b[0m\u001b[1m}\u001b[0m\n",
      "\u001b[1m{\u001b[0m\u001b[32m'G217_SQ_PN17'\u001b[0m: \u001b[1m[\u001b[0m\u001b[1m]\u001b[0m\u001b[1m}\u001b[0m\n",
      "When PN34 == \u001b[1;36m9.0\u001b[0m\n",
      "\u001b[1m{\u001b[0m\u001b[32m'G214_PQ_PN17'\u001b[0m: \u001b[1m[\u001b[0m\u001b[1;36m9.0\u001b[0m\u001b[1m]\u001b[0m\u001b[1m}\u001b[0m\n",
      "\u001b[1m{\u001b[0m\u001b[32m'G214_SQ_PN17'\u001b[0m: \u001b[1m[\u001b[0m\u001b[1;36m1.0\u001b[0m, \u001b[1;36m9.0\u001b[0m\u001b[1m]\u001b[0m\u001b[1m}\u001b[0m\n",
      "\u001b[1m{\u001b[0m\u001b[32m'G217_PQ_PN17'\u001b[0m: \u001b[1m[\u001b[0m\u001b[1;36m0.0\u001b[0m, \u001b[1;36m1.0\u001b[0m, \u001b[1;36m9.0\u001b[0m\u001b[1m]\u001b[0m\u001b[1m}\u001b[0m\n",
      "\u001b[1m{\u001b[0m\u001b[32m'G217_SQ_PN17'\u001b[0m: \u001b[1m[\u001b[0m\u001b[1;36m9.0\u001b[0m, \u001b[1;36m0.0\u001b[0m\u001b[1m]\u001b[0m\u001b[1m}\u001b[0m\n"
     ]
    }
   ],
   "source": [
    "for value in value_options:\n",
    "    rprint(f\"When {var} == {value}\")\n",
    "    for p in prefixes:\n",
    "        rprint(\n",
    "            test\n",
    "            .filter(pl.col(f\"{p}{var}\") == value)\n",
    "            .select(f\"{p}PN17\")\n",
    "            .unique()\n",
    "            .to_dict(as_series=False)\n",
    "        )"
   ]
  },
  {
   "cell_type": "markdown",
   "metadata": {},
   "source": [
    "No additional, unexpected values were found."
   ]
  },
  {
   "cell_type": "markdown",
   "metadata": {},
   "source": [
    "### Metadata"
   ]
  },
  {
   "cell_type": "markdown",
   "metadata": {},
   "source": [
    "Clear discrepancies in labels and field values.\n",
    "\n",
    "Changes:\n",
    "- Harmonised label to \"Sought professional advice/treatment\"\n",
    "- Updated field values to reflect changes in data"
   ]
  },
  {
   "cell_type": "code",
   "execution_count": null,
   "metadata": {},
   "outputs": [],
   "source": [
    "m = filter_metadata(var, df, meta)"
   ]
  },
  {
   "cell_type": "code",
   "execution_count": null,
   "metadata": {},
   "outputs": [
    {
     "name": "stdout",
     "output_type": "stream",
     "text": [
      "\u001b[1;35mdefaultdict\u001b[0m\u001b[1m(\u001b[0m\u001b[1m<\u001b[0m\u001b[1;95mclass\u001b[0m\u001b[39m \u001b[0m\u001b[32m'dict'\u001b[0m\u001b[1m>\u001b[0m, \u001b[1m{\u001b[0m\n",
      "    \u001b[32m'Label'\u001b[0m: \u001b[1m{\u001b[0m\n",
      "        \u001b[32m'G214_PQ_PN34'\u001b[0m: \u001b[32m'Takes meds to relieve back pain'\u001b[0m,\n",
      "        \u001b[32m'G214_SQ_PN34'\u001b[0m: \u001b[32m'Takes meds to relieve back pain'\u001b[0m,\n",
      "        \u001b[32m'G217_PQ_PN34'\u001b[0m: \u001b[32m'Ever taken medication to relieve back pain'\u001b[0m,\n",
      "        \u001b[32m'G217_SQ_PN34'\u001b[0m: \u001b[32m'Take any medication for back pain?'\u001b[0m\n",
      "    \u001b[1m}\u001b[0m,\n",
      "    \u001b[32m'Field Type'\u001b[0m: \u001b[1m{\u001b[0m\n",
      "        \u001b[32m'G214_PQ_PN34'\u001b[0m: \u001b[32m'Numeric'\u001b[0m,\n",
      "        \u001b[32m'G214_SQ_PN34'\u001b[0m: \u001b[32m'Numeric'\u001b[0m,\n",
      "        \u001b[32m'G217_PQ_PN34'\u001b[0m: \u001b[32m'Numeric'\u001b[0m,\n",
      "        \u001b[32m'G217_SQ_PN34'\u001b[0m: \u001b[32m'Numeric'\u001b[0m\n",
      "    \u001b[1m}\u001b[0m,\n",
      "    \u001b[32m'Field Width'\u001b[0m: \u001b[1m{\u001b[0m\n",
      "        \u001b[32m'G214_PQ_PN34'\u001b[0m: \u001b[1;36m8\u001b[0m,\n",
      "        \u001b[32m'G214_SQ_PN34'\u001b[0m: \u001b[1;36m8\u001b[0m,\n",
      "        \u001b[32m'G217_PQ_PN34'\u001b[0m: \u001b[1;36m8\u001b[0m,\n",
      "        \u001b[32m'G217_SQ_PN34'\u001b[0m: \u001b[1;36m8\u001b[0m\n",
      "    \u001b[1m}\u001b[0m,\n",
      "    \u001b[32m'Decimals'\u001b[0m: \u001b[1m{\u001b[0m\n",
      "        \u001b[32m'G214_PQ_PN34'\u001b[0m: \u001b[1;36m0\u001b[0m,\n",
      "        \u001b[32m'G214_SQ_PN34'\u001b[0m: \u001b[1;36m0\u001b[0m,\n",
      "        \u001b[32m'G217_PQ_PN34'\u001b[0m: \u001b[1;36m0\u001b[0m,\n",
      "        \u001b[32m'G217_SQ_PN34'\u001b[0m: \u001b[1;36m0\u001b[0m\n",
      "    \u001b[1m}\u001b[0m,\n",
      "    \u001b[32m'Variable Type'\u001b[0m: \u001b[1m{\u001b[0m\n",
      "        \u001b[32m'G214_PQ_PN34'\u001b[0m: \u001b[32m'scale'\u001b[0m,\n",
      "        \u001b[32m'G214_SQ_PN34'\u001b[0m: \u001b[32m'scale'\u001b[0m,\n",
      "        \u001b[32m'G217_PQ_PN34'\u001b[0m: \u001b[32m'scale'\u001b[0m,\n",
      "        \u001b[32m'G217_SQ_PN34'\u001b[0m: \u001b[32m'scale'\u001b[0m\n",
      "    \u001b[1m}\u001b[0m,\n",
      "    \u001b[32m'Field Values'\u001b[0m: \u001b[1m{\u001b[0m\n",
      "        \u001b[32m'G214_PQ_PN34'\u001b[0m: \u001b[1m{\u001b[0m\n",
      "            \u001b[1;36m0.0\u001b[0m: \u001b[32m'No'\u001b[0m,\n",
      "            \u001b[1;36m1.0\u001b[0m: \u001b[32m'Yes'\u001b[0m,\n",
      "            \u001b[1;36m8.0\u001b[0m: \u001b[32m'Not applicable'\u001b[0m,\n",
      "            \u001b[1;36m9.0\u001b[0m: \u001b[32m'Not stated'\u001b[0m\n",
      "        \u001b[1m}\u001b[0m,\n",
      "        \u001b[32m'G214_SQ_PN34'\u001b[0m: \u001b[1m{\u001b[0m\n",
      "            \u001b[1;36m0.0\u001b[0m: \u001b[32m'No'\u001b[0m,\n",
      "            \u001b[1;36m1.0\u001b[0m: \u001b[32m'Yes'\u001b[0m,\n",
      "            \u001b[1;36m8.0\u001b[0m: \u001b[32m'Not applicable'\u001b[0m,\n",
      "            \u001b[1;36m9.0\u001b[0m: \u001b[32m'Not stated'\u001b[0m\n",
      "        \u001b[1m}\u001b[0m,\n",
      "        \u001b[32m'G217_PQ_PN34'\u001b[0m: \u001b[1m{\u001b[0m\n",
      "            \u001b[1;36m0.0\u001b[0m: \u001b[32m'No'\u001b[0m,\n",
      "            \u001b[1;36m1.0\u001b[0m: \u001b[32m'Yes'\u001b[0m,\n",
      "            \u001b[1;36m7.0\u001b[0m: \u001b[32m'Involved in incorrect skip - not answered'\u001b[0m,\n",
      "            \u001b[1;36m9.0\u001b[0m: \u001b[32m'Not stated'\u001b[0m\n",
      "        \u001b[1m}\u001b[0m,\n",
      "        \u001b[32m'G217_SQ_PN34'\u001b[0m: \u001b[1m{\u001b[0m\u001b[1;36m0.0\u001b[0m: \u001b[32m'No'\u001b[0m, \u001b[1;36m1.0\u001b[0m: \u001b[32m'Yes'\u001b[0m, \u001b[1;36m9.0\u001b[0m: \u001b[32m'Not stated'\u001b[0m\u001b[1m}\u001b[0m\n",
      "    \u001b[1m}\u001b[0m\n",
      "\u001b[1m}\u001b[0m\u001b[1m)\u001b[0m\n"
     ]
    }
   ],
   "source": [
    "rprint(m)"
   ]
  },
  {
   "cell_type": "code",
   "execution_count": null,
   "metadata": {},
   "outputs": [
    {
     "name": "stdout",
     "output_type": "stream",
     "text": [
      "\u001b[1m{\u001b[0m\n",
      "    \u001b[32m'G214_PQ_PN34'\u001b[0m: \u001b[1m{\u001b[0m\n",
      "        \u001b[1;36m0.0\u001b[0m: \u001b[32m'No'\u001b[0m,\n",
      "        \u001b[1;36m1.0\u001b[0m: \u001b[32m'Yes'\u001b[0m,\n",
      "        \u001b[1;36m8.0\u001b[0m: \u001b[32m'Not applicable'\u001b[0m,\n",
      "        \u001b[1;36m9.0\u001b[0m: \u001b[32m'Not stated'\u001b[0m\n",
      "    \u001b[1m}\u001b[0m,\n",
      "    \u001b[32m'G214_SQ_PN34'\u001b[0m: \u001b[1m{\u001b[0m\n",
      "        \u001b[1;36m0.0\u001b[0m: \u001b[32m'No'\u001b[0m,\n",
      "        \u001b[1;36m1.0\u001b[0m: \u001b[32m'Yes'\u001b[0m,\n",
      "        \u001b[1;36m8.0\u001b[0m: \u001b[32m'Not applicable'\u001b[0m,\n",
      "        \u001b[1;36m9.0\u001b[0m: \u001b[32m'Not stated'\u001b[0m\n",
      "    \u001b[1m}\u001b[0m,\n",
      "    \u001b[32m'G217_PQ_PN34'\u001b[0m: \u001b[1m{\u001b[0m\n",
      "        \u001b[1;36m0.0\u001b[0m: \u001b[32m'No'\u001b[0m,\n",
      "        \u001b[1;36m1.0\u001b[0m: \u001b[32m'Yes'\u001b[0m,\n",
      "        \u001b[1;36m7.0\u001b[0m: \u001b[32m'Involved in incorrect skip - not answered'\u001b[0m,\n",
      "        \u001b[1;36m9.0\u001b[0m: \u001b[32m'Not stated'\u001b[0m\n",
      "    \u001b[1m}\u001b[0m,\n",
      "    \u001b[32m'G217_SQ_PN34'\u001b[0m: \u001b[1m{\u001b[0m\u001b[1;36m0.0\u001b[0m: \u001b[32m'No'\u001b[0m, \u001b[1;36m1.0\u001b[0m: \u001b[32m'Yes'\u001b[0m, \u001b[1;36m9.0\u001b[0m: \u001b[32m'Not stated'\u001b[0m\u001b[1m}\u001b[0m\n",
      "\u001b[1m}\u001b[0m\n"
     ]
    }
   ],
   "source": [
    "rprint(m[\"Field Values\"])"
   ]
  },
  {
   "cell_type": "code",
   "execution_count": null,
   "metadata": {},
   "outputs": [
    {
     "name": "stderr",
     "output_type": "stream",
     "text": [
      "\u001b[31m┌─\u001b[0m\u001b[31m────────────────────\u001b[0m\u001b[31m \u001b[0m\u001b[1;31mTraceback \u001b[0m\u001b[1;2;31m(most recent call last)\u001b[0m\u001b[31m \u001b[0m\u001b[31m────────────────────\u001b[0m\u001b[31m─┐\u001b[0m\n",
      "\u001b[31m│\u001b[0m in \u001b[92m<module>\u001b[0m:\u001b[94m1\u001b[0m                                                               \u001b[31m│\u001b[0m\n",
      "\u001b[31m│\u001b[0m                                                                             \u001b[31m│\u001b[0m\n",
      "\u001b[31m│\u001b[0m \u001b[31m> \u001b[0m1 PN34 = Metadata(                                                        \u001b[31m│\u001b[0m\n",
      "\u001b[31m│\u001b[0m   \u001b[2m2 \u001b[0m\u001b[2m│   \u001b[0mlabel= \u001b[33m\"\u001b[0m\u001b[33mTook medication to relieve pain\u001b[0m\u001b[33m\"\u001b[0m,                           \u001b[31m│\u001b[0m\n",
      "\u001b[31m│\u001b[0m   \u001b[2m3 \u001b[0m\u001b[2m│   \u001b[0mfield_values = {-\u001b[94m88\u001b[0m: \u001b[33m\"\u001b[0m\u001b[33mN/A\u001b[0m\u001b[33m\"\u001b[0m, -\u001b[94m99\u001b[0m: \u001b[33m\"\u001b[0m\u001b[33mMissing\u001b[0m\u001b[33m\"\u001b[0m, \u001b[94m0\u001b[0m: \u001b[33m\"\u001b[0m\u001b[33mNo\u001b[0m\u001b[33m\"\u001b[0m, \u001b[94m1\u001b[0m: \u001b[33m\"\u001b[0m\u001b[33mYes\u001b[0m\u001b[33m\"\u001b[0m},     \u001b[31m│\u001b[0m\n",
      "\u001b[31m│\u001b[0m   \u001b[2m4 \u001b[0m\u001b[2m│   \u001b[0mfield_type = \u001b[33m\"\u001b[0m\u001b[33mNumeric\u001b[0m\u001b[33m\"\u001b[0m,                                             \u001b[31m│\u001b[0m\n",
      "\u001b[31m│\u001b[0m                                                                             \u001b[31m│\u001b[0m\n",
      "\u001b[31m│\u001b[0m \u001b[33mC:\\Users\\00113294\\Anaconda3\\envs\\my_env\\Lib\\site-packages\\pydantic\\_interna\u001b[0m \u001b[31m│\u001b[0m\n",
      "\u001b[31m│\u001b[0m \u001b[33ml\\_dataclasses.py\u001b[0m:\u001b[94m141\u001b[0m in \u001b[92m__init__\u001b[0m                                           \u001b[31m│\u001b[0m\n",
      "\u001b[31m│\u001b[0m                                                                             \u001b[31m│\u001b[0m\n",
      "\u001b[31m│\u001b[0m   \u001b[2m138 \u001b[0m\u001b[2m│   \u001b[0m\u001b[94mdef\u001b[0m\u001b[90m \u001b[0m\u001b[92m__init__\u001b[0m(__dataclass_self__: PydanticDataclass, *args: Any, * \u001b[31m│\u001b[0m\n",
      "\u001b[31m│\u001b[0m   \u001b[2m139 \u001b[0m\u001b[2m│   │   \u001b[0m__tracebackhide__ = \u001b[94mTrue\u001b[0m                                      \u001b[31m│\u001b[0m\n",
      "\u001b[31m│\u001b[0m   \u001b[2m140 \u001b[0m\u001b[2m│   │   \u001b[0ms = __dataclass_self__                                        \u001b[31m│\u001b[0m\n",
      "\u001b[31m│\u001b[0m \u001b[31m> \u001b[0m141 \u001b[2m│   │   \u001b[0m\u001b[1;4ms.__pydantic_validator__.validate_python(ArgsKwargs(args, kwa\u001b[0m \u001b[31m│\u001b[0m\n",
      "\u001b[31m│\u001b[0m   \u001b[2m142 \u001b[0m\u001b[2m│   \u001b[0m                                                                  \u001b[31m│\u001b[0m\n",
      "\u001b[31m│\u001b[0m   \u001b[2m143 \u001b[0m\u001b[2m│   \u001b[0m\u001b[92m__init__\u001b[0m.\u001b[91m__qualname__\u001b[0m = \u001b[33mf\u001b[0m\u001b[33m'\u001b[0m\u001b[33m{\u001b[0m\u001b[96mcls\u001b[0m.\u001b[91m__qualname__\u001b[0m\u001b[33m}\u001b[0m\u001b[33m.__init__\u001b[0m\u001b[33m'\u001b[0m            \u001b[31m│\u001b[0m\n",
      "\u001b[31m│\u001b[0m   \u001b[2m144 \u001b[0m                                                                      \u001b[31m│\u001b[0m\n",
      "\u001b[31m└─────────────────────────────────────────────────────────────────────────────┘\u001b[0m\n",
      "\u001b[1;91mValidationError: \u001b[0m\u001b[1;36m1\u001b[0m validation error for Metadata\n",
      "variable_basename\n",
      "  Field required \u001b[1m[\u001b[0m\u001b[33mtype\u001b[0m=\u001b[35mmissing\u001b[0m, \u001b[33minput_value\u001b[0m=\u001b[1;35mArgsKwargs\u001b[0m\u001b[1m(\u001b[0m\u001b[1m(\u001b[0m\u001b[1m)\u001b[0m, \u001b[1m{\u001b[0m\u001b[32m'label'\u001b[0m: \n",
      "\u001b[33m...\u001b[0miable_type': \u001b[32m'Nominal'\u001b[0m\u001b[1m}\u001b[0m\u001b[1m)\u001b[0m, \u001b[33minput_type\u001b[0m=\u001b[35mArgsKwargs\u001b[0m\u001b[1m]\u001b[0m\n",
      "    For further information visit \u001b[4;94mhttps://errors.pydantic.dev/2.8/v/missing\u001b[0m\n"
     ]
    }
   ],
   "source": [
    "PN34 = Metadata(\n",
    "    label= \"Took medication to relieve pain\",\n",
    "    field_values = {-88: \"N/A\", -99: \"Missing\", 0: \"No\", 1: \"Yes\"},\n",
    "    field_type = \"Numeric\",\n",
    "    field_width = 3,\n",
    "    decimals =  0,\n",
    "    variable_type = \"Nominal\"\n",
    ")"
   ]
  },
  {
   "cell_type": "markdown",
   "metadata": {},
   "source": [
    "## PN35"
   ]
  },
  {
   "cell_type": "code",
   "execution_count": null,
   "metadata": {},
   "outputs": [],
   "source": [
    "var = \"PN35\""
   ]
  },
  {
   "cell_type": "markdown",
   "metadata": {},
   "source": [
    "### Data"
   ]
  },
  {
   "cell_type": "markdown",
   "metadata": {},
   "source": [
    "Some of the existing options are the same across all datasets:\n",
    "- 0: No\n",
    "- 1: Yes\n",
    "- 9: Missing\n",
    "\n",
    "For G214_PQ and G214_SQ\n",
    "- 8: N/A\n",
    "\n",
    "For G217_PQ:\n",
    "- 7: Involved in incorrect skip - not answered\n",
    "\n",
    "Values of 7 should be considered missing, as discussed with Alex D'Vauz.\n",
    "\n",
    "Changes:\n",
    "- Convert 8 to -88\n",
    "- Convert 9 to -99\n",
    "- Convert 7 to -99"
   ]
  },
  {
   "cell_type": "code",
   "execution_count": null,
   "metadata": {},
   "outputs": [
    {
     "name": "stdout",
     "output_type": "stream",
     "text": [
      "\u001b[1m{\u001b[0m\n",
      "    \u001b[32m'G214_PQ_PN35'\u001b[0m: \u001b[1m(\u001b[0m\u001b[3;35mNone\u001b[0m, \u001b[1;36m0.0\u001b[0m, \u001b[1;36m1.0\u001b[0m, \u001b[1;36m8.0\u001b[0m, \u001b[1;36m9.0\u001b[0m\u001b[1m)\u001b[0m,\n",
      "    \u001b[32m'G214_SQ_PN35'\u001b[0m: \u001b[1m(\u001b[0m\u001b[3;35mNone\u001b[0m, \u001b[1;36m0.0\u001b[0m, \u001b[1;36m1.0\u001b[0m, \u001b[1;36m8.0\u001b[0m, \u001b[1;36m9.0\u001b[0m\u001b[1m)\u001b[0m,\n",
      "    \u001b[32m'G217_PQ_PN35'\u001b[0m: \u001b[1m(\u001b[0m\u001b[3;35mNone\u001b[0m, \u001b[1;36m0.0\u001b[0m, \u001b[1;36m1.0\u001b[0m, \u001b[1;36m7.0\u001b[0m, \u001b[1;36m9.0\u001b[0m\u001b[1m)\u001b[0m,\n",
      "    \u001b[32m'G217_SQ_PN35'\u001b[0m: \u001b[1m(\u001b[0m\u001b[3;35mNone\u001b[0m, \u001b[1;36m0.0\u001b[0m, \u001b[1;36m1.0\u001b[0m, \u001b[1;36m9.0\u001b[0m\u001b[1m)\u001b[0m\n",
      "\u001b[1m}\u001b[0m\n"
     ]
    }
   ],
   "source": [
    "unique_vals = unique_values(df, var)\n",
    "rprint(unique_vals)"
   ]
  },
  {
   "cell_type": "code",
   "execution_count": null,
   "metadata": {},
   "outputs": [
    {
     "data": {
      "text/plain": [
       "\u001b[1m{\u001b[0m\u001b[1;36m0.0\u001b[0m, \u001b[1;36m1.0\u001b[0m, \u001b[1;36m7.0\u001b[0m, \u001b[1;36m8.0\u001b[0m, \u001b[1;36m9.0\u001b[0m\u001b[1m}\u001b[0m"
      ]
     },
     "execution_count": null,
     "metadata": {},
     "output_type": "execute_result"
    }
   ],
   "source": [
    "# Note the unique values for PN35 across all datasets combined\n",
    "value_options = set()\n",
    "for values in unique_vals.values(): \n",
    "    value_options.update(values)\n",
    "value_options.discard(None)\n",
    "value_options"
   ]
  },
  {
   "cell_type": "markdown",
   "metadata": {},
   "source": [
    "#### Define properties to test, validate, and explore\n",
    "\n",
    "- When PN17 is 0 (No), PN35 should be 8 (N/A)\n",
    "- When PN17 is 1 (Yes), PN35 should be 0, 1, or 9 [CORRECTION: as per discussion below, 8 is also valid for PN35]\n",
    "- When PN17 is 9 (Missing), PN35 should be 9"
   ]
  },
  {
   "cell_type": "code",
   "execution_count": null,
   "metadata": {},
   "outputs": [],
   "source": [
    "test = df.clone().collect()"
   ]
  },
  {
   "cell_type": "code",
   "execution_count": null,
   "metadata": {},
   "outputs": [
    {
     "name": "stdout",
     "output_type": "stream",
     "text": [
      "When PN17 == \u001b[1;36m0\u001b[0m\n",
      "\u001b[1m{\u001b[0m\u001b[32m'G214_PQ_PN35'\u001b[0m: \u001b[1m[\u001b[0m\u001b[1;36m8.0\u001b[0m\u001b[1m]\u001b[0m\u001b[1m}\u001b[0m\n",
      "\u001b[1m{\u001b[0m\u001b[32m'G214_SQ_PN35'\u001b[0m: \u001b[1m[\u001b[0m\u001b[1;36m8.0\u001b[0m\u001b[1m]\u001b[0m\u001b[1m}\u001b[0m\n",
      "\u001b[1m{\u001b[0m\u001b[32m'G217_PQ_PN35'\u001b[0m: \u001b[1m[\u001b[0m\u001b[1;36m1.0\u001b[0m, \u001b[1;36m7.0\u001b[0m, \u001b[1;36m0.0\u001b[0m, \u001b[1;36m9.0\u001b[0m\u001b[1m]\u001b[0m\u001b[1m}\u001b[0m\n",
      "\u001b[1m{\u001b[0m\u001b[32m'G217_SQ_PN35'\u001b[0m: \u001b[1m[\u001b[0m\u001b[1;36m9.0\u001b[0m, \u001b[1;36m0.0\u001b[0m, \u001b[1;36m1.0\u001b[0m\u001b[1m]\u001b[0m\u001b[1m}\u001b[0m\n",
      "When PN17 == \u001b[1;36m1\u001b[0m\n",
      "\u001b[1m{\u001b[0m\u001b[32m'G214_PQ_PN35'\u001b[0m: \u001b[1m[\u001b[0m\u001b[1;36m0.0\u001b[0m, \u001b[1;36m8.0\u001b[0m, \u001b[1;36m1.0\u001b[0m\u001b[1m]\u001b[0m\u001b[1m}\u001b[0m\n",
      "\u001b[1m{\u001b[0m\u001b[32m'G214_SQ_PN35'\u001b[0m: \u001b[1m[\u001b[0m\u001b[1;36m0.0\u001b[0m, \u001b[1;36m9.0\u001b[0m, \u001b[1;36m1.0\u001b[0m, \u001b[1;36m8.0\u001b[0m\u001b[1m]\u001b[0m\u001b[1m}\u001b[0m\n",
      "\u001b[1m{\u001b[0m\u001b[32m'G217_PQ_PN35'\u001b[0m: \u001b[1m[\u001b[0m\u001b[1;36m0.0\u001b[0m, \u001b[1;36m9.0\u001b[0m, \u001b[1;36m1.0\u001b[0m\u001b[1m]\u001b[0m\u001b[1m}\u001b[0m\n",
      "\u001b[1m{\u001b[0m\u001b[32m'G217_SQ_PN35'\u001b[0m: \u001b[1m[\u001b[0m\u001b[1;36m1.0\u001b[0m, \u001b[1;36m0.0\u001b[0m\u001b[1m]\u001b[0m\u001b[1m}\u001b[0m\n",
      "When PN17 == \u001b[1;36m9\u001b[0m\n",
      "\u001b[1m{\u001b[0m\u001b[32m'G214_PQ_PN35'\u001b[0m: \u001b[1m[\u001b[0m\u001b[1;36m9.0\u001b[0m\u001b[1m]\u001b[0m\u001b[1m}\u001b[0m\n",
      "\u001b[1m{\u001b[0m\u001b[32m'G214_SQ_PN35'\u001b[0m: \u001b[1m[\u001b[0m\u001b[1;36m9.0\u001b[0m\u001b[1m]\u001b[0m\u001b[1m}\u001b[0m\n",
      "\u001b[1m{\u001b[0m\u001b[32m'G217_PQ_PN35'\u001b[0m: \u001b[1m[\u001b[0m\u001b[1;36m9.0\u001b[0m\u001b[1m]\u001b[0m\u001b[1m}\u001b[0m\n",
      "\u001b[1m{\u001b[0m\u001b[32m'G217_SQ_PN35'\u001b[0m: \u001b[1m[\u001b[0m\u001b[1;36m9.0\u001b[0m\u001b[1m]\u001b[0m\u001b[1m}\u001b[0m\n"
     ]
    }
   ],
   "source": [
    "for value in (0, 1, 9):\n",
    "    rprint(f\"When PN17 == {value}\")\n",
    "    for p in prefixes:\n",
    "        rprint(\n",
    "            test\n",
    "            .filter(pl.col(f\"{p}PN17\") == value)\n",
    "            .select(f\"{p}{var}\")\n",
    "            .unique()\n",
    "            .to_dict(as_series=False)\n",
    "        )"
   ]
  },
  {
   "cell_type": "markdown",
   "metadata": {},
   "source": [
    "As per PN25, property 3 was as expected and property 1 did not pass due to differences in the Y17 follow-ups.\n",
    "However, property 2 failed unexpectedly; there are values of 8 (N/A) when PN17 is 1 (Yes).\n",
    "\n",
    "Upon further exploration, it was confirmed that in ALL cases, this is because the participant was not employed at the time of the questionnaire, and thus the response of 8 is valid.\n",
    "This was done by checking values of `G214_PQ_YWRK_1` and `G214_PQ_YWRK_YN` when PN17 == 1 and PN35 == 8."
   ]
  },
  {
   "cell_type": "code",
   "execution_count": null,
   "metadata": {},
   "outputs": [
    {
     "name": "stdout",
     "output_type": "stream",
     "text": [
      "When PN35 == \u001b[1;36m0.0\u001b[0m\n",
      "\u001b[1m{\u001b[0m\u001b[32m'G214_PQ_PN17'\u001b[0m: \u001b[1m[\u001b[0m\u001b[1;36m1.0\u001b[0m\u001b[1m]\u001b[0m\u001b[1m}\u001b[0m\n",
      "\u001b[1m{\u001b[0m\u001b[32m'G214_SQ_PN17'\u001b[0m: \u001b[1m[\u001b[0m\u001b[1;36m1.0\u001b[0m\u001b[1m]\u001b[0m\u001b[1m}\u001b[0m\n",
      "\u001b[1m{\u001b[0m\u001b[32m'G217_PQ_PN17'\u001b[0m: \u001b[1m[\u001b[0m\u001b[1;36m0.0\u001b[0m, \u001b[1;36m1.0\u001b[0m\u001b[1m]\u001b[0m\u001b[1m}\u001b[0m\n",
      "\u001b[1m{\u001b[0m\u001b[32m'G217_SQ_PN17'\u001b[0m: \u001b[1m[\u001b[0m\u001b[1;36m1.0\u001b[0m, \u001b[1;36m0.0\u001b[0m\u001b[1m]\u001b[0m\u001b[1m}\u001b[0m\n",
      "When PN35 == \u001b[1;36m1.0\u001b[0m\n",
      "\u001b[1m{\u001b[0m\u001b[32m'G214_PQ_PN17'\u001b[0m: \u001b[1m[\u001b[0m\u001b[1;36m1.0\u001b[0m\u001b[1m]\u001b[0m\u001b[1m}\u001b[0m\n",
      "\u001b[1m{\u001b[0m\u001b[32m'G214_SQ_PN17'\u001b[0m: \u001b[1m[\u001b[0m\u001b[1;36m1.0\u001b[0m\u001b[1m]\u001b[0m\u001b[1m}\u001b[0m\n",
      "\u001b[1m{\u001b[0m\u001b[32m'G217_PQ_PN17'\u001b[0m: \u001b[1m[\u001b[0m\u001b[1;36m1.0\u001b[0m, \u001b[1;36m0.0\u001b[0m\u001b[1m]\u001b[0m\u001b[1m}\u001b[0m\n",
      "\u001b[1m{\u001b[0m\u001b[32m'G217_SQ_PN17'\u001b[0m: \u001b[1m[\u001b[0m\u001b[1;36m0.0\u001b[0m, \u001b[1;36m1.0\u001b[0m\u001b[1m]\u001b[0m\u001b[1m}\u001b[0m\n",
      "When PN35 == \u001b[1;36m7.0\u001b[0m\n",
      "\u001b[1m{\u001b[0m\u001b[32m'G214_PQ_PN17'\u001b[0m: \u001b[1m[\u001b[0m\u001b[1m]\u001b[0m\u001b[1m}\u001b[0m\n",
      "\u001b[1m{\u001b[0m\u001b[32m'G214_SQ_PN17'\u001b[0m: \u001b[1m[\u001b[0m\u001b[1m]\u001b[0m\u001b[1m}\u001b[0m\n",
      "\u001b[1m{\u001b[0m\u001b[32m'G217_PQ_PN17'\u001b[0m: \u001b[1m[\u001b[0m\u001b[1;36m0.0\u001b[0m\u001b[1m]\u001b[0m\u001b[1m}\u001b[0m\n",
      "\u001b[1m{\u001b[0m\u001b[32m'G217_SQ_PN17'\u001b[0m: \u001b[1m[\u001b[0m\u001b[1m]\u001b[0m\u001b[1m}\u001b[0m\n",
      "When PN35 == \u001b[1;36m8.0\u001b[0m\n",
      "\u001b[1m{\u001b[0m\u001b[32m'G214_PQ_PN17'\u001b[0m: \u001b[1m[\u001b[0m\u001b[1;36m0.0\u001b[0m, \u001b[1;36m1.0\u001b[0m\u001b[1m]\u001b[0m\u001b[1m}\u001b[0m\n",
      "\u001b[1m{\u001b[0m\u001b[32m'G214_SQ_PN17'\u001b[0m: \u001b[1m[\u001b[0m\u001b[1;36m1.0\u001b[0m, \u001b[1;36m0.0\u001b[0m\u001b[1m]\u001b[0m\u001b[1m}\u001b[0m\n",
      "\u001b[1m{\u001b[0m\u001b[32m'G217_PQ_PN17'\u001b[0m: \u001b[1m[\u001b[0m\u001b[1m]\u001b[0m\u001b[1m}\u001b[0m\n",
      "\u001b[1m{\u001b[0m\u001b[32m'G217_SQ_PN17'\u001b[0m: \u001b[1m[\u001b[0m\u001b[1m]\u001b[0m\u001b[1m}\u001b[0m\n",
      "When PN35 == \u001b[1;36m9.0\u001b[0m\n",
      "\u001b[1m{\u001b[0m\u001b[32m'G214_PQ_PN17'\u001b[0m: \u001b[1m[\u001b[0m\u001b[1;36m9.0\u001b[0m\u001b[1m]\u001b[0m\u001b[1m}\u001b[0m\n",
      "\u001b[1m{\u001b[0m\u001b[32m'G214_SQ_PN17'\u001b[0m: \u001b[1m[\u001b[0m\u001b[1;36m1.0\u001b[0m, \u001b[1;36m9.0\u001b[0m\u001b[1m]\u001b[0m\u001b[1m}\u001b[0m\n",
      "\u001b[1m{\u001b[0m\u001b[32m'G217_PQ_PN17'\u001b[0m: \u001b[1m[\u001b[0m\u001b[1;36m0.0\u001b[0m, \u001b[1;36m9.0\u001b[0m, \u001b[1;36m1.0\u001b[0m\u001b[1m]\u001b[0m\u001b[1m}\u001b[0m\n",
      "\u001b[1m{\u001b[0m\u001b[32m'G217_SQ_PN17'\u001b[0m: \u001b[1m[\u001b[0m\u001b[1;36m0.0\u001b[0m, \u001b[1;36m9.0\u001b[0m\u001b[1m]\u001b[0m\u001b[1m}\u001b[0m\n"
     ]
    }
   ],
   "source": [
    "for value in value_options:\n",
    "    rprint(f\"When {var} == {value}\")\n",
    "    for p in prefixes:\n",
    "        rprint(\n",
    "            test\n",
    "            .filter(pl.col(f\"{p}{var}\") == value)\n",
    "            .select(f\"{p}PN17\")\n",
    "            .unique()\n",
    "            .to_dict(as_series=False)\n",
    "        )"
   ]
  },
  {
   "cell_type": "markdown",
   "metadata": {},
   "source": [
    "No additional, unexpected values were found."
   ]
  },
  {
   "cell_type": "markdown",
   "metadata": {},
   "source": [
    "### Metadata"
   ]
  },
  {
   "cell_type": "markdown",
   "metadata": {},
   "source": [
    "Clear discrepancies in labels and field values.\n",
    "\n",
    "Changes:\n",
    "- Harmonised label to \"Missed work due to pain\"\n",
    "- Updated field values to reflect changes in data"
   ]
  },
  {
   "cell_type": "code",
   "execution_count": null,
   "metadata": {},
   "outputs": [],
   "source": [
    "m = filter_metadata(var, df, meta)"
   ]
  },
  {
   "cell_type": "code",
   "execution_count": null,
   "metadata": {},
   "outputs": [
    {
     "name": "stdout",
     "output_type": "stream",
     "text": [
      "\u001b[1;35mdefaultdict\u001b[0m\u001b[1m(\u001b[0m\u001b[1m<\u001b[0m\u001b[1;95mclass\u001b[0m\u001b[39m \u001b[0m\u001b[32m'dict'\u001b[0m\u001b[1m>\u001b[0m, \u001b[1m{\u001b[0m\n",
      "    \u001b[32m'Label'\u001b[0m: \u001b[1m{\u001b[0m\n",
      "        \u001b[32m'G214_PQ_PN35'\u001b[0m: \u001b[32m'Miss work due to back pain'\u001b[0m,\n",
      "        \u001b[32m'G214_SQ_PN35'\u001b[0m: \u001b[32m'Miss work due to back pain'\u001b[0m,\n",
      "        \u001b[32m'G217_PQ_PN35'\u001b[0m: \u001b[32m'Back pain stopped you from going to work'\u001b[0m,\n",
      "        \u001b[32m'G217_SQ_PN35'\u001b[0m: \u001b[32m'Did back pain stop you going to work?'\u001b[0m\n",
      "    \u001b[1m}\u001b[0m,\n",
      "    \u001b[32m'Field Type'\u001b[0m: \u001b[1m{\u001b[0m\n",
      "        \u001b[32m'G214_PQ_PN35'\u001b[0m: \u001b[32m'Numeric'\u001b[0m,\n",
      "        \u001b[32m'G214_SQ_PN35'\u001b[0m: \u001b[32m'Numeric'\u001b[0m,\n",
      "        \u001b[32m'G217_PQ_PN35'\u001b[0m: \u001b[32m'Numeric'\u001b[0m,\n",
      "        \u001b[32m'G217_SQ_PN35'\u001b[0m: \u001b[32m'Numeric'\u001b[0m\n",
      "    \u001b[1m}\u001b[0m,\n",
      "    \u001b[32m'Field Width'\u001b[0m: \u001b[1m{\u001b[0m\n",
      "        \u001b[32m'G214_PQ_PN35'\u001b[0m: \u001b[1;36m8\u001b[0m,\n",
      "        \u001b[32m'G214_SQ_PN35'\u001b[0m: \u001b[1;36m8\u001b[0m,\n",
      "        \u001b[32m'G217_PQ_PN35'\u001b[0m: \u001b[1;36m8\u001b[0m,\n",
      "        \u001b[32m'G217_SQ_PN35'\u001b[0m: \u001b[1;36m8\u001b[0m\n",
      "    \u001b[1m}\u001b[0m,\n",
      "    \u001b[32m'Decimals'\u001b[0m: \u001b[1m{\u001b[0m\n",
      "        \u001b[32m'G214_PQ_PN35'\u001b[0m: \u001b[1;36m0\u001b[0m,\n",
      "        \u001b[32m'G214_SQ_PN35'\u001b[0m: \u001b[1;36m0\u001b[0m,\n",
      "        \u001b[32m'G217_PQ_PN35'\u001b[0m: \u001b[1;36m0\u001b[0m,\n",
      "        \u001b[32m'G217_SQ_PN35'\u001b[0m: \u001b[1;36m0\u001b[0m\n",
      "    \u001b[1m}\u001b[0m,\n",
      "    \u001b[32m'Variable Type'\u001b[0m: \u001b[1m{\u001b[0m\n",
      "        \u001b[32m'G214_PQ_PN35'\u001b[0m: \u001b[32m'scale'\u001b[0m,\n",
      "        \u001b[32m'G214_SQ_PN35'\u001b[0m: \u001b[32m'scale'\u001b[0m,\n",
      "        \u001b[32m'G217_PQ_PN35'\u001b[0m: \u001b[32m'scale'\u001b[0m,\n",
      "        \u001b[32m'G217_SQ_PN35'\u001b[0m: \u001b[32m'scale'\u001b[0m\n",
      "    \u001b[1m}\u001b[0m,\n",
      "    \u001b[32m'Field Values'\u001b[0m: \u001b[1m{\u001b[0m\n",
      "        \u001b[32m'G214_PQ_PN35'\u001b[0m: \u001b[1m{\u001b[0m\n",
      "            \u001b[1;36m0.0\u001b[0m: \u001b[32m'No'\u001b[0m,\n",
      "            \u001b[1;36m1.0\u001b[0m: \u001b[32m'Yes'\u001b[0m,\n",
      "            \u001b[1;36m8.0\u001b[0m: \u001b[32m'Not applicable'\u001b[0m,\n",
      "            \u001b[1;36m9.0\u001b[0m: \u001b[32m'Not stated'\u001b[0m\n",
      "        \u001b[1m}\u001b[0m,\n",
      "        \u001b[32m'G214_SQ_PN35'\u001b[0m: \u001b[1m{\u001b[0m\n",
      "            \u001b[1;36m0.0\u001b[0m: \u001b[32m'No'\u001b[0m,\n",
      "            \u001b[1;36m1.0\u001b[0m: \u001b[32m'Yes'\u001b[0m,\n",
      "            \u001b[1;36m8.0\u001b[0m: \u001b[32m'Not applicable'\u001b[0m,\n",
      "            \u001b[1;36m9.0\u001b[0m: \u001b[32m'Not stated'\u001b[0m\n",
      "        \u001b[1m}\u001b[0m,\n",
      "        \u001b[32m'G217_PQ_PN35'\u001b[0m: \u001b[1m{\u001b[0m\n",
      "            \u001b[1;36m0.0\u001b[0m: \u001b[32m'No'\u001b[0m,\n",
      "            \u001b[1;36m1.0\u001b[0m: \u001b[32m'Yes'\u001b[0m,\n",
      "            \u001b[1;36m7.0\u001b[0m: \u001b[32m'Involved in incorrect skip - not answered'\u001b[0m,\n",
      "            \u001b[1;36m9.0\u001b[0m: \u001b[32m'Not stated'\u001b[0m\n",
      "        \u001b[1m}\u001b[0m,\n",
      "        \u001b[32m'G217_SQ_PN35'\u001b[0m: \u001b[1m{\u001b[0m\u001b[1;36m0.0\u001b[0m: \u001b[32m'No'\u001b[0m, \u001b[1;36m1.0\u001b[0m: \u001b[32m'Yes'\u001b[0m, \u001b[1;36m9.0\u001b[0m: \u001b[32m'Not stated'\u001b[0m\u001b[1m}\u001b[0m\n",
      "    \u001b[1m}\u001b[0m\n",
      "\u001b[1m}\u001b[0m\u001b[1m)\u001b[0m\n"
     ]
    }
   ],
   "source": [
    "rprint(m)"
   ]
  },
  {
   "cell_type": "code",
   "execution_count": null,
   "metadata": {},
   "outputs": [
    {
     "name": "stdout",
     "output_type": "stream",
     "text": [
      "\u001b[1m{\u001b[0m\n",
      "    \u001b[32m'G214_PQ_PN35'\u001b[0m: \u001b[1m{\u001b[0m\n",
      "        \u001b[1;36m0.0\u001b[0m: \u001b[32m'No'\u001b[0m,\n",
      "        \u001b[1;36m1.0\u001b[0m: \u001b[32m'Yes'\u001b[0m,\n",
      "        \u001b[1;36m8.0\u001b[0m: \u001b[32m'Not applicable'\u001b[0m,\n",
      "        \u001b[1;36m9.0\u001b[0m: \u001b[32m'Not stated'\u001b[0m\n",
      "    \u001b[1m}\u001b[0m,\n",
      "    \u001b[32m'G214_SQ_PN35'\u001b[0m: \u001b[1m{\u001b[0m\n",
      "        \u001b[1;36m0.0\u001b[0m: \u001b[32m'No'\u001b[0m,\n",
      "        \u001b[1;36m1.0\u001b[0m: \u001b[32m'Yes'\u001b[0m,\n",
      "        \u001b[1;36m8.0\u001b[0m: \u001b[32m'Not applicable'\u001b[0m,\n",
      "        \u001b[1;36m9.0\u001b[0m: \u001b[32m'Not stated'\u001b[0m\n",
      "    \u001b[1m}\u001b[0m,\n",
      "    \u001b[32m'G217_PQ_PN35'\u001b[0m: \u001b[1m{\u001b[0m\n",
      "        \u001b[1;36m0.0\u001b[0m: \u001b[32m'No'\u001b[0m,\n",
      "        \u001b[1;36m1.0\u001b[0m: \u001b[32m'Yes'\u001b[0m,\n",
      "        \u001b[1;36m7.0\u001b[0m: \u001b[32m'Involved in incorrect skip - not answered'\u001b[0m,\n",
      "        \u001b[1;36m9.0\u001b[0m: \u001b[32m'Not stated'\u001b[0m\n",
      "    \u001b[1m}\u001b[0m,\n",
      "    \u001b[32m'G217_SQ_PN35'\u001b[0m: \u001b[1m{\u001b[0m\u001b[1;36m0.0\u001b[0m: \u001b[32m'No'\u001b[0m, \u001b[1;36m1.0\u001b[0m: \u001b[32m'Yes'\u001b[0m, \u001b[1;36m9.0\u001b[0m: \u001b[32m'Not stated'\u001b[0m\u001b[1m}\u001b[0m\n",
      "\u001b[1m}\u001b[0m\n"
     ]
    }
   ],
   "source": [
    "rprint(m[\"Field Values\"])"
   ]
  },
  {
   "cell_type": "code",
   "execution_count": null,
   "metadata": {},
   "outputs": [
    {
     "name": "stderr",
     "output_type": "stream",
     "text": [
      "\u001b[31m┌─\u001b[0m\u001b[31m────────────────────\u001b[0m\u001b[31m \u001b[0m\u001b[1;31mTraceback \u001b[0m\u001b[1;2;31m(most recent call last)\u001b[0m\u001b[31m \u001b[0m\u001b[31m────────────────────\u001b[0m\u001b[31m─┐\u001b[0m\n",
      "\u001b[31m│\u001b[0m in \u001b[92m<module>\u001b[0m:\u001b[94m1\u001b[0m                                                               \u001b[31m│\u001b[0m\n",
      "\u001b[31m│\u001b[0m                                                                             \u001b[31m│\u001b[0m\n",
      "\u001b[31m│\u001b[0m \u001b[31m> \u001b[0m1 PN35 = Metadata(                                                        \u001b[31m│\u001b[0m\n",
      "\u001b[31m│\u001b[0m   \u001b[2m2 \u001b[0m\u001b[2m│   \u001b[0mlabel= \u001b[33m\"\u001b[0m\u001b[33mMissed work due to pain\u001b[0m\u001b[33m\"\u001b[0m,                                   \u001b[31m│\u001b[0m\n",
      "\u001b[31m│\u001b[0m   \u001b[2m3 \u001b[0m\u001b[2m│   \u001b[0mfield_values = {-\u001b[94m88\u001b[0m: \u001b[33m\"\u001b[0m\u001b[33mN/A\u001b[0m\u001b[33m\"\u001b[0m, -\u001b[94m99\u001b[0m: \u001b[33m\"\u001b[0m\u001b[33mMissing\u001b[0m\u001b[33m\"\u001b[0m, \u001b[94m0\u001b[0m: \u001b[33m\"\u001b[0m\u001b[33mNo\u001b[0m\u001b[33m\"\u001b[0m, \u001b[94m1\u001b[0m: \u001b[33m\"\u001b[0m\u001b[33mYes\u001b[0m\u001b[33m\"\u001b[0m},     \u001b[31m│\u001b[0m\n",
      "\u001b[31m│\u001b[0m   \u001b[2m4 \u001b[0m\u001b[2m│   \u001b[0mfield_type = \u001b[33m\"\u001b[0m\u001b[33mNumeric\u001b[0m\u001b[33m\"\u001b[0m,                                             \u001b[31m│\u001b[0m\n",
      "\u001b[31m│\u001b[0m                                                                             \u001b[31m│\u001b[0m\n",
      "\u001b[31m│\u001b[0m \u001b[33mC:\\Users\\00113294\\Anaconda3\\envs\\my_env\\Lib\\site-packages\\pydantic\\_interna\u001b[0m \u001b[31m│\u001b[0m\n",
      "\u001b[31m│\u001b[0m \u001b[33ml\\_dataclasses.py\u001b[0m:\u001b[94m141\u001b[0m in \u001b[92m__init__\u001b[0m                                           \u001b[31m│\u001b[0m\n",
      "\u001b[31m│\u001b[0m                                                                             \u001b[31m│\u001b[0m\n",
      "\u001b[31m│\u001b[0m   \u001b[2m138 \u001b[0m\u001b[2m│   \u001b[0m\u001b[94mdef\u001b[0m\u001b[90m \u001b[0m\u001b[92m__init__\u001b[0m(__dataclass_self__: PydanticDataclass, *args: Any, * \u001b[31m│\u001b[0m\n",
      "\u001b[31m│\u001b[0m   \u001b[2m139 \u001b[0m\u001b[2m│   │   \u001b[0m__tracebackhide__ = \u001b[94mTrue\u001b[0m                                      \u001b[31m│\u001b[0m\n",
      "\u001b[31m│\u001b[0m   \u001b[2m140 \u001b[0m\u001b[2m│   │   \u001b[0ms = __dataclass_self__                                        \u001b[31m│\u001b[0m\n",
      "\u001b[31m│\u001b[0m \u001b[31m> \u001b[0m141 \u001b[2m│   │   \u001b[0m\u001b[1;4ms.__pydantic_validator__.validate_python(ArgsKwargs(args, kwa\u001b[0m \u001b[31m│\u001b[0m\n",
      "\u001b[31m│\u001b[0m   \u001b[2m142 \u001b[0m\u001b[2m│   \u001b[0m                                                                  \u001b[31m│\u001b[0m\n",
      "\u001b[31m│\u001b[0m   \u001b[2m143 \u001b[0m\u001b[2m│   \u001b[0m\u001b[92m__init__\u001b[0m.\u001b[91m__qualname__\u001b[0m = \u001b[33mf\u001b[0m\u001b[33m'\u001b[0m\u001b[33m{\u001b[0m\u001b[96mcls\u001b[0m.\u001b[91m__qualname__\u001b[0m\u001b[33m}\u001b[0m\u001b[33m.__init__\u001b[0m\u001b[33m'\u001b[0m            \u001b[31m│\u001b[0m\n",
      "\u001b[31m│\u001b[0m   \u001b[2m144 \u001b[0m                                                                      \u001b[31m│\u001b[0m\n",
      "\u001b[31m└─────────────────────────────────────────────────────────────────────────────┘\u001b[0m\n",
      "\u001b[1;91mValidationError: \u001b[0m\u001b[1;36m1\u001b[0m validation error for Metadata\n",
      "variable_basename\n",
      "  Field required \u001b[1m[\u001b[0m\u001b[33mtype\u001b[0m=\u001b[35mmissing\u001b[0m, \u001b[33minput_value\u001b[0m=\u001b[1;35mArgsKwargs\u001b[0m\u001b[1m(\u001b[0m\u001b[1m(\u001b[0m\u001b[1m)\u001b[0m, \u001b[1m{\u001b[0m\u001b[32m'label'\u001b[0m: \n",
      "\u001b[33m...\u001b[0miable_type': \u001b[32m'Nominal'\u001b[0m\u001b[1m}\u001b[0m\u001b[1m)\u001b[0m, \u001b[33minput_type\u001b[0m=\u001b[35mArgsKwargs\u001b[0m\u001b[1m]\u001b[0m\n",
      "    For further information visit \u001b[4;94mhttps://errors.pydantic.dev/2.8/v/missing\u001b[0m\n"
     ]
    }
   ],
   "source": [
    "PN35 = Metadata(\n",
    "    label= \"Missed work due to pain\",\n",
    "    field_values = {-88: \"N/A\", -99: \"Missing\", 0: \"No\", 1: \"Yes\"},\n",
    "    field_type = \"Numeric\",\n",
    "    field_width = 3,\n",
    "    decimals =  0,\n",
    "    variable_type = \"Nominal\"\n",
    ")"
   ]
  },
  {
   "cell_type": "markdown",
   "metadata": {},
   "source": [
    "## PN36"
   ]
  },
  {
   "cell_type": "code",
   "execution_count": null,
   "metadata": {},
   "outputs": [],
   "source": [
    "var = \"PN36\""
   ]
  },
  {
   "cell_type": "markdown",
   "metadata": {},
   "source": [
    "### Data"
   ]
  },
  {
   "cell_type": "markdown",
   "metadata": {},
   "source": [
    "Some of the existing options are the same across all datasets:\n",
    "- 0: No\n",
    "- 1: Yes\n",
    "- 9: Missing\n",
    "\n",
    "For G214_PQ and G214_SQ\n",
    "- 8: N/A\n",
    "\n",
    "For G217_PQ:\n",
    "- 7: Involved in incorrect skip - not answered\n",
    "\n",
    "Values of 7 should be considered missing, as discussed with Alex D'Vauz.\n",
    "\n",
    "Changes:\n",
    "- Convert 8 to -88\n",
    "- Convert 9 to -99\n",
    "- Convert 7 to -99"
   ]
  },
  {
   "cell_type": "code",
   "execution_count": null,
   "metadata": {},
   "outputs": [
    {
     "name": "stdout",
     "output_type": "stream",
     "text": [
      "\u001b[1m{\u001b[0m\n",
      "    \u001b[32m'G214_PQ_PN36'\u001b[0m: \u001b[1m(\u001b[0m\u001b[3;35mNone\u001b[0m, \u001b[1;36m0.0\u001b[0m, \u001b[1;36m1.0\u001b[0m, \u001b[1;36m8.0\u001b[0m, \u001b[1;36m9.0\u001b[0m\u001b[1m)\u001b[0m,\n",
      "    \u001b[32m'G214_SQ_PN36'\u001b[0m: \u001b[1m(\u001b[0m\u001b[3;35mNone\u001b[0m, \u001b[1;36m0.0\u001b[0m, \u001b[1;36m1.0\u001b[0m, \u001b[1;36m8.0\u001b[0m, \u001b[1;36m9.0\u001b[0m\u001b[1m)\u001b[0m,\n",
      "    \u001b[32m'G217_PQ_PN36'\u001b[0m: \u001b[1m(\u001b[0m\u001b[3;35mNone\u001b[0m, \u001b[1;36m0.0\u001b[0m, \u001b[1;36m1.0\u001b[0m, \u001b[1;36m7.0\u001b[0m, \u001b[1;36m9.0\u001b[0m\u001b[1m)\u001b[0m,\n",
      "    \u001b[32m'G217_SQ_PN36'\u001b[0m: \u001b[1m(\u001b[0m\u001b[3;35mNone\u001b[0m, \u001b[1;36m0.0\u001b[0m, \u001b[1;36m1.0\u001b[0m, \u001b[1;36m9.0\u001b[0m\u001b[1m)\u001b[0m\n",
      "\u001b[1m}\u001b[0m\n"
     ]
    }
   ],
   "source": [
    "unique_vals = unique_values(df, var)\n",
    "rprint(unique_vals)"
   ]
  },
  {
   "cell_type": "code",
   "execution_count": null,
   "metadata": {},
   "outputs": [
    {
     "data": {
      "text/plain": [
       "\u001b[1m{\u001b[0m\u001b[1;36m0.0\u001b[0m, \u001b[1;36m1.0\u001b[0m, \u001b[1;36m7.0\u001b[0m, \u001b[1;36m8.0\u001b[0m, \u001b[1;36m9.0\u001b[0m\u001b[1m}\u001b[0m"
      ]
     },
     "execution_count": null,
     "metadata": {},
     "output_type": "execute_result"
    }
   ],
   "source": [
    "# Note the unique values for PN36 across all datasets combined\n",
    "value_options = set()\n",
    "for values in unique_vals.values(): \n",
    "    value_options.update(values)\n",
    "value_options.discard(None)\n",
    "value_options"
   ]
  },
  {
   "cell_type": "markdown",
   "metadata": {},
   "source": [
    "#### Define properties to test, validate, and explore\n",
    "\n",
    "- When PN17 is 0 (No), PN36 should be 8 (N/A)\n",
    "- When PN17 is 1 (Yes), PN36 should be 0, 1, or 9\n",
    "- When PN17 is 9 (Missing), PN36 should be 9"
   ]
  },
  {
   "cell_type": "code",
   "execution_count": null,
   "metadata": {},
   "outputs": [],
   "source": [
    "test = df.clone().collect()"
   ]
  },
  {
   "cell_type": "code",
   "execution_count": null,
   "metadata": {},
   "outputs": [
    {
     "name": "stdout",
     "output_type": "stream",
     "text": [
      "When PN17 == \u001b[1;36m0\u001b[0m\n",
      "\u001b[1m{\u001b[0m\u001b[32m'G214_PQ_PN36'\u001b[0m: \u001b[1m[\u001b[0m\u001b[1;36m8.0\u001b[0m\u001b[1m]\u001b[0m\u001b[1m}\u001b[0m\n",
      "\u001b[1m{\u001b[0m\u001b[32m'G214_SQ_PN36'\u001b[0m: \u001b[1m[\u001b[0m\u001b[1;36m8.0\u001b[0m\u001b[1m]\u001b[0m\u001b[1m}\u001b[0m\n",
      "\u001b[1m{\u001b[0m\u001b[32m'G217_PQ_PN36'\u001b[0m: \u001b[1m[\u001b[0m\u001b[1;36m9.0\u001b[0m, \u001b[1;36m1.0\u001b[0m, \u001b[1;36m0.0\u001b[0m, \u001b[1;36m7.0\u001b[0m\u001b[1m]\u001b[0m\u001b[1m}\u001b[0m\n",
      "\u001b[1m{\u001b[0m\u001b[32m'G217_SQ_PN36'\u001b[0m: \u001b[1m[\u001b[0m\u001b[1;36m0.0\u001b[0m, \u001b[1;36m9.0\u001b[0m, \u001b[1;36m1.0\u001b[0m\u001b[1m]\u001b[0m\u001b[1m}\u001b[0m\n",
      "When PN17 == \u001b[1;36m1\u001b[0m\n",
      "\u001b[1m{\u001b[0m\u001b[32m'G214_PQ_PN36'\u001b[0m: \u001b[1m[\u001b[0m\u001b[1;36m0.0\u001b[0m, \u001b[1;36m1.0\u001b[0m\u001b[1m]\u001b[0m\u001b[1m}\u001b[0m\n",
      "\u001b[1m{\u001b[0m\u001b[32m'G214_SQ_PN36'\u001b[0m: \u001b[1m[\u001b[0m\u001b[1;36m9.0\u001b[0m, \u001b[1;36m1.0\u001b[0m, \u001b[1;36m0.0\u001b[0m\u001b[1m]\u001b[0m\u001b[1m}\u001b[0m\n",
      "\u001b[1m{\u001b[0m\u001b[32m'G217_PQ_PN36'\u001b[0m: \u001b[1m[\u001b[0m\u001b[1;36m9.0\u001b[0m, \u001b[1;36m0.0\u001b[0m, \u001b[1;36m1.0\u001b[0m\u001b[1m]\u001b[0m\u001b[1m}\u001b[0m\n",
      "\u001b[1m{\u001b[0m\u001b[32m'G217_SQ_PN36'\u001b[0m: \u001b[1m[\u001b[0m\u001b[1;36m1.0\u001b[0m, \u001b[1;36m9.0\u001b[0m, \u001b[1;36m0.0\u001b[0m\u001b[1m]\u001b[0m\u001b[1m}\u001b[0m\n",
      "When PN17 == \u001b[1;36m9\u001b[0m\n",
      "\u001b[1m{\u001b[0m\u001b[32m'G214_PQ_PN36'\u001b[0m: \u001b[1m[\u001b[0m\u001b[1;36m9.0\u001b[0m\u001b[1m]\u001b[0m\u001b[1m}\u001b[0m\n",
      "\u001b[1m{\u001b[0m\u001b[32m'G214_SQ_PN36'\u001b[0m: \u001b[1m[\u001b[0m\u001b[1;36m9.0\u001b[0m\u001b[1m]\u001b[0m\u001b[1m}\u001b[0m\n",
      "\u001b[1m{\u001b[0m\u001b[32m'G217_PQ_PN36'\u001b[0m: \u001b[1m[\u001b[0m\u001b[1;36m9.0\u001b[0m\u001b[1m]\u001b[0m\u001b[1m}\u001b[0m\n",
      "\u001b[1m{\u001b[0m\u001b[32m'G217_SQ_PN36'\u001b[0m: \u001b[1m[\u001b[0m\u001b[1;36m9.0\u001b[0m\u001b[1m]\u001b[0m\u001b[1m}\u001b[0m\n"
     ]
    }
   ],
   "source": [
    "for value in (0, 1, 9):\n",
    "    rprint(f\"When PN17 == {value}\")\n",
    "    for p in prefixes:\n",
    "        rprint(\n",
    "            test\n",
    "            .filter(pl.col(f\"{p}PN17\") == value)\n",
    "            .select(f\"{p}{var}\")\n",
    "            .unique()\n",
    "            .to_dict(as_series=False)\n",
    "        )"
   ]
  },
  {
   "cell_type": "markdown",
   "metadata": {},
   "source": [
    "As per PN25, properties 2 and 3 were as expected and property 1 did not pass due to differences in the Y17 follow-ups."
   ]
  },
  {
   "cell_type": "code",
   "execution_count": null,
   "metadata": {},
   "outputs": [
    {
     "name": "stdout",
     "output_type": "stream",
     "text": [
      "When PN36 == \u001b[1;36m0.0\u001b[0m\n",
      "\u001b[1m{\u001b[0m\u001b[32m'G214_PQ_PN17'\u001b[0m: \u001b[1m[\u001b[0m\u001b[1;36m1.0\u001b[0m\u001b[1m]\u001b[0m\u001b[1m}\u001b[0m\n",
      "\u001b[1m{\u001b[0m\u001b[32m'G214_SQ_PN17'\u001b[0m: \u001b[1m[\u001b[0m\u001b[1;36m1.0\u001b[0m\u001b[1m]\u001b[0m\u001b[1m}\u001b[0m\n",
      "\u001b[1m{\u001b[0m\u001b[32m'G217_PQ_PN17'\u001b[0m: \u001b[1m[\u001b[0m\u001b[1;36m0.0\u001b[0m, \u001b[1;36m1.0\u001b[0m\u001b[1m]\u001b[0m\u001b[1m}\u001b[0m\n",
      "\u001b[1m{\u001b[0m\u001b[32m'G217_SQ_PN17'\u001b[0m: \u001b[1m[\u001b[0m\u001b[1;36m0.0\u001b[0m, \u001b[1;36m1.0\u001b[0m\u001b[1m]\u001b[0m\u001b[1m}\u001b[0m\n",
      "When PN36 == \u001b[1;36m1.0\u001b[0m\n",
      "\u001b[1m{\u001b[0m\u001b[32m'G214_PQ_PN17'\u001b[0m: \u001b[1m[\u001b[0m\u001b[1;36m1.0\u001b[0m\u001b[1m]\u001b[0m\u001b[1m}\u001b[0m\n",
      "\u001b[1m{\u001b[0m\u001b[32m'G214_SQ_PN17'\u001b[0m: \u001b[1m[\u001b[0m\u001b[1;36m1.0\u001b[0m\u001b[1m]\u001b[0m\u001b[1m}\u001b[0m\n",
      "\u001b[1m{\u001b[0m\u001b[32m'G217_PQ_PN17'\u001b[0m: \u001b[1m[\u001b[0m\u001b[1;36m1.0\u001b[0m, \u001b[1;36m0.0\u001b[0m\u001b[1m]\u001b[0m\u001b[1m}\u001b[0m\n",
      "\u001b[1m{\u001b[0m\u001b[32m'G217_SQ_PN17'\u001b[0m: \u001b[1m[\u001b[0m\u001b[1;36m1.0\u001b[0m, \u001b[1;36m0.0\u001b[0m\u001b[1m]\u001b[0m\u001b[1m}\u001b[0m\n",
      "When PN36 == \u001b[1;36m7.0\u001b[0m\n",
      "\u001b[1m{\u001b[0m\u001b[32m'G214_PQ_PN17'\u001b[0m: \u001b[1m[\u001b[0m\u001b[1m]\u001b[0m\u001b[1m}\u001b[0m\n",
      "\u001b[1m{\u001b[0m\u001b[32m'G214_SQ_PN17'\u001b[0m: \u001b[1m[\u001b[0m\u001b[1m]\u001b[0m\u001b[1m}\u001b[0m\n",
      "\u001b[1m{\u001b[0m\u001b[32m'G217_PQ_PN17'\u001b[0m: \u001b[1m[\u001b[0m\u001b[1;36m0.0\u001b[0m\u001b[1m]\u001b[0m\u001b[1m}\u001b[0m\n",
      "\u001b[1m{\u001b[0m\u001b[32m'G217_SQ_PN17'\u001b[0m: \u001b[1m[\u001b[0m\u001b[1m]\u001b[0m\u001b[1m}\u001b[0m\n",
      "When PN36 == \u001b[1;36m8.0\u001b[0m\n",
      "\u001b[1m{\u001b[0m\u001b[32m'G214_PQ_PN17'\u001b[0m: \u001b[1m[\u001b[0m\u001b[1;36m0.0\u001b[0m\u001b[1m]\u001b[0m\u001b[1m}\u001b[0m\n",
      "\u001b[1m{\u001b[0m\u001b[32m'G214_SQ_PN17'\u001b[0m: \u001b[1m[\u001b[0m\u001b[1;36m0.0\u001b[0m\u001b[1m]\u001b[0m\u001b[1m}\u001b[0m\n",
      "\u001b[1m{\u001b[0m\u001b[32m'G217_PQ_PN17'\u001b[0m: \u001b[1m[\u001b[0m\u001b[1m]\u001b[0m\u001b[1m}\u001b[0m\n",
      "\u001b[1m{\u001b[0m\u001b[32m'G217_SQ_PN17'\u001b[0m: \u001b[1m[\u001b[0m\u001b[1m]\u001b[0m\u001b[1m}\u001b[0m\n",
      "When PN36 == \u001b[1;36m9.0\u001b[0m\n",
      "\u001b[1m{\u001b[0m\u001b[32m'G214_PQ_PN17'\u001b[0m: \u001b[1m[\u001b[0m\u001b[1;36m9.0\u001b[0m\u001b[1m]\u001b[0m\u001b[1m}\u001b[0m\n",
      "\u001b[1m{\u001b[0m\u001b[32m'G214_SQ_PN17'\u001b[0m: \u001b[1m[\u001b[0m\u001b[1;36m9.0\u001b[0m, \u001b[1;36m1.0\u001b[0m\u001b[1m]\u001b[0m\u001b[1m}\u001b[0m\n",
      "\u001b[1m{\u001b[0m\u001b[32m'G217_PQ_PN17'\u001b[0m: \u001b[1m[\u001b[0m\u001b[1;36m9.0\u001b[0m, \u001b[1;36m0.0\u001b[0m, \u001b[1;36m1.0\u001b[0m\u001b[1m]\u001b[0m\u001b[1m}\u001b[0m\n",
      "\u001b[1m{\u001b[0m\u001b[32m'G217_SQ_PN17'\u001b[0m: \u001b[1m[\u001b[0m\u001b[1;36m9.0\u001b[0m, \u001b[1;36m0.0\u001b[0m, \u001b[1;36m1.0\u001b[0m\u001b[1m]\u001b[0m\u001b[1m}\u001b[0m\n"
     ]
    }
   ],
   "source": [
    "for value in value_options:\n",
    "    rprint(f\"When {var} == {value}\")\n",
    "    for p in prefixes:\n",
    "        rprint(\n",
    "            test\n",
    "            .filter(pl.col(f\"{p}{var}\") == value)\n",
    "            .select(f\"{p}PN17\")\n",
    "            .unique()\n",
    "            .to_dict(as_series=False)\n",
    "        )"
   ]
  },
  {
   "cell_type": "markdown",
   "metadata": {},
   "source": [
    "No additional, unexpected values were found."
   ]
  },
  {
   "cell_type": "markdown",
   "metadata": {},
   "source": [
    "### Metadata"
   ]
  },
  {
   "cell_type": "markdown",
   "metadata": {},
   "source": [
    "Clear discrepancies in labels and field values.\n",
    "\n",
    "Changes:\n",
    "- Harmonised label to \"Pain interfered with normal activities\"\n",
    "- Updated field values to reflect changes in data"
   ]
  },
  {
   "cell_type": "code",
   "execution_count": null,
   "metadata": {},
   "outputs": [],
   "source": [
    "m = filter_metadata(var, df, meta)"
   ]
  },
  {
   "cell_type": "code",
   "execution_count": null,
   "metadata": {},
   "outputs": [
    {
     "name": "stdout",
     "output_type": "stream",
     "text": [
      "\u001b[1;35mdefaultdict\u001b[0m\u001b[1m(\u001b[0m\u001b[1m<\u001b[0m\u001b[1;95mclass\u001b[0m\u001b[39m \u001b[0m\u001b[32m'dict'\u001b[0m\u001b[1m>\u001b[0m, \u001b[1m{\u001b[0m\n",
      "    \u001b[32m'Label'\u001b[0m: \u001b[1m{\u001b[0m\n",
      "        \u001b[32m'G214_PQ_PN36'\u001b[0m: \u001b[32m'Back pain interferes with daily activities'\u001b[0m,\n",
      "        \u001b[32m'G214_SQ_PN36'\u001b[0m: \u001b[32m'Back pain interferes with daily activities'\u001b[0m,\n",
      "        \u001b[32m'G217_PQ_PN36'\u001b[0m: \u001b[32m'Back pain interfered with normal activities'\u001b[0m,\n",
      "        \u001b[32m'G217_SQ_PN36'\u001b[0m: \u001b[32m'Did the back pain interfere with normal activities?'\u001b[0m\n",
      "    \u001b[1m}\u001b[0m,\n",
      "    \u001b[32m'Field Type'\u001b[0m: \u001b[1m{\u001b[0m\n",
      "        \u001b[32m'G214_PQ_PN36'\u001b[0m: \u001b[32m'Numeric'\u001b[0m,\n",
      "        \u001b[32m'G214_SQ_PN36'\u001b[0m: \u001b[32m'Numeric'\u001b[0m,\n",
      "        \u001b[32m'G217_PQ_PN36'\u001b[0m: \u001b[32m'Numeric'\u001b[0m,\n",
      "        \u001b[32m'G217_SQ_PN36'\u001b[0m: \u001b[32m'Numeric'\u001b[0m\n",
      "    \u001b[1m}\u001b[0m,\n",
      "    \u001b[32m'Field Width'\u001b[0m: \u001b[1m{\u001b[0m\n",
      "        \u001b[32m'G214_PQ_PN36'\u001b[0m: \u001b[1;36m8\u001b[0m,\n",
      "        \u001b[32m'G214_SQ_PN36'\u001b[0m: \u001b[1;36m8\u001b[0m,\n",
      "        \u001b[32m'G217_PQ_PN36'\u001b[0m: \u001b[1;36m8\u001b[0m,\n",
      "        \u001b[32m'G217_SQ_PN36'\u001b[0m: \u001b[1;36m8\u001b[0m\n",
      "    \u001b[1m}\u001b[0m,\n",
      "    \u001b[32m'Decimals'\u001b[0m: \u001b[1m{\u001b[0m\n",
      "        \u001b[32m'G214_PQ_PN36'\u001b[0m: \u001b[1;36m0\u001b[0m,\n",
      "        \u001b[32m'G214_SQ_PN36'\u001b[0m: \u001b[1;36m0\u001b[0m,\n",
      "        \u001b[32m'G217_PQ_PN36'\u001b[0m: \u001b[1;36m0\u001b[0m,\n",
      "        \u001b[32m'G217_SQ_PN36'\u001b[0m: \u001b[1;36m0\u001b[0m\n",
      "    \u001b[1m}\u001b[0m,\n",
      "    \u001b[32m'Variable Type'\u001b[0m: \u001b[1m{\u001b[0m\n",
      "        \u001b[32m'G214_PQ_PN36'\u001b[0m: \u001b[32m'scale'\u001b[0m,\n",
      "        \u001b[32m'G214_SQ_PN36'\u001b[0m: \u001b[32m'scale'\u001b[0m,\n",
      "        \u001b[32m'G217_PQ_PN36'\u001b[0m: \u001b[32m'scale'\u001b[0m,\n",
      "        \u001b[32m'G217_SQ_PN36'\u001b[0m: \u001b[32m'scale'\u001b[0m\n",
      "    \u001b[1m}\u001b[0m,\n",
      "    \u001b[32m'Field Values'\u001b[0m: \u001b[1m{\u001b[0m\n",
      "        \u001b[32m'G214_PQ_PN36'\u001b[0m: \u001b[1m{\u001b[0m\n",
      "            \u001b[1;36m0.0\u001b[0m: \u001b[32m'No'\u001b[0m,\n",
      "            \u001b[1;36m1.0\u001b[0m: \u001b[32m'Yes'\u001b[0m,\n",
      "            \u001b[1;36m8.0\u001b[0m: \u001b[32m'Not applicable'\u001b[0m,\n",
      "            \u001b[1;36m9.0\u001b[0m: \u001b[32m'Not stated'\u001b[0m\n",
      "        \u001b[1m}\u001b[0m,\n",
      "        \u001b[32m'G214_SQ_PN36'\u001b[0m: \u001b[1m{\u001b[0m\n",
      "            \u001b[1;36m0.0\u001b[0m: \u001b[32m'No'\u001b[0m,\n",
      "            \u001b[1;36m1.0\u001b[0m: \u001b[32m'Yes'\u001b[0m,\n",
      "            \u001b[1;36m8.0\u001b[0m: \u001b[32m'Not applicable'\u001b[0m,\n",
      "            \u001b[1;36m9.0\u001b[0m: \u001b[32m'Not stated'\u001b[0m\n",
      "        \u001b[1m}\u001b[0m,\n",
      "        \u001b[32m'G217_PQ_PN36'\u001b[0m: \u001b[1m{\u001b[0m\n",
      "            \u001b[1;36m0.0\u001b[0m: \u001b[32m'No'\u001b[0m,\n",
      "            \u001b[1;36m1.0\u001b[0m: \u001b[32m'Yes'\u001b[0m,\n",
      "            \u001b[1;36m7.0\u001b[0m: \u001b[32m'Involved in incorrect skip - not answered'\u001b[0m,\n",
      "            \u001b[1;36m9.0\u001b[0m: \u001b[32m'Not stated'\u001b[0m\n",
      "        \u001b[1m}\u001b[0m,\n",
      "        \u001b[32m'G217_SQ_PN36'\u001b[0m: \u001b[1m{\u001b[0m\u001b[1;36m0.0\u001b[0m: \u001b[32m'No'\u001b[0m, \u001b[1;36m1.0\u001b[0m: \u001b[32m'Yes'\u001b[0m, \u001b[1;36m9.0\u001b[0m: \u001b[32m'Not stated'\u001b[0m\u001b[1m}\u001b[0m\n",
      "    \u001b[1m}\u001b[0m\n",
      "\u001b[1m}\u001b[0m\u001b[1m)\u001b[0m\n"
     ]
    }
   ],
   "source": [
    "rprint(m)"
   ]
  },
  {
   "cell_type": "code",
   "execution_count": null,
   "metadata": {},
   "outputs": [
    {
     "name": "stdout",
     "output_type": "stream",
     "text": [
      "\u001b[1m{\u001b[0m\n",
      "    \u001b[32m'G214_PQ_PN36'\u001b[0m: \u001b[1m{\u001b[0m\n",
      "        \u001b[1;36m0.0\u001b[0m: \u001b[32m'No'\u001b[0m,\n",
      "        \u001b[1;36m1.0\u001b[0m: \u001b[32m'Yes'\u001b[0m,\n",
      "        \u001b[1;36m8.0\u001b[0m: \u001b[32m'Not applicable'\u001b[0m,\n",
      "        \u001b[1;36m9.0\u001b[0m: \u001b[32m'Not stated'\u001b[0m\n",
      "    \u001b[1m}\u001b[0m,\n",
      "    \u001b[32m'G214_SQ_PN36'\u001b[0m: \u001b[1m{\u001b[0m\n",
      "        \u001b[1;36m0.0\u001b[0m: \u001b[32m'No'\u001b[0m,\n",
      "        \u001b[1;36m1.0\u001b[0m: \u001b[32m'Yes'\u001b[0m,\n",
      "        \u001b[1;36m8.0\u001b[0m: \u001b[32m'Not applicable'\u001b[0m,\n",
      "        \u001b[1;36m9.0\u001b[0m: \u001b[32m'Not stated'\u001b[0m\n",
      "    \u001b[1m}\u001b[0m,\n",
      "    \u001b[32m'G217_PQ_PN36'\u001b[0m: \u001b[1m{\u001b[0m\n",
      "        \u001b[1;36m0.0\u001b[0m: \u001b[32m'No'\u001b[0m,\n",
      "        \u001b[1;36m1.0\u001b[0m: \u001b[32m'Yes'\u001b[0m,\n",
      "        \u001b[1;36m7.0\u001b[0m: \u001b[32m'Involved in incorrect skip - not answered'\u001b[0m,\n",
      "        \u001b[1;36m9.0\u001b[0m: \u001b[32m'Not stated'\u001b[0m\n",
      "    \u001b[1m}\u001b[0m,\n",
      "    \u001b[32m'G217_SQ_PN36'\u001b[0m: \u001b[1m{\u001b[0m\u001b[1;36m0.0\u001b[0m: \u001b[32m'No'\u001b[0m, \u001b[1;36m1.0\u001b[0m: \u001b[32m'Yes'\u001b[0m, \u001b[1;36m9.0\u001b[0m: \u001b[32m'Not stated'\u001b[0m\u001b[1m}\u001b[0m\n",
      "\u001b[1m}\u001b[0m\n"
     ]
    }
   ],
   "source": [
    "rprint(m[\"Field Values\"])"
   ]
  },
  {
   "cell_type": "code",
   "execution_count": null,
   "metadata": {},
   "outputs": [
    {
     "name": "stderr",
     "output_type": "stream",
     "text": [
      "\u001b[31m┌─\u001b[0m\u001b[31m────────────────────\u001b[0m\u001b[31m \u001b[0m\u001b[1;31mTraceback \u001b[0m\u001b[1;2;31m(most recent call last)\u001b[0m\u001b[31m \u001b[0m\u001b[31m────────────────────\u001b[0m\u001b[31m─┐\u001b[0m\n",
      "\u001b[31m│\u001b[0m in \u001b[92m<module>\u001b[0m:\u001b[94m1\u001b[0m                                                               \u001b[31m│\u001b[0m\n",
      "\u001b[31m│\u001b[0m                                                                             \u001b[31m│\u001b[0m\n",
      "\u001b[31m│\u001b[0m \u001b[31m> \u001b[0m1 PN36 = Metadata(                                                        \u001b[31m│\u001b[0m\n",
      "\u001b[31m│\u001b[0m   \u001b[2m2 \u001b[0m\u001b[2m│   \u001b[0mlabel= \u001b[33m\"\u001b[0m\u001b[33mPain interfered with normal activities\u001b[0m\u001b[33m\"\u001b[0m,                    \u001b[31m│\u001b[0m\n",
      "\u001b[31m│\u001b[0m   \u001b[2m3 \u001b[0m\u001b[2m│   \u001b[0mfield_values = {-\u001b[94m88\u001b[0m: \u001b[33m\"\u001b[0m\u001b[33mN/A\u001b[0m\u001b[33m\"\u001b[0m, -\u001b[94m99\u001b[0m: \u001b[33m\"\u001b[0m\u001b[33mMissing\u001b[0m\u001b[33m\"\u001b[0m, \u001b[94m0\u001b[0m: \u001b[33m\"\u001b[0m\u001b[33mNo\u001b[0m\u001b[33m\"\u001b[0m, \u001b[94m1\u001b[0m: \u001b[33m\"\u001b[0m\u001b[33mYes\u001b[0m\u001b[33m\"\u001b[0m},     \u001b[31m│\u001b[0m\n",
      "\u001b[31m│\u001b[0m   \u001b[2m4 \u001b[0m\u001b[2m│   \u001b[0mfield_type = \u001b[33m\"\u001b[0m\u001b[33mNumeric\u001b[0m\u001b[33m\"\u001b[0m,                                             \u001b[31m│\u001b[0m\n",
      "\u001b[31m│\u001b[0m                                                                             \u001b[31m│\u001b[0m\n",
      "\u001b[31m│\u001b[0m \u001b[33mC:\\Users\\00113294\\Anaconda3\\envs\\my_env\\Lib\\site-packages\\pydantic\\_interna\u001b[0m \u001b[31m│\u001b[0m\n",
      "\u001b[31m│\u001b[0m \u001b[33ml\\_dataclasses.py\u001b[0m:\u001b[94m141\u001b[0m in \u001b[92m__init__\u001b[0m                                           \u001b[31m│\u001b[0m\n",
      "\u001b[31m│\u001b[0m                                                                             \u001b[31m│\u001b[0m\n",
      "\u001b[31m│\u001b[0m   \u001b[2m138 \u001b[0m\u001b[2m│   \u001b[0m\u001b[94mdef\u001b[0m\u001b[90m \u001b[0m\u001b[92m__init__\u001b[0m(__dataclass_self__: PydanticDataclass, *args: Any, * \u001b[31m│\u001b[0m\n",
      "\u001b[31m│\u001b[0m   \u001b[2m139 \u001b[0m\u001b[2m│   │   \u001b[0m__tracebackhide__ = \u001b[94mTrue\u001b[0m                                      \u001b[31m│\u001b[0m\n",
      "\u001b[31m│\u001b[0m   \u001b[2m140 \u001b[0m\u001b[2m│   │   \u001b[0ms = __dataclass_self__                                        \u001b[31m│\u001b[0m\n",
      "\u001b[31m│\u001b[0m \u001b[31m> \u001b[0m141 \u001b[2m│   │   \u001b[0m\u001b[1;4ms.__pydantic_validator__.validate_python(ArgsKwargs(args, kwa\u001b[0m \u001b[31m│\u001b[0m\n",
      "\u001b[31m│\u001b[0m   \u001b[2m142 \u001b[0m\u001b[2m│   \u001b[0m                                                                  \u001b[31m│\u001b[0m\n",
      "\u001b[31m│\u001b[0m   \u001b[2m143 \u001b[0m\u001b[2m│   \u001b[0m\u001b[92m__init__\u001b[0m.\u001b[91m__qualname__\u001b[0m = \u001b[33mf\u001b[0m\u001b[33m'\u001b[0m\u001b[33m{\u001b[0m\u001b[96mcls\u001b[0m.\u001b[91m__qualname__\u001b[0m\u001b[33m}\u001b[0m\u001b[33m.__init__\u001b[0m\u001b[33m'\u001b[0m            \u001b[31m│\u001b[0m\n",
      "\u001b[31m│\u001b[0m   \u001b[2m144 \u001b[0m                                                                      \u001b[31m│\u001b[0m\n",
      "\u001b[31m└─────────────────────────────────────────────────────────────────────────────┘\u001b[0m\n",
      "\u001b[1;91mValidationError: \u001b[0m\u001b[1;36m1\u001b[0m validation error for Metadata\n",
      "variable_basename\n",
      "  Field required \u001b[1m[\u001b[0m\u001b[33mtype\u001b[0m=\u001b[35mmissing\u001b[0m, \u001b[33minput_value\u001b[0m=\u001b[1;35mArgsKwargs\u001b[0m\u001b[1m(\u001b[0m\u001b[1m(\u001b[0m\u001b[1m)\u001b[0m, \u001b[1m{\u001b[0m\u001b[32m'label'\u001b[0m: \n",
      "\u001b[33m...\u001b[0miable_type': \u001b[32m'Nominal'\u001b[0m\u001b[1m}\u001b[0m\u001b[1m)\u001b[0m, \u001b[33minput_type\u001b[0m=\u001b[35mArgsKwargs\u001b[0m\u001b[1m]\u001b[0m\n",
      "    For further information visit \u001b[4;94mhttps://errors.pydantic.dev/2.8/v/missing\u001b[0m\n"
     ]
    }
   ],
   "source": [
    "PN36 = Metadata(\n",
    "    label= \"Pain interfered with normal activities\",\n",
    "    field_values = {-88: \"N/A\", -99: \"Missing\", 0: \"No\", 1: \"Yes\"},\n",
    "    field_type = \"Numeric\",\n",
    "    field_width = 3,\n",
    "    decimals =  0,\n",
    "    variable_type = \"Nominal\"\n",
    ")"
   ]
  },
  {
   "cell_type": "markdown",
   "metadata": {},
   "source": [
    "## PN9"
   ]
  },
  {
   "cell_type": "code",
   "execution_count": null,
   "metadata": {},
   "outputs": [],
   "source": [
    "var = \"PN9\""
   ]
  },
  {
   "cell_type": "markdown",
   "metadata": {},
   "source": [
    "### Data"
   ]
  },
  {
   "cell_type": "markdown",
   "metadata": {},
   "source": [
    "Some of the existing options are the same across all datasets:\n",
    "- 0: No\n",
    "- 1: Yes\n",
    "- 9: Missing\n",
    "\n",
    "For G217_PQ:\n",
    "- 7: Involved in incorrect skip - not answered\n",
    "\n",
    "Values of 7 should be considered missing, as discussed with Alex D'Vauz.\n",
    "\n",
    "Changes:\n",
    "- Convert 9 to -99\n",
    "- Convert 7 to -99"
   ]
  },
  {
   "cell_type": "code",
   "execution_count": null,
   "metadata": {},
   "outputs": [
    {
     "name": "stdout",
     "output_type": "stream",
     "text": [
      "\u001b[1m{\u001b[0m\n",
      "    \u001b[32m'G217_PQ_PN9'\u001b[0m: \u001b[1m(\u001b[0m\u001b[3;35mNone\u001b[0m, \u001b[1;36m0.0\u001b[0m, \u001b[1;36m1.0\u001b[0m, \u001b[1;36m7.0\u001b[0m, \u001b[1;36m9.0\u001b[0m\u001b[1m)\u001b[0m,\n",
      "    \u001b[32m'G217_SQ_PN9'\u001b[0m: \u001b[1m(\u001b[0m\u001b[3;35mNone\u001b[0m, \u001b[1;36m0.0\u001b[0m, \u001b[1;36m1.0\u001b[0m, \u001b[1;36m9.0\u001b[0m\u001b[1m)\u001b[0m\n",
      "\u001b[1m}\u001b[0m\n"
     ]
    }
   ],
   "source": [
    "unique_vals = unique_values(df, var)\n",
    "rprint(unique_vals)"
   ]
  },
  {
   "cell_type": "code",
   "execution_count": null,
   "metadata": {},
   "outputs": [
    {
     "data": {
      "text/plain": [
       "\u001b[1m{\u001b[0m\u001b[1;36m0.0\u001b[0m, \u001b[1;36m1.0\u001b[0m, \u001b[1;36m7.0\u001b[0m, \u001b[1;36m9.0\u001b[0m\u001b[1m}\u001b[0m"
      ]
     },
     "execution_count": null,
     "metadata": {},
     "output_type": "execute_result"
    }
   ],
   "source": [
    "# Note the unique values for PN9 across all datasets combined\n",
    "value_options = set()\n",
    "for values in unique_vals.values(): \n",
    "    value_options.update(values)\n",
    "value_options.discard(None)\n",
    "value_options"
   ]
  },
  {
   "cell_type": "markdown",
   "metadata": {},
   "source": [
    "#### Define properties to test, validate, and explore\n",
    "\n",
    "PN9 is an independent variable, and as such, has no key properties to test."
   ]
  },
  {
   "cell_type": "code",
   "execution_count": null,
   "metadata": {},
   "outputs": [],
   "source": [
    "test = df.clone().collect()"
   ]
  },
  {
   "cell_type": "markdown",
   "metadata": {},
   "source": [
    "### Metadata"
   ]
  },
  {
   "cell_type": "markdown",
   "metadata": {},
   "source": [
    "Clear discrepancies in labels and field values.\n",
    "\n",
    "Changes:\n",
    "- Harmonised label to \"Ever had neck/shoulder pain\"\n",
    "- Updated field values to reflect changes in data"
   ]
  },
  {
   "cell_type": "code",
   "execution_count": null,
   "metadata": {},
   "outputs": [],
   "source": [
    "m = filter_metadata(var, df, meta)"
   ]
  },
  {
   "cell_type": "code",
   "execution_count": null,
   "metadata": {},
   "outputs": [
    {
     "name": "stdout",
     "output_type": "stream",
     "text": [
      "\u001b[1;35mdefaultdict\u001b[0m\u001b[1m(\u001b[0m\u001b[1m<\u001b[0m\u001b[1;95mclass\u001b[0m\u001b[39m \u001b[0m\u001b[32m'dict'\u001b[0m\u001b[1m>\u001b[0m, \u001b[1m{\u001b[0m\n",
      "    \u001b[32m'Label'\u001b[0m: \u001b[1m{\u001b[0m\n",
      "        \u001b[32m'G217_PQ_PN9'\u001b[0m: \u001b[32m'Ever had neck/shoulder pain'\u001b[0m,\n",
      "        \u001b[32m'G217_SQ_PN9'\u001b[0m: \u001b[32m'Ever had neck/shoulder pain?'\u001b[0m\n",
      "    \u001b[1m}\u001b[0m,\n",
      "    \u001b[32m'Field Type'\u001b[0m: \u001b[1m{\u001b[0m\u001b[32m'G217_PQ_PN9'\u001b[0m: \u001b[32m'Numeric'\u001b[0m, \u001b[32m'G217_SQ_PN9'\u001b[0m: \u001b[32m'Numeric'\u001b[0m\u001b[1m}\u001b[0m,\n",
      "    \u001b[32m'Field Width'\u001b[0m: \u001b[1m{\u001b[0m\u001b[32m'G217_PQ_PN9'\u001b[0m: \u001b[1;36m8\u001b[0m, \u001b[32m'G217_SQ_PN9'\u001b[0m: \u001b[1;36m8\u001b[0m\u001b[1m}\u001b[0m,\n",
      "    \u001b[32m'Decimals'\u001b[0m: \u001b[1m{\u001b[0m\u001b[32m'G217_PQ_PN9'\u001b[0m: \u001b[1;36m0\u001b[0m, \u001b[32m'G217_SQ_PN9'\u001b[0m: \u001b[1;36m0\u001b[0m\u001b[1m}\u001b[0m,\n",
      "    \u001b[32m'Variable Type'\u001b[0m: \u001b[1m{\u001b[0m\u001b[32m'G217_PQ_PN9'\u001b[0m: \u001b[32m'scale'\u001b[0m, \u001b[32m'G217_SQ_PN9'\u001b[0m: \u001b[32m'scale'\u001b[0m\u001b[1m}\u001b[0m,\n",
      "    \u001b[32m'Field Values'\u001b[0m: \u001b[1m{\u001b[0m\n",
      "        \u001b[32m'G217_PQ_PN9'\u001b[0m: \u001b[1m{\u001b[0m\n",
      "            \u001b[1;36m0.0\u001b[0m: \u001b[32m'No'\u001b[0m,\n",
      "            \u001b[1;36m1.0\u001b[0m: \u001b[32m'Yes'\u001b[0m,\n",
      "            \u001b[1;36m7.0\u001b[0m: \u001b[32m'Involved in incorrect skip - not answered'\u001b[0m,\n",
      "            \u001b[1;36m9.0\u001b[0m: \u001b[32m'Not stated'\u001b[0m\n",
      "        \u001b[1m}\u001b[0m,\n",
      "        \u001b[32m'G217_SQ_PN9'\u001b[0m: \u001b[1m{\u001b[0m\u001b[1;36m0.0\u001b[0m: \u001b[32m'No'\u001b[0m, \u001b[1;36m1.0\u001b[0m: \u001b[32m'Yes'\u001b[0m, \u001b[1;36m9.0\u001b[0m: \u001b[32m'Not stated'\u001b[0m\u001b[1m}\u001b[0m\n",
      "    \u001b[1m}\u001b[0m\n",
      "\u001b[1m}\u001b[0m\u001b[1m)\u001b[0m\n"
     ]
    }
   ],
   "source": [
    "rprint(m)"
   ]
  },
  {
   "cell_type": "code",
   "execution_count": null,
   "metadata": {},
   "outputs": [
    {
     "name": "stdout",
     "output_type": "stream",
     "text": [
      "\u001b[1m{\u001b[0m\n",
      "    \u001b[32m'G217_PQ_PN9'\u001b[0m: \u001b[1m{\u001b[0m\n",
      "        \u001b[1;36m0.0\u001b[0m: \u001b[32m'No'\u001b[0m,\n",
      "        \u001b[1;36m1.0\u001b[0m: \u001b[32m'Yes'\u001b[0m,\n",
      "        \u001b[1;36m7.0\u001b[0m: \u001b[32m'Involved in incorrect skip - not answered'\u001b[0m,\n",
      "        \u001b[1;36m9.0\u001b[0m: \u001b[32m'Not stated'\u001b[0m\n",
      "    \u001b[1m}\u001b[0m,\n",
      "    \u001b[32m'G217_SQ_PN9'\u001b[0m: \u001b[1m{\u001b[0m\u001b[1;36m0.0\u001b[0m: \u001b[32m'No'\u001b[0m, \u001b[1;36m1.0\u001b[0m: \u001b[32m'Yes'\u001b[0m, \u001b[1;36m9.0\u001b[0m: \u001b[32m'Not stated'\u001b[0m\u001b[1m}\u001b[0m\n",
      "\u001b[1m}\u001b[0m\n"
     ]
    }
   ],
   "source": [
    "rprint(m[\"Field Values\"])"
   ]
  },
  {
   "cell_type": "code",
   "execution_count": null,
   "metadata": {},
   "outputs": [
    {
     "name": "stderr",
     "output_type": "stream",
     "text": [
      "\u001b[31m┌─\u001b[0m\u001b[31m────────────────────\u001b[0m\u001b[31m \u001b[0m\u001b[1;31mTraceback \u001b[0m\u001b[1;2;31m(most recent call last)\u001b[0m\u001b[31m \u001b[0m\u001b[31m────────────────────\u001b[0m\u001b[31m─┐\u001b[0m\n",
      "\u001b[31m│\u001b[0m in \u001b[92m<module>\u001b[0m:\u001b[94m1\u001b[0m                                                               \u001b[31m│\u001b[0m\n",
      "\u001b[31m│\u001b[0m                                                                             \u001b[31m│\u001b[0m\n",
      "\u001b[31m│\u001b[0m \u001b[31m> \u001b[0m1 PN9 = Metadata(                                                         \u001b[31m│\u001b[0m\n",
      "\u001b[31m│\u001b[0m   \u001b[2m2 \u001b[0m\u001b[2m│   \u001b[0mlabel= \u001b[33m\"\u001b[0m\u001b[33mEver had neck/shoulder pain\u001b[0m\u001b[33m\"\u001b[0m,                               \u001b[31m│\u001b[0m\n",
      "\u001b[31m│\u001b[0m   \u001b[2m3 \u001b[0m\u001b[2m│   \u001b[0mfield_values = {-\u001b[94m99\u001b[0m: \u001b[33m\"\u001b[0m\u001b[33mMissing\u001b[0m\u001b[33m\"\u001b[0m, \u001b[94m0\u001b[0m: \u001b[33m\"\u001b[0m\u001b[33mNo\u001b[0m\u001b[33m\"\u001b[0m, \u001b[94m1\u001b[0m: \u001b[33m\"\u001b[0m\u001b[33mYes\u001b[0m\u001b[33m\"\u001b[0m},                 \u001b[31m│\u001b[0m\n",
      "\u001b[31m│\u001b[0m   \u001b[2m4 \u001b[0m\u001b[2m│   \u001b[0mfield_type = \u001b[33m\"\u001b[0m\u001b[33mNumeric\u001b[0m\u001b[33m\"\u001b[0m,                                             \u001b[31m│\u001b[0m\n",
      "\u001b[31m│\u001b[0m                                                                             \u001b[31m│\u001b[0m\n",
      "\u001b[31m│\u001b[0m \u001b[33mC:\\Users\\00113294\\Anaconda3\\envs\\my_env\\Lib\\site-packages\\pydantic\\_interna\u001b[0m \u001b[31m│\u001b[0m\n",
      "\u001b[31m│\u001b[0m \u001b[33ml\\_dataclasses.py\u001b[0m:\u001b[94m141\u001b[0m in \u001b[92m__init__\u001b[0m                                           \u001b[31m│\u001b[0m\n",
      "\u001b[31m│\u001b[0m                                                                             \u001b[31m│\u001b[0m\n",
      "\u001b[31m│\u001b[0m   \u001b[2m138 \u001b[0m\u001b[2m│   \u001b[0m\u001b[94mdef\u001b[0m\u001b[90m \u001b[0m\u001b[92m__init__\u001b[0m(__dataclass_self__: PydanticDataclass, *args: Any, * \u001b[31m│\u001b[0m\n",
      "\u001b[31m│\u001b[0m   \u001b[2m139 \u001b[0m\u001b[2m│   │   \u001b[0m__tracebackhide__ = \u001b[94mTrue\u001b[0m                                      \u001b[31m│\u001b[0m\n",
      "\u001b[31m│\u001b[0m   \u001b[2m140 \u001b[0m\u001b[2m│   │   \u001b[0ms = __dataclass_self__                                        \u001b[31m│\u001b[0m\n",
      "\u001b[31m│\u001b[0m \u001b[31m> \u001b[0m141 \u001b[2m│   │   \u001b[0m\u001b[1;4ms.__pydantic_validator__.validate_python(ArgsKwargs(args, kwa\u001b[0m \u001b[31m│\u001b[0m\n",
      "\u001b[31m│\u001b[0m   \u001b[2m142 \u001b[0m\u001b[2m│   \u001b[0m                                                                  \u001b[31m│\u001b[0m\n",
      "\u001b[31m│\u001b[0m   \u001b[2m143 \u001b[0m\u001b[2m│   \u001b[0m\u001b[92m__init__\u001b[0m.\u001b[91m__qualname__\u001b[0m = \u001b[33mf\u001b[0m\u001b[33m'\u001b[0m\u001b[33m{\u001b[0m\u001b[96mcls\u001b[0m.\u001b[91m__qualname__\u001b[0m\u001b[33m}\u001b[0m\u001b[33m.__init__\u001b[0m\u001b[33m'\u001b[0m            \u001b[31m│\u001b[0m\n",
      "\u001b[31m│\u001b[0m   \u001b[2m144 \u001b[0m                                                                      \u001b[31m│\u001b[0m\n",
      "\u001b[31m└─────────────────────────────────────────────────────────────────────────────┘\u001b[0m\n",
      "\u001b[1;91mValidationError: \u001b[0m\u001b[1;36m1\u001b[0m validation error for Metadata\n",
      "variable_basename\n",
      "  Field required \u001b[1m[\u001b[0m\u001b[33mtype\u001b[0m=\u001b[35mmissing\u001b[0m, \u001b[33minput_value\u001b[0m=\u001b[1;35mArgsKwargs\u001b[0m\u001b[1m(\u001b[0m\u001b[1m(\u001b[0m\u001b[1m)\u001b[0m, \u001b[1m{\u001b[0m\u001b[32m'label'\u001b[0m: \n",
      "\u001b[33m...\u001b[0miable_type': \u001b[32m'Nominal'\u001b[0m\u001b[1m}\u001b[0m\u001b[1m)\u001b[0m, \u001b[33minput_type\u001b[0m=\u001b[35mArgsKwargs\u001b[0m\u001b[1m]\u001b[0m\n",
      "    For further information visit \u001b[4;94mhttps://errors.pydantic.dev/2.8/v/missing\u001b[0m\n"
     ]
    }
   ],
   "source": [
    "PN9 = Metadata(\n",
    "    label= \"Ever had neck/shoulder pain\",\n",
    "    field_values = {-99: \"Missing\", 0: \"No\", 1: \"Yes\"},\n",
    "    field_type = \"Numeric\",\n",
    "    field_width = 3,\n",
    "    decimals =  0,\n",
    "    variable_type = \"Nominal\"\n",
    ")"
   ]
  },
  {
   "cell_type": "markdown",
   "metadata": {},
   "source": [
    "## PN38"
   ]
  },
  {
   "cell_type": "code",
   "execution_count": null,
   "metadata": {},
   "outputs": [],
   "source": [
    "var = \"PN38\""
   ]
  },
  {
   "cell_type": "markdown",
   "metadata": {},
   "source": [
    "### Data"
   ]
  },
  {
   "cell_type": "markdown",
   "metadata": {},
   "source": [
    "Some of the existing options are the same across all datasets:\n",
    "- 0: No\n",
    "- 1: Yes\n",
    "- 9: Missing\n",
    "\n",
    "For G217_PQ:\n",
    "- 7: Involved in incorrect skip - not answered\n",
    "\n",
    "Values of 7 should be considered missing, as discussed with Alex D'Vauz.\n",
    "\n",
    "Changes:\n",
    "- Convert 9 to -99\n",
    "- Convert 7 to -99"
   ]
  },
  {
   "cell_type": "code",
   "execution_count": null,
   "metadata": {},
   "outputs": [
    {
     "name": "stdout",
     "output_type": "stream",
     "text": [
      "\u001b[1m{\u001b[0m\n",
      "    \u001b[32m'G217_PQ_PN38'\u001b[0m: \u001b[1m(\u001b[0m\u001b[3;35mNone\u001b[0m, \u001b[1;36m0.0\u001b[0m, \u001b[1;36m1.0\u001b[0m, \u001b[1;36m7.0\u001b[0m, \u001b[1;36m9.0\u001b[0m\u001b[1m)\u001b[0m,\n",
      "    \u001b[32m'G217_SQ_PN38'\u001b[0m: \u001b[1m(\u001b[0m\u001b[3;35mNone\u001b[0m, \u001b[1;36m0.0\u001b[0m, \u001b[1;36m1.0\u001b[0m, \u001b[1;36m9.0\u001b[0m\u001b[1m)\u001b[0m\n",
      "\u001b[1m}\u001b[0m\n"
     ]
    }
   ],
   "source": [
    "unique_vals = unique_values(df, var)\n",
    "rprint(unique_vals)"
   ]
  },
  {
   "cell_type": "code",
   "execution_count": null,
   "metadata": {},
   "outputs": [
    {
     "data": {
      "text/plain": [
       "\u001b[1m{\u001b[0m\u001b[1;36m0.0\u001b[0m, \u001b[1;36m1.0\u001b[0m, \u001b[1;36m7.0\u001b[0m, \u001b[1;36m9.0\u001b[0m\u001b[1m}\u001b[0m"
      ]
     },
     "execution_count": null,
     "metadata": {},
     "output_type": "execute_result"
    }
   ],
   "source": [
    "# Note the unique values for PN34 across all datasets combined\n",
    "value_options = set()\n",
    "for values in unique_vals.values(): \n",
    "    value_options.update(values)\n",
    "value_options.discard(None)\n",
    "value_options"
   ]
  },
  {
   "cell_type": "markdown",
   "metadata": {},
   "source": [
    "#### Define properties to test, validate, and explore\n",
    "\n",
    "Given PN38 asks \"have you ever had lower back pain\", one would assume it's a subset of PN17 (\"have you ever had back pain\").\n",
    "Therefore, one would expect when PN17 is 0 (No), PN38 would be 8 (N/A).\n",
    "Likewise, when PN17 is 9 (Missing), PN38 would likely (but not necessarily) also be 9."
   ]
  },
  {
   "cell_type": "code",
   "execution_count": null,
   "metadata": {},
   "outputs": [],
   "source": [
    "test = df.clone().collect()"
   ]
  },
  {
   "cell_type": "code",
   "execution_count": null,
   "metadata": {},
   "outputs": [
    {
     "data": {
      "text/html": [
       "<div><style>\n",
       ".dataframe > thead > tr,\n",
       ".dataframe > tbody > tr {\n",
       "  text-align: right;\n",
       "  white-space: pre-wrap;\n",
       "}\n",
       "</style>\n",
       "<small>shape: (4, 1)</small><table border=\"1\" class=\"dataframe\"><thead><tr><th>G217_PQ_PN38</th></tr><tr><td>struct[2]</td></tr></thead><tbody><tr><td>{0.0,254}</td></tr><tr><td>{1.0,63}</td></tr><tr><td>{7.0,12}</td></tr><tr><td>{9.0,4}</td></tr></tbody></table></div>"
      ],
      "text/plain": [
       "\n",
       "shape: \u001b[1m(\u001b[0m\u001b[1;36m4\u001b[0m, \u001b[1;36m1\u001b[0m\u001b[1m)\u001b[0m\n",
       "┌──────────────┐\n",
       "│ G217_PQ_PN38 │\n",
       "│ ---          │\n",
       "│ struct\u001b[1m[\u001b[0m\u001b[1;36m2\u001b[0m\u001b[1m]\u001b[0m    │\n",
       "╞══════════════╡\n",
       "│ \u001b[1m{\u001b[0m\u001b[1;36m0.0\u001b[0m,\u001b[1;36m254\u001b[0m\u001b[1m}\u001b[0m    │\n",
       "│ \u001b[1m{\u001b[0m\u001b[1;36m1.0\u001b[0m,\u001b[1;36m63\u001b[0m\u001b[1m}\u001b[0m     │\n",
       "│ \u001b[1m{\u001b[0m\u001b[1;36m7.0\u001b[0m,\u001b[1;36m12\u001b[0m\u001b[1m}\u001b[0m     │\n",
       "│ \u001b[1m{\u001b[0m\u001b[1;36m9.0\u001b[0m,\u001b[1;36m4\u001b[0m\u001b[1m}\u001b[0m      │\n",
       "└──────────────┘"
      ]
     },
     "execution_count": null,
     "metadata": {},
     "output_type": "execute_result"
    }
   ],
   "source": [
    "(\n",
    "    test\n",
    "    .filter(pl.col(\"G217_PQ_PN17\").eq(0))\n",
    "    .select(pl.col(\"G217_PQ_PN38\").value_counts(sort=True))\n",
    ")"
   ]
  },
  {
   "cell_type": "code",
   "execution_count": null,
   "metadata": {},
   "outputs": [
    {
     "data": {
      "text/html": [
       "<div><style>\n",
       ".dataframe > thead > tr,\n",
       ".dataframe > tbody > tr {\n",
       "  text-align: right;\n",
       "  white-space: pre-wrap;\n",
       "}\n",
       "</style>\n",
       "<small>shape: (3, 1)</small><table border=\"1\" class=\"dataframe\"><thead><tr><th>G217_SQ_PN38</th></tr><tr><td>struct[2]</td></tr></thead><tbody><tr><td>{0.0,165}</td></tr><tr><td>{1.0,34}</td></tr><tr><td>{9.0,7}</td></tr></tbody></table></div>"
      ],
      "text/plain": [
       "\n",
       "shape: \u001b[1m(\u001b[0m\u001b[1;36m3\u001b[0m, \u001b[1;36m1\u001b[0m\u001b[1m)\u001b[0m\n",
       "┌──────────────┐\n",
       "│ G217_SQ_PN38 │\n",
       "│ ---          │\n",
       "│ struct\u001b[1m[\u001b[0m\u001b[1;36m2\u001b[0m\u001b[1m]\u001b[0m    │\n",
       "╞══════════════╡\n",
       "│ \u001b[1m{\u001b[0m\u001b[1;36m0.0\u001b[0m,\u001b[1;36m165\u001b[0m\u001b[1m}\u001b[0m    │\n",
       "│ \u001b[1m{\u001b[0m\u001b[1;36m1.0\u001b[0m,\u001b[1;36m34\u001b[0m\u001b[1m}\u001b[0m     │\n",
       "│ \u001b[1m{\u001b[0m\u001b[1;36m9.0\u001b[0m,\u001b[1;36m7\u001b[0m\u001b[1m}\u001b[0m      │\n",
       "└──────────────┘"
      ]
     },
     "execution_count": null,
     "metadata": {},
     "output_type": "execute_result"
    }
   ],
   "source": [
    "(\n",
    "    test\n",
    "    .filter(pl.col(\"G217_SQ_PN17\").eq(0))\n",
    "    .select(pl.col(\"G217_SQ_PN38\").value_counts(sort=True))\n",
    ")"
   ]
  },
  {
   "cell_type": "markdown",
   "metadata": {},
   "source": [
    "It's true when PN17 is missing, PN38 is also missing.\n",
    "However, when PN17 is 0, there are numerous instances where PN38 is 1; it appears the logic somehow differs, such that people have said \"Yes, I have had lower back pain\" after saying \"No, I've never had back pain\".\n",
    "This may be a result of either misunderstanding on the participants part, an error in the data, or perhaps lower back pain in the questionnaire intentionally distinguishing a difference between back pain (perhaps being upper back) versus lower back pain.\n",
    "Without further clarification, no changes to the data will be made, and this distinction can be raised and clarified by the researchers."
   ]
  },
  {
   "cell_type": "markdown",
   "metadata": {},
   "source": [
    "### Metadata"
   ]
  },
  {
   "cell_type": "markdown",
   "metadata": {},
   "source": [
    "Clear discrepancies in labels and field values.\n",
    "\n",
    "Changes:\n",
    "- Harmonised label to \"Ever had low back pain\"\n",
    "- Updated field values to reflect changes in data"
   ]
  },
  {
   "cell_type": "code",
   "execution_count": null,
   "metadata": {},
   "outputs": [],
   "source": [
    "m = filter_metadata(var, df, meta)"
   ]
  },
  {
   "cell_type": "code",
   "execution_count": null,
   "metadata": {},
   "outputs": [
    {
     "name": "stdout",
     "output_type": "stream",
     "text": [
      "\u001b[1;35mdefaultdict\u001b[0m\u001b[1m(\u001b[0m\u001b[1m<\u001b[0m\u001b[1;95mclass\u001b[0m\u001b[39m \u001b[0m\u001b[32m'dict'\u001b[0m\u001b[1m>\u001b[0m, \u001b[1m{\u001b[0m\n",
      "    \u001b[32m'Label'\u001b[0m: \u001b[1m{\u001b[0m\n",
      "        \u001b[32m'G217_PQ_PN38'\u001b[0m: \u001b[32m'Ever had low back pain'\u001b[0m,\n",
      "        \u001b[32m'G217_SQ_PN38'\u001b[0m: \u001b[32m'Ever had low back pain?'\u001b[0m\n",
      "    \u001b[1m}\u001b[0m,\n",
      "    \u001b[32m'Field Type'\u001b[0m: \u001b[1m{\u001b[0m\u001b[32m'G217_PQ_PN38'\u001b[0m: \u001b[32m'Numeric'\u001b[0m, \u001b[32m'G217_SQ_PN38'\u001b[0m: \u001b[32m'Numeric'\u001b[0m\u001b[1m}\u001b[0m,\n",
      "    \u001b[32m'Field Width'\u001b[0m: \u001b[1m{\u001b[0m\u001b[32m'G217_PQ_PN38'\u001b[0m: \u001b[1;36m8\u001b[0m, \u001b[32m'G217_SQ_PN38'\u001b[0m: \u001b[1;36m8\u001b[0m\u001b[1m}\u001b[0m,\n",
      "    \u001b[32m'Decimals'\u001b[0m: \u001b[1m{\u001b[0m\u001b[32m'G217_PQ_PN38'\u001b[0m: \u001b[1;36m0\u001b[0m, \u001b[32m'G217_SQ_PN38'\u001b[0m: \u001b[1;36m0\u001b[0m\u001b[1m}\u001b[0m,\n",
      "    \u001b[32m'Variable Type'\u001b[0m: \u001b[1m{\u001b[0m\u001b[32m'G217_PQ_PN38'\u001b[0m: \u001b[32m'scale'\u001b[0m, \u001b[32m'G217_SQ_PN38'\u001b[0m: \u001b[32m'scale'\u001b[0m\u001b[1m}\u001b[0m,\n",
      "    \u001b[32m'Field Values'\u001b[0m: \u001b[1m{\u001b[0m\n",
      "        \u001b[32m'G217_PQ_PN38'\u001b[0m: \u001b[1m{\u001b[0m\n",
      "            \u001b[1;36m0.0\u001b[0m: \u001b[32m'No'\u001b[0m,\n",
      "            \u001b[1;36m1.0\u001b[0m: \u001b[32m'Yes'\u001b[0m,\n",
      "            \u001b[1;36m7.0\u001b[0m: \u001b[32m'Involved in incorrect skip - not answered'\u001b[0m,\n",
      "            \u001b[1;36m9.0\u001b[0m: \u001b[32m'Not stated'\u001b[0m\n",
      "        \u001b[1m}\u001b[0m,\n",
      "        \u001b[32m'G217_SQ_PN38'\u001b[0m: \u001b[1m{\u001b[0m\u001b[1;36m0.0\u001b[0m: \u001b[32m'No'\u001b[0m, \u001b[1;36m1.0\u001b[0m: \u001b[32m'Yes'\u001b[0m, \u001b[1;36m9.0\u001b[0m: \u001b[32m'Not stated'\u001b[0m\u001b[1m}\u001b[0m\n",
      "    \u001b[1m}\u001b[0m\n",
      "\u001b[1m}\u001b[0m\u001b[1m)\u001b[0m\n"
     ]
    }
   ],
   "source": [
    "rprint(m)"
   ]
  },
  {
   "cell_type": "code",
   "execution_count": null,
   "metadata": {},
   "outputs": [
    {
     "name": "stdout",
     "output_type": "stream",
     "text": [
      "\u001b[1m{\u001b[0m\n",
      "    \u001b[32m'G217_PQ_PN38'\u001b[0m: \u001b[1m{\u001b[0m\n",
      "        \u001b[1;36m0.0\u001b[0m: \u001b[32m'No'\u001b[0m,\n",
      "        \u001b[1;36m1.0\u001b[0m: \u001b[32m'Yes'\u001b[0m,\n",
      "        \u001b[1;36m7.0\u001b[0m: \u001b[32m'Involved in incorrect skip - not answered'\u001b[0m,\n",
      "        \u001b[1;36m9.0\u001b[0m: \u001b[32m'Not stated'\u001b[0m\n",
      "    \u001b[1m}\u001b[0m,\n",
      "    \u001b[32m'G217_SQ_PN38'\u001b[0m: \u001b[1m{\u001b[0m\u001b[1;36m0.0\u001b[0m: \u001b[32m'No'\u001b[0m, \u001b[1;36m1.0\u001b[0m: \u001b[32m'Yes'\u001b[0m, \u001b[1;36m9.0\u001b[0m: \u001b[32m'Not stated'\u001b[0m\u001b[1m}\u001b[0m\n",
      "\u001b[1m}\u001b[0m\n"
     ]
    }
   ],
   "source": [
    "rprint(m[\"Field Values\"])"
   ]
  },
  {
   "cell_type": "code",
   "execution_count": null,
   "metadata": {},
   "outputs": [
    {
     "name": "stderr",
     "output_type": "stream",
     "text": [
      "\u001b[31m┌─\u001b[0m\u001b[31m────────────────────\u001b[0m\u001b[31m \u001b[0m\u001b[1;31mTraceback \u001b[0m\u001b[1;2;31m(most recent call last)\u001b[0m\u001b[31m \u001b[0m\u001b[31m────────────────────\u001b[0m\u001b[31m─┐\u001b[0m\n",
      "\u001b[31m│\u001b[0m in \u001b[92m<module>\u001b[0m:\u001b[94m1\u001b[0m                                                               \u001b[31m│\u001b[0m\n",
      "\u001b[31m│\u001b[0m                                                                             \u001b[31m│\u001b[0m\n",
      "\u001b[31m│\u001b[0m \u001b[31m> \u001b[0m1 PN38 = Metadata(                                                        \u001b[31m│\u001b[0m\n",
      "\u001b[31m│\u001b[0m   \u001b[2m2 \u001b[0m\u001b[2m│   \u001b[0mlabel= \u001b[33m\"\u001b[0m\u001b[33mEver had low back pain\u001b[0m\u001b[33m\"\u001b[0m,                                    \u001b[31m│\u001b[0m\n",
      "\u001b[31m│\u001b[0m   \u001b[2m3 \u001b[0m\u001b[2m│   \u001b[0mfield_values = {-\u001b[94m99\u001b[0m: \u001b[33m\"\u001b[0m\u001b[33mMissing\u001b[0m\u001b[33m\"\u001b[0m, \u001b[94m0\u001b[0m: \u001b[33m\"\u001b[0m\u001b[33mNo\u001b[0m\u001b[33m\"\u001b[0m, \u001b[94m1\u001b[0m: \u001b[33m\"\u001b[0m\u001b[33mYes\u001b[0m\u001b[33m\"\u001b[0m},                 \u001b[31m│\u001b[0m\n",
      "\u001b[31m│\u001b[0m   \u001b[2m4 \u001b[0m\u001b[2m│   \u001b[0mfield_type = \u001b[33m\"\u001b[0m\u001b[33mNumeric\u001b[0m\u001b[33m\"\u001b[0m,                                             \u001b[31m│\u001b[0m\n",
      "\u001b[31m│\u001b[0m                                                                             \u001b[31m│\u001b[0m\n",
      "\u001b[31m│\u001b[0m \u001b[33mC:\\Users\\00113294\\Anaconda3\\envs\\my_env\\Lib\\site-packages\\pydantic\\_interna\u001b[0m \u001b[31m│\u001b[0m\n",
      "\u001b[31m│\u001b[0m \u001b[33ml\\_dataclasses.py\u001b[0m:\u001b[94m141\u001b[0m in \u001b[92m__init__\u001b[0m                                           \u001b[31m│\u001b[0m\n",
      "\u001b[31m│\u001b[0m                                                                             \u001b[31m│\u001b[0m\n",
      "\u001b[31m│\u001b[0m   \u001b[2m138 \u001b[0m\u001b[2m│   \u001b[0m\u001b[94mdef\u001b[0m\u001b[90m \u001b[0m\u001b[92m__init__\u001b[0m(__dataclass_self__: PydanticDataclass, *args: Any, * \u001b[31m│\u001b[0m\n",
      "\u001b[31m│\u001b[0m   \u001b[2m139 \u001b[0m\u001b[2m│   │   \u001b[0m__tracebackhide__ = \u001b[94mTrue\u001b[0m                                      \u001b[31m│\u001b[0m\n",
      "\u001b[31m│\u001b[0m   \u001b[2m140 \u001b[0m\u001b[2m│   │   \u001b[0ms = __dataclass_self__                                        \u001b[31m│\u001b[0m\n",
      "\u001b[31m│\u001b[0m \u001b[31m> \u001b[0m141 \u001b[2m│   │   \u001b[0m\u001b[1;4ms.__pydantic_validator__.validate_python(ArgsKwargs(args, kwa\u001b[0m \u001b[31m│\u001b[0m\n",
      "\u001b[31m│\u001b[0m   \u001b[2m142 \u001b[0m\u001b[2m│   \u001b[0m                                                                  \u001b[31m│\u001b[0m\n",
      "\u001b[31m│\u001b[0m   \u001b[2m143 \u001b[0m\u001b[2m│   \u001b[0m\u001b[92m__init__\u001b[0m.\u001b[91m__qualname__\u001b[0m = \u001b[33mf\u001b[0m\u001b[33m'\u001b[0m\u001b[33m{\u001b[0m\u001b[96mcls\u001b[0m.\u001b[91m__qualname__\u001b[0m\u001b[33m}\u001b[0m\u001b[33m.__init__\u001b[0m\u001b[33m'\u001b[0m            \u001b[31m│\u001b[0m\n",
      "\u001b[31m│\u001b[0m   \u001b[2m144 \u001b[0m                                                                      \u001b[31m│\u001b[0m\n",
      "\u001b[31m└─────────────────────────────────────────────────────────────────────────────┘\u001b[0m\n",
      "\u001b[1;91mValidationError: \u001b[0m\u001b[1;36m1\u001b[0m validation error for Metadata\n",
      "variable_basename\n",
      "  Field required \u001b[1m[\u001b[0m\u001b[33mtype\u001b[0m=\u001b[35mmissing\u001b[0m, \u001b[33minput_value\u001b[0m=\u001b[1;35mArgsKwargs\u001b[0m\u001b[1m(\u001b[0m\u001b[1m(\u001b[0m\u001b[1m)\u001b[0m, \u001b[1m{\u001b[0m\u001b[32m'label'\u001b[0m: \n",
      "\u001b[33m...\u001b[0miable_type': \u001b[32m'Nominal'\u001b[0m\u001b[1m}\u001b[0m\u001b[1m)\u001b[0m, \u001b[33minput_type\u001b[0m=\u001b[35mArgsKwargs\u001b[0m\u001b[1m]\u001b[0m\n",
      "    For further information visit \u001b[4;94mhttps://errors.pydantic.dev/2.8/v/missing\u001b[0m\n"
     ]
    }
   ],
   "source": [
    "PN38 = Metadata(\n",
    "    label= \"Ever had low back pain\",\n",
    "    field_values = {-99: \"Missing\", 0: \"No\", 1: \"Yes\"},\n",
    "    field_type = \"Numeric\",\n",
    "    field_width = 3,\n",
    "    decimals =  0,\n",
    "    variable_type = \"Nominal\"\n",
    ")"
   ]
  },
  {
   "cell_type": "markdown",
   "metadata": {},
   "source": [
    "## Further investigation\n",
    "\n",
    "What values exist for Y17 follow-ups in subsequent variables when PN17, PN9 and PN38 are 0?"
   ]
  },
  {
   "cell_type": "code",
   "execution_count": null,
   "metadata": {},
   "outputs": [
    {
     "data": {
      "text/html": [
       "<div><style>\n",
       ".dataframe > thead > tr,\n",
       ".dataframe > tbody > tr {\n",
       "  text-align: right;\n",
       "  white-space: pre-wrap;\n",
       "}\n",
       "</style>\n",
       "<small>shape: (2, 4)</small><table border=\"1\" class=\"dataframe\"><thead><tr><th>G217_SQ_PN25</th><th>G217_SQ_PN34</th><th>G217_SQ_PN35</th><th>G217_SQ_PN36</th></tr><tr><td>f64</td><td>f64</td><td>f64</td><td>f64</td></tr></thead><tbody><tr><td>0.0</td><td>0.0</td><td>0.0</td><td>0.0</td></tr><tr><td>0.0</td><td>0.0</td><td>0.0</td><td>9.0</td></tr></tbody></table></div>"
      ],
      "text/plain": [
       "\n",
       "shape: \u001b[1m(\u001b[0m\u001b[1;36m2\u001b[0m, \u001b[1;36m4\u001b[0m\u001b[1m)\u001b[0m\n",
       "┌──────────────┬──────────────┬──────────────┬──────────────┐\n",
       "│ G217_SQ_PN25 ┆ G217_SQ_PN34 ┆ G217_SQ_PN35 ┆ G217_SQ_PN36 │\n",
       "│ ---          ┆ ---          ┆ ---          ┆ ---          │\n",
       "│ f64          ┆ f64          ┆ f64          ┆ f64          │\n",
       "╞══════════════╪══════════════╪══════════════╪══════════════╡\n",
       "│ \u001b[1;36m0.0\u001b[0m          ┆ \u001b[1;36m0.0\u001b[0m          ┆ \u001b[1;36m0.0\u001b[0m          ┆ \u001b[1;36m0.0\u001b[0m          │\n",
       "│ \u001b[1;36m0.0\u001b[0m          ┆ \u001b[1;36m0.0\u001b[0m          ┆ \u001b[1;36m0.0\u001b[0m          ┆ \u001b[1;36m9.0\u001b[0m          │\n",
       "└──────────────┴──────────────┴──────────────┴──────────────┘"
      ]
     },
     "execution_count": null,
     "metadata": {},
     "output_type": "execute_result"
    }
   ],
   "source": [
    "(\n",
    "    df\n",
    "    .filter(\n",
    "        pl.col(\"G217_SQ_PN17\") == 0,\n",
    "        pl.col(\"G217_SQ_PN9\") == 0,\n",
    "        pl.col(\"G217_SQ_PN38\") == 0\n",
    "    )\n",
    "    .select('G217_SQ_PN25', 'G217_SQ_PN34', 'G217_SQ_PN35', 'G217_SQ_PN36')\n",
    "    .unique()\n",
    "    .collect()\n",
    ")"
   ]
  },
  {
   "cell_type": "code",
   "execution_count": null,
   "metadata": {},
   "outputs": [
    {
     "data": {
      "text/html": [
       "<div><style>\n",
       ".dataframe > thead > tr,\n",
       ".dataframe > tbody > tr {\n",
       "  text-align: right;\n",
       "  white-space: pre-wrap;\n",
       "}\n",
       "</style>\n",
       "<small>shape: (15, 4)</small><table border=\"1\" class=\"dataframe\"><thead><tr><th>G217_PQ_PN25</th><th>G217_PQ_PN34</th><th>G217_PQ_PN35</th><th>G217_PQ_PN36</th></tr><tr><td>f64</td><td>f64</td><td>f64</td><td>f64</td></tr></thead><tbody><tr><td>1.0</td><td>1.0</td><td>0.0</td><td>1.0</td></tr><tr><td>9.0</td><td>9.0</td><td>9.0</td><td>9.0</td></tr><tr><td>0.0</td><td>0.0</td><td>9.0</td><td>0.0</td></tr><tr><td>7.0</td><td>7.0</td><td>7.0</td><td>7.0</td></tr><tr><td>1.0</td><td>0.0</td><td>0.0</td><td>0.0</td></tr><tr><td>&hellip;</td><td>&hellip;</td><td>&hellip;</td><td>&hellip;</td></tr><tr><td>1.0</td><td>1.0</td><td>1.0</td><td>1.0</td></tr><tr><td>0.0</td><td>9.0</td><td>0.0</td><td>0.0</td></tr><tr><td>1.0</td><td>1.0</td><td>0.0</td><td>0.0</td></tr><tr><td>1.0</td><td>0.0</td><td>0.0</td><td>1.0</td></tr><tr><td>0.0</td><td>1.0</td><td>1.0</td><td>1.0</td></tr></tbody></table></div>"
      ],
      "text/plain": [
       "\n",
       "shape: \u001b[1m(\u001b[0m\u001b[1;36m15\u001b[0m, \u001b[1;36m4\u001b[0m\u001b[1m)\u001b[0m\n",
       "┌──────────────┬──────────────┬──────────────┬──────────────┐\n",
       "│ G217_PQ_PN25 ┆ G217_PQ_PN34 ┆ G217_PQ_PN35 ┆ G217_PQ_PN36 │\n",
       "│ ---          ┆ ---          ┆ ---          ┆ ---          │\n",
       "│ f64          ┆ f64          ┆ f64          ┆ f64          │\n",
       "╞══════════════╪══════════════╪══════════════╪══════════════╡\n",
       "│ \u001b[1;36m1.0\u001b[0m          ┆ \u001b[1;36m1.0\u001b[0m          ┆ \u001b[1;36m0.0\u001b[0m          ┆ \u001b[1;36m1.0\u001b[0m          │\n",
       "│ \u001b[1;36m9.0\u001b[0m          ┆ \u001b[1;36m9.0\u001b[0m          ┆ \u001b[1;36m9.0\u001b[0m          ┆ \u001b[1;36m9.0\u001b[0m          │\n",
       "│ \u001b[1;36m0.0\u001b[0m          ┆ \u001b[1;36m0.0\u001b[0m          ┆ \u001b[1;36m9.0\u001b[0m          ┆ \u001b[1;36m0.0\u001b[0m          │\n",
       "│ \u001b[1;36m7.0\u001b[0m          ┆ \u001b[1;36m7.0\u001b[0m          ┆ \u001b[1;36m7.0\u001b[0m          ┆ \u001b[1;36m7.0\u001b[0m          │\n",
       "│ \u001b[1;36m1.0\u001b[0m          ┆ \u001b[1;36m0.0\u001b[0m          ┆ \u001b[1;36m0.0\u001b[0m          ┆ \u001b[1;36m0.0\u001b[0m          │\n",
       "│ …            ┆ …            ┆ …            ┆ …            │\n",
       "│ \u001b[1;36m1.0\u001b[0m          ┆ \u001b[1;36m1.0\u001b[0m          ┆ \u001b[1;36m1.0\u001b[0m          ┆ \u001b[1;36m1.0\u001b[0m          │\n",
       "│ \u001b[1;36m0.0\u001b[0m          ┆ \u001b[1;36m9.0\u001b[0m          ┆ \u001b[1;36m0.0\u001b[0m          ┆ \u001b[1;36m0.0\u001b[0m          │\n",
       "│ \u001b[1;36m1.0\u001b[0m          ┆ \u001b[1;36m1.0\u001b[0m          ┆ \u001b[1;36m0.0\u001b[0m          ┆ \u001b[1;36m0.0\u001b[0m          │\n",
       "│ \u001b[1;36m1.0\u001b[0m          ┆ \u001b[1;36m0.0\u001b[0m          ┆ \u001b[1;36m0.0\u001b[0m          ┆ \u001b[1;36m1.0\u001b[0m          │\n",
       "│ \u001b[1;36m0.0\u001b[0m          ┆ \u001b[1;36m1.0\u001b[0m          ┆ \u001b[1;36m1.0\u001b[0m          ┆ \u001b[1;36m1.0\u001b[0m          │\n",
       "└──────────────┴──────────────┴──────────────┴──────────────┘"
      ]
     },
     "execution_count": null,
     "metadata": {},
     "output_type": "execute_result"
    }
   ],
   "source": [
    "(\n",
    "    df\n",
    "    .filter(\n",
    "        pl.col(\"G217_PQ_PN17\") == 0,\n",
    "    )\n",
    "    .select('G217_PQ_PN25', 'G217_PQ_PN34', 'G217_PQ_PN35', 'G217_PQ_PN36')\n",
    "    .unique()\n",
    "    .collect()\n",
    ")"
   ]
  },
  {
   "cell_type": "code",
   "execution_count": null,
   "metadata": {},
   "outputs": [
    {
     "data": {
      "text/html": [
       "<div><style>\n",
       ".dataframe > thead > tr,\n",
       ".dataframe > tbody > tr {\n",
       "  text-align: right;\n",
       "  white-space: pre-wrap;\n",
       "}\n",
       "</style>\n",
       "<small>shape: (9, 2)</small><table border=\"1\" class=\"dataframe\"><thead><tr><th>G217_PQ_PN9</th><th>G217_PQ_PN38</th></tr><tr><td>f64</td><td>f64</td></tr></thead><tbody><tr><td>0.0</td><td>9.0</td></tr><tr><td>9.0</td><td>9.0</td></tr><tr><td>1.0</td><td>1.0</td></tr><tr><td>0.0</td><td>0.0</td></tr><tr><td>1.0</td><td>0.0</td></tr><tr><td>1.0</td><td>9.0</td></tr><tr><td>9.0</td><td>0.0</td></tr><tr><td>0.0</td><td>1.0</td></tr><tr><td>7.0</td><td>7.0</td></tr></tbody></table></div>"
      ],
      "text/plain": [
       "\n",
       "shape: \u001b[1m(\u001b[0m\u001b[1;36m9\u001b[0m, \u001b[1;36m2\u001b[0m\u001b[1m)\u001b[0m\n",
       "┌─────────────┬──────────────┐\n",
       "│ G217_PQ_PN9 ┆ G217_PQ_PN38 │\n",
       "│ ---         ┆ ---          │\n",
       "│ f64         ┆ f64          │\n",
       "╞═════════════╪══════════════╡\n",
       "│ \u001b[1;36m0.0\u001b[0m         ┆ \u001b[1;36m9.0\u001b[0m          │\n",
       "│ \u001b[1;36m9.0\u001b[0m         ┆ \u001b[1;36m9.0\u001b[0m          │\n",
       "│ \u001b[1;36m1.0\u001b[0m         ┆ \u001b[1;36m1.0\u001b[0m          │\n",
       "│ \u001b[1;36m0.0\u001b[0m         ┆ \u001b[1;36m0.0\u001b[0m          │\n",
       "│ \u001b[1;36m1.0\u001b[0m         ┆ \u001b[1;36m0.0\u001b[0m          │\n",
       "│ \u001b[1;36m1.0\u001b[0m         ┆ \u001b[1;36m9.0\u001b[0m          │\n",
       "│ \u001b[1;36m9.0\u001b[0m         ┆ \u001b[1;36m0.0\u001b[0m          │\n",
       "│ \u001b[1;36m0.0\u001b[0m         ┆ \u001b[1;36m1.0\u001b[0m          │\n",
       "│ \u001b[1;36m7.0\u001b[0m         ┆ \u001b[1;36m7.0\u001b[0m          │\n",
       "└─────────────┴──────────────┘"
      ]
     },
     "execution_count": null,
     "metadata": {},
     "output_type": "execute_result"
    }
   ],
   "source": [
    "(\n",
    "    df\n",
    "    .filter(\n",
    "        pl.col(\"G217_PQ_PN17\") == 0,\n",
    "    )\n",
    "    .select('G217_PQ_PN9', 'G217_PQ_PN38')\n",
    "    .unique()\n",
    "    .collect()\n",
    ")"
   ]
  },
  {
   "cell_type": "markdown",
   "metadata": {},
   "source": [
    "### Which rows have only missing values for G214_SQ"
   ]
  },
  {
   "cell_type": "code",
   "execution_count": null,
   "metadata": {},
   "outputs": [],
   "source": [
    "G214_SQ = Dataset(\"G214_SQ.sav\", data_dir)\n",
    "lf, _ = G214_SQ.load_data()"
   ]
  },
  {
   "cell_type": "code",
   "execution_count": null,
   "metadata": {},
   "outputs": [],
   "source": [
    "df = lf.collect().to_pandas()"
   ]
  },
  {
   "cell_type": "code",
   "execution_count": null,
   "metadata": {},
   "outputs": [
    {
     "data": {
      "text/html": [
       "<div>\n",
       "<style scoped>\n",
       "    .dataframe tbody tr th:only-of-type {\n",
       "        vertical-align: middle;\n",
       "    }\n",
       "\n",
       "    .dataframe tbody tr th {\n",
       "        vertical-align: top;\n",
       "    }\n",
       "\n",
       "    .dataframe thead th {\n",
       "        text-align: right;\n",
       "    }\n",
       "</style>\n",
       "<table border=\"1\" class=\"dataframe\">\n",
       "  <thead>\n",
       "    <tr style=\"text-align: right;\">\n",
       "      <th></th>\n",
       "      <th>SEX</th>\n",
       "      <th>G214_SQ_YWRK_YN</th>\n",
       "      <th>G214_SQ_YHRS_CAT</th>\n",
       "    </tr>\n",
       "    <tr>\n",
       "      <th>ID</th>\n",
       "      <th></th>\n",
       "      <th></th>\n",
       "      <th></th>\n",
       "    </tr>\n",
       "  </thead>\n",
       "  <tbody>\n",
       "    <tr>\n",
       "      <th>10020.0</th>\n",
       "      <td>1.0</td>\n",
       "      <td>999.0</td>\n",
       "      <td>999.0</td>\n",
       "    </tr>\n",
       "    <tr>\n",
       "      <th>54570.0</th>\n",
       "      <td>1.0</td>\n",
       "      <td>999.0</td>\n",
       "      <td>999.0</td>\n",
       "    </tr>\n",
       "  </tbody>\n",
       "</table>\n",
       "</div>"
      ],
      "text/plain": [
       "\n",
       "         SEX  G214_SQ_YWRK_YN  G214_SQ_YHRS_CAT\n",
       "ID                                             \n",
       "\u001b[1;36m10020.0\u001b[0m  \u001b[1;36m1.0\u001b[0m            \u001b[1;36m999.0\u001b[0m             \u001b[1;36m999.0\u001b[0m\n",
       "\u001b[1;36m54570.0\u001b[0m  \u001b[1;36m1.0\u001b[0m            \u001b[1;36m999.0\u001b[0m             \u001b[1;36m999.0\u001b[0m"
      ]
     },
     "execution_count": null,
     "metadata": {},
     "output_type": "execute_result"
    }
   ],
   "source": [
    "df.set_index(\"ID\").loc[[10020, 54570]].dropna(axis=\"columns\")"
   ]
  },
  {
   "cell_type": "code",
   "execution_count": null,
   "metadata": {},
   "outputs": [
    {
     "data": {
      "text/html": [
       "<div><style>\n",
       ".dataframe > thead > tr,\n",
       ".dataframe > tbody > tr {\n",
       "  text-align: right;\n",
       "  white-space: pre-wrap;\n",
       "}\n",
       "</style>\n",
       "<small>shape: (1_334, 312)</small><table border=\"1\" class=\"dataframe\"><thead><tr><th>ID</th><th>SEX</th><th>G214_SQ_MDECFLAG</th><th>G214_SQ_DDECFLAG</th><th>G214_SQ_FHOM</th><th>G214_SQ_FSOC</th><th>G214_SQ_FMON</th><th>G214_SQ_PTNR</th><th>G214_SQ_BNF</th><th>G214_SQ_BNF2</th><th>G214_SQ_BNF3</th><th>G214_SQ_BNF4</th><th>G214_SQ_BNF5</th><th>G214_SQ_BNF6</th><th>G214_SQ_BNF7</th><th>G214_SQ_BNF8</th><th>G214_SQ_BNF9</th><th>G214_SQ_YWRK_1</th><th>G214_SQ_YWRK_YN</th><th>G214_SQ_YEMP</th><th>G214_SQ_YJOB_CODE</th><th>G214_SQ_YHRS</th><th>G214_SQ_YHRS_CAT</th><th>G214_SQ_YWK1</th><th>G214_SQ_YWK2</th><th>G214_SQ_YWK3</th><th>G214_SQ_YWK4</th><th>G214_SQ_YWK5</th><th>G214_SQ_YWK6</th><th>G214_SQ_YWK7</th><th>G214_SQ_YWK8</th><th>G214_SQ_YWK9_1</th><th>G214_SQ_PWRK_1</th><th>G214_SQ_PEMP</th><th>G214_SQ_PJOB_CODE</th><th>G214_SQ_PHRS</th><th>G214_SQ_PWK1</th><th>&hellip;</th><th>G214_SQ_DNWN</th><th>G214_SQ_HEMI</th><th>G214_SQ_AH1</th><th>G214_SQ_AH2</th><th>G214_SQ_AH3</th><th>G214_SQ_AH19</th><th>G214_SQ_AH20</th><th>G214_SQ_AH21</th><th>G214_SQ_AH22</th><th>G214_SQ_AH23</th><th>G214_SQ_AH24</th><th>G214_SQ_AH25</th><th>G214_SQ_AH26</th><th>G214_SQ_AH27</th><th>G214_SQ_AH28</th><th>G214_SQ_AH29</th><th>G214_SQ_AH30</th><th>G214_SQ_AH31</th><th>G214_SQ_AH32</th><th>G214_SQ_AH33</th><th>G214_SQ_AH34</th><th>G214_SQ_AH35</th><th>G214_SQ_AH36</th><th>G214_SQ_AH37</th><th>G214_SQ_AH38</th><th>G214_SQ_AH39</th><th>G214_SQ_SM26</th><th>G214_SQ_SM27</th><th>G214_SQ_SM28</th><th>G214_SQ_SM29</th><th>G214_SQ_VAL2</th><th>G214_SQ_QCO1</th><th>G214_SQ_DNBY</th><th>G214_SQ_CTRY</th><th>G214_SQ_Q_DONE</th><th>G214_SQ_AGE</th><th>G214_SQ_PCOD</th></tr><tr><td>f64</td><td>f64</td><td>f64</td><td>f64</td><td>f64</td><td>f64</td><td>f64</td><td>f64</td><td>f64</td><td>f64</td><td>f64</td><td>f64</td><td>f64</td><td>f64</td><td>f64</td><td>f64</td><td>f64</td><td>f64</td><td>f64</td><td>f64</td><td>f64</td><td>f64</td><td>f64</td><td>f64</td><td>f64</td><td>f64</td><td>f64</td><td>f64</td><td>f64</td><td>f64</td><td>f64</td><td>f64</td><td>f64</td><td>f64</td><td>f64</td><td>f64</td><td>f64</td><td>&hellip;</td><td>date</td><td>f64</td><td>f64</td><td>f64</td><td>f64</td><td>f64</td><td>f64</td><td>f64</td><td>f64</td><td>f64</td><td>f64</td><td>f64</td><td>f64</td><td>f64</td><td>f64</td><td>f64</td><td>f64</td><td>f64</td><td>f64</td><td>f64</td><td>f64</td><td>f64</td><td>f64</td><td>f64</td><td>f64</td><td>f64</td><td>f64</td><td>f64</td><td>f64</td><td>f64</td><td>f64</td><td>f64</td><td>f64</td><td>f64</td><td>f64</td><td>f64</td><td>f64</td></tr></thead><tbody><tr><td>10010.0</td><td>0.0</td><td>null</td><td>null</td><td>0.0</td><td>1.0</td><td>1.0</td><td>0.0</td><td>9.0</td><td>9.0</td><td>9.0</td><td>9.0</td><td>9.0</td><td>9.0</td><td>9.0</td><td>9.0</td><td>9.0</td><td>1.0</td><td>0.0</td><td>8.0</td><td>88.0</td><td>888.0</td><td>888.0</td><td>0.0</td><td>0.0</td><td>0.0</td><td>0.0</td><td>0.0</td><td>0.0</td><td>0.0</td><td>0.0</td><td>1.0</td><td>0.0</td><td>-88.0</td><td>-88.0</td><td>-88.0</td><td>-88.0</td><td>&hellip;</td><td>2003-08-01</td><td>1.0</td><td>-99.0</td><td>4.0</td><td>-88.0</td><td>-99.0</td><td>-99.0</td><td>-99.0</td><td>-99.0</td><td>-99.0</td><td>-99.0</td><td>-99.0</td><td>-99.0</td><td>-99.0</td><td>-99.0</td><td>-99.0</td><td>-99.0</td><td>-99.0</td><td>-99.0</td><td>-99.0</td><td>-99.0</td><td>-99.0</td><td>-99.0</td><td>-99.0</td><td>-99.0</td><td>-99.0</td><td>8.0</td><td>8.0</td><td>8.0</td><td>8.0</td><td>1.0</td><td>0.0</td><td>4.0</td><td>1105.0</td><td>1.0</td><td>13.7</td><td>6107.0</td></tr><tr><td>10030.0</td><td>1.0</td><td>null</td><td>null</td><td>0.0</td><td>1.0</td><td>1.0</td><td>0.0</td><td>1.0</td><td>1.0</td><td>0.0</td><td>0.0</td><td>0.0</td><td>0.0</td><td>0.0</td><td>0.0</td><td>0.0</td><td>1.0</td><td>0.0</td><td>8.0</td><td>88.0</td><td>888.0</td><td>888.0</td><td>0.0</td><td>0.0</td><td>1.0</td><td>1.0</td><td>0.0</td><td>0.0</td><td>0.0</td><td>1.0</td><td>0.0</td><td>0.0</td><td>-88.0</td><td>-88.0</td><td>-88.0</td><td>-88.0</td><td>&hellip;</td><td>2003-06-26</td><td>1.0</td><td>0.0</td><td>-99.0</td><td>-88.0</td><td>-88.0</td><td>-88.0</td><td>-88.0</td><td>-88.0</td><td>-88.0</td><td>-88.0</td><td>-88.0</td><td>-88.0</td><td>-88.0</td><td>-88.0</td><td>-88.0</td><td>-88.0</td><td>-88.0</td><td>-88.0</td><td>-88.0</td><td>-88.0</td><td>-88.0</td><td>-88.0</td><td>-88.0</td><td>-88.0</td><td>-88.0</td><td>0.0</td><td>0.0</td><td>1.0</td><td>0.0</td><td>2.0</td><td>0.0</td><td>3.0</td><td>1105.0</td><td>1.0</td><td>13.8</td><td>6230.0</td></tr><tr><td>10040.0</td><td>1.0</td><td>null</td><td>null</td><td>1.0</td><td>-88.0</td><td>-88.0</td><td>8.0</td><td>8.0</td><td>8.0</td><td>8.0</td><td>8.0</td><td>8.0</td><td>8.0</td><td>8.0</td><td>8.0</td><td>8.0</td><td>8.0</td><td>888.0</td><td>8.0</td><td>88.0</td><td>888.0</td><td>888.0</td><td>8.0</td><td>8.0</td><td>8.0</td><td>8.0</td><td>8.0</td><td>8.0</td><td>8.0</td><td>8.0</td><td>8.0</td><td>-88.0</td><td>-88.0</td><td>-88.0</td><td>-88.0</td><td>-88.0</td><td>&hellip;</td><td>2003-06-28</td><td>8.0</td><td>-99.0</td><td>3.0</td><td>-88.0</td><td>-99.0</td><td>-99.0</td><td>-99.0</td><td>0.0</td><td>1.0</td><td>0.0</td><td>0.0</td><td>1.0</td><td>0.0</td><td>0.0</td><td>1.0</td><td>0.0</td><td>0.0</td><td>1.0</td><td>0.0</td><td>0.0</td><td>1.0</td><td>0.0</td><td>0.0</td><td>1.0</td><td>0.0</td><td>8.0</td><td>8.0</td><td>8.0</td><td>8.0</td><td>1.0</td><td>0.0</td><td>2.0</td><td>8888.0</td><td>1.0</td><td>13.6</td><td>8888.0</td></tr><tr><td>10050.0</td><td>0.0</td><td>null</td><td>null</td><td>1.0</td><td>-88.0</td><td>-88.0</td><td>8.0</td><td>8.0</td><td>8.0</td><td>8.0</td><td>8.0</td><td>8.0</td><td>8.0</td><td>8.0</td><td>8.0</td><td>8.0</td><td>8.0</td><td>888.0</td><td>8.0</td><td>88.0</td><td>888.0</td><td>888.0</td><td>8.0</td><td>8.0</td><td>8.0</td><td>8.0</td><td>8.0</td><td>8.0</td><td>8.0</td><td>8.0</td><td>8.0</td><td>-88.0</td><td>-88.0</td><td>-88.0</td><td>-88.0</td><td>-88.0</td><td>&hellip;</td><td>2003-06-26</td><td>8.0</td><td>-99.0</td><td>3.0</td><td>-88.0</td><td>1.0</td><td>0.0</td><td>0.0</td><td>1.0</td><td>0.0</td><td>0.0</td><td>1.0</td><td>0.0</td><td>0.0</td><td>0.0</td><td>1.0</td><td>0.0</td><td>1.0</td><td>0.0</td><td>0.0</td><td>0.0</td><td>1.0</td><td>0.0</td><td>1.0</td><td>0.0</td><td>0.0</td><td>8.0</td><td>8.0</td><td>8.0</td><td>8.0</td><td>1.0</td><td>1.0</td><td>2.0</td><td>8888.0</td><td>1.0</td><td>13.7</td><td>8888.0</td></tr><tr><td>10090.0</td><td>1.0</td><td>null</td><td>null</td><td>1.0</td><td>-88.0</td><td>-88.0</td><td>8.0</td><td>8.0</td><td>8.0</td><td>8.0</td><td>8.0</td><td>8.0</td><td>8.0</td><td>8.0</td><td>8.0</td><td>8.0</td><td>8.0</td><td>888.0</td><td>8.0</td><td>88.0</td><td>888.0</td><td>888.0</td><td>8.0</td><td>8.0</td><td>8.0</td><td>8.0</td><td>8.0</td><td>8.0</td><td>8.0</td><td>8.0</td><td>8.0</td><td>-88.0</td><td>-88.0</td><td>-88.0</td><td>-88.0</td><td>-88.0</td><td>&hellip;</td><td>2003-08-27</td><td>8.0</td><td>-99.0</td><td>-99.0</td><td>-88.0</td><td>0.0</td><td>1.0</td><td>0.0</td><td>-88.0</td><td>-88.0</td><td>-88.0</td><td>0.0</td><td>1.0</td><td>0.0</td><td>-88.0</td><td>-88.0</td><td>-88.0</td><td>-88.0</td><td>-88.0</td><td>-88.0</td><td>-88.0</td><td>-88.0</td><td>-88.0</td><td>0.0</td><td>1.0</td><td>0.0</td><td>8.0</td><td>8.0</td><td>8.0</td><td>8.0</td><td>1.0</td><td>0.0</td><td>6.0</td><td>8888.0</td><td>1.0</td><td>13.7</td><td>8888.0</td></tr><tr><td>&hellip;</td><td>&hellip;</td><td>&hellip;</td><td>&hellip;</td><td>&hellip;</td><td>&hellip;</td><td>&hellip;</td><td>&hellip;</td><td>&hellip;</td><td>&hellip;</td><td>&hellip;</td><td>&hellip;</td><td>&hellip;</td><td>&hellip;</td><td>&hellip;</td><td>&hellip;</td><td>&hellip;</td><td>&hellip;</td><td>&hellip;</td><td>&hellip;</td><td>&hellip;</td><td>&hellip;</td><td>&hellip;</td><td>&hellip;</td><td>&hellip;</td><td>&hellip;</td><td>&hellip;</td><td>&hellip;</td><td>&hellip;</td><td>&hellip;</td><td>&hellip;</td><td>&hellip;</td><td>&hellip;</td><td>&hellip;</td><td>&hellip;</td><td>&hellip;</td><td>&hellip;</td><td>&hellip;</td><td>&hellip;</td><td>&hellip;</td><td>&hellip;</td><td>&hellip;</td><td>&hellip;</td><td>&hellip;</td><td>&hellip;</td><td>&hellip;</td><td>&hellip;</td><td>&hellip;</td><td>&hellip;</td><td>&hellip;</td><td>&hellip;</td><td>&hellip;</td><td>&hellip;</td><td>&hellip;</td><td>&hellip;</td><td>&hellip;</td><td>&hellip;</td><td>&hellip;</td><td>&hellip;</td><td>&hellip;</td><td>&hellip;</td><td>&hellip;</td><td>&hellip;</td><td>&hellip;</td><td>&hellip;</td><td>&hellip;</td><td>&hellip;</td><td>&hellip;</td><td>&hellip;</td><td>&hellip;</td><td>&hellip;</td><td>&hellip;</td><td>&hellip;</td><td>&hellip;</td><td>&hellip;</td></tr><tr><td>54490.0</td><td>0.0</td><td>null</td><td>null</td><td>1.0</td><td>-88.0</td><td>-88.0</td><td>8.0</td><td>8.0</td><td>8.0</td><td>8.0</td><td>8.0</td><td>8.0</td><td>8.0</td><td>8.0</td><td>8.0</td><td>8.0</td><td>8.0</td><td>888.0</td><td>8.0</td><td>88.0</td><td>888.0</td><td>888.0</td><td>8.0</td><td>8.0</td><td>8.0</td><td>8.0</td><td>8.0</td><td>8.0</td><td>8.0</td><td>8.0</td><td>8.0</td><td>-88.0</td><td>-88.0</td><td>-88.0</td><td>-88.0</td><td>-88.0</td><td>&hellip;</td><td>2006-03-02</td><td>8.0</td><td>-99.0</td><td>2.0</td><td>-88.0</td><td>-99.0</td><td>-99.0</td><td>-99.0</td><td>-99.0</td><td>-99.0</td><td>-99.0</td><td>-99.0</td><td>-99.0</td><td>-99.0</td><td>-99.0</td><td>-99.0</td><td>-99.0</td><td>1.0</td><td>0.0</td><td>0.0</td><td>1.0</td><td>1.0</td><td>0.0</td><td>1.0</td><td>1.0</td><td>0.0</td><td>8.0</td><td>8.0</td><td>8.0</td><td>8.0</td><td>1.0</td><td>0.0</td><td>2.0</td><td>8888.0</td><td>1.0</td><td>14.0</td><td>8888.0</td></tr><tr><td>54520.0</td><td>0.0</td><td>null</td><td>null</td><td>1.0</td><td>-88.0</td><td>-88.0</td><td>8.0</td><td>8.0</td><td>8.0</td><td>8.0</td><td>8.0</td><td>8.0</td><td>8.0</td><td>8.0</td><td>8.0</td><td>8.0</td><td>8.0</td><td>888.0</td><td>8.0</td><td>88.0</td><td>888.0</td><td>888.0</td><td>8.0</td><td>8.0</td><td>8.0</td><td>8.0</td><td>8.0</td><td>8.0</td><td>8.0</td><td>8.0</td><td>8.0</td><td>-88.0</td><td>-88.0</td><td>-88.0</td><td>-88.0</td><td>-88.0</td><td>&hellip;</td><td>2006-05-01</td><td>8.0</td><td>-99.0</td><td>1.0</td><td>-88.0</td><td>0.0</td><td>1.0</td><td>0.0</td><td>0.0</td><td>1.0</td><td>0.0</td><td>-99.0</td><td>-99.0</td><td>-99.0</td><td>-99.0</td><td>-99.0</td><td>-99.0</td><td>-99.0</td><td>-99.0</td><td>-99.0</td><td>-99.0</td><td>-99.0</td><td>-99.0</td><td>-99.0</td><td>-99.0</td><td>-99.0</td><td>8.0</td><td>8.0</td><td>8.0</td><td>8.0</td><td>1.0</td><td>0.0</td><td>2.0</td><td>8888.0</td><td>1.0</td><td>14.1</td><td>8888.0</td></tr><tr><td>54540.0</td><td>0.0</td><td>null</td><td>null</td><td>1.0</td><td>-88.0</td><td>-88.0</td><td>8.0</td><td>8.0</td><td>8.0</td><td>8.0</td><td>8.0</td><td>8.0</td><td>8.0</td><td>8.0</td><td>8.0</td><td>8.0</td><td>8.0</td><td>888.0</td><td>8.0</td><td>88.0</td><td>888.0</td><td>888.0</td><td>8.0</td><td>8.0</td><td>8.0</td><td>8.0</td><td>8.0</td><td>8.0</td><td>8.0</td><td>8.0</td><td>8.0</td><td>-88.0</td><td>-88.0</td><td>-88.0</td><td>-88.0</td><td>-88.0</td><td>&hellip;</td><td>2006-04-12</td><td>8.0</td><td>-99.0</td><td>1.0</td><td>-88.0</td><td>-99.0</td><td>-99.0</td><td>-99.0</td><td>-99.0</td><td>-99.0</td><td>-99.0</td><td>-99.0</td><td>-99.0</td><td>-99.0</td><td>-99.0</td><td>-99.0</td><td>-99.0</td><td>-99.0</td><td>-99.0</td><td>-99.0</td><td>0.0</td><td>0.0</td><td>1.0</td><td>-99.0</td><td>-99.0</td><td>-99.0</td><td>8.0</td><td>8.0</td><td>8.0</td><td>8.0</td><td>1.0</td><td>2.0</td><td>2.0</td><td>8888.0</td><td>1.0</td><td>14.0</td><td>8888.0</td></tr><tr><td>54560.0</td><td>1.0</td><td>null</td><td>null</td><td>1.0</td><td>-88.0</td><td>-88.0</td><td>8.0</td><td>8.0</td><td>8.0</td><td>8.0</td><td>8.0</td><td>8.0</td><td>8.0</td><td>8.0</td><td>8.0</td><td>8.0</td><td>8.0</td><td>888.0</td><td>8.0</td><td>88.0</td><td>888.0</td><td>888.0</td><td>8.0</td><td>8.0</td><td>8.0</td><td>8.0</td><td>8.0</td><td>8.0</td><td>8.0</td><td>8.0</td><td>8.0</td><td>-88.0</td><td>-88.0</td><td>-88.0</td><td>-88.0</td><td>-88.0</td><td>&hellip;</td><td>2006-03-21</td><td>8.0</td><td>-99.0</td><td>-99.0</td><td>-88.0</td><td>-88.0</td><td>-88.0</td><td>-88.0</td><td>-88.0</td><td>-88.0</td><td>-88.0</td><td>-88.0</td><td>-88.0</td><td>-88.0</td><td>-88.0</td><td>-88.0</td><td>-88.0</td><td>-88.0</td><td>-88.0</td><td>-88.0</td><td>1.0</td><td>0.0</td><td>0.0</td><td>-88.0</td><td>-88.0</td><td>-88.0</td><td>8.0</td><td>8.0</td><td>8.0</td><td>8.0</td><td>1.0</td><td>3.0</td><td>6.0</td><td>8888.0</td><td>1.0</td><td>14.0</td><td>8888.0</td></tr><tr><td>54580.0</td><td>0.0</td><td>null</td><td>null</td><td>1.0</td><td>-88.0</td><td>-88.0</td><td>8.0</td><td>8.0</td><td>8.0</td><td>8.0</td><td>8.0</td><td>8.0</td><td>8.0</td><td>8.0</td><td>8.0</td><td>8.0</td><td>8.0</td><td>888.0</td><td>8.0</td><td>88.0</td><td>888.0</td><td>888.0</td><td>8.0</td><td>8.0</td><td>8.0</td><td>8.0</td><td>8.0</td><td>8.0</td><td>8.0</td><td>8.0</td><td>8.0</td><td>-88.0</td><td>-88.0</td><td>-88.0</td><td>-88.0</td><td>-88.0</td><td>&hellip;</td><td>2006-04-05</td><td>8.0</td><td>-99.0</td><td>3.0</td><td>-88.0</td><td>0.0</td><td>1.0</td><td>0.0</td><td>0.0</td><td>1.0</td><td>0.0</td><td>-99.0</td><td>-99.0</td><td>-99.0</td><td>-99.0</td><td>-99.0</td><td>-99.0</td><td>0.0</td><td>1.0</td><td>0.0</td><td>1.0</td><td>0.0</td><td>0.0</td><td>-99.0</td><td>-99.0</td><td>-99.0</td><td>8.0</td><td>8.0</td><td>8.0</td><td>8.0</td><td>1.0</td><td>0.0</td><td>2.0</td><td>8888.0</td><td>1.0</td><td>14.0</td><td>8888.0</td></tr></tbody></table></div>"
      ],
      "text/plain": [
       "\n",
       "shape: \u001b[1m(\u001b[0m1_334, \u001b[1;36m312\u001b[0m\u001b[1m)\u001b[0m\n",
       "┌─────────┬─────┬─────────────┬────────────┬───┬────────────┬────────────┬────────────┬────────────┐\n",
       "│ ID      ┆ SEX ┆ G214_SQ_MDE ┆ G214_SQ_DD ┆ … ┆ G214_SQ_CT ┆ G214_SQ_Q_ ┆ G214_SQ_AG ┆ G214_SQ_PC │\n",
       "│ ---     ┆ --- ┆ CFLAG       ┆ ECFLAG     ┆   ┆ RY         ┆ DONE       ┆ E          ┆ OD         │\n",
       "│ f64     ┆ f64 ┆ ---         ┆ ---        ┆   ┆ ---        ┆ ---        ┆ ---        ┆ ---        │\n",
       "│         ┆     ┆ f64         ┆ f64        ┆   ┆ f64        ┆ f64        ┆ f64        ┆ f64        │\n",
       "╞═════════╪═════╪═════════════╪════════════╪═══╪════════════╪════════════╪════════════╪════════════╡\n",
       "│ \u001b[1;36m10010.0\u001b[0m ┆ \u001b[1;36m0.0\u001b[0m ┆ null        ┆ null       ┆ … ┆ \u001b[1;36m1105.0\u001b[0m     ┆ \u001b[1;36m1.0\u001b[0m        ┆ \u001b[1;36m13.7\u001b[0m       ┆ \u001b[1;36m6107.0\u001b[0m     │\n",
       "│ \u001b[1;36m10030.0\u001b[0m ┆ \u001b[1;36m1.0\u001b[0m ┆ null        ┆ null       ┆ … ┆ \u001b[1;36m1105.0\u001b[0m     ┆ \u001b[1;36m1.0\u001b[0m        ┆ \u001b[1;36m13.8\u001b[0m       ┆ \u001b[1;36m6230.0\u001b[0m     │\n",
       "│ \u001b[1;36m10040.0\u001b[0m ┆ \u001b[1;36m1.0\u001b[0m ┆ null        ┆ null       ┆ … ┆ \u001b[1;36m8888.0\u001b[0m     ┆ \u001b[1;36m1.0\u001b[0m        ┆ \u001b[1;36m13.6\u001b[0m       ┆ \u001b[1;36m8888.0\u001b[0m     │\n",
       "│ \u001b[1;36m10050.0\u001b[0m ┆ \u001b[1;36m0.0\u001b[0m ┆ null        ┆ null       ┆ … ┆ \u001b[1;36m8888.0\u001b[0m     ┆ \u001b[1;36m1.0\u001b[0m        ┆ \u001b[1;36m13.7\u001b[0m       ┆ \u001b[1;36m8888.0\u001b[0m     │\n",
       "│ \u001b[1;36m10090.0\u001b[0m ┆ \u001b[1;36m1.0\u001b[0m ┆ null        ┆ null       ┆ … ┆ \u001b[1;36m8888.0\u001b[0m     ┆ \u001b[1;36m1.0\u001b[0m        ┆ \u001b[1;36m13.7\u001b[0m       ┆ \u001b[1;36m8888.0\u001b[0m     │\n",
       "│ …       ┆ …   ┆ …           ┆ …          ┆ … ┆ …          ┆ …          ┆ …          ┆ …          │\n",
       "│ \u001b[1;36m54490.0\u001b[0m ┆ \u001b[1;36m0.0\u001b[0m ┆ null        ┆ null       ┆ … ┆ \u001b[1;36m8888.0\u001b[0m     ┆ \u001b[1;36m1.0\u001b[0m        ┆ \u001b[1;36m14.0\u001b[0m       ┆ \u001b[1;36m8888.0\u001b[0m     │\n",
       "│ \u001b[1;36m54520.0\u001b[0m ┆ \u001b[1;36m0.0\u001b[0m ┆ null        ┆ null       ┆ … ┆ \u001b[1;36m8888.0\u001b[0m     ┆ \u001b[1;36m1.0\u001b[0m        ┆ \u001b[1;36m14.1\u001b[0m       ┆ \u001b[1;36m8888.0\u001b[0m     │\n",
       "│ \u001b[1;36m54540.0\u001b[0m ┆ \u001b[1;36m0.0\u001b[0m ┆ null        ┆ null       ┆ … ┆ \u001b[1;36m8888.0\u001b[0m     ┆ \u001b[1;36m1.0\u001b[0m        ┆ \u001b[1;36m14.0\u001b[0m       ┆ \u001b[1;36m8888.0\u001b[0m     │\n",
       "│ \u001b[1;36m54560.0\u001b[0m ┆ \u001b[1;36m1.0\u001b[0m ┆ null        ┆ null       ┆ … ┆ \u001b[1;36m8888.0\u001b[0m     ┆ \u001b[1;36m1.0\u001b[0m        ┆ \u001b[1;36m14.0\u001b[0m       ┆ \u001b[1;36m8888.0\u001b[0m     │\n",
       "│ \u001b[1;36m54580.0\u001b[0m ┆ \u001b[1;36m0.0\u001b[0m ┆ null        ┆ null       ┆ … ┆ \u001b[1;36m8888.0\u001b[0m     ┆ \u001b[1;36m1.0\u001b[0m        ┆ \u001b[1;36m14.0\u001b[0m       ┆ \u001b[1;36m8888.0\u001b[0m     │\n",
       "└─────────┴─────┴─────────────┴────────────┴───┴────────────┴────────────┴────────────┴────────────┘"
      ]
     },
     "execution_count": null,
     "metadata": {},
     "output_type": "execute_result"
    }
   ],
   "source": [
    "lf.filter(~pl.all_horizontal(pl.exclude([\"ID\", \"SEX\", \"G214_SQ_YWRK_YN\", \"G214_SQ_YHRS_CAT\"]).is_null())).collect()"
   ]
  }
 ],
 "metadata": {
  "kernelspec": {
   "display_name": "python3",
   "language": "python",
   "name": "python3"
  },
  "language_info": {
   "name": "python"
  }
 },
 "nbformat": 4,
 "nbformat_minor": 2
}
