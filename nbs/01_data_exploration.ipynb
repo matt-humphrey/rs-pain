{
 "cells": [
  {
   "cell_type": "markdown",
   "metadata": {},
   "source": [
    "# TODO\n",
    "\n",
    "Variables to explore:\n",
    "\n",
    "- [x] PN17\n",
    "- [x] PN25\n",
    "- [x] PN34\n",
    "- [x] PN35\n",
    "- [x] PN36\n",
    "- [x] PN9\n",
    "- [x] PN38"
   ]
  },
  {
   "cell_type": "markdown",
   "metadata": {},
   "source": [
    "## Set up"
   ]
  },
  {
   "cell_type": "code",
   "execution_count": null,
   "metadata": {},
   "outputs": [],
   "source": [
    "%load_ext rich\n",
    "%load_ext autoreload\n",
    "%autoreload 2"
   ]
  },
  {
   "cell_type": "code",
   "execution_count": null,
   "metadata": {},
   "outputs": [],
   "source": [
    "from pathlib import Path\n",
    "import polars as pl\n",
    "import pandas as pd\n",
    "import numpy as np\n",
    "from rich import print as rprint\n",
    "\n",
    "from pain.read import *\n",
    "from pain.explore import *"
   ]
  },
  {
   "cell_type": "code",
   "execution_count": null,
   "metadata": {},
   "outputs": [],
   "source": [
    "data_dir = Path(\"../data/raw\")"
   ]
  },
  {
   "cell_type": "code",
   "execution_count": null,
   "metadata": {},
   "outputs": [],
   "source": [
    "datasets = [\n",
    "    Dataset(\"G214_PQ.sav\", data_dir, \"G214_PQ_\", [\"ID\", \"G214_PQ_PN17\", \"G214_PQ_PN25\", \"G214_PQ_PN34\", \"G214_PQ_PN35\", \"G214_PQ_PN36\"]),\n",
    "    Dataset(\"G214_SQ.sav\", data_dir, \"G214_SQ_\", [\"ID\", \"G214_SQ_PN17\", \"G214_SQ_PN25\", \"G214_SQ_PN34\", \"G214_SQ_PN35\", \"G214_SQ_PN36\"]),\n",
    "    Dataset(\"G217_PQ.sav\", data_dir, \"G217_PQ_\", [\"ID\", \"G217_PQ_PN17\", \"G217_PQ_PN25\", \"G217_PQ_PN34\", \"G217_PQ_PN35\", \"G217_PQ_PN36\", \"G217_PQ_PN38\", \"G217_PQ_PN9\"]),\n",
    "    Dataset(\"G217_SQ.sav\", data_dir, \"G217_SQ_\", [\"ID\", \"G217_SQ_PN17\", \"G217_SQ_PN25\", \"G217_SQ_PN34\", \"G217_SQ_PN35\", \"G217_SQ_PN36\", \"G217_SQ_PN38\", \"G217_SQ_PN9\"])\n",
    "]\n",
    "\n",
    "prefixes = [\"G214_PQ_\", \"G214_SQ_\", \"G217_PQ_\", \"G217_SQ_\"]"
   ]
  },
  {
   "cell_type": "code",
   "execution_count": null,
   "metadata": {},
   "outputs": [],
   "source": [
    "dataframes, metadata = read_and_filter_data(datasets)\n",
    "df = combine_dataframes(dataframes)\n",
    "meta = merge_dictionaries(metadata)"
   ]
  },
  {
   "cell_type": "markdown",
   "metadata": {},
   "source": [
    "## PN17"
   ]
  },
  {
   "cell_type": "code",
   "execution_count": null,
   "metadata": {},
   "outputs": [],
   "source": [
    "var = \"PN17\""
   ]
  },
  {
   "cell_type": "markdown",
   "metadata": {},
   "source": [
    "### Data"
   ]
  },
  {
   "cell_type": "markdown",
   "metadata": {},
   "source": [
    "The existing data options for PN17 are all the same:\n",
    "- 0: No\n",
    "- 1: Yes\n",
    "- 9: Missing\n",
    "\n",
    "Changes to make:\n",
    "- Convert 9 to -99 in all cases"
   ]
  },
  {
   "cell_type": "code",
   "execution_count": null,
   "metadata": {},
   "outputs": [
    {
     "data": {
      "text/html": [
       "<pre style=\"white-space:pre;overflow-x:auto;line-height:normal;font-family:Menlo,'DejaVu Sans Mono',consolas,'Courier New',monospace\"></pre>\n"
      ],
      "text/plain": []
     },
     "metadata": {},
     "output_type": "display_data"
    },
    {
     "data": {
      "text/plain": [
       "\n",
       "\u001b[1m{\u001b[0m\n",
       "    \u001b[32m'G214_PQ_PN17'\u001b[0m: \u001b[1m(\u001b[0m\u001b[3;35mNone\u001b[0m, \u001b[1;36m0.0\u001b[0m, \u001b[1;36m1.0\u001b[0m, \u001b[1;36m9.0\u001b[0m\u001b[1m)\u001b[0m,\n",
       "    \u001b[32m'G214_SQ_PN17'\u001b[0m: \u001b[1m(\u001b[0m\u001b[3;35mNone\u001b[0m, \u001b[1;36m0.0\u001b[0m, \u001b[1;36m1.0\u001b[0m, \u001b[1;36m9.0\u001b[0m\u001b[1m)\u001b[0m,\n",
       "    \u001b[32m'G217_PQ_PN17'\u001b[0m: \u001b[1m(\u001b[0m\u001b[3;35mNone\u001b[0m, \u001b[1;36m0.0\u001b[0m, \u001b[1;36m1.0\u001b[0m, \u001b[1;36m9.0\u001b[0m\u001b[1m)\u001b[0m,\n",
       "    \u001b[32m'G217_SQ_PN17'\u001b[0m: \u001b[1m(\u001b[0m\u001b[3;35mNone\u001b[0m, \u001b[1;36m0.0\u001b[0m, \u001b[1;36m1.0\u001b[0m, \u001b[1;36m9.0\u001b[0m\u001b[1m)\u001b[0m\n",
       "\u001b[1m}\u001b[0m"
      ]
     },
     "execution_count": null,
     "metadata": {},
     "output_type": "execute_result"
    }
   ],
   "source": [
    "unique_values(df, var)"
   ]
  },
  {
   "cell_type": "markdown",
   "metadata": {},
   "source": [
    "### Metadata"
   ]
  },
  {
   "cell_type": "markdown",
   "metadata": {},
   "source": [
    "The metadata is generally identical, with a minor discrepancy in the label for G217_SQ.\n",
    "There are differences in value labels, but these values do not exist in the data, so they can be harmonised without changes to the raw data."
   ]
  },
  {
   "cell_type": "code",
   "execution_count": null,
   "metadata": {},
   "outputs": [
    {
     "data": {
      "text/html": [
       "<pre style=\"white-space:pre;overflow-x:auto;line-height:normal;font-family:Menlo,'DejaVu Sans Mono',consolas,'Courier New',monospace\"></pre>\n"
      ],
      "text/plain": []
     },
     "metadata": {},
     "output_type": "display_data"
    },
    {
     "data": {
      "text/html": [
       "<div>\n",
       "<style scoped>\n",
       "    .dataframe tbody tr th:only-of-type {\n",
       "        vertical-align: middle;\n",
       "    }\n",
       "\n",
       "    .dataframe tbody tr th {\n",
       "        vertical-align: top;\n",
       "    }\n",
       "\n",
       "    .dataframe thead th {\n",
       "        text-align: right;\n",
       "    }\n",
       "</style>\n",
       "<table border=\"1\" class=\"dataframe\">\n",
       "  <thead>\n",
       "    <tr style=\"text-align: right;\">\n",
       "      <th></th>\n",
       "      <th>G214_PQ_PN17</th>\n",
       "      <th>G214_SQ_PN17</th>\n",
       "      <th>G217_PQ_PN17</th>\n",
       "      <th>G217_SQ_PN17</th>\n",
       "    </tr>\n",
       "  </thead>\n",
       "  <tbody>\n",
       "    <tr>\n",
       "      <th>Label</th>\n",
       "      <td>Ever had back pain</td>\n",
       "      <td>Ever had back pain</td>\n",
       "      <td>Ever had back pain</td>\n",
       "      <td>Ever had back pain?</td>\n",
       "    </tr>\n",
       "    <tr>\n",
       "      <th>Field Type</th>\n",
       "      <td>Numeric</td>\n",
       "      <td>Numeric</td>\n",
       "      <td>Numeric</td>\n",
       "      <td>Numeric</td>\n",
       "    </tr>\n",
       "    <tr>\n",
       "      <th>Field Width</th>\n",
       "      <td>8</td>\n",
       "      <td>8</td>\n",
       "      <td>8</td>\n",
       "      <td>8</td>\n",
       "    </tr>\n",
       "    <tr>\n",
       "      <th>Decimals</th>\n",
       "      <td>0</td>\n",
       "      <td>0</td>\n",
       "      <td>0</td>\n",
       "      <td>0</td>\n",
       "    </tr>\n",
       "    <tr>\n",
       "      <th>Variable Type</th>\n",
       "      <td>scale</td>\n",
       "      <td>scale</td>\n",
       "      <td>scale</td>\n",
       "      <td>scale</td>\n",
       "    </tr>\n",
       "    <tr>\n",
       "      <th>Field Values</th>\n",
       "      <td>{0.0: 'No', 1.0: 'Yes', 8.0: 'Not applicable',...</td>\n",
       "      <td>{0.0: 'No', 1.0: 'Yes', 8.0: 'Not applicable',...</td>\n",
       "      <td>{0.0: 'No', 1.0: 'Yes', 7.0: 'Involved in inco...</td>\n",
       "      <td>{0.0: 'No', 1.0: 'Yes', 9.0: 'Not stated'}</td>\n",
       "    </tr>\n",
       "  </tbody>\n",
       "</table>\n",
       "</div>"
      ],
      "text/plain": [
       "\n",
       "                                                    G214_PQ_PN17  \\\n",
       "Label                                         Ever had back pain   \n",
       "Field Type                                               Numeric   \n",
       "Field Width                                                    \u001b[1;36m8\u001b[0m   \n",
       "Decimals                                                       \u001b[1;36m0\u001b[0m   \n",
       "Variable Type                                              scale   \n",
       "Field Values   \u001b[1m{\u001b[0m\u001b[1;36m0.0\u001b[0m: \u001b[32m'No'\u001b[0m, \u001b[1;36m1.0\u001b[0m: \u001b[32m'Yes'\u001b[0m, \u001b[1;36m8.0\u001b[0m: \u001b[32m'Not applicable'\u001b[0m,\u001b[33m...\u001b[0m   \n",
       "\n",
       "                                                    G214_SQ_PN17  \\\n",
       "Label                                         Ever had back pain   \n",
       "Field Type                                               Numeric   \n",
       "Field Width                                                    \u001b[1;36m8\u001b[0m   \n",
       "Decimals                                                       \u001b[1;36m0\u001b[0m   \n",
       "Variable Type                                              scale   \n",
       "Field Values   \u001b[1m{\u001b[0m\u001b[1;36m0.0\u001b[0m: \u001b[32m'No'\u001b[0m, \u001b[1;36m1.0\u001b[0m: \u001b[32m'Yes'\u001b[0m, \u001b[1;36m8.0\u001b[0m: \u001b[32m'Not applicable'\u001b[0m,\u001b[33m...\u001b[0m   \n",
       "\n",
       "                                                    G217_PQ_PN17  \\\n",
       "Label                                         Ever had back pain   \n",
       "Field Type                                               Numeric   \n",
       "Field Width                                                    \u001b[1;36m8\u001b[0m   \n",
       "Decimals                                                       \u001b[1;36m0\u001b[0m   \n",
       "Variable Type                                              scale   \n",
       "Field Values   \u001b[1m{\u001b[0m\u001b[1;36m0.0\u001b[0m: \u001b[32m'No'\u001b[0m, \u001b[1;36m1.0\u001b[0m: \u001b[32m'Yes'\u001b[0m, \u001b[1;36m7.0\u001b[0m: 'Involved in inco\u001b[33m...\u001b[0m   \n",
       "\n",
       "                                             G217_SQ_PN17  \n",
       "Label                                 Ever had back pain?  \n",
       "Field Type                                        Numeric  \n",
       "Field Width                                             \u001b[1;36m8\u001b[0m  \n",
       "Decimals                                                \u001b[1;36m0\u001b[0m  \n",
       "Variable Type                                       scale  \n",
       "Field Values   \u001b[1m{\u001b[0m\u001b[1;36m0.0\u001b[0m: \u001b[32m'No'\u001b[0m, \u001b[1;36m1.0\u001b[0m: \u001b[32m'Yes'\u001b[0m, \u001b[1;36m9.0\u001b[0m: \u001b[32m'Not stated'\u001b[0m\u001b[1m}\u001b[0m  "
      ]
     },
     "execution_count": null,
     "metadata": {},
     "output_type": "execute_result"
    }
   ],
   "source": [
    "m = filter_metadata(var, df, meta)\n",
    "pd.DataFrame(m).T"
   ]
  },
  {
   "cell_type": "markdown",
   "metadata": {},
   "source": [
    "## PN25"
   ]
  },
  {
   "cell_type": "code",
   "execution_count": null,
   "metadata": {},
   "outputs": [],
   "source": [
    "var = \"PN25\""
   ]
  },
  {
   "cell_type": "markdown",
   "metadata": {},
   "source": [
    "### Data"
   ]
  },
  {
   "cell_type": "markdown",
   "metadata": {},
   "source": [
    "Some of the existing options are the same across all datasets:\n",
    "- 0: No\n",
    "- 1: Yes\n",
    "- 9: Missing\n",
    "\n",
    "For G214_PQ and G214_SQ\n",
    "- 8: N/A\n",
    "\n",
    "For G217_PQ:\n",
    "- 7: Involved in incorrect skip - not answered\n",
    "\n",
    "Values of 7 should be considered missing, as discussed with Alex D'Vauz.\n",
    "\n",
    "Changes:\n",
    "- Convert 8 to -88\n",
    "- Convert 9 to -99\n",
    "- Convert 7 to -99"
   ]
  },
  {
   "cell_type": "code",
   "execution_count": null,
   "metadata": {},
   "outputs": [
    {
     "data": {
      "text/html": [
       "<pre style=\"white-space:pre;overflow-x:auto;line-height:normal;font-family:Menlo,'DejaVu Sans Mono',consolas,'Courier New',monospace\"><span style=\"font-weight: bold\">{</span>\n",
       "    <span style=\"color: #008000; text-decoration-color: #008000\">'G214_PQ_PN25'</span>: <span style=\"font-weight: bold\">(</span><span style=\"color: #800080; text-decoration-color: #800080; font-style: italic\">None</span>, <span style=\"color: #008080; text-decoration-color: #008080; font-weight: bold\">0.0</span>, <span style=\"color: #008080; text-decoration-color: #008080; font-weight: bold\">1.0</span>, <span style=\"color: #008080; text-decoration-color: #008080; font-weight: bold\">8.0</span>, <span style=\"color: #008080; text-decoration-color: #008080; font-weight: bold\">9.0</span><span style=\"font-weight: bold\">)</span>,\n",
       "    <span style=\"color: #008000; text-decoration-color: #008000\">'G214_SQ_PN25'</span>: <span style=\"font-weight: bold\">(</span><span style=\"color: #800080; text-decoration-color: #800080; font-style: italic\">None</span>, <span style=\"color: #008080; text-decoration-color: #008080; font-weight: bold\">0.0</span>, <span style=\"color: #008080; text-decoration-color: #008080; font-weight: bold\">1.0</span>, <span style=\"color: #008080; text-decoration-color: #008080; font-weight: bold\">8.0</span>, <span style=\"color: #008080; text-decoration-color: #008080; font-weight: bold\">9.0</span><span style=\"font-weight: bold\">)</span>,\n",
       "    <span style=\"color: #008000; text-decoration-color: #008000\">'G217_PQ_PN25'</span>: <span style=\"font-weight: bold\">(</span><span style=\"color: #800080; text-decoration-color: #800080; font-style: italic\">None</span>, <span style=\"color: #008080; text-decoration-color: #008080; font-weight: bold\">0.0</span>, <span style=\"color: #008080; text-decoration-color: #008080; font-weight: bold\">1.0</span>, <span style=\"color: #008080; text-decoration-color: #008080; font-weight: bold\">7.0</span>, <span style=\"color: #008080; text-decoration-color: #008080; font-weight: bold\">9.0</span><span style=\"font-weight: bold\">)</span>,\n",
       "    <span style=\"color: #008000; text-decoration-color: #008000\">'G217_SQ_PN25'</span>: <span style=\"font-weight: bold\">(</span><span style=\"color: #800080; text-decoration-color: #800080; font-style: italic\">None</span>, <span style=\"color: #008080; text-decoration-color: #008080; font-weight: bold\">0.0</span>, <span style=\"color: #008080; text-decoration-color: #008080; font-weight: bold\">1.0</span>, <span style=\"color: #008080; text-decoration-color: #008080; font-weight: bold\">9.0</span><span style=\"font-weight: bold\">)</span>\n",
       "<span style=\"font-weight: bold\">}</span>\n",
       "</pre>\n"
      ],
      "text/plain": [
       "\u001b[1m{\u001b[0m\n",
       "    \u001b[32m'G214_PQ_PN25'\u001b[0m: \u001b[1m(\u001b[0m\u001b[3;35mNone\u001b[0m, \u001b[1;36m0.0\u001b[0m, \u001b[1;36m1.0\u001b[0m, \u001b[1;36m8.0\u001b[0m, \u001b[1;36m9.0\u001b[0m\u001b[1m)\u001b[0m,\n",
       "    \u001b[32m'G214_SQ_PN25'\u001b[0m: \u001b[1m(\u001b[0m\u001b[3;35mNone\u001b[0m, \u001b[1;36m0.0\u001b[0m, \u001b[1;36m1.0\u001b[0m, \u001b[1;36m8.0\u001b[0m, \u001b[1;36m9.0\u001b[0m\u001b[1m)\u001b[0m,\n",
       "    \u001b[32m'G217_PQ_PN25'\u001b[0m: \u001b[1m(\u001b[0m\u001b[3;35mNone\u001b[0m, \u001b[1;36m0.0\u001b[0m, \u001b[1;36m1.0\u001b[0m, \u001b[1;36m7.0\u001b[0m, \u001b[1;36m9.0\u001b[0m\u001b[1m)\u001b[0m,\n",
       "    \u001b[32m'G217_SQ_PN25'\u001b[0m: \u001b[1m(\u001b[0m\u001b[3;35mNone\u001b[0m, \u001b[1;36m0.0\u001b[0m, \u001b[1;36m1.0\u001b[0m, \u001b[1;36m9.0\u001b[0m\u001b[1m)\u001b[0m\n",
       "\u001b[1m}\u001b[0m\n"
      ]
     },
     "metadata": {},
     "output_type": "display_data"
    }
   ],
   "source": [
    "unique_vals = unique_values(df, var)\n",
    "rprint(unique_vals)"
   ]
  },
  {
   "cell_type": "code",
   "execution_count": null,
   "metadata": {},
   "outputs": [
    {
     "data": {
      "text/html": [
       "<pre style=\"white-space:pre;overflow-x:auto;line-height:normal;font-family:Menlo,'DejaVu Sans Mono',consolas,'Courier New',monospace\"></pre>\n"
      ],
      "text/plain": []
     },
     "metadata": {},
     "output_type": "display_data"
    },
    {
     "data": {
      "text/plain": [
       "\u001b[1m{\u001b[0m\u001b[1;36m0.0\u001b[0m, \u001b[1;36m1.0\u001b[0m, \u001b[1;36m7.0\u001b[0m, \u001b[1;36m8.0\u001b[0m, \u001b[1;36m9.0\u001b[0m\u001b[1m}\u001b[0m"
      ]
     },
     "execution_count": null,
     "metadata": {},
     "output_type": "execute_result"
    }
   ],
   "source": [
    "# Note the unique values for PN25 across all datasets combined\n",
    "value_options = set()\n",
    "for values in unique_vals.values(): \n",
    "    value_options.update(values)\n",
    "value_options.discard(None)\n",
    "value_options"
   ]
  },
  {
   "cell_type": "markdown",
   "metadata": {},
   "source": [
    "#### Define properties to test, validate, and explore\n",
    "\n",
    "- When PN17 is 0 (No), PN25 should be 8 (N/A)\n",
    "- When PN17 is 1 (Yes), PN25 should be 0, 1, or 9\n",
    "- When PN17 is 9 (Missing), PN25 should be 9"
   ]
  },
  {
   "cell_type": "code",
   "execution_count": null,
   "metadata": {},
   "outputs": [],
   "source": [
    "test = df.clone().collect()"
   ]
  },
  {
   "cell_type": "code",
   "execution_count": null,
   "metadata": {},
   "outputs": [
    {
     "data": {
      "text/html": [
       "<pre style=\"white-space:pre;overflow-x:auto;line-height:normal;font-family:Menlo,'DejaVu Sans Mono',consolas,'Courier New',monospace\">When PN17 == <span style=\"color: #008080; text-decoration-color: #008080; font-weight: bold\">0</span>\n",
       "</pre>\n"
      ],
      "text/plain": [
       "When PN17 == \u001b[1;36m0\u001b[0m\n"
      ]
     },
     "metadata": {},
     "output_type": "display_data"
    },
    {
     "data": {
      "text/html": [
       "<pre style=\"white-space:pre;overflow-x:auto;line-height:normal;font-family:Menlo,'DejaVu Sans Mono',consolas,'Courier New',monospace\"><span style=\"font-weight: bold\">{</span><span style=\"color: #008000; text-decoration-color: #008000\">'G214_PQ_PN25'</span>: <span style=\"font-weight: bold\">[</span><span style=\"color: #008080; text-decoration-color: #008080; font-weight: bold\">8.0</span><span style=\"font-weight: bold\">]}</span>\n",
       "</pre>\n"
      ],
      "text/plain": [
       "\u001b[1m{\u001b[0m\u001b[32m'G214_PQ_PN25'\u001b[0m: \u001b[1m[\u001b[0m\u001b[1;36m8.0\u001b[0m\u001b[1m]\u001b[0m\u001b[1m}\u001b[0m\n"
      ]
     },
     "metadata": {},
     "output_type": "display_data"
    },
    {
     "data": {
      "text/html": [
       "<pre style=\"white-space:pre;overflow-x:auto;line-height:normal;font-family:Menlo,'DejaVu Sans Mono',consolas,'Courier New',monospace\"><span style=\"font-weight: bold\">{</span><span style=\"color: #008000; text-decoration-color: #008000\">'G214_SQ_PN25'</span>: <span style=\"font-weight: bold\">[</span><span style=\"color: #008080; text-decoration-color: #008080; font-weight: bold\">8.0</span><span style=\"font-weight: bold\">]}</span>\n",
       "</pre>\n"
      ],
      "text/plain": [
       "\u001b[1m{\u001b[0m\u001b[32m'G214_SQ_PN25'\u001b[0m: \u001b[1m[\u001b[0m\u001b[1;36m8.0\u001b[0m\u001b[1m]\u001b[0m\u001b[1m}\u001b[0m\n"
      ]
     },
     "metadata": {},
     "output_type": "display_data"
    },
    {
     "data": {
      "text/html": [
       "<pre style=\"white-space:pre;overflow-x:auto;line-height:normal;font-family:Menlo,'DejaVu Sans Mono',consolas,'Courier New',monospace\"><span style=\"font-weight: bold\">{</span><span style=\"color: #008000; text-decoration-color: #008000\">'G217_PQ_PN25'</span>: <span style=\"font-weight: bold\">[</span><span style=\"color: #008080; text-decoration-color: #008080; font-weight: bold\">0.0</span>, <span style=\"color: #008080; text-decoration-color: #008080; font-weight: bold\">7.0</span>, <span style=\"color: #008080; text-decoration-color: #008080; font-weight: bold\">9.0</span>, <span style=\"color: #008080; text-decoration-color: #008080; font-weight: bold\">1.0</span><span style=\"font-weight: bold\">]}</span>\n",
       "</pre>\n"
      ],
      "text/plain": [
       "\u001b[1m{\u001b[0m\u001b[32m'G217_PQ_PN25'\u001b[0m: \u001b[1m[\u001b[0m\u001b[1;36m0.0\u001b[0m, \u001b[1;36m7.0\u001b[0m, \u001b[1;36m9.0\u001b[0m, \u001b[1;36m1.0\u001b[0m\u001b[1m]\u001b[0m\u001b[1m}\u001b[0m\n"
      ]
     },
     "metadata": {},
     "output_type": "display_data"
    },
    {
     "data": {
      "text/html": [
       "<pre style=\"white-space:pre;overflow-x:auto;line-height:normal;font-family:Menlo,'DejaVu Sans Mono',consolas,'Courier New',monospace\"><span style=\"font-weight: bold\">{</span><span style=\"color: #008000; text-decoration-color: #008000\">'G217_SQ_PN25'</span>: <span style=\"font-weight: bold\">[</span><span style=\"color: #008080; text-decoration-color: #008080; font-weight: bold\">1.0</span>, <span style=\"color: #008080; text-decoration-color: #008080; font-weight: bold\">0.0</span>, <span style=\"color: #008080; text-decoration-color: #008080; font-weight: bold\">9.0</span><span style=\"font-weight: bold\">]}</span>\n",
       "</pre>\n"
      ],
      "text/plain": [
       "\u001b[1m{\u001b[0m\u001b[32m'G217_SQ_PN25'\u001b[0m: \u001b[1m[\u001b[0m\u001b[1;36m1.0\u001b[0m, \u001b[1;36m0.0\u001b[0m, \u001b[1;36m9.0\u001b[0m\u001b[1m]\u001b[0m\u001b[1m}\u001b[0m\n"
      ]
     },
     "metadata": {},
     "output_type": "display_data"
    },
    {
     "data": {
      "text/html": [
       "<pre style=\"white-space:pre;overflow-x:auto;line-height:normal;font-family:Menlo,'DejaVu Sans Mono',consolas,'Courier New',monospace\">When PN17 == <span style=\"color: #008080; text-decoration-color: #008080; font-weight: bold\">1</span>\n",
       "</pre>\n"
      ],
      "text/plain": [
       "When PN17 == \u001b[1;36m1\u001b[0m\n"
      ]
     },
     "metadata": {},
     "output_type": "display_data"
    },
    {
     "data": {
      "text/html": [
       "<pre style=\"white-space:pre;overflow-x:auto;line-height:normal;font-family:Menlo,'DejaVu Sans Mono',consolas,'Courier New',monospace\"><span style=\"font-weight: bold\">{</span><span style=\"color: #008000; text-decoration-color: #008000\">'G214_PQ_PN25'</span>: <span style=\"font-weight: bold\">[</span><span style=\"color: #008080; text-decoration-color: #008080; font-weight: bold\">0.0</span>, <span style=\"color: #008080; text-decoration-color: #008080; font-weight: bold\">1.0</span><span style=\"font-weight: bold\">]}</span>\n",
       "</pre>\n"
      ],
      "text/plain": [
       "\u001b[1m{\u001b[0m\u001b[32m'G214_PQ_PN25'\u001b[0m: \u001b[1m[\u001b[0m\u001b[1;36m0.0\u001b[0m, \u001b[1;36m1.0\u001b[0m\u001b[1m]\u001b[0m\u001b[1m}\u001b[0m\n"
      ]
     },
     "metadata": {},
     "output_type": "display_data"
    },
    {
     "data": {
      "text/html": [
       "<pre style=\"white-space:pre;overflow-x:auto;line-height:normal;font-family:Menlo,'DejaVu Sans Mono',consolas,'Courier New',monospace\"><span style=\"font-weight: bold\">{</span><span style=\"color: #008000; text-decoration-color: #008000\">'G214_SQ_PN25'</span>: <span style=\"font-weight: bold\">[</span><span style=\"color: #008080; text-decoration-color: #008080; font-weight: bold\">9.0</span>, <span style=\"color: #008080; text-decoration-color: #008080; font-weight: bold\">0.0</span>, <span style=\"color: #008080; text-decoration-color: #008080; font-weight: bold\">1.0</span><span style=\"font-weight: bold\">]}</span>\n",
       "</pre>\n"
      ],
      "text/plain": [
       "\u001b[1m{\u001b[0m\u001b[32m'G214_SQ_PN25'\u001b[0m: \u001b[1m[\u001b[0m\u001b[1;36m9.0\u001b[0m, \u001b[1;36m0.0\u001b[0m, \u001b[1;36m1.0\u001b[0m\u001b[1m]\u001b[0m\u001b[1m}\u001b[0m\n"
      ]
     },
     "metadata": {},
     "output_type": "display_data"
    },
    {
     "data": {
      "text/html": [
       "<pre style=\"white-space:pre;overflow-x:auto;line-height:normal;font-family:Menlo,'DejaVu Sans Mono',consolas,'Courier New',monospace\"><span style=\"font-weight: bold\">{</span><span style=\"color: #008000; text-decoration-color: #008000\">'G217_PQ_PN25'</span>: <span style=\"font-weight: bold\">[</span><span style=\"color: #008080; text-decoration-color: #008080; font-weight: bold\">0.0</span>, <span style=\"color: #008080; text-decoration-color: #008080; font-weight: bold\">9.0</span>, <span style=\"color: #008080; text-decoration-color: #008080; font-weight: bold\">1.0</span><span style=\"font-weight: bold\">]}</span>\n",
       "</pre>\n"
      ],
      "text/plain": [
       "\u001b[1m{\u001b[0m\u001b[32m'G217_PQ_PN25'\u001b[0m: \u001b[1m[\u001b[0m\u001b[1;36m0.0\u001b[0m, \u001b[1;36m9.0\u001b[0m, \u001b[1;36m1.0\u001b[0m\u001b[1m]\u001b[0m\u001b[1m}\u001b[0m\n"
      ]
     },
     "metadata": {},
     "output_type": "display_data"
    },
    {
     "data": {
      "text/html": [
       "<pre style=\"white-space:pre;overflow-x:auto;line-height:normal;font-family:Menlo,'DejaVu Sans Mono',consolas,'Courier New',monospace\"><span style=\"font-weight: bold\">{</span><span style=\"color: #008000; text-decoration-color: #008000\">'G217_SQ_PN25'</span>: <span style=\"font-weight: bold\">[</span><span style=\"color: #008080; text-decoration-color: #008080; font-weight: bold\">1.0</span>, <span style=\"color: #008080; text-decoration-color: #008080; font-weight: bold\">0.0</span><span style=\"font-weight: bold\">]}</span>\n",
       "</pre>\n"
      ],
      "text/plain": [
       "\u001b[1m{\u001b[0m\u001b[32m'G217_SQ_PN25'\u001b[0m: \u001b[1m[\u001b[0m\u001b[1;36m1.0\u001b[0m, \u001b[1;36m0.0\u001b[0m\u001b[1m]\u001b[0m\u001b[1m}\u001b[0m\n"
      ]
     },
     "metadata": {},
     "output_type": "display_data"
    },
    {
     "data": {
      "text/html": [
       "<pre style=\"white-space:pre;overflow-x:auto;line-height:normal;font-family:Menlo,'DejaVu Sans Mono',consolas,'Courier New',monospace\">When PN17 == <span style=\"color: #008080; text-decoration-color: #008080; font-weight: bold\">9</span>\n",
       "</pre>\n"
      ],
      "text/plain": [
       "When PN17 == \u001b[1;36m9\u001b[0m\n"
      ]
     },
     "metadata": {},
     "output_type": "display_data"
    },
    {
     "data": {
      "text/html": [
       "<pre style=\"white-space:pre;overflow-x:auto;line-height:normal;font-family:Menlo,'DejaVu Sans Mono',consolas,'Courier New',monospace\"><span style=\"font-weight: bold\">{</span><span style=\"color: #008000; text-decoration-color: #008000\">'G214_PQ_PN25'</span>: <span style=\"font-weight: bold\">[</span><span style=\"color: #008080; text-decoration-color: #008080; font-weight: bold\">9.0</span><span style=\"font-weight: bold\">]}</span>\n",
       "</pre>\n"
      ],
      "text/plain": [
       "\u001b[1m{\u001b[0m\u001b[32m'G214_PQ_PN25'\u001b[0m: \u001b[1m[\u001b[0m\u001b[1;36m9.0\u001b[0m\u001b[1m]\u001b[0m\u001b[1m}\u001b[0m\n"
      ]
     },
     "metadata": {},
     "output_type": "display_data"
    },
    {
     "data": {
      "text/html": [
       "<pre style=\"white-space:pre;overflow-x:auto;line-height:normal;font-family:Menlo,'DejaVu Sans Mono',consolas,'Courier New',monospace\"><span style=\"font-weight: bold\">{</span><span style=\"color: #008000; text-decoration-color: #008000\">'G214_SQ_PN25'</span>: <span style=\"font-weight: bold\">[</span><span style=\"color: #008080; text-decoration-color: #008080; font-weight: bold\">9.0</span><span style=\"font-weight: bold\">]}</span>\n",
       "</pre>\n"
      ],
      "text/plain": [
       "\u001b[1m{\u001b[0m\u001b[32m'G214_SQ_PN25'\u001b[0m: \u001b[1m[\u001b[0m\u001b[1;36m9.0\u001b[0m\u001b[1m]\u001b[0m\u001b[1m}\u001b[0m\n"
      ]
     },
     "metadata": {},
     "output_type": "display_data"
    },
    {
     "data": {
      "text/html": [
       "<pre style=\"white-space:pre;overflow-x:auto;line-height:normal;font-family:Menlo,'DejaVu Sans Mono',consolas,'Courier New',monospace\"><span style=\"font-weight: bold\">{</span><span style=\"color: #008000; text-decoration-color: #008000\">'G217_PQ_PN25'</span>: <span style=\"font-weight: bold\">[</span><span style=\"color: #008080; text-decoration-color: #008080; font-weight: bold\">9.0</span><span style=\"font-weight: bold\">]}</span>\n",
       "</pre>\n"
      ],
      "text/plain": [
       "\u001b[1m{\u001b[0m\u001b[32m'G217_PQ_PN25'\u001b[0m: \u001b[1m[\u001b[0m\u001b[1;36m9.0\u001b[0m\u001b[1m]\u001b[0m\u001b[1m}\u001b[0m\n"
      ]
     },
     "metadata": {},
     "output_type": "display_data"
    },
    {
     "data": {
      "text/html": [
       "<pre style=\"white-space:pre;overflow-x:auto;line-height:normal;font-family:Menlo,'DejaVu Sans Mono',consolas,'Courier New',monospace\"><span style=\"font-weight: bold\">{</span><span style=\"color: #008000; text-decoration-color: #008000\">'G217_SQ_PN25'</span>: <span style=\"font-weight: bold\">[</span><span style=\"color: #008080; text-decoration-color: #008080; font-weight: bold\">9.0</span><span style=\"font-weight: bold\">]}</span>\n",
       "</pre>\n"
      ],
      "text/plain": [
       "\u001b[1m{\u001b[0m\u001b[32m'G217_SQ_PN25'\u001b[0m: \u001b[1m[\u001b[0m\u001b[1;36m9.0\u001b[0m\u001b[1m]\u001b[0m\u001b[1m}\u001b[0m\n"
      ]
     },
     "metadata": {},
     "output_type": "display_data"
    }
   ],
   "source": [
    "for value in (0, 1, 9):\n",
    "    rprint(f\"When PN17 == {value}\")\n",
    "    for p in prefixes:\n",
    "        rprint(\n",
    "            test\n",
    "            .filter(pl.col(f\"{p}PN17\") == value)\n",
    "            .select(f\"{p}{var}\")\n",
    "            .unique()\n",
    "            .to_dict(as_series=False)\n",
    "        )"
   ]
  },
  {
   "cell_type": "markdown",
   "metadata": {},
   "source": [
    "Properties 2 and 3 were as expected.\n",
    "Property 1 did not pass, as there were differences in the Y17 follow-ups.\n",
    "On further investigation, it appears there were two additional questions, related to neck, and shoulder pain, which changed the following logic of the questions.\n",
    "For Y14, is the participant responded \"No\" to PN17, all following questions were skipped.\n",
    "For Y17, they may have responded \"No\" to PN17, but if they answered \"Yes\" to having either neck or shoulder pain, they still answered the subsequent questions; hence, values of 0, 1 and 9 (and 7 due to incorrect skips)."
   ]
  },
  {
   "cell_type": "code",
   "execution_count": null,
   "metadata": {},
   "outputs": [
    {
     "data": {
      "text/html": [
       "<pre style=\"white-space:pre;overflow-x:auto;line-height:normal;font-family:Menlo,'DejaVu Sans Mono',consolas,'Courier New',monospace\">When PN25 == <span style=\"color: #008080; text-decoration-color: #008080; font-weight: bold\">0.0</span>\n",
       "</pre>\n"
      ],
      "text/plain": [
       "When PN25 == \u001b[1;36m0.0\u001b[0m\n"
      ]
     },
     "metadata": {},
     "output_type": "display_data"
    },
    {
     "data": {
      "text/html": [
       "<pre style=\"white-space:pre;overflow-x:auto;line-height:normal;font-family:Menlo,'DejaVu Sans Mono',consolas,'Courier New',monospace\"><span style=\"font-weight: bold\">{</span><span style=\"color: #008000; text-decoration-color: #008000\">'G214_PQ_PN17'</span>: <span style=\"font-weight: bold\">[</span><span style=\"color: #008080; text-decoration-color: #008080; font-weight: bold\">1.0</span><span style=\"font-weight: bold\">]}</span>\n",
       "</pre>\n"
      ],
      "text/plain": [
       "\u001b[1m{\u001b[0m\u001b[32m'G214_PQ_PN17'\u001b[0m: \u001b[1m[\u001b[0m\u001b[1;36m1.0\u001b[0m\u001b[1m]\u001b[0m\u001b[1m}\u001b[0m\n"
      ]
     },
     "metadata": {},
     "output_type": "display_data"
    },
    {
     "data": {
      "text/html": [
       "<pre style=\"white-space:pre;overflow-x:auto;line-height:normal;font-family:Menlo,'DejaVu Sans Mono',consolas,'Courier New',monospace\"><span style=\"font-weight: bold\">{</span><span style=\"color: #008000; text-decoration-color: #008000\">'G214_SQ_PN17'</span>: <span style=\"font-weight: bold\">[</span><span style=\"color: #008080; text-decoration-color: #008080; font-weight: bold\">1.0</span><span style=\"font-weight: bold\">]}</span>\n",
       "</pre>\n"
      ],
      "text/plain": [
       "\u001b[1m{\u001b[0m\u001b[32m'G214_SQ_PN17'\u001b[0m: \u001b[1m[\u001b[0m\u001b[1;36m1.0\u001b[0m\u001b[1m]\u001b[0m\u001b[1m}\u001b[0m\n"
      ]
     },
     "metadata": {},
     "output_type": "display_data"
    },
    {
     "data": {
      "text/html": [
       "<pre style=\"white-space:pre;overflow-x:auto;line-height:normal;font-family:Menlo,'DejaVu Sans Mono',consolas,'Courier New',monospace\"><span style=\"font-weight: bold\">{</span><span style=\"color: #008000; text-decoration-color: #008000\">'G217_PQ_PN17'</span>: <span style=\"font-weight: bold\">[</span><span style=\"color: #008080; text-decoration-color: #008080; font-weight: bold\">1.0</span>, <span style=\"color: #008080; text-decoration-color: #008080; font-weight: bold\">0.0</span><span style=\"font-weight: bold\">]}</span>\n",
       "</pre>\n"
      ],
      "text/plain": [
       "\u001b[1m{\u001b[0m\u001b[32m'G217_PQ_PN17'\u001b[0m: \u001b[1m[\u001b[0m\u001b[1;36m1.0\u001b[0m, \u001b[1;36m0.0\u001b[0m\u001b[1m]\u001b[0m\u001b[1m}\u001b[0m\n"
      ]
     },
     "metadata": {},
     "output_type": "display_data"
    },
    {
     "data": {
      "text/html": [
       "<pre style=\"white-space:pre;overflow-x:auto;line-height:normal;font-family:Menlo,'DejaVu Sans Mono',consolas,'Courier New',monospace\"><span style=\"font-weight: bold\">{</span><span style=\"color: #008000; text-decoration-color: #008000\">'G217_SQ_PN17'</span>: <span style=\"font-weight: bold\">[</span><span style=\"color: #008080; text-decoration-color: #008080; font-weight: bold\">1.0</span>, <span style=\"color: #008080; text-decoration-color: #008080; font-weight: bold\">0.0</span><span style=\"font-weight: bold\">]}</span>\n",
       "</pre>\n"
      ],
      "text/plain": [
       "\u001b[1m{\u001b[0m\u001b[32m'G217_SQ_PN17'\u001b[0m: \u001b[1m[\u001b[0m\u001b[1;36m1.0\u001b[0m, \u001b[1;36m0.0\u001b[0m\u001b[1m]\u001b[0m\u001b[1m}\u001b[0m\n"
      ]
     },
     "metadata": {},
     "output_type": "display_data"
    },
    {
     "data": {
      "text/html": [
       "<pre style=\"white-space:pre;overflow-x:auto;line-height:normal;font-family:Menlo,'DejaVu Sans Mono',consolas,'Courier New',monospace\">When PN25 == <span style=\"color: #008080; text-decoration-color: #008080; font-weight: bold\">1.0</span>\n",
       "</pre>\n"
      ],
      "text/plain": [
       "When PN25 == \u001b[1;36m1.0\u001b[0m\n"
      ]
     },
     "metadata": {},
     "output_type": "display_data"
    },
    {
     "data": {
      "text/html": [
       "<pre style=\"white-space:pre;overflow-x:auto;line-height:normal;font-family:Menlo,'DejaVu Sans Mono',consolas,'Courier New',monospace\"><span style=\"font-weight: bold\">{</span><span style=\"color: #008000; text-decoration-color: #008000\">'G214_PQ_PN17'</span>: <span style=\"font-weight: bold\">[</span><span style=\"color: #008080; text-decoration-color: #008080; font-weight: bold\">1.0</span><span style=\"font-weight: bold\">]}</span>\n",
       "</pre>\n"
      ],
      "text/plain": [
       "\u001b[1m{\u001b[0m\u001b[32m'G214_PQ_PN17'\u001b[0m: \u001b[1m[\u001b[0m\u001b[1;36m1.0\u001b[0m\u001b[1m]\u001b[0m\u001b[1m}\u001b[0m\n"
      ]
     },
     "metadata": {},
     "output_type": "display_data"
    },
    {
     "data": {
      "text/html": [
       "<pre style=\"white-space:pre;overflow-x:auto;line-height:normal;font-family:Menlo,'DejaVu Sans Mono',consolas,'Courier New',monospace\"><span style=\"font-weight: bold\">{</span><span style=\"color: #008000; text-decoration-color: #008000\">'G214_SQ_PN17'</span>: <span style=\"font-weight: bold\">[</span><span style=\"color: #008080; text-decoration-color: #008080; font-weight: bold\">1.0</span><span style=\"font-weight: bold\">]}</span>\n",
       "</pre>\n"
      ],
      "text/plain": [
       "\u001b[1m{\u001b[0m\u001b[32m'G214_SQ_PN17'\u001b[0m: \u001b[1m[\u001b[0m\u001b[1;36m1.0\u001b[0m\u001b[1m]\u001b[0m\u001b[1m}\u001b[0m\n"
      ]
     },
     "metadata": {},
     "output_type": "display_data"
    },
    {
     "data": {
      "text/html": [
       "<pre style=\"white-space:pre;overflow-x:auto;line-height:normal;font-family:Menlo,'DejaVu Sans Mono',consolas,'Courier New',monospace\"><span style=\"font-weight: bold\">{</span><span style=\"color: #008000; text-decoration-color: #008000\">'G217_PQ_PN17'</span>: <span style=\"font-weight: bold\">[</span><span style=\"color: #008080; text-decoration-color: #008080; font-weight: bold\">1.0</span>, <span style=\"color: #008080; text-decoration-color: #008080; font-weight: bold\">0.0</span><span style=\"font-weight: bold\">]}</span>\n",
       "</pre>\n"
      ],
      "text/plain": [
       "\u001b[1m{\u001b[0m\u001b[32m'G217_PQ_PN17'\u001b[0m: \u001b[1m[\u001b[0m\u001b[1;36m1.0\u001b[0m, \u001b[1;36m0.0\u001b[0m\u001b[1m]\u001b[0m\u001b[1m}\u001b[0m\n"
      ]
     },
     "metadata": {},
     "output_type": "display_data"
    },
    {
     "data": {
      "text/html": [
       "<pre style=\"white-space:pre;overflow-x:auto;line-height:normal;font-family:Menlo,'DejaVu Sans Mono',consolas,'Courier New',monospace\"><span style=\"font-weight: bold\">{</span><span style=\"color: #008000; text-decoration-color: #008000\">'G217_SQ_PN17'</span>: <span style=\"font-weight: bold\">[</span><span style=\"color: #008080; text-decoration-color: #008080; font-weight: bold\">1.0</span>, <span style=\"color: #008080; text-decoration-color: #008080; font-weight: bold\">0.0</span><span style=\"font-weight: bold\">]}</span>\n",
       "</pre>\n"
      ],
      "text/plain": [
       "\u001b[1m{\u001b[0m\u001b[32m'G217_SQ_PN17'\u001b[0m: \u001b[1m[\u001b[0m\u001b[1;36m1.0\u001b[0m, \u001b[1;36m0.0\u001b[0m\u001b[1m]\u001b[0m\u001b[1m}\u001b[0m\n"
      ]
     },
     "metadata": {},
     "output_type": "display_data"
    },
    {
     "data": {
      "text/html": [
       "<pre style=\"white-space:pre;overflow-x:auto;line-height:normal;font-family:Menlo,'DejaVu Sans Mono',consolas,'Courier New',monospace\">When PN25 == <span style=\"color: #008080; text-decoration-color: #008080; font-weight: bold\">7.0</span>\n",
       "</pre>\n"
      ],
      "text/plain": [
       "When PN25 == \u001b[1;36m7.0\u001b[0m\n"
      ]
     },
     "metadata": {},
     "output_type": "display_data"
    },
    {
     "data": {
      "text/html": [
       "<pre style=\"white-space:pre;overflow-x:auto;line-height:normal;font-family:Menlo,'DejaVu Sans Mono',consolas,'Courier New',monospace\"><span style=\"font-weight: bold\">{</span><span style=\"color: #008000; text-decoration-color: #008000\">'G214_PQ_PN17'</span>: <span style=\"font-weight: bold\">[]}</span>\n",
       "</pre>\n"
      ],
      "text/plain": [
       "\u001b[1m{\u001b[0m\u001b[32m'G214_PQ_PN17'\u001b[0m: \u001b[1m[\u001b[0m\u001b[1m]\u001b[0m\u001b[1m}\u001b[0m\n"
      ]
     },
     "metadata": {},
     "output_type": "display_data"
    },
    {
     "data": {
      "text/html": [
       "<pre style=\"white-space:pre;overflow-x:auto;line-height:normal;font-family:Menlo,'DejaVu Sans Mono',consolas,'Courier New',monospace\"><span style=\"font-weight: bold\">{</span><span style=\"color: #008000; text-decoration-color: #008000\">'G214_SQ_PN17'</span>: <span style=\"font-weight: bold\">[]}</span>\n",
       "</pre>\n"
      ],
      "text/plain": [
       "\u001b[1m{\u001b[0m\u001b[32m'G214_SQ_PN17'\u001b[0m: \u001b[1m[\u001b[0m\u001b[1m]\u001b[0m\u001b[1m}\u001b[0m\n"
      ]
     },
     "metadata": {},
     "output_type": "display_data"
    },
    {
     "data": {
      "text/html": [
       "<pre style=\"white-space:pre;overflow-x:auto;line-height:normal;font-family:Menlo,'DejaVu Sans Mono',consolas,'Courier New',monospace\"><span style=\"font-weight: bold\">{</span><span style=\"color: #008000; text-decoration-color: #008000\">'G217_PQ_PN17'</span>: <span style=\"font-weight: bold\">[</span><span style=\"color: #008080; text-decoration-color: #008080; font-weight: bold\">0.0</span><span style=\"font-weight: bold\">]}</span>\n",
       "</pre>\n"
      ],
      "text/plain": [
       "\u001b[1m{\u001b[0m\u001b[32m'G217_PQ_PN17'\u001b[0m: \u001b[1m[\u001b[0m\u001b[1;36m0.0\u001b[0m\u001b[1m]\u001b[0m\u001b[1m}\u001b[0m\n"
      ]
     },
     "metadata": {},
     "output_type": "display_data"
    },
    {
     "data": {
      "text/html": [
       "<pre style=\"white-space:pre;overflow-x:auto;line-height:normal;font-family:Menlo,'DejaVu Sans Mono',consolas,'Courier New',monospace\"><span style=\"font-weight: bold\">{</span><span style=\"color: #008000; text-decoration-color: #008000\">'G217_SQ_PN17'</span>: <span style=\"font-weight: bold\">[]}</span>\n",
       "</pre>\n"
      ],
      "text/plain": [
       "\u001b[1m{\u001b[0m\u001b[32m'G217_SQ_PN17'\u001b[0m: \u001b[1m[\u001b[0m\u001b[1m]\u001b[0m\u001b[1m}\u001b[0m\n"
      ]
     },
     "metadata": {},
     "output_type": "display_data"
    },
    {
     "data": {
      "text/html": [
       "<pre style=\"white-space:pre;overflow-x:auto;line-height:normal;font-family:Menlo,'DejaVu Sans Mono',consolas,'Courier New',monospace\">When PN25 == <span style=\"color: #008080; text-decoration-color: #008080; font-weight: bold\">8.0</span>\n",
       "</pre>\n"
      ],
      "text/plain": [
       "When PN25 == \u001b[1;36m8.0\u001b[0m\n"
      ]
     },
     "metadata": {},
     "output_type": "display_data"
    },
    {
     "data": {
      "text/html": [
       "<pre style=\"white-space:pre;overflow-x:auto;line-height:normal;font-family:Menlo,'DejaVu Sans Mono',consolas,'Courier New',monospace\"><span style=\"font-weight: bold\">{</span><span style=\"color: #008000; text-decoration-color: #008000\">'G214_PQ_PN17'</span>: <span style=\"font-weight: bold\">[</span><span style=\"color: #008080; text-decoration-color: #008080; font-weight: bold\">0.0</span><span style=\"font-weight: bold\">]}</span>\n",
       "</pre>\n"
      ],
      "text/plain": [
       "\u001b[1m{\u001b[0m\u001b[32m'G214_PQ_PN17'\u001b[0m: \u001b[1m[\u001b[0m\u001b[1;36m0.0\u001b[0m\u001b[1m]\u001b[0m\u001b[1m}\u001b[0m\n"
      ]
     },
     "metadata": {},
     "output_type": "display_data"
    },
    {
     "data": {
      "text/html": [
       "<pre style=\"white-space:pre;overflow-x:auto;line-height:normal;font-family:Menlo,'DejaVu Sans Mono',consolas,'Courier New',monospace\"><span style=\"font-weight: bold\">{</span><span style=\"color: #008000; text-decoration-color: #008000\">'G214_SQ_PN17'</span>: <span style=\"font-weight: bold\">[</span><span style=\"color: #008080; text-decoration-color: #008080; font-weight: bold\">0.0</span><span style=\"font-weight: bold\">]}</span>\n",
       "</pre>\n"
      ],
      "text/plain": [
       "\u001b[1m{\u001b[0m\u001b[32m'G214_SQ_PN17'\u001b[0m: \u001b[1m[\u001b[0m\u001b[1;36m0.0\u001b[0m\u001b[1m]\u001b[0m\u001b[1m}\u001b[0m\n"
      ]
     },
     "metadata": {},
     "output_type": "display_data"
    },
    {
     "data": {
      "text/html": [
       "<pre style=\"white-space:pre;overflow-x:auto;line-height:normal;font-family:Menlo,'DejaVu Sans Mono',consolas,'Courier New',monospace\"><span style=\"font-weight: bold\">{</span><span style=\"color: #008000; text-decoration-color: #008000\">'G217_PQ_PN17'</span>: <span style=\"font-weight: bold\">[]}</span>\n",
       "</pre>\n"
      ],
      "text/plain": [
       "\u001b[1m{\u001b[0m\u001b[32m'G217_PQ_PN17'\u001b[0m: \u001b[1m[\u001b[0m\u001b[1m]\u001b[0m\u001b[1m}\u001b[0m\n"
      ]
     },
     "metadata": {},
     "output_type": "display_data"
    },
    {
     "data": {
      "text/html": [
       "<pre style=\"white-space:pre;overflow-x:auto;line-height:normal;font-family:Menlo,'DejaVu Sans Mono',consolas,'Courier New',monospace\"><span style=\"font-weight: bold\">{</span><span style=\"color: #008000; text-decoration-color: #008000\">'G217_SQ_PN17'</span>: <span style=\"font-weight: bold\">[]}</span>\n",
       "</pre>\n"
      ],
      "text/plain": [
       "\u001b[1m{\u001b[0m\u001b[32m'G217_SQ_PN17'\u001b[0m: \u001b[1m[\u001b[0m\u001b[1m]\u001b[0m\u001b[1m}\u001b[0m\n"
      ]
     },
     "metadata": {},
     "output_type": "display_data"
    },
    {
     "data": {
      "text/html": [
       "<pre style=\"white-space:pre;overflow-x:auto;line-height:normal;font-family:Menlo,'DejaVu Sans Mono',consolas,'Courier New',monospace\">When PN25 == <span style=\"color: #008080; text-decoration-color: #008080; font-weight: bold\">9.0</span>\n",
       "</pre>\n"
      ],
      "text/plain": [
       "When PN25 == \u001b[1;36m9.0\u001b[0m\n"
      ]
     },
     "metadata": {},
     "output_type": "display_data"
    },
    {
     "data": {
      "text/html": [
       "<pre style=\"white-space:pre;overflow-x:auto;line-height:normal;font-family:Menlo,'DejaVu Sans Mono',consolas,'Courier New',monospace\"><span style=\"font-weight: bold\">{</span><span style=\"color: #008000; text-decoration-color: #008000\">'G214_PQ_PN17'</span>: <span style=\"font-weight: bold\">[</span><span style=\"color: #008080; text-decoration-color: #008080; font-weight: bold\">9.0</span><span style=\"font-weight: bold\">]}</span>\n",
       "</pre>\n"
      ],
      "text/plain": [
       "\u001b[1m{\u001b[0m\u001b[32m'G214_PQ_PN17'\u001b[0m: \u001b[1m[\u001b[0m\u001b[1;36m9.0\u001b[0m\u001b[1m]\u001b[0m\u001b[1m}\u001b[0m\n"
      ]
     },
     "metadata": {},
     "output_type": "display_data"
    },
    {
     "data": {
      "text/html": [
       "<pre style=\"white-space:pre;overflow-x:auto;line-height:normal;font-family:Menlo,'DejaVu Sans Mono',consolas,'Courier New',monospace\"><span style=\"font-weight: bold\">{</span><span style=\"color: #008000; text-decoration-color: #008000\">'G214_SQ_PN17'</span>: <span style=\"font-weight: bold\">[</span><span style=\"color: #008080; text-decoration-color: #008080; font-weight: bold\">1.0</span>, <span style=\"color: #008080; text-decoration-color: #008080; font-weight: bold\">9.0</span><span style=\"font-weight: bold\">]}</span>\n",
       "</pre>\n"
      ],
      "text/plain": [
       "\u001b[1m{\u001b[0m\u001b[32m'G214_SQ_PN17'\u001b[0m: \u001b[1m[\u001b[0m\u001b[1;36m1.0\u001b[0m, \u001b[1;36m9.0\u001b[0m\u001b[1m]\u001b[0m\u001b[1m}\u001b[0m\n"
      ]
     },
     "metadata": {},
     "output_type": "display_data"
    },
    {
     "data": {
      "text/html": [
       "<pre style=\"white-space:pre;overflow-x:auto;line-height:normal;font-family:Menlo,'DejaVu Sans Mono',consolas,'Courier New',monospace\"><span style=\"font-weight: bold\">{</span><span style=\"color: #008000; text-decoration-color: #008000\">'G217_PQ_PN17'</span>: <span style=\"font-weight: bold\">[</span><span style=\"color: #008080; text-decoration-color: #008080; font-weight: bold\">0.0</span>, <span style=\"color: #008080; text-decoration-color: #008080; font-weight: bold\">1.0</span>, <span style=\"color: #008080; text-decoration-color: #008080; font-weight: bold\">9.0</span><span style=\"font-weight: bold\">]}</span>\n",
       "</pre>\n"
      ],
      "text/plain": [
       "\u001b[1m{\u001b[0m\u001b[32m'G217_PQ_PN17'\u001b[0m: \u001b[1m[\u001b[0m\u001b[1;36m0.0\u001b[0m, \u001b[1;36m1.0\u001b[0m, \u001b[1;36m9.0\u001b[0m\u001b[1m]\u001b[0m\u001b[1m}\u001b[0m\n"
      ]
     },
     "metadata": {},
     "output_type": "display_data"
    },
    {
     "data": {
      "text/html": [
       "<pre style=\"white-space:pre;overflow-x:auto;line-height:normal;font-family:Menlo,'DejaVu Sans Mono',consolas,'Courier New',monospace\"><span style=\"font-weight: bold\">{</span><span style=\"color: #008000; text-decoration-color: #008000\">'G217_SQ_PN17'</span>: <span style=\"font-weight: bold\">[</span><span style=\"color: #008080; text-decoration-color: #008080; font-weight: bold\">9.0</span>, <span style=\"color: #008080; text-decoration-color: #008080; font-weight: bold\">0.0</span><span style=\"font-weight: bold\">]}</span>\n",
       "</pre>\n"
      ],
      "text/plain": [
       "\u001b[1m{\u001b[0m\u001b[32m'G217_SQ_PN17'\u001b[0m: \u001b[1m[\u001b[0m\u001b[1;36m9.0\u001b[0m, \u001b[1;36m0.0\u001b[0m\u001b[1m]\u001b[0m\u001b[1m}\u001b[0m\n"
      ]
     },
     "metadata": {},
     "output_type": "display_data"
    }
   ],
   "source": [
    "for value in value_options:\n",
    "    rprint(f\"When {var} == {value}\")\n",
    "    for p in prefixes:\n",
    "        rprint(\n",
    "            test\n",
    "            .filter(pl.col(f\"{p}{var}\") == value)\n",
    "            .select(f\"{p}PN17\")\n",
    "            .unique()\n",
    "            .to_dict(as_series=False)\n",
    "        )"
   ]
  },
  {
   "cell_type": "markdown",
   "metadata": {},
   "source": [
    "No additional, unexpected values were found."
   ]
  },
  {
   "cell_type": "markdown",
   "metadata": {},
   "source": [
    "### Metadata"
   ]
  },
  {
   "cell_type": "markdown",
   "metadata": {},
   "source": [
    "Clear discrepancies in labels and field values.\n",
    "\n",
    "Changes:\n",
    "- Harmonised label to \"Sought professional advice/treatment\"\n",
    "- Updated field values to reflect changes in data"
   ]
  },
  {
   "cell_type": "code",
   "execution_count": null,
   "metadata": {},
   "outputs": [],
   "source": [
    "m = filter_metadata(var, df, meta)"
   ]
  },
  {
   "cell_type": "code",
   "execution_count": null,
   "metadata": {},
   "outputs": [
    {
     "data": {
      "text/html": [
       "<pre style=\"white-space:pre;overflow-x:auto;line-height:normal;font-family:Menlo,'DejaVu Sans Mono',consolas,'Courier New',monospace\"><span style=\"color: #800080; text-decoration-color: #800080; font-weight: bold\">defaultdict</span><span style=\"font-weight: bold\">(&lt;</span><span style=\"color: #ff00ff; text-decoration-color: #ff00ff; font-weight: bold\">class</span><span style=\"color: #000000; text-decoration-color: #000000\"> </span><span style=\"color: #008000; text-decoration-color: #008000\">'dict'</span><span style=\"font-weight: bold\">&gt;</span>, <span style=\"font-weight: bold\">{</span>\n",
       "    <span style=\"color: #008000; text-decoration-color: #008000\">'Label'</span>: <span style=\"font-weight: bold\">{</span>\n",
       "        <span style=\"color: #008000; text-decoration-color: #008000\">'G214_PQ_PN25'</span>: <span style=\"color: #008000; text-decoration-color: #008000\">'Seek pro advice for back pain'</span>,\n",
       "        <span style=\"color: #008000; text-decoration-color: #008000\">'G214_SQ_PN25'</span>: <span style=\"color: #008000; text-decoration-color: #008000\">'Seek pro advice for back pain'</span>,\n",
       "        <span style=\"color: #008000; text-decoration-color: #008000\">'G217_PQ_PN25'</span>: <span style=\"color: #008000; text-decoration-color: #008000\">'Ever sought health professional advice/treatment for back pain'</span>,\n",
       "        <span style=\"color: #008000; text-decoration-color: #008000\">'G217_SQ_PN25'</span>: <span style=\"color: #008000; text-decoration-color: #008000\">'Seek treatment for back pain?'</span>\n",
       "    <span style=\"font-weight: bold\">}</span>,\n",
       "    <span style=\"color: #008000; text-decoration-color: #008000\">'Field Type'</span>: <span style=\"font-weight: bold\">{</span>\n",
       "        <span style=\"color: #008000; text-decoration-color: #008000\">'G214_PQ_PN25'</span>: <span style=\"color: #008000; text-decoration-color: #008000\">'Numeric'</span>,\n",
       "        <span style=\"color: #008000; text-decoration-color: #008000\">'G214_SQ_PN25'</span>: <span style=\"color: #008000; text-decoration-color: #008000\">'Numeric'</span>,\n",
       "        <span style=\"color: #008000; text-decoration-color: #008000\">'G217_PQ_PN25'</span>: <span style=\"color: #008000; text-decoration-color: #008000\">'Numeric'</span>,\n",
       "        <span style=\"color: #008000; text-decoration-color: #008000\">'G217_SQ_PN25'</span>: <span style=\"color: #008000; text-decoration-color: #008000\">'Numeric'</span>\n",
       "    <span style=\"font-weight: bold\">}</span>,\n",
       "    <span style=\"color: #008000; text-decoration-color: #008000\">'Field Width'</span>: <span style=\"font-weight: bold\">{</span><span style=\"color: #008000; text-decoration-color: #008000\">'G214_PQ_PN25'</span>: <span style=\"color: #008080; text-decoration-color: #008080; font-weight: bold\">8</span>, <span style=\"color: #008000; text-decoration-color: #008000\">'G214_SQ_PN25'</span>: <span style=\"color: #008080; text-decoration-color: #008080; font-weight: bold\">8</span>, <span style=\"color: #008000; text-decoration-color: #008000\">'G217_PQ_PN25'</span>: <span style=\"color: #008080; text-decoration-color: #008080; font-weight: bold\">8</span>, <span style=\"color: #008000; text-decoration-color: #008000\">'G217_SQ_PN25'</span>: <span style=\"color: #008080; text-decoration-color: #008080; font-weight: bold\">8</span><span style=\"font-weight: bold\">}</span>,\n",
       "    <span style=\"color: #008000; text-decoration-color: #008000\">'Decimals'</span>: <span style=\"font-weight: bold\">{</span><span style=\"color: #008000; text-decoration-color: #008000\">'G214_PQ_PN25'</span>: <span style=\"color: #008000; text-decoration-color: #008000\">'0'</span>, <span style=\"color: #008000; text-decoration-color: #008000\">'G214_SQ_PN25'</span>: <span style=\"color: #008000; text-decoration-color: #008000\">'0'</span>, <span style=\"color: #008000; text-decoration-color: #008000\">'G217_PQ_PN25'</span>: <span style=\"color: #008000; text-decoration-color: #008000\">'0'</span>, <span style=\"color: #008000; text-decoration-color: #008000\">'G217_SQ_PN25'</span>: <span style=\"color: #008000; text-decoration-color: #008000\">'0'</span><span style=\"font-weight: bold\">}</span>,\n",
       "    <span style=\"color: #008000; text-decoration-color: #008000\">'Variable Type'</span>: <span style=\"font-weight: bold\">{</span>\n",
       "        <span style=\"color: #008000; text-decoration-color: #008000\">'G214_PQ_PN25'</span>: <span style=\"color: #008000; text-decoration-color: #008000\">'scale'</span>,\n",
       "        <span style=\"color: #008000; text-decoration-color: #008000\">'G214_SQ_PN25'</span>: <span style=\"color: #008000; text-decoration-color: #008000\">'scale'</span>,\n",
       "        <span style=\"color: #008000; text-decoration-color: #008000\">'G217_PQ_PN25'</span>: <span style=\"color: #008000; text-decoration-color: #008000\">'scale'</span>,\n",
       "        <span style=\"color: #008000; text-decoration-color: #008000\">'G217_SQ_PN25'</span>: <span style=\"color: #008000; text-decoration-color: #008000\">'scale'</span>\n",
       "    <span style=\"font-weight: bold\">}</span>,\n",
       "    <span style=\"color: #008000; text-decoration-color: #008000\">'Field Values'</span>: <span style=\"font-weight: bold\">{</span>\n",
       "        <span style=\"color: #008000; text-decoration-color: #008000\">'G214_PQ_PN25'</span>: <span style=\"font-weight: bold\">{</span><span style=\"color: #008080; text-decoration-color: #008080; font-weight: bold\">0.0</span>: <span style=\"color: #008000; text-decoration-color: #008000\">'No'</span>, <span style=\"color: #008080; text-decoration-color: #008080; font-weight: bold\">1.0</span>: <span style=\"color: #008000; text-decoration-color: #008000\">'Yes'</span>, <span style=\"color: #008080; text-decoration-color: #008080; font-weight: bold\">8.0</span>: <span style=\"color: #008000; text-decoration-color: #008000\">'Not applicable'</span>, <span style=\"color: #008080; text-decoration-color: #008080; font-weight: bold\">9.0</span>: <span style=\"color: #008000; text-decoration-color: #008000\">'Not stated'</span><span style=\"font-weight: bold\">}</span>,\n",
       "        <span style=\"color: #008000; text-decoration-color: #008000\">'G214_SQ_PN25'</span>: <span style=\"font-weight: bold\">{</span><span style=\"color: #008080; text-decoration-color: #008080; font-weight: bold\">0.0</span>: <span style=\"color: #008000; text-decoration-color: #008000\">'No'</span>, <span style=\"color: #008080; text-decoration-color: #008080; font-weight: bold\">1.0</span>: <span style=\"color: #008000; text-decoration-color: #008000\">'Yes'</span>, <span style=\"color: #008080; text-decoration-color: #008080; font-weight: bold\">8.0</span>: <span style=\"color: #008000; text-decoration-color: #008000\">'Not applicable'</span>, <span style=\"color: #008080; text-decoration-color: #008080; font-weight: bold\">9.0</span>: <span style=\"color: #008000; text-decoration-color: #008000\">'Not stated'</span><span style=\"font-weight: bold\">}</span>,\n",
       "        <span style=\"color: #008000; text-decoration-color: #008000\">'G217_PQ_PN25'</span>: <span style=\"font-weight: bold\">{</span>\n",
       "            <span style=\"color: #008080; text-decoration-color: #008080; font-weight: bold\">0.0</span>: <span style=\"color: #008000; text-decoration-color: #008000\">'No'</span>,\n",
       "            <span style=\"color: #008080; text-decoration-color: #008080; font-weight: bold\">1.0</span>: <span style=\"color: #008000; text-decoration-color: #008000\">'Yes'</span>,\n",
       "            <span style=\"color: #008080; text-decoration-color: #008080; font-weight: bold\">7.0</span>: <span style=\"color: #008000; text-decoration-color: #008000\">'Involved in incorrect skip - not answered'</span>,\n",
       "            <span style=\"color: #008080; text-decoration-color: #008080; font-weight: bold\">9.0</span>: <span style=\"color: #008000; text-decoration-color: #008000\">'Not stated'</span>\n",
       "        <span style=\"font-weight: bold\">}</span>,\n",
       "        <span style=\"color: #008000; text-decoration-color: #008000\">'G217_SQ_PN25'</span>: <span style=\"font-weight: bold\">{</span><span style=\"color: #008080; text-decoration-color: #008080; font-weight: bold\">0.0</span>: <span style=\"color: #008000; text-decoration-color: #008000\">'No'</span>, <span style=\"color: #008080; text-decoration-color: #008080; font-weight: bold\">1.0</span>: <span style=\"color: #008000; text-decoration-color: #008000\">'Yes'</span>, <span style=\"color: #008080; text-decoration-color: #008080; font-weight: bold\">9.0</span>: <span style=\"color: #008000; text-decoration-color: #008000\">'Not stated'</span><span style=\"font-weight: bold\">}</span>\n",
       "    <span style=\"font-weight: bold\">}</span>\n",
       "<span style=\"font-weight: bold\">})</span>\n",
       "</pre>\n"
      ],
      "text/plain": [
       "\u001b[1;35mdefaultdict\u001b[0m\u001b[1m(\u001b[0m\u001b[1m<\u001b[0m\u001b[1;95mclass\u001b[0m\u001b[39m \u001b[0m\u001b[32m'dict'\u001b[0m\u001b[1m>\u001b[0m, \u001b[1m{\u001b[0m\n",
       "    \u001b[32m'Label'\u001b[0m: \u001b[1m{\u001b[0m\n",
       "        \u001b[32m'G214_PQ_PN25'\u001b[0m: \u001b[32m'Seek pro advice for back pain'\u001b[0m,\n",
       "        \u001b[32m'G214_SQ_PN25'\u001b[0m: \u001b[32m'Seek pro advice for back pain'\u001b[0m,\n",
       "        \u001b[32m'G217_PQ_PN25'\u001b[0m: \u001b[32m'Ever sought health professional advice/treatment for back pain'\u001b[0m,\n",
       "        \u001b[32m'G217_SQ_PN25'\u001b[0m: \u001b[32m'Seek treatment for back pain?'\u001b[0m\n",
       "    \u001b[1m}\u001b[0m,\n",
       "    \u001b[32m'Field Type'\u001b[0m: \u001b[1m{\u001b[0m\n",
       "        \u001b[32m'G214_PQ_PN25'\u001b[0m: \u001b[32m'Numeric'\u001b[0m,\n",
       "        \u001b[32m'G214_SQ_PN25'\u001b[0m: \u001b[32m'Numeric'\u001b[0m,\n",
       "        \u001b[32m'G217_PQ_PN25'\u001b[0m: \u001b[32m'Numeric'\u001b[0m,\n",
       "        \u001b[32m'G217_SQ_PN25'\u001b[0m: \u001b[32m'Numeric'\u001b[0m\n",
       "    \u001b[1m}\u001b[0m,\n",
       "    \u001b[32m'Field Width'\u001b[0m: \u001b[1m{\u001b[0m\u001b[32m'G214_PQ_PN25'\u001b[0m: \u001b[1;36m8\u001b[0m, \u001b[32m'G214_SQ_PN25'\u001b[0m: \u001b[1;36m8\u001b[0m, \u001b[32m'G217_PQ_PN25'\u001b[0m: \u001b[1;36m8\u001b[0m, \u001b[32m'G217_SQ_PN25'\u001b[0m: \u001b[1;36m8\u001b[0m\u001b[1m}\u001b[0m,\n",
       "    \u001b[32m'Decimals'\u001b[0m: \u001b[1m{\u001b[0m\u001b[32m'G214_PQ_PN25'\u001b[0m: \u001b[32m'0'\u001b[0m, \u001b[32m'G214_SQ_PN25'\u001b[0m: \u001b[32m'0'\u001b[0m, \u001b[32m'G217_PQ_PN25'\u001b[0m: \u001b[32m'0'\u001b[0m, \u001b[32m'G217_SQ_PN25'\u001b[0m: \u001b[32m'0'\u001b[0m\u001b[1m}\u001b[0m,\n",
       "    \u001b[32m'Variable Type'\u001b[0m: \u001b[1m{\u001b[0m\n",
       "        \u001b[32m'G214_PQ_PN25'\u001b[0m: \u001b[32m'scale'\u001b[0m,\n",
       "        \u001b[32m'G214_SQ_PN25'\u001b[0m: \u001b[32m'scale'\u001b[0m,\n",
       "        \u001b[32m'G217_PQ_PN25'\u001b[0m: \u001b[32m'scale'\u001b[0m,\n",
       "        \u001b[32m'G217_SQ_PN25'\u001b[0m: \u001b[32m'scale'\u001b[0m\n",
       "    \u001b[1m}\u001b[0m,\n",
       "    \u001b[32m'Field Values'\u001b[0m: \u001b[1m{\u001b[0m\n",
       "        \u001b[32m'G214_PQ_PN25'\u001b[0m: \u001b[1m{\u001b[0m\u001b[1;36m0.0\u001b[0m: \u001b[32m'No'\u001b[0m, \u001b[1;36m1.0\u001b[0m: \u001b[32m'Yes'\u001b[0m, \u001b[1;36m8.0\u001b[0m: \u001b[32m'Not applicable'\u001b[0m, \u001b[1;36m9.0\u001b[0m: \u001b[32m'Not stated'\u001b[0m\u001b[1m}\u001b[0m,\n",
       "        \u001b[32m'G214_SQ_PN25'\u001b[0m: \u001b[1m{\u001b[0m\u001b[1;36m0.0\u001b[0m: \u001b[32m'No'\u001b[0m, \u001b[1;36m1.0\u001b[0m: \u001b[32m'Yes'\u001b[0m, \u001b[1;36m8.0\u001b[0m: \u001b[32m'Not applicable'\u001b[0m, \u001b[1;36m9.0\u001b[0m: \u001b[32m'Not stated'\u001b[0m\u001b[1m}\u001b[0m,\n",
       "        \u001b[32m'G217_PQ_PN25'\u001b[0m: \u001b[1m{\u001b[0m\n",
       "            \u001b[1;36m0.0\u001b[0m: \u001b[32m'No'\u001b[0m,\n",
       "            \u001b[1;36m1.0\u001b[0m: \u001b[32m'Yes'\u001b[0m,\n",
       "            \u001b[1;36m7.0\u001b[0m: \u001b[32m'Involved in incorrect skip - not answered'\u001b[0m,\n",
       "            \u001b[1;36m9.0\u001b[0m: \u001b[32m'Not stated'\u001b[0m\n",
       "        \u001b[1m}\u001b[0m,\n",
       "        \u001b[32m'G217_SQ_PN25'\u001b[0m: \u001b[1m{\u001b[0m\u001b[1;36m0.0\u001b[0m: \u001b[32m'No'\u001b[0m, \u001b[1;36m1.0\u001b[0m: \u001b[32m'Yes'\u001b[0m, \u001b[1;36m9.0\u001b[0m: \u001b[32m'Not stated'\u001b[0m\u001b[1m}\u001b[0m\n",
       "    \u001b[1m}\u001b[0m\n",
       "\u001b[1m}\u001b[0m\u001b[1m)\u001b[0m\n"
      ]
     },
     "metadata": {},
     "output_type": "display_data"
    }
   ],
   "source": [
    "rprint(m)"
   ]
  },
  {
   "cell_type": "code",
   "execution_count": null,
   "metadata": {},
   "outputs": [
    {
     "data": {
      "text/html": [
       "<pre style=\"white-space:pre;overflow-x:auto;line-height:normal;font-family:Menlo,'DejaVu Sans Mono',consolas,'Courier New',monospace\"><span style=\"font-weight: bold\">{</span>\n",
       "    <span style=\"color: #008000; text-decoration-color: #008000\">'G214_PQ_PN25'</span>: <span style=\"font-weight: bold\">{</span><span style=\"color: #008080; text-decoration-color: #008080; font-weight: bold\">0.0</span>: <span style=\"color: #008000; text-decoration-color: #008000\">'No'</span>, <span style=\"color: #008080; text-decoration-color: #008080; font-weight: bold\">1.0</span>: <span style=\"color: #008000; text-decoration-color: #008000\">'Yes'</span>, <span style=\"color: #008080; text-decoration-color: #008080; font-weight: bold\">8.0</span>: <span style=\"color: #008000; text-decoration-color: #008000\">'Not applicable'</span>, <span style=\"color: #008080; text-decoration-color: #008080; font-weight: bold\">9.0</span>: <span style=\"color: #008000; text-decoration-color: #008000\">'Not stated'</span><span style=\"font-weight: bold\">}</span>,\n",
       "    <span style=\"color: #008000; text-decoration-color: #008000\">'G214_SQ_PN25'</span>: <span style=\"font-weight: bold\">{</span><span style=\"color: #008080; text-decoration-color: #008080; font-weight: bold\">0.0</span>: <span style=\"color: #008000; text-decoration-color: #008000\">'No'</span>, <span style=\"color: #008080; text-decoration-color: #008080; font-weight: bold\">1.0</span>: <span style=\"color: #008000; text-decoration-color: #008000\">'Yes'</span>, <span style=\"color: #008080; text-decoration-color: #008080; font-weight: bold\">8.0</span>: <span style=\"color: #008000; text-decoration-color: #008000\">'Not applicable'</span>, <span style=\"color: #008080; text-decoration-color: #008080; font-weight: bold\">9.0</span>: <span style=\"color: #008000; text-decoration-color: #008000\">'Not stated'</span><span style=\"font-weight: bold\">}</span>,\n",
       "    <span style=\"color: #008000; text-decoration-color: #008000\">'G217_PQ_PN25'</span>: <span style=\"font-weight: bold\">{</span><span style=\"color: #008080; text-decoration-color: #008080; font-weight: bold\">0.0</span>: <span style=\"color: #008000; text-decoration-color: #008000\">'No'</span>, <span style=\"color: #008080; text-decoration-color: #008080; font-weight: bold\">1.0</span>: <span style=\"color: #008000; text-decoration-color: #008000\">'Yes'</span>, <span style=\"color: #008080; text-decoration-color: #008080; font-weight: bold\">7.0</span>: <span style=\"color: #008000; text-decoration-color: #008000\">'Involved in incorrect skip - not answered'</span>, <span style=\"color: #008080; text-decoration-color: #008080; font-weight: bold\">9.0</span>: <span style=\"color: #008000; text-decoration-color: #008000\">'Not stated'</span><span style=\"font-weight: bold\">}</span>,\n",
       "    <span style=\"color: #008000; text-decoration-color: #008000\">'G217_SQ_PN25'</span>: <span style=\"font-weight: bold\">{</span><span style=\"color: #008080; text-decoration-color: #008080; font-weight: bold\">0.0</span>: <span style=\"color: #008000; text-decoration-color: #008000\">'No'</span>, <span style=\"color: #008080; text-decoration-color: #008080; font-weight: bold\">1.0</span>: <span style=\"color: #008000; text-decoration-color: #008000\">'Yes'</span>, <span style=\"color: #008080; text-decoration-color: #008080; font-weight: bold\">9.0</span>: <span style=\"color: #008000; text-decoration-color: #008000\">'Not stated'</span><span style=\"font-weight: bold\">}</span>\n",
       "<span style=\"font-weight: bold\">}</span>\n",
       "</pre>\n"
      ],
      "text/plain": [
       "\u001b[1m{\u001b[0m\n",
       "    \u001b[32m'G214_PQ_PN25'\u001b[0m: \u001b[1m{\u001b[0m\u001b[1;36m0.0\u001b[0m: \u001b[32m'No'\u001b[0m, \u001b[1;36m1.0\u001b[0m: \u001b[32m'Yes'\u001b[0m, \u001b[1;36m8.0\u001b[0m: \u001b[32m'Not applicable'\u001b[0m, \u001b[1;36m9.0\u001b[0m: \u001b[32m'Not stated'\u001b[0m\u001b[1m}\u001b[0m,\n",
       "    \u001b[32m'G214_SQ_PN25'\u001b[0m: \u001b[1m{\u001b[0m\u001b[1;36m0.0\u001b[0m: \u001b[32m'No'\u001b[0m, \u001b[1;36m1.0\u001b[0m: \u001b[32m'Yes'\u001b[0m, \u001b[1;36m8.0\u001b[0m: \u001b[32m'Not applicable'\u001b[0m, \u001b[1;36m9.0\u001b[0m: \u001b[32m'Not stated'\u001b[0m\u001b[1m}\u001b[0m,\n",
       "    \u001b[32m'G217_PQ_PN25'\u001b[0m: \u001b[1m{\u001b[0m\u001b[1;36m0.0\u001b[0m: \u001b[32m'No'\u001b[0m, \u001b[1;36m1.0\u001b[0m: \u001b[32m'Yes'\u001b[0m, \u001b[1;36m7.0\u001b[0m: \u001b[32m'Involved in incorrect skip - not answered'\u001b[0m, \u001b[1;36m9.0\u001b[0m: \u001b[32m'Not stated'\u001b[0m\u001b[1m}\u001b[0m,\n",
       "    \u001b[32m'G217_SQ_PN25'\u001b[0m: \u001b[1m{\u001b[0m\u001b[1;36m0.0\u001b[0m: \u001b[32m'No'\u001b[0m, \u001b[1;36m1.0\u001b[0m: \u001b[32m'Yes'\u001b[0m, \u001b[1;36m9.0\u001b[0m: \u001b[32m'Not stated'\u001b[0m\u001b[1m}\u001b[0m\n",
       "\u001b[1m}\u001b[0m\n"
      ]
     },
     "metadata": {},
     "output_type": "display_data"
    }
   ],
   "source": [
    "rprint(m[\"Field Values\"])"
   ]
  },
  {
   "cell_type": "code",
   "execution_count": null,
   "metadata": {},
   "outputs": [],
   "source": [
    "PN25 = Metadata(\n",
    "    label= \"Sought professional advice/treatment\",\n",
    "    field_values = {-88: \"N/A\", -99: \"Missing\", 0: \"No\", 1: \"Yes\"},\n",
    "    field_type = \"Numeric\",\n",
    "    field_width = 3,\n",
    "    decimals =  0,\n",
    "    variable_type = \"Nominal\"\n",
    ")"
   ]
  },
  {
   "cell_type": "markdown",
   "metadata": {},
   "source": [
    "## PN34"
   ]
  },
  {
   "cell_type": "code",
   "execution_count": null,
   "metadata": {},
   "outputs": [],
   "source": [
    "var = \"PN34\""
   ]
  },
  {
   "cell_type": "markdown",
   "metadata": {},
   "source": [
    "### Data"
   ]
  },
  {
   "cell_type": "markdown",
   "metadata": {},
   "source": [
    "Some of the existing options are the same across all datasets:\n",
    "- 0: No\n",
    "- 1: Yes\n",
    "- 9: Missing\n",
    "\n",
    "For G214_PQ and G214_SQ\n",
    "- 8: N/A\n",
    "\n",
    "For G217_PQ:\n",
    "- 7: Involved in incorrect skip - not answered\n",
    "\n",
    "Values of 7 should be considered missing, as discussed with Alex D'Vauz.\n",
    "\n",
    "Changes:\n",
    "- Convert 8 to -88\n",
    "- Convert 9 to -99\n",
    "- Convert 7 to -99"
   ]
  },
  {
   "cell_type": "code",
   "execution_count": null,
   "metadata": {},
   "outputs": [
    {
     "data": {
      "text/html": [
       "<pre style=\"white-space:pre;overflow-x:auto;line-height:normal;font-family:Menlo,'DejaVu Sans Mono',consolas,'Courier New',monospace\"><span style=\"font-weight: bold\">{</span>\n",
       "    <span style=\"color: #008000; text-decoration-color: #008000\">'G214_PQ_PN34'</span>: <span style=\"font-weight: bold\">(</span><span style=\"color: #800080; text-decoration-color: #800080; font-style: italic\">None</span>, <span style=\"color: #008080; text-decoration-color: #008080; font-weight: bold\">0.0</span>, <span style=\"color: #008080; text-decoration-color: #008080; font-weight: bold\">1.0</span>, <span style=\"color: #008080; text-decoration-color: #008080; font-weight: bold\">8.0</span>, <span style=\"color: #008080; text-decoration-color: #008080; font-weight: bold\">9.0</span><span style=\"font-weight: bold\">)</span>,\n",
       "    <span style=\"color: #008000; text-decoration-color: #008000\">'G214_SQ_PN34'</span>: <span style=\"font-weight: bold\">(</span><span style=\"color: #800080; text-decoration-color: #800080; font-style: italic\">None</span>, <span style=\"color: #008080; text-decoration-color: #008080; font-weight: bold\">0.0</span>, <span style=\"color: #008080; text-decoration-color: #008080; font-weight: bold\">1.0</span>, <span style=\"color: #008080; text-decoration-color: #008080; font-weight: bold\">8.0</span>, <span style=\"color: #008080; text-decoration-color: #008080; font-weight: bold\">9.0</span><span style=\"font-weight: bold\">)</span>,\n",
       "    <span style=\"color: #008000; text-decoration-color: #008000\">'G217_PQ_PN34'</span>: <span style=\"font-weight: bold\">(</span><span style=\"color: #800080; text-decoration-color: #800080; font-style: italic\">None</span>, <span style=\"color: #008080; text-decoration-color: #008080; font-weight: bold\">0.0</span>, <span style=\"color: #008080; text-decoration-color: #008080; font-weight: bold\">1.0</span>, <span style=\"color: #008080; text-decoration-color: #008080; font-weight: bold\">7.0</span>, <span style=\"color: #008080; text-decoration-color: #008080; font-weight: bold\">9.0</span><span style=\"font-weight: bold\">)</span>,\n",
       "    <span style=\"color: #008000; text-decoration-color: #008000\">'G217_SQ_PN34'</span>: <span style=\"font-weight: bold\">(</span><span style=\"color: #800080; text-decoration-color: #800080; font-style: italic\">None</span>, <span style=\"color: #008080; text-decoration-color: #008080; font-weight: bold\">0.0</span>, <span style=\"color: #008080; text-decoration-color: #008080; font-weight: bold\">1.0</span>, <span style=\"color: #008080; text-decoration-color: #008080; font-weight: bold\">9.0</span><span style=\"font-weight: bold\">)</span>\n",
       "<span style=\"font-weight: bold\">}</span>\n",
       "</pre>\n"
      ],
      "text/plain": [
       "\u001b[1m{\u001b[0m\n",
       "    \u001b[32m'G214_PQ_PN34'\u001b[0m: \u001b[1m(\u001b[0m\u001b[3;35mNone\u001b[0m, \u001b[1;36m0.0\u001b[0m, \u001b[1;36m1.0\u001b[0m, \u001b[1;36m8.0\u001b[0m, \u001b[1;36m9.0\u001b[0m\u001b[1m)\u001b[0m,\n",
       "    \u001b[32m'G214_SQ_PN34'\u001b[0m: \u001b[1m(\u001b[0m\u001b[3;35mNone\u001b[0m, \u001b[1;36m0.0\u001b[0m, \u001b[1;36m1.0\u001b[0m, \u001b[1;36m8.0\u001b[0m, \u001b[1;36m9.0\u001b[0m\u001b[1m)\u001b[0m,\n",
       "    \u001b[32m'G217_PQ_PN34'\u001b[0m: \u001b[1m(\u001b[0m\u001b[3;35mNone\u001b[0m, \u001b[1;36m0.0\u001b[0m, \u001b[1;36m1.0\u001b[0m, \u001b[1;36m7.0\u001b[0m, \u001b[1;36m9.0\u001b[0m\u001b[1m)\u001b[0m,\n",
       "    \u001b[32m'G217_SQ_PN34'\u001b[0m: \u001b[1m(\u001b[0m\u001b[3;35mNone\u001b[0m, \u001b[1;36m0.0\u001b[0m, \u001b[1;36m1.0\u001b[0m, \u001b[1;36m9.0\u001b[0m\u001b[1m)\u001b[0m\n",
       "\u001b[1m}\u001b[0m\n"
      ]
     },
     "metadata": {},
     "output_type": "display_data"
    }
   ],
   "source": [
    "unique_vals = unique_values(df, var)\n",
    "rprint(unique_vals)"
   ]
  },
  {
   "cell_type": "code",
   "execution_count": null,
   "metadata": {},
   "outputs": [
    {
     "data": {
      "text/html": [
       "<pre style=\"white-space:pre;overflow-x:auto;line-height:normal;font-family:Menlo,'DejaVu Sans Mono',consolas,'Courier New',monospace\"></pre>\n"
      ],
      "text/plain": []
     },
     "metadata": {},
     "output_type": "display_data"
    },
    {
     "data": {
      "text/plain": [
       "\u001b[1m{\u001b[0m\u001b[1;36m0.0\u001b[0m, \u001b[1;36m1.0\u001b[0m, \u001b[1;36m7.0\u001b[0m, \u001b[1;36m8.0\u001b[0m, \u001b[1;36m9.0\u001b[0m\u001b[1m}\u001b[0m"
      ]
     },
     "execution_count": null,
     "metadata": {},
     "output_type": "execute_result"
    }
   ],
   "source": [
    "# Note the unique values for PN34 across all datasets combined\n",
    "value_options = set()\n",
    "for values in unique_vals.values(): \n",
    "    value_options.update(values)\n",
    "value_options.discard(None)\n",
    "value_options"
   ]
  },
  {
   "cell_type": "markdown",
   "metadata": {},
   "source": [
    "#### Define properties to test, validate, and explore\n",
    "\n",
    "- When PN17 is 0 (No), PN34 should be 8 (N/A)\n",
    "- When PN17 is 1 (Yes), PN34 should be 0, 1, or 9\n",
    "- When PN17 is 9 (Missing), PN34 should be 9"
   ]
  },
  {
   "cell_type": "code",
   "execution_count": null,
   "metadata": {},
   "outputs": [],
   "source": [
    "test = df.clone().collect()"
   ]
  },
  {
   "cell_type": "code",
   "execution_count": null,
   "metadata": {},
   "outputs": [
    {
     "data": {
      "text/html": [
       "<pre style=\"white-space:pre;overflow-x:auto;line-height:normal;font-family:Menlo,'DejaVu Sans Mono',consolas,'Courier New',monospace\">When PN17 == <span style=\"color: #008080; text-decoration-color: #008080; font-weight: bold\">0</span>\n",
       "</pre>\n"
      ],
      "text/plain": [
       "When PN17 == \u001b[1;36m0\u001b[0m\n"
      ]
     },
     "metadata": {},
     "output_type": "display_data"
    },
    {
     "data": {
      "text/html": [
       "<pre style=\"white-space:pre;overflow-x:auto;line-height:normal;font-family:Menlo,'DejaVu Sans Mono',consolas,'Courier New',monospace\"><span style=\"font-weight: bold\">{</span><span style=\"color: #008000; text-decoration-color: #008000\">'G214_PQ_PN34'</span>: <span style=\"font-weight: bold\">[</span><span style=\"color: #008080; text-decoration-color: #008080; font-weight: bold\">8.0</span><span style=\"font-weight: bold\">]}</span>\n",
       "</pre>\n"
      ],
      "text/plain": [
       "\u001b[1m{\u001b[0m\u001b[32m'G214_PQ_PN34'\u001b[0m: \u001b[1m[\u001b[0m\u001b[1;36m8.0\u001b[0m\u001b[1m]\u001b[0m\u001b[1m}\u001b[0m\n"
      ]
     },
     "metadata": {},
     "output_type": "display_data"
    },
    {
     "data": {
      "text/html": [
       "<pre style=\"white-space:pre;overflow-x:auto;line-height:normal;font-family:Menlo,'DejaVu Sans Mono',consolas,'Courier New',monospace\"><span style=\"font-weight: bold\">{</span><span style=\"color: #008000; text-decoration-color: #008000\">'G214_SQ_PN34'</span>: <span style=\"font-weight: bold\">[</span><span style=\"color: #008080; text-decoration-color: #008080; font-weight: bold\">8.0</span><span style=\"font-weight: bold\">]}</span>\n",
       "</pre>\n"
      ],
      "text/plain": [
       "\u001b[1m{\u001b[0m\u001b[32m'G214_SQ_PN34'\u001b[0m: \u001b[1m[\u001b[0m\u001b[1;36m8.0\u001b[0m\u001b[1m]\u001b[0m\u001b[1m}\u001b[0m\n"
      ]
     },
     "metadata": {},
     "output_type": "display_data"
    },
    {
     "data": {
      "text/html": [
       "<pre style=\"white-space:pre;overflow-x:auto;line-height:normal;font-family:Menlo,'DejaVu Sans Mono',consolas,'Courier New',monospace\"><span style=\"font-weight: bold\">{</span><span style=\"color: #008000; text-decoration-color: #008000\">'G217_PQ_PN34'</span>: <span style=\"font-weight: bold\">[</span><span style=\"color: #008080; text-decoration-color: #008080; font-weight: bold\">0.0</span>, <span style=\"color: #008080; text-decoration-color: #008080; font-weight: bold\">7.0</span>, <span style=\"color: #008080; text-decoration-color: #008080; font-weight: bold\">1.0</span>, <span style=\"color: #008080; text-decoration-color: #008080; font-weight: bold\">9.0</span><span style=\"font-weight: bold\">]}</span>\n",
       "</pre>\n"
      ],
      "text/plain": [
       "\u001b[1m{\u001b[0m\u001b[32m'G217_PQ_PN34'\u001b[0m: \u001b[1m[\u001b[0m\u001b[1;36m0.0\u001b[0m, \u001b[1;36m7.0\u001b[0m, \u001b[1;36m1.0\u001b[0m, \u001b[1;36m9.0\u001b[0m\u001b[1m]\u001b[0m\u001b[1m}\u001b[0m\n"
      ]
     },
     "metadata": {},
     "output_type": "display_data"
    },
    {
     "data": {
      "text/html": [
       "<pre style=\"white-space:pre;overflow-x:auto;line-height:normal;font-family:Menlo,'DejaVu Sans Mono',consolas,'Courier New',monospace\"><span style=\"font-weight: bold\">{</span><span style=\"color: #008000; text-decoration-color: #008000\">'G217_SQ_PN34'</span>: <span style=\"font-weight: bold\">[</span><span style=\"color: #008080; text-decoration-color: #008080; font-weight: bold\">0.0</span>, <span style=\"color: #008080; text-decoration-color: #008080; font-weight: bold\">1.0</span>, <span style=\"color: #008080; text-decoration-color: #008080; font-weight: bold\">9.0</span><span style=\"font-weight: bold\">]}</span>\n",
       "</pre>\n"
      ],
      "text/plain": [
       "\u001b[1m{\u001b[0m\u001b[32m'G217_SQ_PN34'\u001b[0m: \u001b[1m[\u001b[0m\u001b[1;36m0.0\u001b[0m, \u001b[1;36m1.0\u001b[0m, \u001b[1;36m9.0\u001b[0m\u001b[1m]\u001b[0m\u001b[1m}\u001b[0m\n"
      ]
     },
     "metadata": {},
     "output_type": "display_data"
    },
    {
     "data": {
      "text/html": [
       "<pre style=\"white-space:pre;overflow-x:auto;line-height:normal;font-family:Menlo,'DejaVu Sans Mono',consolas,'Courier New',monospace\">When PN17 == <span style=\"color: #008080; text-decoration-color: #008080; font-weight: bold\">1</span>\n",
       "</pre>\n"
      ],
      "text/plain": [
       "When PN17 == \u001b[1;36m1\u001b[0m\n"
      ]
     },
     "metadata": {},
     "output_type": "display_data"
    },
    {
     "data": {
      "text/html": [
       "<pre style=\"white-space:pre;overflow-x:auto;line-height:normal;font-family:Menlo,'DejaVu Sans Mono',consolas,'Courier New',monospace\"><span style=\"font-weight: bold\">{</span><span style=\"color: #008000; text-decoration-color: #008000\">'G214_PQ_PN34'</span>: <span style=\"font-weight: bold\">[</span><span style=\"color: #008080; text-decoration-color: #008080; font-weight: bold\">0.0</span>, <span style=\"color: #008080; text-decoration-color: #008080; font-weight: bold\">1.0</span><span style=\"font-weight: bold\">]}</span>\n",
       "</pre>\n"
      ],
      "text/plain": [
       "\u001b[1m{\u001b[0m\u001b[32m'G214_PQ_PN34'\u001b[0m: \u001b[1m[\u001b[0m\u001b[1;36m0.0\u001b[0m, \u001b[1;36m1.0\u001b[0m\u001b[1m]\u001b[0m\u001b[1m}\u001b[0m\n"
      ]
     },
     "metadata": {},
     "output_type": "display_data"
    },
    {
     "data": {
      "text/html": [
       "<pre style=\"white-space:pre;overflow-x:auto;line-height:normal;font-family:Menlo,'DejaVu Sans Mono',consolas,'Courier New',monospace\"><span style=\"font-weight: bold\">{</span><span style=\"color: #008000; text-decoration-color: #008000\">'G214_SQ_PN34'</span>: <span style=\"font-weight: bold\">[</span><span style=\"color: #008080; text-decoration-color: #008080; font-weight: bold\">9.0</span>, <span style=\"color: #008080; text-decoration-color: #008080; font-weight: bold\">1.0</span>, <span style=\"color: #008080; text-decoration-color: #008080; font-weight: bold\">0.0</span><span style=\"font-weight: bold\">]}</span>\n",
       "</pre>\n"
      ],
      "text/plain": [
       "\u001b[1m{\u001b[0m\u001b[32m'G214_SQ_PN34'\u001b[0m: \u001b[1m[\u001b[0m\u001b[1;36m9.0\u001b[0m, \u001b[1;36m1.0\u001b[0m, \u001b[1;36m0.0\u001b[0m\u001b[1m]\u001b[0m\u001b[1m}\u001b[0m\n"
      ]
     },
     "metadata": {},
     "output_type": "display_data"
    },
    {
     "data": {
      "text/html": [
       "<pre style=\"white-space:pre;overflow-x:auto;line-height:normal;font-family:Menlo,'DejaVu Sans Mono',consolas,'Courier New',monospace\"><span style=\"font-weight: bold\">{</span><span style=\"color: #008000; text-decoration-color: #008000\">'G217_PQ_PN34'</span>: <span style=\"font-weight: bold\">[</span><span style=\"color: #008080; text-decoration-color: #008080; font-weight: bold\">9.0</span>, <span style=\"color: #008080; text-decoration-color: #008080; font-weight: bold\">0.0</span>, <span style=\"color: #008080; text-decoration-color: #008080; font-weight: bold\">1.0</span><span style=\"font-weight: bold\">]}</span>\n",
       "</pre>\n"
      ],
      "text/plain": [
       "\u001b[1m{\u001b[0m\u001b[32m'G217_PQ_PN34'\u001b[0m: \u001b[1m[\u001b[0m\u001b[1;36m9.0\u001b[0m, \u001b[1;36m0.0\u001b[0m, \u001b[1;36m1.0\u001b[0m\u001b[1m]\u001b[0m\u001b[1m}\u001b[0m\n"
      ]
     },
     "metadata": {},
     "output_type": "display_data"
    },
    {
     "data": {
      "text/html": [
       "<pre style=\"white-space:pre;overflow-x:auto;line-height:normal;font-family:Menlo,'DejaVu Sans Mono',consolas,'Courier New',monospace\"><span style=\"font-weight: bold\">{</span><span style=\"color: #008000; text-decoration-color: #008000\">'G217_SQ_PN34'</span>: <span style=\"font-weight: bold\">[</span><span style=\"color: #008080; text-decoration-color: #008080; font-weight: bold\">1.0</span>, <span style=\"color: #008080; text-decoration-color: #008080; font-weight: bold\">0.0</span><span style=\"font-weight: bold\">]}</span>\n",
       "</pre>\n"
      ],
      "text/plain": [
       "\u001b[1m{\u001b[0m\u001b[32m'G217_SQ_PN34'\u001b[0m: \u001b[1m[\u001b[0m\u001b[1;36m1.0\u001b[0m, \u001b[1;36m0.0\u001b[0m\u001b[1m]\u001b[0m\u001b[1m}\u001b[0m\n"
      ]
     },
     "metadata": {},
     "output_type": "display_data"
    },
    {
     "data": {
      "text/html": [
       "<pre style=\"white-space:pre;overflow-x:auto;line-height:normal;font-family:Menlo,'DejaVu Sans Mono',consolas,'Courier New',monospace\">When PN17 == <span style=\"color: #008080; text-decoration-color: #008080; font-weight: bold\">9</span>\n",
       "</pre>\n"
      ],
      "text/plain": [
       "When PN17 == \u001b[1;36m9\u001b[0m\n"
      ]
     },
     "metadata": {},
     "output_type": "display_data"
    },
    {
     "data": {
      "text/html": [
       "<pre style=\"white-space:pre;overflow-x:auto;line-height:normal;font-family:Menlo,'DejaVu Sans Mono',consolas,'Courier New',monospace\"><span style=\"font-weight: bold\">{</span><span style=\"color: #008000; text-decoration-color: #008000\">'G214_PQ_PN34'</span>: <span style=\"font-weight: bold\">[</span><span style=\"color: #008080; text-decoration-color: #008080; font-weight: bold\">9.0</span><span style=\"font-weight: bold\">]}</span>\n",
       "</pre>\n"
      ],
      "text/plain": [
       "\u001b[1m{\u001b[0m\u001b[32m'G214_PQ_PN34'\u001b[0m: \u001b[1m[\u001b[0m\u001b[1;36m9.0\u001b[0m\u001b[1m]\u001b[0m\u001b[1m}\u001b[0m\n"
      ]
     },
     "metadata": {},
     "output_type": "display_data"
    },
    {
     "data": {
      "text/html": [
       "<pre style=\"white-space:pre;overflow-x:auto;line-height:normal;font-family:Menlo,'DejaVu Sans Mono',consolas,'Courier New',monospace\"><span style=\"font-weight: bold\">{</span><span style=\"color: #008000; text-decoration-color: #008000\">'G214_SQ_PN34'</span>: <span style=\"font-weight: bold\">[</span><span style=\"color: #008080; text-decoration-color: #008080; font-weight: bold\">9.0</span><span style=\"font-weight: bold\">]}</span>\n",
       "</pre>\n"
      ],
      "text/plain": [
       "\u001b[1m{\u001b[0m\u001b[32m'G214_SQ_PN34'\u001b[0m: \u001b[1m[\u001b[0m\u001b[1;36m9.0\u001b[0m\u001b[1m]\u001b[0m\u001b[1m}\u001b[0m\n"
      ]
     },
     "metadata": {},
     "output_type": "display_data"
    },
    {
     "data": {
      "text/html": [
       "<pre style=\"white-space:pre;overflow-x:auto;line-height:normal;font-family:Menlo,'DejaVu Sans Mono',consolas,'Courier New',monospace\"><span style=\"font-weight: bold\">{</span><span style=\"color: #008000; text-decoration-color: #008000\">'G217_PQ_PN34'</span>: <span style=\"font-weight: bold\">[</span><span style=\"color: #008080; text-decoration-color: #008080; font-weight: bold\">9.0</span><span style=\"font-weight: bold\">]}</span>\n",
       "</pre>\n"
      ],
      "text/plain": [
       "\u001b[1m{\u001b[0m\u001b[32m'G217_PQ_PN34'\u001b[0m: \u001b[1m[\u001b[0m\u001b[1;36m9.0\u001b[0m\u001b[1m]\u001b[0m\u001b[1m}\u001b[0m\n"
      ]
     },
     "metadata": {},
     "output_type": "display_data"
    },
    {
     "data": {
      "text/html": [
       "<pre style=\"white-space:pre;overflow-x:auto;line-height:normal;font-family:Menlo,'DejaVu Sans Mono',consolas,'Courier New',monospace\"><span style=\"font-weight: bold\">{</span><span style=\"color: #008000; text-decoration-color: #008000\">'G217_SQ_PN34'</span>: <span style=\"font-weight: bold\">[</span><span style=\"color: #008080; text-decoration-color: #008080; font-weight: bold\">9.0</span><span style=\"font-weight: bold\">]}</span>\n",
       "</pre>\n"
      ],
      "text/plain": [
       "\u001b[1m{\u001b[0m\u001b[32m'G217_SQ_PN34'\u001b[0m: \u001b[1m[\u001b[0m\u001b[1;36m9.0\u001b[0m\u001b[1m]\u001b[0m\u001b[1m}\u001b[0m\n"
      ]
     },
     "metadata": {},
     "output_type": "display_data"
    }
   ],
   "source": [
    "for value in (0, 1, 9):\n",
    "    rprint(f\"When PN17 == {value}\")\n",
    "    for p in prefixes:\n",
    "        rprint(\n",
    "            test\n",
    "            .filter(pl.col(f\"{p}PN17\") == value)\n",
    "            .select(f\"{p}{var}\")\n",
    "            .unique()\n",
    "            .to_dict(as_series=False)\n",
    "        )"
   ]
  },
  {
   "cell_type": "markdown",
   "metadata": {},
   "source": [
    "As per PN25, properties 2 and 3 were as expected and property 1 did not pass due to differences in the Y17 follow-ups."
   ]
  },
  {
   "cell_type": "code",
   "execution_count": null,
   "metadata": {},
   "outputs": [
    {
     "data": {
      "text/html": [
       "<pre style=\"white-space:pre;overflow-x:auto;line-height:normal;font-family:Menlo,'DejaVu Sans Mono',consolas,'Courier New',monospace\">When PN34 == <span style=\"color: #008080; text-decoration-color: #008080; font-weight: bold\">0.0</span>\n",
       "</pre>\n"
      ],
      "text/plain": [
       "When PN34 == \u001b[1;36m0.0\u001b[0m\n"
      ]
     },
     "metadata": {},
     "output_type": "display_data"
    },
    {
     "data": {
      "text/html": [
       "<pre style=\"white-space:pre;overflow-x:auto;line-height:normal;font-family:Menlo,'DejaVu Sans Mono',consolas,'Courier New',monospace\"><span style=\"font-weight: bold\">{</span><span style=\"color: #008000; text-decoration-color: #008000\">'G214_PQ_PN17'</span>: <span style=\"font-weight: bold\">[</span><span style=\"color: #008080; text-decoration-color: #008080; font-weight: bold\">1.0</span><span style=\"font-weight: bold\">]}</span>\n",
       "</pre>\n"
      ],
      "text/plain": [
       "\u001b[1m{\u001b[0m\u001b[32m'G214_PQ_PN17'\u001b[0m: \u001b[1m[\u001b[0m\u001b[1;36m1.0\u001b[0m\u001b[1m]\u001b[0m\u001b[1m}\u001b[0m\n"
      ]
     },
     "metadata": {},
     "output_type": "display_data"
    },
    {
     "data": {
      "text/html": [
       "<pre style=\"white-space:pre;overflow-x:auto;line-height:normal;font-family:Menlo,'DejaVu Sans Mono',consolas,'Courier New',monospace\"><span style=\"font-weight: bold\">{</span><span style=\"color: #008000; text-decoration-color: #008000\">'G214_SQ_PN17'</span>: <span style=\"font-weight: bold\">[</span><span style=\"color: #008080; text-decoration-color: #008080; font-weight: bold\">1.0</span><span style=\"font-weight: bold\">]}</span>\n",
       "</pre>\n"
      ],
      "text/plain": [
       "\u001b[1m{\u001b[0m\u001b[32m'G214_SQ_PN17'\u001b[0m: \u001b[1m[\u001b[0m\u001b[1;36m1.0\u001b[0m\u001b[1m]\u001b[0m\u001b[1m}\u001b[0m\n"
      ]
     },
     "metadata": {},
     "output_type": "display_data"
    },
    {
     "data": {
      "text/html": [
       "<pre style=\"white-space:pre;overflow-x:auto;line-height:normal;font-family:Menlo,'DejaVu Sans Mono',consolas,'Courier New',monospace\"><span style=\"font-weight: bold\">{</span><span style=\"color: #008000; text-decoration-color: #008000\">'G217_PQ_PN17'</span>: <span style=\"font-weight: bold\">[</span><span style=\"color: #008080; text-decoration-color: #008080; font-weight: bold\">0.0</span>, <span style=\"color: #008080; text-decoration-color: #008080; font-weight: bold\">1.0</span><span style=\"font-weight: bold\">]}</span>\n",
       "</pre>\n"
      ],
      "text/plain": [
       "\u001b[1m{\u001b[0m\u001b[32m'G217_PQ_PN17'\u001b[0m: \u001b[1m[\u001b[0m\u001b[1;36m0.0\u001b[0m, \u001b[1;36m1.0\u001b[0m\u001b[1m]\u001b[0m\u001b[1m}\u001b[0m\n"
      ]
     },
     "metadata": {},
     "output_type": "display_data"
    },
    {
     "data": {
      "text/html": [
       "<pre style=\"white-space:pre;overflow-x:auto;line-height:normal;font-family:Menlo,'DejaVu Sans Mono',consolas,'Courier New',monospace\"><span style=\"font-weight: bold\">{</span><span style=\"color: #008000; text-decoration-color: #008000\">'G217_SQ_PN17'</span>: <span style=\"font-weight: bold\">[</span><span style=\"color: #008080; text-decoration-color: #008080; font-weight: bold\">0.0</span>, <span style=\"color: #008080; text-decoration-color: #008080; font-weight: bold\">1.0</span><span style=\"font-weight: bold\">]}</span>\n",
       "</pre>\n"
      ],
      "text/plain": [
       "\u001b[1m{\u001b[0m\u001b[32m'G217_SQ_PN17'\u001b[0m: \u001b[1m[\u001b[0m\u001b[1;36m0.0\u001b[0m, \u001b[1;36m1.0\u001b[0m\u001b[1m]\u001b[0m\u001b[1m}\u001b[0m\n"
      ]
     },
     "metadata": {},
     "output_type": "display_data"
    },
    {
     "data": {
      "text/html": [
       "<pre style=\"white-space:pre;overflow-x:auto;line-height:normal;font-family:Menlo,'DejaVu Sans Mono',consolas,'Courier New',monospace\">When PN34 == <span style=\"color: #008080; text-decoration-color: #008080; font-weight: bold\">1.0</span>\n",
       "</pre>\n"
      ],
      "text/plain": [
       "When PN34 == \u001b[1;36m1.0\u001b[0m\n"
      ]
     },
     "metadata": {},
     "output_type": "display_data"
    },
    {
     "data": {
      "text/html": [
       "<pre style=\"white-space:pre;overflow-x:auto;line-height:normal;font-family:Menlo,'DejaVu Sans Mono',consolas,'Courier New',monospace\"><span style=\"font-weight: bold\">{</span><span style=\"color: #008000; text-decoration-color: #008000\">'G214_PQ_PN17'</span>: <span style=\"font-weight: bold\">[</span><span style=\"color: #008080; text-decoration-color: #008080; font-weight: bold\">1.0</span><span style=\"font-weight: bold\">]}</span>\n",
       "</pre>\n"
      ],
      "text/plain": [
       "\u001b[1m{\u001b[0m\u001b[32m'G214_PQ_PN17'\u001b[0m: \u001b[1m[\u001b[0m\u001b[1;36m1.0\u001b[0m\u001b[1m]\u001b[0m\u001b[1m}\u001b[0m\n"
      ]
     },
     "metadata": {},
     "output_type": "display_data"
    },
    {
     "data": {
      "text/html": [
       "<pre style=\"white-space:pre;overflow-x:auto;line-height:normal;font-family:Menlo,'DejaVu Sans Mono',consolas,'Courier New',monospace\"><span style=\"font-weight: bold\">{</span><span style=\"color: #008000; text-decoration-color: #008000\">'G214_SQ_PN17'</span>: <span style=\"font-weight: bold\">[</span><span style=\"color: #008080; text-decoration-color: #008080; font-weight: bold\">1.0</span><span style=\"font-weight: bold\">]}</span>\n",
       "</pre>\n"
      ],
      "text/plain": [
       "\u001b[1m{\u001b[0m\u001b[32m'G214_SQ_PN17'\u001b[0m: \u001b[1m[\u001b[0m\u001b[1;36m1.0\u001b[0m\u001b[1m]\u001b[0m\u001b[1m}\u001b[0m\n"
      ]
     },
     "metadata": {},
     "output_type": "display_data"
    },
    {
     "data": {
      "text/html": [
       "<pre style=\"white-space:pre;overflow-x:auto;line-height:normal;font-family:Menlo,'DejaVu Sans Mono',consolas,'Courier New',monospace\"><span style=\"font-weight: bold\">{</span><span style=\"color: #008000; text-decoration-color: #008000\">'G217_PQ_PN17'</span>: <span style=\"font-weight: bold\">[</span><span style=\"color: #008080; text-decoration-color: #008080; font-weight: bold\">0.0</span>, <span style=\"color: #008080; text-decoration-color: #008080; font-weight: bold\">1.0</span><span style=\"font-weight: bold\">]}</span>\n",
       "</pre>\n"
      ],
      "text/plain": [
       "\u001b[1m{\u001b[0m\u001b[32m'G217_PQ_PN17'\u001b[0m: \u001b[1m[\u001b[0m\u001b[1;36m0.0\u001b[0m, \u001b[1;36m1.0\u001b[0m\u001b[1m]\u001b[0m\u001b[1m}\u001b[0m\n"
      ]
     },
     "metadata": {},
     "output_type": "display_data"
    },
    {
     "data": {
      "text/html": [
       "<pre style=\"white-space:pre;overflow-x:auto;line-height:normal;font-family:Menlo,'DejaVu Sans Mono',consolas,'Courier New',monospace\"><span style=\"font-weight: bold\">{</span><span style=\"color: #008000; text-decoration-color: #008000\">'G217_SQ_PN17'</span>: <span style=\"font-weight: bold\">[</span><span style=\"color: #008080; text-decoration-color: #008080; font-weight: bold\">1.0</span>, <span style=\"color: #008080; text-decoration-color: #008080; font-weight: bold\">0.0</span><span style=\"font-weight: bold\">]}</span>\n",
       "</pre>\n"
      ],
      "text/plain": [
       "\u001b[1m{\u001b[0m\u001b[32m'G217_SQ_PN17'\u001b[0m: \u001b[1m[\u001b[0m\u001b[1;36m1.0\u001b[0m, \u001b[1;36m0.0\u001b[0m\u001b[1m]\u001b[0m\u001b[1m}\u001b[0m\n"
      ]
     },
     "metadata": {},
     "output_type": "display_data"
    },
    {
     "data": {
      "text/html": [
       "<pre style=\"white-space:pre;overflow-x:auto;line-height:normal;font-family:Menlo,'DejaVu Sans Mono',consolas,'Courier New',monospace\">When PN34 == <span style=\"color: #008080; text-decoration-color: #008080; font-weight: bold\">7.0</span>\n",
       "</pre>\n"
      ],
      "text/plain": [
       "When PN34 == \u001b[1;36m7.0\u001b[0m\n"
      ]
     },
     "metadata": {},
     "output_type": "display_data"
    },
    {
     "data": {
      "text/html": [
       "<pre style=\"white-space:pre;overflow-x:auto;line-height:normal;font-family:Menlo,'DejaVu Sans Mono',consolas,'Courier New',monospace\"><span style=\"font-weight: bold\">{</span><span style=\"color: #008000; text-decoration-color: #008000\">'G214_PQ_PN17'</span>: <span style=\"font-weight: bold\">[]}</span>\n",
       "</pre>\n"
      ],
      "text/plain": [
       "\u001b[1m{\u001b[0m\u001b[32m'G214_PQ_PN17'\u001b[0m: \u001b[1m[\u001b[0m\u001b[1m]\u001b[0m\u001b[1m}\u001b[0m\n"
      ]
     },
     "metadata": {},
     "output_type": "display_data"
    },
    {
     "data": {
      "text/html": [
       "<pre style=\"white-space:pre;overflow-x:auto;line-height:normal;font-family:Menlo,'DejaVu Sans Mono',consolas,'Courier New',monospace\"><span style=\"font-weight: bold\">{</span><span style=\"color: #008000; text-decoration-color: #008000\">'G214_SQ_PN17'</span>: <span style=\"font-weight: bold\">[]}</span>\n",
       "</pre>\n"
      ],
      "text/plain": [
       "\u001b[1m{\u001b[0m\u001b[32m'G214_SQ_PN17'\u001b[0m: \u001b[1m[\u001b[0m\u001b[1m]\u001b[0m\u001b[1m}\u001b[0m\n"
      ]
     },
     "metadata": {},
     "output_type": "display_data"
    },
    {
     "data": {
      "text/html": [
       "<pre style=\"white-space:pre;overflow-x:auto;line-height:normal;font-family:Menlo,'DejaVu Sans Mono',consolas,'Courier New',monospace\"><span style=\"font-weight: bold\">{</span><span style=\"color: #008000; text-decoration-color: #008000\">'G217_PQ_PN17'</span>: <span style=\"font-weight: bold\">[</span><span style=\"color: #008080; text-decoration-color: #008080; font-weight: bold\">0.0</span><span style=\"font-weight: bold\">]}</span>\n",
       "</pre>\n"
      ],
      "text/plain": [
       "\u001b[1m{\u001b[0m\u001b[32m'G217_PQ_PN17'\u001b[0m: \u001b[1m[\u001b[0m\u001b[1;36m0.0\u001b[0m\u001b[1m]\u001b[0m\u001b[1m}\u001b[0m\n"
      ]
     },
     "metadata": {},
     "output_type": "display_data"
    },
    {
     "data": {
      "text/html": [
       "<pre style=\"white-space:pre;overflow-x:auto;line-height:normal;font-family:Menlo,'DejaVu Sans Mono',consolas,'Courier New',monospace\"><span style=\"font-weight: bold\">{</span><span style=\"color: #008000; text-decoration-color: #008000\">'G217_SQ_PN17'</span>: <span style=\"font-weight: bold\">[]}</span>\n",
       "</pre>\n"
      ],
      "text/plain": [
       "\u001b[1m{\u001b[0m\u001b[32m'G217_SQ_PN17'\u001b[0m: \u001b[1m[\u001b[0m\u001b[1m]\u001b[0m\u001b[1m}\u001b[0m\n"
      ]
     },
     "metadata": {},
     "output_type": "display_data"
    },
    {
     "data": {
      "text/html": [
       "<pre style=\"white-space:pre;overflow-x:auto;line-height:normal;font-family:Menlo,'DejaVu Sans Mono',consolas,'Courier New',monospace\">When PN34 == <span style=\"color: #008080; text-decoration-color: #008080; font-weight: bold\">8.0</span>\n",
       "</pre>\n"
      ],
      "text/plain": [
       "When PN34 == \u001b[1;36m8.0\u001b[0m\n"
      ]
     },
     "metadata": {},
     "output_type": "display_data"
    },
    {
     "data": {
      "text/html": [
       "<pre style=\"white-space:pre;overflow-x:auto;line-height:normal;font-family:Menlo,'DejaVu Sans Mono',consolas,'Courier New',monospace\"><span style=\"font-weight: bold\">{</span><span style=\"color: #008000; text-decoration-color: #008000\">'G214_PQ_PN17'</span>: <span style=\"font-weight: bold\">[</span><span style=\"color: #008080; text-decoration-color: #008080; font-weight: bold\">0.0</span><span style=\"font-weight: bold\">]}</span>\n",
       "</pre>\n"
      ],
      "text/plain": [
       "\u001b[1m{\u001b[0m\u001b[32m'G214_PQ_PN17'\u001b[0m: \u001b[1m[\u001b[0m\u001b[1;36m0.0\u001b[0m\u001b[1m]\u001b[0m\u001b[1m}\u001b[0m\n"
      ]
     },
     "metadata": {},
     "output_type": "display_data"
    },
    {
     "data": {
      "text/html": [
       "<pre style=\"white-space:pre;overflow-x:auto;line-height:normal;font-family:Menlo,'DejaVu Sans Mono',consolas,'Courier New',monospace\"><span style=\"font-weight: bold\">{</span><span style=\"color: #008000; text-decoration-color: #008000\">'G214_SQ_PN17'</span>: <span style=\"font-weight: bold\">[</span><span style=\"color: #008080; text-decoration-color: #008080; font-weight: bold\">0.0</span><span style=\"font-weight: bold\">]}</span>\n",
       "</pre>\n"
      ],
      "text/plain": [
       "\u001b[1m{\u001b[0m\u001b[32m'G214_SQ_PN17'\u001b[0m: \u001b[1m[\u001b[0m\u001b[1;36m0.0\u001b[0m\u001b[1m]\u001b[0m\u001b[1m}\u001b[0m\n"
      ]
     },
     "metadata": {},
     "output_type": "display_data"
    },
    {
     "data": {
      "text/html": [
       "<pre style=\"white-space:pre;overflow-x:auto;line-height:normal;font-family:Menlo,'DejaVu Sans Mono',consolas,'Courier New',monospace\"><span style=\"font-weight: bold\">{</span><span style=\"color: #008000; text-decoration-color: #008000\">'G217_PQ_PN17'</span>: <span style=\"font-weight: bold\">[]}</span>\n",
       "</pre>\n"
      ],
      "text/plain": [
       "\u001b[1m{\u001b[0m\u001b[32m'G217_PQ_PN17'\u001b[0m: \u001b[1m[\u001b[0m\u001b[1m]\u001b[0m\u001b[1m}\u001b[0m\n"
      ]
     },
     "metadata": {},
     "output_type": "display_data"
    },
    {
     "data": {
      "text/html": [
       "<pre style=\"white-space:pre;overflow-x:auto;line-height:normal;font-family:Menlo,'DejaVu Sans Mono',consolas,'Courier New',monospace\"><span style=\"font-weight: bold\">{</span><span style=\"color: #008000; text-decoration-color: #008000\">'G217_SQ_PN17'</span>: <span style=\"font-weight: bold\">[]}</span>\n",
       "</pre>\n"
      ],
      "text/plain": [
       "\u001b[1m{\u001b[0m\u001b[32m'G217_SQ_PN17'\u001b[0m: \u001b[1m[\u001b[0m\u001b[1m]\u001b[0m\u001b[1m}\u001b[0m\n"
      ]
     },
     "metadata": {},
     "output_type": "display_data"
    },
    {
     "data": {
      "text/html": [
       "<pre style=\"white-space:pre;overflow-x:auto;line-height:normal;font-family:Menlo,'DejaVu Sans Mono',consolas,'Courier New',monospace\">When PN34 == <span style=\"color: #008080; text-decoration-color: #008080; font-weight: bold\">9.0</span>\n",
       "</pre>\n"
      ],
      "text/plain": [
       "When PN34 == \u001b[1;36m9.0\u001b[0m\n"
      ]
     },
     "metadata": {},
     "output_type": "display_data"
    },
    {
     "data": {
      "text/html": [
       "<pre style=\"white-space:pre;overflow-x:auto;line-height:normal;font-family:Menlo,'DejaVu Sans Mono',consolas,'Courier New',monospace\"><span style=\"font-weight: bold\">{</span><span style=\"color: #008000; text-decoration-color: #008000\">'G214_PQ_PN17'</span>: <span style=\"font-weight: bold\">[</span><span style=\"color: #008080; text-decoration-color: #008080; font-weight: bold\">9.0</span><span style=\"font-weight: bold\">]}</span>\n",
       "</pre>\n"
      ],
      "text/plain": [
       "\u001b[1m{\u001b[0m\u001b[32m'G214_PQ_PN17'\u001b[0m: \u001b[1m[\u001b[0m\u001b[1;36m9.0\u001b[0m\u001b[1m]\u001b[0m\u001b[1m}\u001b[0m\n"
      ]
     },
     "metadata": {},
     "output_type": "display_data"
    },
    {
     "data": {
      "text/html": [
       "<pre style=\"white-space:pre;overflow-x:auto;line-height:normal;font-family:Menlo,'DejaVu Sans Mono',consolas,'Courier New',monospace\"><span style=\"font-weight: bold\">{</span><span style=\"color: #008000; text-decoration-color: #008000\">'G214_SQ_PN17'</span>: <span style=\"font-weight: bold\">[</span><span style=\"color: #008080; text-decoration-color: #008080; font-weight: bold\">9.0</span>, <span style=\"color: #008080; text-decoration-color: #008080; font-weight: bold\">1.0</span><span style=\"font-weight: bold\">]}</span>\n",
       "</pre>\n"
      ],
      "text/plain": [
       "\u001b[1m{\u001b[0m\u001b[32m'G214_SQ_PN17'\u001b[0m: \u001b[1m[\u001b[0m\u001b[1;36m9.0\u001b[0m, \u001b[1;36m1.0\u001b[0m\u001b[1m]\u001b[0m\u001b[1m}\u001b[0m\n"
      ]
     },
     "metadata": {},
     "output_type": "display_data"
    },
    {
     "data": {
      "text/html": [
       "<pre style=\"white-space:pre;overflow-x:auto;line-height:normal;font-family:Menlo,'DejaVu Sans Mono',consolas,'Courier New',monospace\"><span style=\"font-weight: bold\">{</span><span style=\"color: #008000; text-decoration-color: #008000\">'G217_PQ_PN17'</span>: <span style=\"font-weight: bold\">[</span><span style=\"color: #008080; text-decoration-color: #008080; font-weight: bold\">9.0</span>, <span style=\"color: #008080; text-decoration-color: #008080; font-weight: bold\">1.0</span>, <span style=\"color: #008080; text-decoration-color: #008080; font-weight: bold\">0.0</span><span style=\"font-weight: bold\">]}</span>\n",
       "</pre>\n"
      ],
      "text/plain": [
       "\u001b[1m{\u001b[0m\u001b[32m'G217_PQ_PN17'\u001b[0m: \u001b[1m[\u001b[0m\u001b[1;36m9.0\u001b[0m, \u001b[1;36m1.0\u001b[0m, \u001b[1;36m0.0\u001b[0m\u001b[1m]\u001b[0m\u001b[1m}\u001b[0m\n"
      ]
     },
     "metadata": {},
     "output_type": "display_data"
    },
    {
     "data": {
      "text/html": [
       "<pre style=\"white-space:pre;overflow-x:auto;line-height:normal;font-family:Menlo,'DejaVu Sans Mono',consolas,'Courier New',monospace\"><span style=\"font-weight: bold\">{</span><span style=\"color: #008000; text-decoration-color: #008000\">'G217_SQ_PN17'</span>: <span style=\"font-weight: bold\">[</span><span style=\"color: #008080; text-decoration-color: #008080; font-weight: bold\">0.0</span>, <span style=\"color: #008080; text-decoration-color: #008080; font-weight: bold\">9.0</span><span style=\"font-weight: bold\">]}</span>\n",
       "</pre>\n"
      ],
      "text/plain": [
       "\u001b[1m{\u001b[0m\u001b[32m'G217_SQ_PN17'\u001b[0m: \u001b[1m[\u001b[0m\u001b[1;36m0.0\u001b[0m, \u001b[1;36m9.0\u001b[0m\u001b[1m]\u001b[0m\u001b[1m}\u001b[0m\n"
      ]
     },
     "metadata": {},
     "output_type": "display_data"
    }
   ],
   "source": [
    "for value in value_options:\n",
    "    rprint(f\"When {var} == {value}\")\n",
    "    for p in prefixes:\n",
    "        rprint(\n",
    "            test\n",
    "            .filter(pl.col(f\"{p}{var}\") == value)\n",
    "            .select(f\"{p}PN17\")\n",
    "            .unique()\n",
    "            .to_dict(as_series=False)\n",
    "        )"
   ]
  },
  {
   "cell_type": "markdown",
   "metadata": {},
   "source": [
    "No additional, unexpected values were found."
   ]
  },
  {
   "cell_type": "markdown",
   "metadata": {},
   "source": [
    "### Metadata"
   ]
  },
  {
   "cell_type": "markdown",
   "metadata": {},
   "source": [
    "Clear discrepancies in labels and field values.\n",
    "\n",
    "Changes:\n",
    "- Harmonised label to \"Sought professional advice/treatment\"\n",
    "- Updated field values to reflect changes in data"
   ]
  },
  {
   "cell_type": "code",
   "execution_count": null,
   "metadata": {},
   "outputs": [],
   "source": [
    "m = filter_metadata(var, df, meta)"
   ]
  },
  {
   "cell_type": "code",
   "execution_count": null,
   "metadata": {},
   "outputs": [
    {
     "data": {
      "text/html": [
       "<pre style=\"white-space:pre;overflow-x:auto;line-height:normal;font-family:Menlo,'DejaVu Sans Mono',consolas,'Courier New',monospace\"><span style=\"color: #800080; text-decoration-color: #800080; font-weight: bold\">defaultdict</span><span style=\"font-weight: bold\">(&lt;</span><span style=\"color: #ff00ff; text-decoration-color: #ff00ff; font-weight: bold\">class</span><span style=\"color: #000000; text-decoration-color: #000000\"> </span><span style=\"color: #008000; text-decoration-color: #008000\">'dict'</span><span style=\"font-weight: bold\">&gt;</span>, <span style=\"font-weight: bold\">{</span>\n",
       "    <span style=\"color: #008000; text-decoration-color: #008000\">'Label'</span>: <span style=\"font-weight: bold\">{</span>\n",
       "        <span style=\"color: #008000; text-decoration-color: #008000\">'G214_PQ_PN34'</span>: <span style=\"color: #008000; text-decoration-color: #008000\">'Takes meds to relieve back pain'</span>,\n",
       "        <span style=\"color: #008000; text-decoration-color: #008000\">'G214_SQ_PN34'</span>: <span style=\"color: #008000; text-decoration-color: #008000\">'Takes meds to relieve back pain'</span>,\n",
       "        <span style=\"color: #008000; text-decoration-color: #008000\">'G217_PQ_PN34'</span>: <span style=\"color: #008000; text-decoration-color: #008000\">'Ever taken medication to relieve back pain'</span>,\n",
       "        <span style=\"color: #008000; text-decoration-color: #008000\">'G217_SQ_PN34'</span>: <span style=\"color: #008000; text-decoration-color: #008000\">'Take any medication for back pain?'</span>\n",
       "    <span style=\"font-weight: bold\">}</span>,\n",
       "    <span style=\"color: #008000; text-decoration-color: #008000\">'Field Type'</span>: <span style=\"font-weight: bold\">{</span>\n",
       "        <span style=\"color: #008000; text-decoration-color: #008000\">'G214_PQ_PN34'</span>: <span style=\"color: #008000; text-decoration-color: #008000\">'Numeric'</span>,\n",
       "        <span style=\"color: #008000; text-decoration-color: #008000\">'G214_SQ_PN34'</span>: <span style=\"color: #008000; text-decoration-color: #008000\">'Numeric'</span>,\n",
       "        <span style=\"color: #008000; text-decoration-color: #008000\">'G217_PQ_PN34'</span>: <span style=\"color: #008000; text-decoration-color: #008000\">'Numeric'</span>,\n",
       "        <span style=\"color: #008000; text-decoration-color: #008000\">'G217_SQ_PN34'</span>: <span style=\"color: #008000; text-decoration-color: #008000\">'Numeric'</span>\n",
       "    <span style=\"font-weight: bold\">}</span>,\n",
       "    <span style=\"color: #008000; text-decoration-color: #008000\">'Field Width'</span>: <span style=\"font-weight: bold\">{</span><span style=\"color: #008000; text-decoration-color: #008000\">'G214_PQ_PN34'</span>: <span style=\"color: #008080; text-decoration-color: #008080; font-weight: bold\">8</span>, <span style=\"color: #008000; text-decoration-color: #008000\">'G214_SQ_PN34'</span>: <span style=\"color: #008080; text-decoration-color: #008080; font-weight: bold\">8</span>, <span style=\"color: #008000; text-decoration-color: #008000\">'G217_PQ_PN34'</span>: <span style=\"color: #008080; text-decoration-color: #008080; font-weight: bold\">8</span>, <span style=\"color: #008000; text-decoration-color: #008000\">'G217_SQ_PN34'</span>: <span style=\"color: #008080; text-decoration-color: #008080; font-weight: bold\">8</span><span style=\"font-weight: bold\">}</span>,\n",
       "    <span style=\"color: #008000; text-decoration-color: #008000\">'Decimals'</span>: <span style=\"font-weight: bold\">{</span><span style=\"color: #008000; text-decoration-color: #008000\">'G214_PQ_PN34'</span>: <span style=\"color: #008000; text-decoration-color: #008000\">'0'</span>, <span style=\"color: #008000; text-decoration-color: #008000\">'G214_SQ_PN34'</span>: <span style=\"color: #008000; text-decoration-color: #008000\">'0'</span>, <span style=\"color: #008000; text-decoration-color: #008000\">'G217_PQ_PN34'</span>: <span style=\"color: #008000; text-decoration-color: #008000\">'0'</span>, <span style=\"color: #008000; text-decoration-color: #008000\">'G217_SQ_PN34'</span>: <span style=\"color: #008000; text-decoration-color: #008000\">'0'</span><span style=\"font-weight: bold\">}</span>,\n",
       "    <span style=\"color: #008000; text-decoration-color: #008000\">'Variable Type'</span>: <span style=\"font-weight: bold\">{</span>\n",
       "        <span style=\"color: #008000; text-decoration-color: #008000\">'G214_PQ_PN34'</span>: <span style=\"color: #008000; text-decoration-color: #008000\">'scale'</span>,\n",
       "        <span style=\"color: #008000; text-decoration-color: #008000\">'G214_SQ_PN34'</span>: <span style=\"color: #008000; text-decoration-color: #008000\">'scale'</span>,\n",
       "        <span style=\"color: #008000; text-decoration-color: #008000\">'G217_PQ_PN34'</span>: <span style=\"color: #008000; text-decoration-color: #008000\">'scale'</span>,\n",
       "        <span style=\"color: #008000; text-decoration-color: #008000\">'G217_SQ_PN34'</span>: <span style=\"color: #008000; text-decoration-color: #008000\">'scale'</span>\n",
       "    <span style=\"font-weight: bold\">}</span>,\n",
       "    <span style=\"color: #008000; text-decoration-color: #008000\">'Field Values'</span>: <span style=\"font-weight: bold\">{</span>\n",
       "        <span style=\"color: #008000; text-decoration-color: #008000\">'G214_PQ_PN34'</span>: <span style=\"font-weight: bold\">{</span><span style=\"color: #008080; text-decoration-color: #008080; font-weight: bold\">0.0</span>: <span style=\"color: #008000; text-decoration-color: #008000\">'No'</span>, <span style=\"color: #008080; text-decoration-color: #008080; font-weight: bold\">1.0</span>: <span style=\"color: #008000; text-decoration-color: #008000\">'Yes'</span>, <span style=\"color: #008080; text-decoration-color: #008080; font-weight: bold\">8.0</span>: <span style=\"color: #008000; text-decoration-color: #008000\">'Not applicable'</span>, <span style=\"color: #008080; text-decoration-color: #008080; font-weight: bold\">9.0</span>: <span style=\"color: #008000; text-decoration-color: #008000\">'Not stated'</span><span style=\"font-weight: bold\">}</span>,\n",
       "        <span style=\"color: #008000; text-decoration-color: #008000\">'G214_SQ_PN34'</span>: <span style=\"font-weight: bold\">{</span><span style=\"color: #008080; text-decoration-color: #008080; font-weight: bold\">0.0</span>: <span style=\"color: #008000; text-decoration-color: #008000\">'No'</span>, <span style=\"color: #008080; text-decoration-color: #008080; font-weight: bold\">1.0</span>: <span style=\"color: #008000; text-decoration-color: #008000\">'Yes'</span>, <span style=\"color: #008080; text-decoration-color: #008080; font-weight: bold\">8.0</span>: <span style=\"color: #008000; text-decoration-color: #008000\">'Not applicable'</span>, <span style=\"color: #008080; text-decoration-color: #008080; font-weight: bold\">9.0</span>: <span style=\"color: #008000; text-decoration-color: #008000\">'Not stated'</span><span style=\"font-weight: bold\">}</span>,\n",
       "        <span style=\"color: #008000; text-decoration-color: #008000\">'G217_PQ_PN34'</span>: <span style=\"font-weight: bold\">{</span>\n",
       "            <span style=\"color: #008080; text-decoration-color: #008080; font-weight: bold\">0.0</span>: <span style=\"color: #008000; text-decoration-color: #008000\">'No'</span>,\n",
       "            <span style=\"color: #008080; text-decoration-color: #008080; font-weight: bold\">1.0</span>: <span style=\"color: #008000; text-decoration-color: #008000\">'Yes'</span>,\n",
       "            <span style=\"color: #008080; text-decoration-color: #008080; font-weight: bold\">7.0</span>: <span style=\"color: #008000; text-decoration-color: #008000\">'Involved in incorrect skip - not answered'</span>,\n",
       "            <span style=\"color: #008080; text-decoration-color: #008080; font-weight: bold\">9.0</span>: <span style=\"color: #008000; text-decoration-color: #008000\">'Not stated'</span>\n",
       "        <span style=\"font-weight: bold\">}</span>,\n",
       "        <span style=\"color: #008000; text-decoration-color: #008000\">'G217_SQ_PN34'</span>: <span style=\"font-weight: bold\">{</span><span style=\"color: #008080; text-decoration-color: #008080; font-weight: bold\">0.0</span>: <span style=\"color: #008000; text-decoration-color: #008000\">'No'</span>, <span style=\"color: #008080; text-decoration-color: #008080; font-weight: bold\">1.0</span>: <span style=\"color: #008000; text-decoration-color: #008000\">'Yes'</span>, <span style=\"color: #008080; text-decoration-color: #008080; font-weight: bold\">9.0</span>: <span style=\"color: #008000; text-decoration-color: #008000\">'Not stated'</span><span style=\"font-weight: bold\">}</span>\n",
       "    <span style=\"font-weight: bold\">}</span>\n",
       "<span style=\"font-weight: bold\">})</span>\n",
       "</pre>\n"
      ],
      "text/plain": [
       "\u001b[1;35mdefaultdict\u001b[0m\u001b[1m(\u001b[0m\u001b[1m<\u001b[0m\u001b[1;95mclass\u001b[0m\u001b[39m \u001b[0m\u001b[32m'dict'\u001b[0m\u001b[1m>\u001b[0m, \u001b[1m{\u001b[0m\n",
       "    \u001b[32m'Label'\u001b[0m: \u001b[1m{\u001b[0m\n",
       "        \u001b[32m'G214_PQ_PN34'\u001b[0m: \u001b[32m'Takes meds to relieve back pain'\u001b[0m,\n",
       "        \u001b[32m'G214_SQ_PN34'\u001b[0m: \u001b[32m'Takes meds to relieve back pain'\u001b[0m,\n",
       "        \u001b[32m'G217_PQ_PN34'\u001b[0m: \u001b[32m'Ever taken medication to relieve back pain'\u001b[0m,\n",
       "        \u001b[32m'G217_SQ_PN34'\u001b[0m: \u001b[32m'Take any medication for back pain?'\u001b[0m\n",
       "    \u001b[1m}\u001b[0m,\n",
       "    \u001b[32m'Field Type'\u001b[0m: \u001b[1m{\u001b[0m\n",
       "        \u001b[32m'G214_PQ_PN34'\u001b[0m: \u001b[32m'Numeric'\u001b[0m,\n",
       "        \u001b[32m'G214_SQ_PN34'\u001b[0m: \u001b[32m'Numeric'\u001b[0m,\n",
       "        \u001b[32m'G217_PQ_PN34'\u001b[0m: \u001b[32m'Numeric'\u001b[0m,\n",
       "        \u001b[32m'G217_SQ_PN34'\u001b[0m: \u001b[32m'Numeric'\u001b[0m\n",
       "    \u001b[1m}\u001b[0m,\n",
       "    \u001b[32m'Field Width'\u001b[0m: \u001b[1m{\u001b[0m\u001b[32m'G214_PQ_PN34'\u001b[0m: \u001b[1;36m8\u001b[0m, \u001b[32m'G214_SQ_PN34'\u001b[0m: \u001b[1;36m8\u001b[0m, \u001b[32m'G217_PQ_PN34'\u001b[0m: \u001b[1;36m8\u001b[0m, \u001b[32m'G217_SQ_PN34'\u001b[0m: \u001b[1;36m8\u001b[0m\u001b[1m}\u001b[0m,\n",
       "    \u001b[32m'Decimals'\u001b[0m: \u001b[1m{\u001b[0m\u001b[32m'G214_PQ_PN34'\u001b[0m: \u001b[32m'0'\u001b[0m, \u001b[32m'G214_SQ_PN34'\u001b[0m: \u001b[32m'0'\u001b[0m, \u001b[32m'G217_PQ_PN34'\u001b[0m: \u001b[32m'0'\u001b[0m, \u001b[32m'G217_SQ_PN34'\u001b[0m: \u001b[32m'0'\u001b[0m\u001b[1m}\u001b[0m,\n",
       "    \u001b[32m'Variable Type'\u001b[0m: \u001b[1m{\u001b[0m\n",
       "        \u001b[32m'G214_PQ_PN34'\u001b[0m: \u001b[32m'scale'\u001b[0m,\n",
       "        \u001b[32m'G214_SQ_PN34'\u001b[0m: \u001b[32m'scale'\u001b[0m,\n",
       "        \u001b[32m'G217_PQ_PN34'\u001b[0m: \u001b[32m'scale'\u001b[0m,\n",
       "        \u001b[32m'G217_SQ_PN34'\u001b[0m: \u001b[32m'scale'\u001b[0m\n",
       "    \u001b[1m}\u001b[0m,\n",
       "    \u001b[32m'Field Values'\u001b[0m: \u001b[1m{\u001b[0m\n",
       "        \u001b[32m'G214_PQ_PN34'\u001b[0m: \u001b[1m{\u001b[0m\u001b[1;36m0.0\u001b[0m: \u001b[32m'No'\u001b[0m, \u001b[1;36m1.0\u001b[0m: \u001b[32m'Yes'\u001b[0m, \u001b[1;36m8.0\u001b[0m: \u001b[32m'Not applicable'\u001b[0m, \u001b[1;36m9.0\u001b[0m: \u001b[32m'Not stated'\u001b[0m\u001b[1m}\u001b[0m,\n",
       "        \u001b[32m'G214_SQ_PN34'\u001b[0m: \u001b[1m{\u001b[0m\u001b[1;36m0.0\u001b[0m: \u001b[32m'No'\u001b[0m, \u001b[1;36m1.0\u001b[0m: \u001b[32m'Yes'\u001b[0m, \u001b[1;36m8.0\u001b[0m: \u001b[32m'Not applicable'\u001b[0m, \u001b[1;36m9.0\u001b[0m: \u001b[32m'Not stated'\u001b[0m\u001b[1m}\u001b[0m,\n",
       "        \u001b[32m'G217_PQ_PN34'\u001b[0m: \u001b[1m{\u001b[0m\n",
       "            \u001b[1;36m0.0\u001b[0m: \u001b[32m'No'\u001b[0m,\n",
       "            \u001b[1;36m1.0\u001b[0m: \u001b[32m'Yes'\u001b[0m,\n",
       "            \u001b[1;36m7.0\u001b[0m: \u001b[32m'Involved in incorrect skip - not answered'\u001b[0m,\n",
       "            \u001b[1;36m9.0\u001b[0m: \u001b[32m'Not stated'\u001b[0m\n",
       "        \u001b[1m}\u001b[0m,\n",
       "        \u001b[32m'G217_SQ_PN34'\u001b[0m: \u001b[1m{\u001b[0m\u001b[1;36m0.0\u001b[0m: \u001b[32m'No'\u001b[0m, \u001b[1;36m1.0\u001b[0m: \u001b[32m'Yes'\u001b[0m, \u001b[1;36m9.0\u001b[0m: \u001b[32m'Not stated'\u001b[0m\u001b[1m}\u001b[0m\n",
       "    \u001b[1m}\u001b[0m\n",
       "\u001b[1m}\u001b[0m\u001b[1m)\u001b[0m\n"
      ]
     },
     "metadata": {},
     "output_type": "display_data"
    }
   ],
   "source": [
    "rprint(m)"
   ]
  },
  {
   "cell_type": "code",
   "execution_count": null,
   "metadata": {},
   "outputs": [
    {
     "data": {
      "text/html": [
       "<pre style=\"white-space:pre;overflow-x:auto;line-height:normal;font-family:Menlo,'DejaVu Sans Mono',consolas,'Courier New',monospace\"><span style=\"font-weight: bold\">{</span>\n",
       "    <span style=\"color: #008000; text-decoration-color: #008000\">'G214_PQ_PN34'</span>: <span style=\"font-weight: bold\">{</span><span style=\"color: #008080; text-decoration-color: #008080; font-weight: bold\">0.0</span>: <span style=\"color: #008000; text-decoration-color: #008000\">'No'</span>, <span style=\"color: #008080; text-decoration-color: #008080; font-weight: bold\">1.0</span>: <span style=\"color: #008000; text-decoration-color: #008000\">'Yes'</span>, <span style=\"color: #008080; text-decoration-color: #008080; font-weight: bold\">8.0</span>: <span style=\"color: #008000; text-decoration-color: #008000\">'Not applicable'</span>, <span style=\"color: #008080; text-decoration-color: #008080; font-weight: bold\">9.0</span>: <span style=\"color: #008000; text-decoration-color: #008000\">'Not stated'</span><span style=\"font-weight: bold\">}</span>,\n",
       "    <span style=\"color: #008000; text-decoration-color: #008000\">'G214_SQ_PN34'</span>: <span style=\"font-weight: bold\">{</span><span style=\"color: #008080; text-decoration-color: #008080; font-weight: bold\">0.0</span>: <span style=\"color: #008000; text-decoration-color: #008000\">'No'</span>, <span style=\"color: #008080; text-decoration-color: #008080; font-weight: bold\">1.0</span>: <span style=\"color: #008000; text-decoration-color: #008000\">'Yes'</span>, <span style=\"color: #008080; text-decoration-color: #008080; font-weight: bold\">8.0</span>: <span style=\"color: #008000; text-decoration-color: #008000\">'Not applicable'</span>, <span style=\"color: #008080; text-decoration-color: #008080; font-weight: bold\">9.0</span>: <span style=\"color: #008000; text-decoration-color: #008000\">'Not stated'</span><span style=\"font-weight: bold\">}</span>,\n",
       "    <span style=\"color: #008000; text-decoration-color: #008000\">'G217_PQ_PN34'</span>: <span style=\"font-weight: bold\">{</span><span style=\"color: #008080; text-decoration-color: #008080; font-weight: bold\">0.0</span>: <span style=\"color: #008000; text-decoration-color: #008000\">'No'</span>, <span style=\"color: #008080; text-decoration-color: #008080; font-weight: bold\">1.0</span>: <span style=\"color: #008000; text-decoration-color: #008000\">'Yes'</span>, <span style=\"color: #008080; text-decoration-color: #008080; font-weight: bold\">7.0</span>: <span style=\"color: #008000; text-decoration-color: #008000\">'Involved in incorrect skip - not answered'</span>, <span style=\"color: #008080; text-decoration-color: #008080; font-weight: bold\">9.0</span>: <span style=\"color: #008000; text-decoration-color: #008000\">'Not stated'</span><span style=\"font-weight: bold\">}</span>,\n",
       "    <span style=\"color: #008000; text-decoration-color: #008000\">'G217_SQ_PN34'</span>: <span style=\"font-weight: bold\">{</span><span style=\"color: #008080; text-decoration-color: #008080; font-weight: bold\">0.0</span>: <span style=\"color: #008000; text-decoration-color: #008000\">'No'</span>, <span style=\"color: #008080; text-decoration-color: #008080; font-weight: bold\">1.0</span>: <span style=\"color: #008000; text-decoration-color: #008000\">'Yes'</span>, <span style=\"color: #008080; text-decoration-color: #008080; font-weight: bold\">9.0</span>: <span style=\"color: #008000; text-decoration-color: #008000\">'Not stated'</span><span style=\"font-weight: bold\">}</span>\n",
       "<span style=\"font-weight: bold\">}</span>\n",
       "</pre>\n"
      ],
      "text/plain": [
       "\u001b[1m{\u001b[0m\n",
       "    \u001b[32m'G214_PQ_PN34'\u001b[0m: \u001b[1m{\u001b[0m\u001b[1;36m0.0\u001b[0m: \u001b[32m'No'\u001b[0m, \u001b[1;36m1.0\u001b[0m: \u001b[32m'Yes'\u001b[0m, \u001b[1;36m8.0\u001b[0m: \u001b[32m'Not applicable'\u001b[0m, \u001b[1;36m9.0\u001b[0m: \u001b[32m'Not stated'\u001b[0m\u001b[1m}\u001b[0m,\n",
       "    \u001b[32m'G214_SQ_PN34'\u001b[0m: \u001b[1m{\u001b[0m\u001b[1;36m0.0\u001b[0m: \u001b[32m'No'\u001b[0m, \u001b[1;36m1.0\u001b[0m: \u001b[32m'Yes'\u001b[0m, \u001b[1;36m8.0\u001b[0m: \u001b[32m'Not applicable'\u001b[0m, \u001b[1;36m9.0\u001b[0m: \u001b[32m'Not stated'\u001b[0m\u001b[1m}\u001b[0m,\n",
       "    \u001b[32m'G217_PQ_PN34'\u001b[0m: \u001b[1m{\u001b[0m\u001b[1;36m0.0\u001b[0m: \u001b[32m'No'\u001b[0m, \u001b[1;36m1.0\u001b[0m: \u001b[32m'Yes'\u001b[0m, \u001b[1;36m7.0\u001b[0m: \u001b[32m'Involved in incorrect skip - not answered'\u001b[0m, \u001b[1;36m9.0\u001b[0m: \u001b[32m'Not stated'\u001b[0m\u001b[1m}\u001b[0m,\n",
       "    \u001b[32m'G217_SQ_PN34'\u001b[0m: \u001b[1m{\u001b[0m\u001b[1;36m0.0\u001b[0m: \u001b[32m'No'\u001b[0m, \u001b[1;36m1.0\u001b[0m: \u001b[32m'Yes'\u001b[0m, \u001b[1;36m9.0\u001b[0m: \u001b[32m'Not stated'\u001b[0m\u001b[1m}\u001b[0m\n",
       "\u001b[1m}\u001b[0m\n"
      ]
     },
     "metadata": {},
     "output_type": "display_data"
    }
   ],
   "source": [
    "rprint(m[\"Field Values\"])"
   ]
  },
  {
   "cell_type": "code",
   "execution_count": null,
   "metadata": {},
   "outputs": [],
   "source": [
    "PN34 = Metadata(\n",
    "    label= \"Took medication to relieve pain\",\n",
    "    field_values = {-88: \"N/A\", -99: \"Missing\", 0: \"No\", 1: \"Yes\"},\n",
    "    field_type = \"Numeric\",\n",
    "    field_width = 3,\n",
    "    decimals =  0,\n",
    "    variable_type = \"Nominal\"\n",
    ")"
   ]
  },
  {
   "cell_type": "markdown",
   "metadata": {},
   "source": [
    "## PN35"
   ]
  },
  {
   "cell_type": "code",
   "execution_count": null,
   "metadata": {},
   "outputs": [],
   "source": [
    "var = \"PN35\""
   ]
  },
  {
   "cell_type": "markdown",
   "metadata": {},
   "source": [
    "### Data"
   ]
  },
  {
   "cell_type": "markdown",
   "metadata": {},
   "source": [
    "Some of the existing options are the same across all datasets:\n",
    "- 0: No\n",
    "- 1: Yes\n",
    "- 9: Missing\n",
    "\n",
    "For G214_PQ and G214_SQ\n",
    "- 8: N/A\n",
    "\n",
    "For G217_PQ:\n",
    "- 7: Involved in incorrect skip - not answered\n",
    "\n",
    "Values of 7 should be considered missing, as discussed with Alex D'Vauz.\n",
    "\n",
    "Changes:\n",
    "- Convert 8 to -88\n",
    "- Convert 9 to -99\n",
    "- Convert 7 to -99"
   ]
  },
  {
   "cell_type": "code",
   "execution_count": null,
   "metadata": {},
   "outputs": [
    {
     "data": {
      "text/html": [
       "<pre style=\"white-space:pre;overflow-x:auto;line-height:normal;font-family:Menlo,'DejaVu Sans Mono',consolas,'Courier New',monospace\"><span style=\"font-weight: bold\">{</span>\n",
       "    <span style=\"color: #008000; text-decoration-color: #008000\">'G214_PQ_PN35'</span>: <span style=\"font-weight: bold\">(</span><span style=\"color: #800080; text-decoration-color: #800080; font-style: italic\">None</span>, <span style=\"color: #008080; text-decoration-color: #008080; font-weight: bold\">0.0</span>, <span style=\"color: #008080; text-decoration-color: #008080; font-weight: bold\">1.0</span>, <span style=\"color: #008080; text-decoration-color: #008080; font-weight: bold\">8.0</span>, <span style=\"color: #008080; text-decoration-color: #008080; font-weight: bold\">9.0</span><span style=\"font-weight: bold\">)</span>,\n",
       "    <span style=\"color: #008000; text-decoration-color: #008000\">'G214_SQ_PN35'</span>: <span style=\"font-weight: bold\">(</span><span style=\"color: #800080; text-decoration-color: #800080; font-style: italic\">None</span>, <span style=\"color: #008080; text-decoration-color: #008080; font-weight: bold\">0.0</span>, <span style=\"color: #008080; text-decoration-color: #008080; font-weight: bold\">1.0</span>, <span style=\"color: #008080; text-decoration-color: #008080; font-weight: bold\">8.0</span>, <span style=\"color: #008080; text-decoration-color: #008080; font-weight: bold\">9.0</span><span style=\"font-weight: bold\">)</span>,\n",
       "    <span style=\"color: #008000; text-decoration-color: #008000\">'G217_PQ_PN35'</span>: <span style=\"font-weight: bold\">(</span><span style=\"color: #800080; text-decoration-color: #800080; font-style: italic\">None</span>, <span style=\"color: #008080; text-decoration-color: #008080; font-weight: bold\">0.0</span>, <span style=\"color: #008080; text-decoration-color: #008080; font-weight: bold\">1.0</span>, <span style=\"color: #008080; text-decoration-color: #008080; font-weight: bold\">7.0</span>, <span style=\"color: #008080; text-decoration-color: #008080; font-weight: bold\">9.0</span><span style=\"font-weight: bold\">)</span>,\n",
       "    <span style=\"color: #008000; text-decoration-color: #008000\">'G217_SQ_PN35'</span>: <span style=\"font-weight: bold\">(</span><span style=\"color: #800080; text-decoration-color: #800080; font-style: italic\">None</span>, <span style=\"color: #008080; text-decoration-color: #008080; font-weight: bold\">0.0</span>, <span style=\"color: #008080; text-decoration-color: #008080; font-weight: bold\">1.0</span>, <span style=\"color: #008080; text-decoration-color: #008080; font-weight: bold\">9.0</span><span style=\"font-weight: bold\">)</span>\n",
       "<span style=\"font-weight: bold\">}</span>\n",
       "</pre>\n"
      ],
      "text/plain": [
       "\u001b[1m{\u001b[0m\n",
       "    \u001b[32m'G214_PQ_PN35'\u001b[0m: \u001b[1m(\u001b[0m\u001b[3;35mNone\u001b[0m, \u001b[1;36m0.0\u001b[0m, \u001b[1;36m1.0\u001b[0m, \u001b[1;36m8.0\u001b[0m, \u001b[1;36m9.0\u001b[0m\u001b[1m)\u001b[0m,\n",
       "    \u001b[32m'G214_SQ_PN35'\u001b[0m: \u001b[1m(\u001b[0m\u001b[3;35mNone\u001b[0m, \u001b[1;36m0.0\u001b[0m, \u001b[1;36m1.0\u001b[0m, \u001b[1;36m8.0\u001b[0m, \u001b[1;36m9.0\u001b[0m\u001b[1m)\u001b[0m,\n",
       "    \u001b[32m'G217_PQ_PN35'\u001b[0m: \u001b[1m(\u001b[0m\u001b[3;35mNone\u001b[0m, \u001b[1;36m0.0\u001b[0m, \u001b[1;36m1.0\u001b[0m, \u001b[1;36m7.0\u001b[0m, \u001b[1;36m9.0\u001b[0m\u001b[1m)\u001b[0m,\n",
       "    \u001b[32m'G217_SQ_PN35'\u001b[0m: \u001b[1m(\u001b[0m\u001b[3;35mNone\u001b[0m, \u001b[1;36m0.0\u001b[0m, \u001b[1;36m1.0\u001b[0m, \u001b[1;36m9.0\u001b[0m\u001b[1m)\u001b[0m\n",
       "\u001b[1m}\u001b[0m\n"
      ]
     },
     "metadata": {},
     "output_type": "display_data"
    }
   ],
   "source": [
    "unique_vals = unique_values(df, var)\n",
    "rprint(unique_vals)"
   ]
  },
  {
   "cell_type": "code",
   "execution_count": null,
   "metadata": {},
   "outputs": [
    {
     "data": {
      "text/html": [
       "<pre style=\"white-space:pre;overflow-x:auto;line-height:normal;font-family:Menlo,'DejaVu Sans Mono',consolas,'Courier New',monospace\"></pre>\n"
      ],
      "text/plain": []
     },
     "metadata": {},
     "output_type": "display_data"
    },
    {
     "data": {
      "text/plain": [
       "\u001b[1m{\u001b[0m\u001b[1;36m0.0\u001b[0m, \u001b[1;36m1.0\u001b[0m, \u001b[1;36m7.0\u001b[0m, \u001b[1;36m8.0\u001b[0m, \u001b[1;36m9.0\u001b[0m\u001b[1m}\u001b[0m"
      ]
     },
     "execution_count": null,
     "metadata": {},
     "output_type": "execute_result"
    }
   ],
   "source": [
    "# Note the unique values for PN35 across all datasets combined\n",
    "value_options = set()\n",
    "for values in unique_vals.values(): \n",
    "    value_options.update(values)\n",
    "value_options.discard(None)\n",
    "value_options"
   ]
  },
  {
   "cell_type": "markdown",
   "metadata": {},
   "source": [
    "#### Define properties to test, validate, and explore\n",
    "\n",
    "- When PN17 is 0 (No), PN35 should be 8 (N/A)\n",
    "- When PN17 is 1 (Yes), PN35 should be 0, 1, or 9 [CORRECTION: as per discussion below, 8 is also valid for PN35]\n",
    "- When PN17 is 9 (Missing), PN35 should be 9"
   ]
  },
  {
   "cell_type": "code",
   "execution_count": null,
   "metadata": {},
   "outputs": [],
   "source": [
    "test = df.clone().collect()"
   ]
  },
  {
   "cell_type": "code",
   "execution_count": null,
   "metadata": {},
   "outputs": [
    {
     "data": {
      "text/html": [
       "<pre style=\"white-space:pre;overflow-x:auto;line-height:normal;font-family:Menlo,'DejaVu Sans Mono',consolas,'Courier New',monospace\">When PN17 == <span style=\"color: #008080; text-decoration-color: #008080; font-weight: bold\">0</span>\n",
       "</pre>\n"
      ],
      "text/plain": [
       "When PN17 == \u001b[1;36m0\u001b[0m\n"
      ]
     },
     "metadata": {},
     "output_type": "display_data"
    },
    {
     "data": {
      "text/html": [
       "<pre style=\"white-space:pre;overflow-x:auto;line-height:normal;font-family:Menlo,'DejaVu Sans Mono',consolas,'Courier New',monospace\"><span style=\"font-weight: bold\">{</span><span style=\"color: #008000; text-decoration-color: #008000\">'G214_PQ_PN35'</span>: <span style=\"font-weight: bold\">[</span><span style=\"color: #008080; text-decoration-color: #008080; font-weight: bold\">8.0</span><span style=\"font-weight: bold\">]}</span>\n",
       "</pre>\n"
      ],
      "text/plain": [
       "\u001b[1m{\u001b[0m\u001b[32m'G214_PQ_PN35'\u001b[0m: \u001b[1m[\u001b[0m\u001b[1;36m8.0\u001b[0m\u001b[1m]\u001b[0m\u001b[1m}\u001b[0m\n"
      ]
     },
     "metadata": {},
     "output_type": "display_data"
    },
    {
     "data": {
      "text/html": [
       "<pre style=\"white-space:pre;overflow-x:auto;line-height:normal;font-family:Menlo,'DejaVu Sans Mono',consolas,'Courier New',monospace\"><span style=\"font-weight: bold\">{</span><span style=\"color: #008000; text-decoration-color: #008000\">'G214_SQ_PN35'</span>: <span style=\"font-weight: bold\">[</span><span style=\"color: #008080; text-decoration-color: #008080; font-weight: bold\">8.0</span><span style=\"font-weight: bold\">]}</span>\n",
       "</pre>\n"
      ],
      "text/plain": [
       "\u001b[1m{\u001b[0m\u001b[32m'G214_SQ_PN35'\u001b[0m: \u001b[1m[\u001b[0m\u001b[1;36m8.0\u001b[0m\u001b[1m]\u001b[0m\u001b[1m}\u001b[0m\n"
      ]
     },
     "metadata": {},
     "output_type": "display_data"
    },
    {
     "data": {
      "text/html": [
       "<pre style=\"white-space:pre;overflow-x:auto;line-height:normal;font-family:Menlo,'DejaVu Sans Mono',consolas,'Courier New',monospace\"><span style=\"font-weight: bold\">{</span><span style=\"color: #008000; text-decoration-color: #008000\">'G217_PQ_PN35'</span>: <span style=\"font-weight: bold\">[</span><span style=\"color: #008080; text-decoration-color: #008080; font-weight: bold\">0.0</span>, <span style=\"color: #008080; text-decoration-color: #008080; font-weight: bold\">1.0</span>, <span style=\"color: #008080; text-decoration-color: #008080; font-weight: bold\">7.0</span>, <span style=\"color: #008080; text-decoration-color: #008080; font-weight: bold\">9.0</span><span style=\"font-weight: bold\">]}</span>\n",
       "</pre>\n"
      ],
      "text/plain": [
       "\u001b[1m{\u001b[0m\u001b[32m'G217_PQ_PN35'\u001b[0m: \u001b[1m[\u001b[0m\u001b[1;36m0.0\u001b[0m, \u001b[1;36m1.0\u001b[0m, \u001b[1;36m7.0\u001b[0m, \u001b[1;36m9.0\u001b[0m\u001b[1m]\u001b[0m\u001b[1m}\u001b[0m\n"
      ]
     },
     "metadata": {},
     "output_type": "display_data"
    },
    {
     "data": {
      "text/html": [
       "<pre style=\"white-space:pre;overflow-x:auto;line-height:normal;font-family:Menlo,'DejaVu Sans Mono',consolas,'Courier New',monospace\"><span style=\"font-weight: bold\">{</span><span style=\"color: #008000; text-decoration-color: #008000\">'G217_SQ_PN35'</span>: <span style=\"font-weight: bold\">[</span><span style=\"color: #008080; text-decoration-color: #008080; font-weight: bold\">0.0</span>, <span style=\"color: #008080; text-decoration-color: #008080; font-weight: bold\">1.0</span>, <span style=\"color: #008080; text-decoration-color: #008080; font-weight: bold\">9.0</span><span style=\"font-weight: bold\">]}</span>\n",
       "</pre>\n"
      ],
      "text/plain": [
       "\u001b[1m{\u001b[0m\u001b[32m'G217_SQ_PN35'\u001b[0m: \u001b[1m[\u001b[0m\u001b[1;36m0.0\u001b[0m, \u001b[1;36m1.0\u001b[0m, \u001b[1;36m9.0\u001b[0m\u001b[1m]\u001b[0m\u001b[1m}\u001b[0m\n"
      ]
     },
     "metadata": {},
     "output_type": "display_data"
    },
    {
     "data": {
      "text/html": [
       "<pre style=\"white-space:pre;overflow-x:auto;line-height:normal;font-family:Menlo,'DejaVu Sans Mono',consolas,'Courier New',monospace\">When PN17 == <span style=\"color: #008080; text-decoration-color: #008080; font-weight: bold\">1</span>\n",
       "</pre>\n"
      ],
      "text/plain": [
       "When PN17 == \u001b[1;36m1\u001b[0m\n"
      ]
     },
     "metadata": {},
     "output_type": "display_data"
    },
    {
     "data": {
      "text/html": [
       "<pre style=\"white-space:pre;overflow-x:auto;line-height:normal;font-family:Menlo,'DejaVu Sans Mono',consolas,'Courier New',monospace\"><span style=\"font-weight: bold\">{</span><span style=\"color: #008000; text-decoration-color: #008000\">'G214_PQ_PN35'</span>: <span style=\"font-weight: bold\">[</span><span style=\"color: #008080; text-decoration-color: #008080; font-weight: bold\">0.0</span>, <span style=\"color: #008080; text-decoration-color: #008080; font-weight: bold\">8.0</span>, <span style=\"color: #008080; text-decoration-color: #008080; font-weight: bold\">1.0</span><span style=\"font-weight: bold\">]}</span>\n",
       "</pre>\n"
      ],
      "text/plain": [
       "\u001b[1m{\u001b[0m\u001b[32m'G214_PQ_PN35'\u001b[0m: \u001b[1m[\u001b[0m\u001b[1;36m0.0\u001b[0m, \u001b[1;36m8.0\u001b[0m, \u001b[1;36m1.0\u001b[0m\u001b[1m]\u001b[0m\u001b[1m}\u001b[0m\n"
      ]
     },
     "metadata": {},
     "output_type": "display_data"
    },
    {
     "data": {
      "text/html": [
       "<pre style=\"white-space:pre;overflow-x:auto;line-height:normal;font-family:Menlo,'DejaVu Sans Mono',consolas,'Courier New',monospace\"><span style=\"font-weight: bold\">{</span><span style=\"color: #008000; text-decoration-color: #008000\">'G214_SQ_PN35'</span>: <span style=\"font-weight: bold\">[</span><span style=\"color: #008080; text-decoration-color: #008080; font-weight: bold\">1.0</span>, <span style=\"color: #008080; text-decoration-color: #008080; font-weight: bold\">0.0</span>, <span style=\"color: #008080; text-decoration-color: #008080; font-weight: bold\">8.0</span>, <span style=\"color: #008080; text-decoration-color: #008080; font-weight: bold\">9.0</span><span style=\"font-weight: bold\">]}</span>\n",
       "</pre>\n"
      ],
      "text/plain": [
       "\u001b[1m{\u001b[0m\u001b[32m'G214_SQ_PN35'\u001b[0m: \u001b[1m[\u001b[0m\u001b[1;36m1.0\u001b[0m, \u001b[1;36m0.0\u001b[0m, \u001b[1;36m8.0\u001b[0m, \u001b[1;36m9.0\u001b[0m\u001b[1m]\u001b[0m\u001b[1m}\u001b[0m\n"
      ]
     },
     "metadata": {},
     "output_type": "display_data"
    },
    {
     "data": {
      "text/html": [
       "<pre style=\"white-space:pre;overflow-x:auto;line-height:normal;font-family:Menlo,'DejaVu Sans Mono',consolas,'Courier New',monospace\"><span style=\"font-weight: bold\">{</span><span style=\"color: #008000; text-decoration-color: #008000\">'G217_PQ_PN35'</span>: <span style=\"font-weight: bold\">[</span><span style=\"color: #008080; text-decoration-color: #008080; font-weight: bold\">0.0</span>, <span style=\"color: #008080; text-decoration-color: #008080; font-weight: bold\">9.0</span>, <span style=\"color: #008080; text-decoration-color: #008080; font-weight: bold\">1.0</span><span style=\"font-weight: bold\">]}</span>\n",
       "</pre>\n"
      ],
      "text/plain": [
       "\u001b[1m{\u001b[0m\u001b[32m'G217_PQ_PN35'\u001b[0m: \u001b[1m[\u001b[0m\u001b[1;36m0.0\u001b[0m, \u001b[1;36m9.0\u001b[0m, \u001b[1;36m1.0\u001b[0m\u001b[1m]\u001b[0m\u001b[1m}\u001b[0m\n"
      ]
     },
     "metadata": {},
     "output_type": "display_data"
    },
    {
     "data": {
      "text/html": [
       "<pre style=\"white-space:pre;overflow-x:auto;line-height:normal;font-family:Menlo,'DejaVu Sans Mono',consolas,'Courier New',monospace\"><span style=\"font-weight: bold\">{</span><span style=\"color: #008000; text-decoration-color: #008000\">'G217_SQ_PN35'</span>: <span style=\"font-weight: bold\">[</span><span style=\"color: #008080; text-decoration-color: #008080; font-weight: bold\">0.0</span>, <span style=\"color: #008080; text-decoration-color: #008080; font-weight: bold\">1.0</span><span style=\"font-weight: bold\">]}</span>\n",
       "</pre>\n"
      ],
      "text/plain": [
       "\u001b[1m{\u001b[0m\u001b[32m'G217_SQ_PN35'\u001b[0m: \u001b[1m[\u001b[0m\u001b[1;36m0.0\u001b[0m, \u001b[1;36m1.0\u001b[0m\u001b[1m]\u001b[0m\u001b[1m}\u001b[0m\n"
      ]
     },
     "metadata": {},
     "output_type": "display_data"
    },
    {
     "data": {
      "text/html": [
       "<pre style=\"white-space:pre;overflow-x:auto;line-height:normal;font-family:Menlo,'DejaVu Sans Mono',consolas,'Courier New',monospace\">When PN17 == <span style=\"color: #008080; text-decoration-color: #008080; font-weight: bold\">9</span>\n",
       "</pre>\n"
      ],
      "text/plain": [
       "When PN17 == \u001b[1;36m9\u001b[0m\n"
      ]
     },
     "metadata": {},
     "output_type": "display_data"
    },
    {
     "data": {
      "text/html": [
       "<pre style=\"white-space:pre;overflow-x:auto;line-height:normal;font-family:Menlo,'DejaVu Sans Mono',consolas,'Courier New',monospace\"><span style=\"font-weight: bold\">{</span><span style=\"color: #008000; text-decoration-color: #008000\">'G214_PQ_PN35'</span>: <span style=\"font-weight: bold\">[</span><span style=\"color: #008080; text-decoration-color: #008080; font-weight: bold\">9.0</span><span style=\"font-weight: bold\">]}</span>\n",
       "</pre>\n"
      ],
      "text/plain": [
       "\u001b[1m{\u001b[0m\u001b[32m'G214_PQ_PN35'\u001b[0m: \u001b[1m[\u001b[0m\u001b[1;36m9.0\u001b[0m\u001b[1m]\u001b[0m\u001b[1m}\u001b[0m\n"
      ]
     },
     "metadata": {},
     "output_type": "display_data"
    },
    {
     "data": {
      "text/html": [
       "<pre style=\"white-space:pre;overflow-x:auto;line-height:normal;font-family:Menlo,'DejaVu Sans Mono',consolas,'Courier New',monospace\"><span style=\"font-weight: bold\">{</span><span style=\"color: #008000; text-decoration-color: #008000\">'G214_SQ_PN35'</span>: <span style=\"font-weight: bold\">[</span><span style=\"color: #008080; text-decoration-color: #008080; font-weight: bold\">9.0</span><span style=\"font-weight: bold\">]}</span>\n",
       "</pre>\n"
      ],
      "text/plain": [
       "\u001b[1m{\u001b[0m\u001b[32m'G214_SQ_PN35'\u001b[0m: \u001b[1m[\u001b[0m\u001b[1;36m9.0\u001b[0m\u001b[1m]\u001b[0m\u001b[1m}\u001b[0m\n"
      ]
     },
     "metadata": {},
     "output_type": "display_data"
    },
    {
     "data": {
      "text/html": [
       "<pre style=\"white-space:pre;overflow-x:auto;line-height:normal;font-family:Menlo,'DejaVu Sans Mono',consolas,'Courier New',monospace\"><span style=\"font-weight: bold\">{</span><span style=\"color: #008000; text-decoration-color: #008000\">'G217_PQ_PN35'</span>: <span style=\"font-weight: bold\">[</span><span style=\"color: #008080; text-decoration-color: #008080; font-weight: bold\">9.0</span><span style=\"font-weight: bold\">]}</span>\n",
       "</pre>\n"
      ],
      "text/plain": [
       "\u001b[1m{\u001b[0m\u001b[32m'G217_PQ_PN35'\u001b[0m: \u001b[1m[\u001b[0m\u001b[1;36m9.0\u001b[0m\u001b[1m]\u001b[0m\u001b[1m}\u001b[0m\n"
      ]
     },
     "metadata": {},
     "output_type": "display_data"
    },
    {
     "data": {
      "text/html": [
       "<pre style=\"white-space:pre;overflow-x:auto;line-height:normal;font-family:Menlo,'DejaVu Sans Mono',consolas,'Courier New',monospace\"><span style=\"font-weight: bold\">{</span><span style=\"color: #008000; text-decoration-color: #008000\">'G217_SQ_PN35'</span>: <span style=\"font-weight: bold\">[</span><span style=\"color: #008080; text-decoration-color: #008080; font-weight: bold\">9.0</span><span style=\"font-weight: bold\">]}</span>\n",
       "</pre>\n"
      ],
      "text/plain": [
       "\u001b[1m{\u001b[0m\u001b[32m'G217_SQ_PN35'\u001b[0m: \u001b[1m[\u001b[0m\u001b[1;36m9.0\u001b[0m\u001b[1m]\u001b[0m\u001b[1m}\u001b[0m\n"
      ]
     },
     "metadata": {},
     "output_type": "display_data"
    }
   ],
   "source": [
    "for value in (0, 1, 9):\n",
    "    rprint(f\"When PN17 == {value}\")\n",
    "    for p in prefixes:\n",
    "        rprint(\n",
    "            test\n",
    "            .filter(pl.col(f\"{p}PN17\") == value)\n",
    "            .select(f\"{p}{var}\")\n",
    "            .unique()\n",
    "            .to_dict(as_series=False)\n",
    "        )"
   ]
  },
  {
   "cell_type": "markdown",
   "metadata": {},
   "source": [
    "As per PN25, property 3 was as expected and property 1 did not pass due to differences in the Y17 follow-ups.\n",
    "However, property 2 failed unexpectedly; there are values of 8 (N/A) when PN17 is 1 (Yes).\n",
    "\n",
    "Upon further exploration, it was confirmed that in ALL cases, this is because the participant was not employed at the time of the questionnaire, and thus the response of 8 is valid.\n",
    "This was done by checking values of `G214_PQ_YWRK_1` and `G214_PQ_YWRK_YN` when PN17 == 1 and PN35 == 8."
   ]
  },
  {
   "cell_type": "code",
   "execution_count": null,
   "metadata": {},
   "outputs": [
    {
     "data": {
      "text/html": [
       "<pre style=\"white-space:pre;overflow-x:auto;line-height:normal;font-family:Menlo,'DejaVu Sans Mono',consolas,'Courier New',monospace\">When PN35 == <span style=\"color: #008080; text-decoration-color: #008080; font-weight: bold\">0.0</span>\n",
       "</pre>\n"
      ],
      "text/plain": [
       "When PN35 == \u001b[1;36m0.0\u001b[0m\n"
      ]
     },
     "metadata": {},
     "output_type": "display_data"
    },
    {
     "data": {
      "text/html": [
       "<pre style=\"white-space:pre;overflow-x:auto;line-height:normal;font-family:Menlo,'DejaVu Sans Mono',consolas,'Courier New',monospace\"><span style=\"font-weight: bold\">{</span><span style=\"color: #008000; text-decoration-color: #008000\">'G214_PQ_PN17'</span>: <span style=\"font-weight: bold\">[</span><span style=\"color: #008080; text-decoration-color: #008080; font-weight: bold\">1.0</span><span style=\"font-weight: bold\">]}</span>\n",
       "</pre>\n"
      ],
      "text/plain": [
       "\u001b[1m{\u001b[0m\u001b[32m'G214_PQ_PN17'\u001b[0m: \u001b[1m[\u001b[0m\u001b[1;36m1.0\u001b[0m\u001b[1m]\u001b[0m\u001b[1m}\u001b[0m\n"
      ]
     },
     "metadata": {},
     "output_type": "display_data"
    },
    {
     "data": {
      "text/html": [
       "<pre style=\"white-space:pre;overflow-x:auto;line-height:normal;font-family:Menlo,'DejaVu Sans Mono',consolas,'Courier New',monospace\"><span style=\"font-weight: bold\">{</span><span style=\"color: #008000; text-decoration-color: #008000\">'G214_SQ_PN17'</span>: <span style=\"font-weight: bold\">[</span><span style=\"color: #008080; text-decoration-color: #008080; font-weight: bold\">1.0</span><span style=\"font-weight: bold\">]}</span>\n",
       "</pre>\n"
      ],
      "text/plain": [
       "\u001b[1m{\u001b[0m\u001b[32m'G214_SQ_PN17'\u001b[0m: \u001b[1m[\u001b[0m\u001b[1;36m1.0\u001b[0m\u001b[1m]\u001b[0m\u001b[1m}\u001b[0m\n"
      ]
     },
     "metadata": {},
     "output_type": "display_data"
    },
    {
     "data": {
      "text/html": [
       "<pre style=\"white-space:pre;overflow-x:auto;line-height:normal;font-family:Menlo,'DejaVu Sans Mono',consolas,'Courier New',monospace\"><span style=\"font-weight: bold\">{</span><span style=\"color: #008000; text-decoration-color: #008000\">'G217_PQ_PN17'</span>: <span style=\"font-weight: bold\">[</span><span style=\"color: #008080; text-decoration-color: #008080; font-weight: bold\">0.0</span>, <span style=\"color: #008080; text-decoration-color: #008080; font-weight: bold\">1.0</span><span style=\"font-weight: bold\">]}</span>\n",
       "</pre>\n"
      ],
      "text/plain": [
       "\u001b[1m{\u001b[0m\u001b[32m'G217_PQ_PN17'\u001b[0m: \u001b[1m[\u001b[0m\u001b[1;36m0.0\u001b[0m, \u001b[1;36m1.0\u001b[0m\u001b[1m]\u001b[0m\u001b[1m}\u001b[0m\n"
      ]
     },
     "metadata": {},
     "output_type": "display_data"
    },
    {
     "data": {
      "text/html": [
       "<pre style=\"white-space:pre;overflow-x:auto;line-height:normal;font-family:Menlo,'DejaVu Sans Mono',consolas,'Courier New',monospace\"><span style=\"font-weight: bold\">{</span><span style=\"color: #008000; text-decoration-color: #008000\">'G217_SQ_PN17'</span>: <span style=\"font-weight: bold\">[</span><span style=\"color: #008080; text-decoration-color: #008080; font-weight: bold\">0.0</span>, <span style=\"color: #008080; text-decoration-color: #008080; font-weight: bold\">1.0</span><span style=\"font-weight: bold\">]}</span>\n",
       "</pre>\n"
      ],
      "text/plain": [
       "\u001b[1m{\u001b[0m\u001b[32m'G217_SQ_PN17'\u001b[0m: \u001b[1m[\u001b[0m\u001b[1;36m0.0\u001b[0m, \u001b[1;36m1.0\u001b[0m\u001b[1m]\u001b[0m\u001b[1m}\u001b[0m\n"
      ]
     },
     "metadata": {},
     "output_type": "display_data"
    },
    {
     "data": {
      "text/html": [
       "<pre style=\"white-space:pre;overflow-x:auto;line-height:normal;font-family:Menlo,'DejaVu Sans Mono',consolas,'Courier New',monospace\">When PN35 == <span style=\"color: #008080; text-decoration-color: #008080; font-weight: bold\">1.0</span>\n",
       "</pre>\n"
      ],
      "text/plain": [
       "When PN35 == \u001b[1;36m1.0\u001b[0m\n"
      ]
     },
     "metadata": {},
     "output_type": "display_data"
    },
    {
     "data": {
      "text/html": [
       "<pre style=\"white-space:pre;overflow-x:auto;line-height:normal;font-family:Menlo,'DejaVu Sans Mono',consolas,'Courier New',monospace\"><span style=\"font-weight: bold\">{</span><span style=\"color: #008000; text-decoration-color: #008000\">'G214_PQ_PN17'</span>: <span style=\"font-weight: bold\">[</span><span style=\"color: #008080; text-decoration-color: #008080; font-weight: bold\">1.0</span><span style=\"font-weight: bold\">]}</span>\n",
       "</pre>\n"
      ],
      "text/plain": [
       "\u001b[1m{\u001b[0m\u001b[32m'G214_PQ_PN17'\u001b[0m: \u001b[1m[\u001b[0m\u001b[1;36m1.0\u001b[0m\u001b[1m]\u001b[0m\u001b[1m}\u001b[0m\n"
      ]
     },
     "metadata": {},
     "output_type": "display_data"
    },
    {
     "data": {
      "text/html": [
       "<pre style=\"white-space:pre;overflow-x:auto;line-height:normal;font-family:Menlo,'DejaVu Sans Mono',consolas,'Courier New',monospace\"><span style=\"font-weight: bold\">{</span><span style=\"color: #008000; text-decoration-color: #008000\">'G214_SQ_PN17'</span>: <span style=\"font-weight: bold\">[</span><span style=\"color: #008080; text-decoration-color: #008080; font-weight: bold\">1.0</span><span style=\"font-weight: bold\">]}</span>\n",
       "</pre>\n"
      ],
      "text/plain": [
       "\u001b[1m{\u001b[0m\u001b[32m'G214_SQ_PN17'\u001b[0m: \u001b[1m[\u001b[0m\u001b[1;36m1.0\u001b[0m\u001b[1m]\u001b[0m\u001b[1m}\u001b[0m\n"
      ]
     },
     "metadata": {},
     "output_type": "display_data"
    },
    {
     "data": {
      "text/html": [
       "<pre style=\"white-space:pre;overflow-x:auto;line-height:normal;font-family:Menlo,'DejaVu Sans Mono',consolas,'Courier New',monospace\"><span style=\"font-weight: bold\">{</span><span style=\"color: #008000; text-decoration-color: #008000\">'G217_PQ_PN17'</span>: <span style=\"font-weight: bold\">[</span><span style=\"color: #008080; text-decoration-color: #008080; font-weight: bold\">1.0</span>, <span style=\"color: #008080; text-decoration-color: #008080; font-weight: bold\">0.0</span><span style=\"font-weight: bold\">]}</span>\n",
       "</pre>\n"
      ],
      "text/plain": [
       "\u001b[1m{\u001b[0m\u001b[32m'G217_PQ_PN17'\u001b[0m: \u001b[1m[\u001b[0m\u001b[1;36m1.0\u001b[0m, \u001b[1;36m0.0\u001b[0m\u001b[1m]\u001b[0m\u001b[1m}\u001b[0m\n"
      ]
     },
     "metadata": {},
     "output_type": "display_data"
    },
    {
     "data": {
      "text/html": [
       "<pre style=\"white-space:pre;overflow-x:auto;line-height:normal;font-family:Menlo,'DejaVu Sans Mono',consolas,'Courier New',monospace\"><span style=\"font-weight: bold\">{</span><span style=\"color: #008000; text-decoration-color: #008000\">'G217_SQ_PN17'</span>: <span style=\"font-weight: bold\">[</span><span style=\"color: #008080; text-decoration-color: #008080; font-weight: bold\">0.0</span>, <span style=\"color: #008080; text-decoration-color: #008080; font-weight: bold\">1.0</span><span style=\"font-weight: bold\">]}</span>\n",
       "</pre>\n"
      ],
      "text/plain": [
       "\u001b[1m{\u001b[0m\u001b[32m'G217_SQ_PN17'\u001b[0m: \u001b[1m[\u001b[0m\u001b[1;36m0.0\u001b[0m, \u001b[1;36m1.0\u001b[0m\u001b[1m]\u001b[0m\u001b[1m}\u001b[0m\n"
      ]
     },
     "metadata": {},
     "output_type": "display_data"
    },
    {
     "data": {
      "text/html": [
       "<pre style=\"white-space:pre;overflow-x:auto;line-height:normal;font-family:Menlo,'DejaVu Sans Mono',consolas,'Courier New',monospace\">When PN35 == <span style=\"color: #008080; text-decoration-color: #008080; font-weight: bold\">7.0</span>\n",
       "</pre>\n"
      ],
      "text/plain": [
       "When PN35 == \u001b[1;36m7.0\u001b[0m\n"
      ]
     },
     "metadata": {},
     "output_type": "display_data"
    },
    {
     "data": {
      "text/html": [
       "<pre style=\"white-space:pre;overflow-x:auto;line-height:normal;font-family:Menlo,'DejaVu Sans Mono',consolas,'Courier New',monospace\"><span style=\"font-weight: bold\">{</span><span style=\"color: #008000; text-decoration-color: #008000\">'G214_PQ_PN17'</span>: <span style=\"font-weight: bold\">[]}</span>\n",
       "</pre>\n"
      ],
      "text/plain": [
       "\u001b[1m{\u001b[0m\u001b[32m'G214_PQ_PN17'\u001b[0m: \u001b[1m[\u001b[0m\u001b[1m]\u001b[0m\u001b[1m}\u001b[0m\n"
      ]
     },
     "metadata": {},
     "output_type": "display_data"
    },
    {
     "data": {
      "text/html": [
       "<pre style=\"white-space:pre;overflow-x:auto;line-height:normal;font-family:Menlo,'DejaVu Sans Mono',consolas,'Courier New',monospace\"><span style=\"font-weight: bold\">{</span><span style=\"color: #008000; text-decoration-color: #008000\">'G214_SQ_PN17'</span>: <span style=\"font-weight: bold\">[]}</span>\n",
       "</pre>\n"
      ],
      "text/plain": [
       "\u001b[1m{\u001b[0m\u001b[32m'G214_SQ_PN17'\u001b[0m: \u001b[1m[\u001b[0m\u001b[1m]\u001b[0m\u001b[1m}\u001b[0m\n"
      ]
     },
     "metadata": {},
     "output_type": "display_data"
    },
    {
     "data": {
      "text/html": [
       "<pre style=\"white-space:pre;overflow-x:auto;line-height:normal;font-family:Menlo,'DejaVu Sans Mono',consolas,'Courier New',monospace\"><span style=\"font-weight: bold\">{</span><span style=\"color: #008000; text-decoration-color: #008000\">'G217_PQ_PN17'</span>: <span style=\"font-weight: bold\">[</span><span style=\"color: #008080; text-decoration-color: #008080; font-weight: bold\">0.0</span><span style=\"font-weight: bold\">]}</span>\n",
       "</pre>\n"
      ],
      "text/plain": [
       "\u001b[1m{\u001b[0m\u001b[32m'G217_PQ_PN17'\u001b[0m: \u001b[1m[\u001b[0m\u001b[1;36m0.0\u001b[0m\u001b[1m]\u001b[0m\u001b[1m}\u001b[0m\n"
      ]
     },
     "metadata": {},
     "output_type": "display_data"
    },
    {
     "data": {
      "text/html": [
       "<pre style=\"white-space:pre;overflow-x:auto;line-height:normal;font-family:Menlo,'DejaVu Sans Mono',consolas,'Courier New',monospace\"><span style=\"font-weight: bold\">{</span><span style=\"color: #008000; text-decoration-color: #008000\">'G217_SQ_PN17'</span>: <span style=\"font-weight: bold\">[]}</span>\n",
       "</pre>\n"
      ],
      "text/plain": [
       "\u001b[1m{\u001b[0m\u001b[32m'G217_SQ_PN17'\u001b[0m: \u001b[1m[\u001b[0m\u001b[1m]\u001b[0m\u001b[1m}\u001b[0m\n"
      ]
     },
     "metadata": {},
     "output_type": "display_data"
    },
    {
     "data": {
      "text/html": [
       "<pre style=\"white-space:pre;overflow-x:auto;line-height:normal;font-family:Menlo,'DejaVu Sans Mono',consolas,'Courier New',monospace\">When PN35 == <span style=\"color: #008080; text-decoration-color: #008080; font-weight: bold\">8.0</span>\n",
       "</pre>\n"
      ],
      "text/plain": [
       "When PN35 == \u001b[1;36m8.0\u001b[0m\n"
      ]
     },
     "metadata": {},
     "output_type": "display_data"
    },
    {
     "data": {
      "text/html": [
       "<pre style=\"white-space:pre;overflow-x:auto;line-height:normal;font-family:Menlo,'DejaVu Sans Mono',consolas,'Courier New',monospace\"><span style=\"font-weight: bold\">{</span><span style=\"color: #008000; text-decoration-color: #008000\">'G214_PQ_PN17'</span>: <span style=\"font-weight: bold\">[</span><span style=\"color: #008080; text-decoration-color: #008080; font-weight: bold\">0.0</span>, <span style=\"color: #008080; text-decoration-color: #008080; font-weight: bold\">1.0</span><span style=\"font-weight: bold\">]}</span>\n",
       "</pre>\n"
      ],
      "text/plain": [
       "\u001b[1m{\u001b[0m\u001b[32m'G214_PQ_PN17'\u001b[0m: \u001b[1m[\u001b[0m\u001b[1;36m0.0\u001b[0m, \u001b[1;36m1.0\u001b[0m\u001b[1m]\u001b[0m\u001b[1m}\u001b[0m\n"
      ]
     },
     "metadata": {},
     "output_type": "display_data"
    },
    {
     "data": {
      "text/html": [
       "<pre style=\"white-space:pre;overflow-x:auto;line-height:normal;font-family:Menlo,'DejaVu Sans Mono',consolas,'Courier New',monospace\"><span style=\"font-weight: bold\">{</span><span style=\"color: #008000; text-decoration-color: #008000\">'G214_SQ_PN17'</span>: <span style=\"font-weight: bold\">[</span><span style=\"color: #008080; text-decoration-color: #008080; font-weight: bold\">1.0</span>, <span style=\"color: #008080; text-decoration-color: #008080; font-weight: bold\">0.0</span><span style=\"font-weight: bold\">]}</span>\n",
       "</pre>\n"
      ],
      "text/plain": [
       "\u001b[1m{\u001b[0m\u001b[32m'G214_SQ_PN17'\u001b[0m: \u001b[1m[\u001b[0m\u001b[1;36m1.0\u001b[0m, \u001b[1;36m0.0\u001b[0m\u001b[1m]\u001b[0m\u001b[1m}\u001b[0m\n"
      ]
     },
     "metadata": {},
     "output_type": "display_data"
    },
    {
     "data": {
      "text/html": [
       "<pre style=\"white-space:pre;overflow-x:auto;line-height:normal;font-family:Menlo,'DejaVu Sans Mono',consolas,'Courier New',monospace\"><span style=\"font-weight: bold\">{</span><span style=\"color: #008000; text-decoration-color: #008000\">'G217_PQ_PN17'</span>: <span style=\"font-weight: bold\">[]}</span>\n",
       "</pre>\n"
      ],
      "text/plain": [
       "\u001b[1m{\u001b[0m\u001b[32m'G217_PQ_PN17'\u001b[0m: \u001b[1m[\u001b[0m\u001b[1m]\u001b[0m\u001b[1m}\u001b[0m\n"
      ]
     },
     "metadata": {},
     "output_type": "display_data"
    },
    {
     "data": {
      "text/html": [
       "<pre style=\"white-space:pre;overflow-x:auto;line-height:normal;font-family:Menlo,'DejaVu Sans Mono',consolas,'Courier New',monospace\"><span style=\"font-weight: bold\">{</span><span style=\"color: #008000; text-decoration-color: #008000\">'G217_SQ_PN17'</span>: <span style=\"font-weight: bold\">[]}</span>\n",
       "</pre>\n"
      ],
      "text/plain": [
       "\u001b[1m{\u001b[0m\u001b[32m'G217_SQ_PN17'\u001b[0m: \u001b[1m[\u001b[0m\u001b[1m]\u001b[0m\u001b[1m}\u001b[0m\n"
      ]
     },
     "metadata": {},
     "output_type": "display_data"
    },
    {
     "data": {
      "text/html": [
       "<pre style=\"white-space:pre;overflow-x:auto;line-height:normal;font-family:Menlo,'DejaVu Sans Mono',consolas,'Courier New',monospace\">When PN35 == <span style=\"color: #008080; text-decoration-color: #008080; font-weight: bold\">9.0</span>\n",
       "</pre>\n"
      ],
      "text/plain": [
       "When PN35 == \u001b[1;36m9.0\u001b[0m\n"
      ]
     },
     "metadata": {},
     "output_type": "display_data"
    },
    {
     "data": {
      "text/html": [
       "<pre style=\"white-space:pre;overflow-x:auto;line-height:normal;font-family:Menlo,'DejaVu Sans Mono',consolas,'Courier New',monospace\"><span style=\"font-weight: bold\">{</span><span style=\"color: #008000; text-decoration-color: #008000\">'G214_PQ_PN17'</span>: <span style=\"font-weight: bold\">[</span><span style=\"color: #008080; text-decoration-color: #008080; font-weight: bold\">9.0</span><span style=\"font-weight: bold\">]}</span>\n",
       "</pre>\n"
      ],
      "text/plain": [
       "\u001b[1m{\u001b[0m\u001b[32m'G214_PQ_PN17'\u001b[0m: \u001b[1m[\u001b[0m\u001b[1;36m9.0\u001b[0m\u001b[1m]\u001b[0m\u001b[1m}\u001b[0m\n"
      ]
     },
     "metadata": {},
     "output_type": "display_data"
    },
    {
     "data": {
      "text/html": [
       "<pre style=\"white-space:pre;overflow-x:auto;line-height:normal;font-family:Menlo,'DejaVu Sans Mono',consolas,'Courier New',monospace\"><span style=\"font-weight: bold\">{</span><span style=\"color: #008000; text-decoration-color: #008000\">'G214_SQ_PN17'</span>: <span style=\"font-weight: bold\">[</span><span style=\"color: #008080; text-decoration-color: #008080; font-weight: bold\">1.0</span>, <span style=\"color: #008080; text-decoration-color: #008080; font-weight: bold\">9.0</span><span style=\"font-weight: bold\">]}</span>\n",
       "</pre>\n"
      ],
      "text/plain": [
       "\u001b[1m{\u001b[0m\u001b[32m'G214_SQ_PN17'\u001b[0m: \u001b[1m[\u001b[0m\u001b[1;36m1.0\u001b[0m, \u001b[1;36m9.0\u001b[0m\u001b[1m]\u001b[0m\u001b[1m}\u001b[0m\n"
      ]
     },
     "metadata": {},
     "output_type": "display_data"
    },
    {
     "data": {
      "text/html": [
       "<pre style=\"white-space:pre;overflow-x:auto;line-height:normal;font-family:Menlo,'DejaVu Sans Mono',consolas,'Courier New',monospace\"><span style=\"font-weight: bold\">{</span><span style=\"color: #008000; text-decoration-color: #008000\">'G217_PQ_PN17'</span>: <span style=\"font-weight: bold\">[</span><span style=\"color: #008080; text-decoration-color: #008080; font-weight: bold\">0.0</span>, <span style=\"color: #008080; text-decoration-color: #008080; font-weight: bold\">9.0</span>, <span style=\"color: #008080; text-decoration-color: #008080; font-weight: bold\">1.0</span><span style=\"font-weight: bold\">]}</span>\n",
       "</pre>\n"
      ],
      "text/plain": [
       "\u001b[1m{\u001b[0m\u001b[32m'G217_PQ_PN17'\u001b[0m: \u001b[1m[\u001b[0m\u001b[1;36m0.0\u001b[0m, \u001b[1;36m9.0\u001b[0m, \u001b[1;36m1.0\u001b[0m\u001b[1m]\u001b[0m\u001b[1m}\u001b[0m\n"
      ]
     },
     "metadata": {},
     "output_type": "display_data"
    },
    {
     "data": {
      "text/html": [
       "<pre style=\"white-space:pre;overflow-x:auto;line-height:normal;font-family:Menlo,'DejaVu Sans Mono',consolas,'Courier New',monospace\"><span style=\"font-weight: bold\">{</span><span style=\"color: #008000; text-decoration-color: #008000\">'G217_SQ_PN17'</span>: <span style=\"font-weight: bold\">[</span><span style=\"color: #008080; text-decoration-color: #008080; font-weight: bold\">0.0</span>, <span style=\"color: #008080; text-decoration-color: #008080; font-weight: bold\">9.0</span><span style=\"font-weight: bold\">]}</span>\n",
       "</pre>\n"
      ],
      "text/plain": [
       "\u001b[1m{\u001b[0m\u001b[32m'G217_SQ_PN17'\u001b[0m: \u001b[1m[\u001b[0m\u001b[1;36m0.0\u001b[0m, \u001b[1;36m9.0\u001b[0m\u001b[1m]\u001b[0m\u001b[1m}\u001b[0m\n"
      ]
     },
     "metadata": {},
     "output_type": "display_data"
    }
   ],
   "source": [
    "for value in value_options:\n",
    "    rprint(f\"When {var} == {value}\")\n",
    "    for p in prefixes:\n",
    "        rprint(\n",
    "            test\n",
    "            .filter(pl.col(f\"{p}{var}\") == value)\n",
    "            .select(f\"{p}PN17\")\n",
    "            .unique()\n",
    "            .to_dict(as_series=False)\n",
    "        )"
   ]
  },
  {
   "cell_type": "markdown",
   "metadata": {},
   "source": [
    "No additional, unexpected values were found."
   ]
  },
  {
   "cell_type": "markdown",
   "metadata": {},
   "source": [
    "### Metadata"
   ]
  },
  {
   "cell_type": "markdown",
   "metadata": {},
   "source": [
    "Clear discrepancies in labels and field values.\n",
    "\n",
    "Changes:\n",
    "- Harmonised label to \"Missed work due to pain\"\n",
    "- Updated field values to reflect changes in data"
   ]
  },
  {
   "cell_type": "code",
   "execution_count": null,
   "metadata": {},
   "outputs": [],
   "source": [
    "m = filter_metadata(var, df, meta)"
   ]
  },
  {
   "cell_type": "code",
   "execution_count": null,
   "metadata": {},
   "outputs": [
    {
     "data": {
      "text/html": [
       "<pre style=\"white-space:pre;overflow-x:auto;line-height:normal;font-family:Menlo,'DejaVu Sans Mono',consolas,'Courier New',monospace\"><span style=\"color: #800080; text-decoration-color: #800080; font-weight: bold\">defaultdict</span><span style=\"font-weight: bold\">(&lt;</span><span style=\"color: #ff00ff; text-decoration-color: #ff00ff; font-weight: bold\">class</span><span style=\"color: #000000; text-decoration-color: #000000\"> </span><span style=\"color: #008000; text-decoration-color: #008000\">'dict'</span><span style=\"font-weight: bold\">&gt;</span>, <span style=\"font-weight: bold\">{</span>\n",
       "    <span style=\"color: #008000; text-decoration-color: #008000\">'Label'</span>: <span style=\"font-weight: bold\">{</span>\n",
       "        <span style=\"color: #008000; text-decoration-color: #008000\">'G214_PQ_PN35'</span>: <span style=\"color: #008000; text-decoration-color: #008000\">'Miss work due to back pain'</span>,\n",
       "        <span style=\"color: #008000; text-decoration-color: #008000\">'G214_SQ_PN35'</span>: <span style=\"color: #008000; text-decoration-color: #008000\">'Miss work due to back pain'</span>,\n",
       "        <span style=\"color: #008000; text-decoration-color: #008000\">'G217_PQ_PN35'</span>: <span style=\"color: #008000; text-decoration-color: #008000\">'Back pain stopped you from going to work'</span>,\n",
       "        <span style=\"color: #008000; text-decoration-color: #008000\">'G217_SQ_PN35'</span>: <span style=\"color: #008000; text-decoration-color: #008000\">'Did back pain stop you going to work?'</span>\n",
       "    <span style=\"font-weight: bold\">}</span>,\n",
       "    <span style=\"color: #008000; text-decoration-color: #008000\">'Field Type'</span>: <span style=\"font-weight: bold\">{</span>\n",
       "        <span style=\"color: #008000; text-decoration-color: #008000\">'G214_PQ_PN35'</span>: <span style=\"color: #008000; text-decoration-color: #008000\">'Numeric'</span>,\n",
       "        <span style=\"color: #008000; text-decoration-color: #008000\">'G214_SQ_PN35'</span>: <span style=\"color: #008000; text-decoration-color: #008000\">'Numeric'</span>,\n",
       "        <span style=\"color: #008000; text-decoration-color: #008000\">'G217_PQ_PN35'</span>: <span style=\"color: #008000; text-decoration-color: #008000\">'Numeric'</span>,\n",
       "        <span style=\"color: #008000; text-decoration-color: #008000\">'G217_SQ_PN35'</span>: <span style=\"color: #008000; text-decoration-color: #008000\">'Numeric'</span>\n",
       "    <span style=\"font-weight: bold\">}</span>,\n",
       "    <span style=\"color: #008000; text-decoration-color: #008000\">'Field Width'</span>: <span style=\"font-weight: bold\">{</span><span style=\"color: #008000; text-decoration-color: #008000\">'G214_PQ_PN35'</span>: <span style=\"color: #008080; text-decoration-color: #008080; font-weight: bold\">8</span>, <span style=\"color: #008000; text-decoration-color: #008000\">'G214_SQ_PN35'</span>: <span style=\"color: #008080; text-decoration-color: #008080; font-weight: bold\">8</span>, <span style=\"color: #008000; text-decoration-color: #008000\">'G217_PQ_PN35'</span>: <span style=\"color: #008080; text-decoration-color: #008080; font-weight: bold\">8</span>, <span style=\"color: #008000; text-decoration-color: #008000\">'G217_SQ_PN35'</span>: <span style=\"color: #008080; text-decoration-color: #008080; font-weight: bold\">8</span><span style=\"font-weight: bold\">}</span>,\n",
       "    <span style=\"color: #008000; text-decoration-color: #008000\">'Decimals'</span>: <span style=\"font-weight: bold\">{</span><span style=\"color: #008000; text-decoration-color: #008000\">'G214_PQ_PN35'</span>: <span style=\"color: #008000; text-decoration-color: #008000\">'0'</span>, <span style=\"color: #008000; text-decoration-color: #008000\">'G214_SQ_PN35'</span>: <span style=\"color: #008000; text-decoration-color: #008000\">'0'</span>, <span style=\"color: #008000; text-decoration-color: #008000\">'G217_PQ_PN35'</span>: <span style=\"color: #008000; text-decoration-color: #008000\">'0'</span>, <span style=\"color: #008000; text-decoration-color: #008000\">'G217_SQ_PN35'</span>: <span style=\"color: #008000; text-decoration-color: #008000\">'0'</span><span style=\"font-weight: bold\">}</span>,\n",
       "    <span style=\"color: #008000; text-decoration-color: #008000\">'Variable Type'</span>: <span style=\"font-weight: bold\">{</span>\n",
       "        <span style=\"color: #008000; text-decoration-color: #008000\">'G214_PQ_PN35'</span>: <span style=\"color: #008000; text-decoration-color: #008000\">'scale'</span>,\n",
       "        <span style=\"color: #008000; text-decoration-color: #008000\">'G214_SQ_PN35'</span>: <span style=\"color: #008000; text-decoration-color: #008000\">'scale'</span>,\n",
       "        <span style=\"color: #008000; text-decoration-color: #008000\">'G217_PQ_PN35'</span>: <span style=\"color: #008000; text-decoration-color: #008000\">'scale'</span>,\n",
       "        <span style=\"color: #008000; text-decoration-color: #008000\">'G217_SQ_PN35'</span>: <span style=\"color: #008000; text-decoration-color: #008000\">'scale'</span>\n",
       "    <span style=\"font-weight: bold\">}</span>,\n",
       "    <span style=\"color: #008000; text-decoration-color: #008000\">'Field Values'</span>: <span style=\"font-weight: bold\">{</span>\n",
       "        <span style=\"color: #008000; text-decoration-color: #008000\">'G214_PQ_PN35'</span>: <span style=\"font-weight: bold\">{</span><span style=\"color: #008080; text-decoration-color: #008080; font-weight: bold\">0.0</span>: <span style=\"color: #008000; text-decoration-color: #008000\">'No'</span>, <span style=\"color: #008080; text-decoration-color: #008080; font-weight: bold\">1.0</span>: <span style=\"color: #008000; text-decoration-color: #008000\">'Yes'</span>, <span style=\"color: #008080; text-decoration-color: #008080; font-weight: bold\">8.0</span>: <span style=\"color: #008000; text-decoration-color: #008000\">'Not applicable'</span>, <span style=\"color: #008080; text-decoration-color: #008080; font-weight: bold\">9.0</span>: <span style=\"color: #008000; text-decoration-color: #008000\">'Not stated'</span><span style=\"font-weight: bold\">}</span>,\n",
       "        <span style=\"color: #008000; text-decoration-color: #008000\">'G214_SQ_PN35'</span>: <span style=\"font-weight: bold\">{</span><span style=\"color: #008080; text-decoration-color: #008080; font-weight: bold\">0.0</span>: <span style=\"color: #008000; text-decoration-color: #008000\">'No'</span>, <span style=\"color: #008080; text-decoration-color: #008080; font-weight: bold\">1.0</span>: <span style=\"color: #008000; text-decoration-color: #008000\">'Yes'</span>, <span style=\"color: #008080; text-decoration-color: #008080; font-weight: bold\">8.0</span>: <span style=\"color: #008000; text-decoration-color: #008000\">'Not applicable'</span>, <span style=\"color: #008080; text-decoration-color: #008080; font-weight: bold\">9.0</span>: <span style=\"color: #008000; text-decoration-color: #008000\">'Not stated'</span><span style=\"font-weight: bold\">}</span>,\n",
       "        <span style=\"color: #008000; text-decoration-color: #008000\">'G217_PQ_PN35'</span>: <span style=\"font-weight: bold\">{</span>\n",
       "            <span style=\"color: #008080; text-decoration-color: #008080; font-weight: bold\">0.0</span>: <span style=\"color: #008000; text-decoration-color: #008000\">'No'</span>,\n",
       "            <span style=\"color: #008080; text-decoration-color: #008080; font-weight: bold\">1.0</span>: <span style=\"color: #008000; text-decoration-color: #008000\">'Yes'</span>,\n",
       "            <span style=\"color: #008080; text-decoration-color: #008080; font-weight: bold\">7.0</span>: <span style=\"color: #008000; text-decoration-color: #008000\">'Involved in incorrect skip - not answered'</span>,\n",
       "            <span style=\"color: #008080; text-decoration-color: #008080; font-weight: bold\">9.0</span>: <span style=\"color: #008000; text-decoration-color: #008000\">'Not stated'</span>\n",
       "        <span style=\"font-weight: bold\">}</span>,\n",
       "        <span style=\"color: #008000; text-decoration-color: #008000\">'G217_SQ_PN35'</span>: <span style=\"font-weight: bold\">{</span><span style=\"color: #008080; text-decoration-color: #008080; font-weight: bold\">0.0</span>: <span style=\"color: #008000; text-decoration-color: #008000\">'No'</span>, <span style=\"color: #008080; text-decoration-color: #008080; font-weight: bold\">1.0</span>: <span style=\"color: #008000; text-decoration-color: #008000\">'Yes'</span>, <span style=\"color: #008080; text-decoration-color: #008080; font-weight: bold\">9.0</span>: <span style=\"color: #008000; text-decoration-color: #008000\">'Not stated'</span><span style=\"font-weight: bold\">}</span>\n",
       "    <span style=\"font-weight: bold\">}</span>\n",
       "<span style=\"font-weight: bold\">})</span>\n",
       "</pre>\n"
      ],
      "text/plain": [
       "\u001b[1;35mdefaultdict\u001b[0m\u001b[1m(\u001b[0m\u001b[1m<\u001b[0m\u001b[1;95mclass\u001b[0m\u001b[39m \u001b[0m\u001b[32m'dict'\u001b[0m\u001b[1m>\u001b[0m, \u001b[1m{\u001b[0m\n",
       "    \u001b[32m'Label'\u001b[0m: \u001b[1m{\u001b[0m\n",
       "        \u001b[32m'G214_PQ_PN35'\u001b[0m: \u001b[32m'Miss work due to back pain'\u001b[0m,\n",
       "        \u001b[32m'G214_SQ_PN35'\u001b[0m: \u001b[32m'Miss work due to back pain'\u001b[0m,\n",
       "        \u001b[32m'G217_PQ_PN35'\u001b[0m: \u001b[32m'Back pain stopped you from going to work'\u001b[0m,\n",
       "        \u001b[32m'G217_SQ_PN35'\u001b[0m: \u001b[32m'Did back pain stop you going to work?'\u001b[0m\n",
       "    \u001b[1m}\u001b[0m,\n",
       "    \u001b[32m'Field Type'\u001b[0m: \u001b[1m{\u001b[0m\n",
       "        \u001b[32m'G214_PQ_PN35'\u001b[0m: \u001b[32m'Numeric'\u001b[0m,\n",
       "        \u001b[32m'G214_SQ_PN35'\u001b[0m: \u001b[32m'Numeric'\u001b[0m,\n",
       "        \u001b[32m'G217_PQ_PN35'\u001b[0m: \u001b[32m'Numeric'\u001b[0m,\n",
       "        \u001b[32m'G217_SQ_PN35'\u001b[0m: \u001b[32m'Numeric'\u001b[0m\n",
       "    \u001b[1m}\u001b[0m,\n",
       "    \u001b[32m'Field Width'\u001b[0m: \u001b[1m{\u001b[0m\u001b[32m'G214_PQ_PN35'\u001b[0m: \u001b[1;36m8\u001b[0m, \u001b[32m'G214_SQ_PN35'\u001b[0m: \u001b[1;36m8\u001b[0m, \u001b[32m'G217_PQ_PN35'\u001b[0m: \u001b[1;36m8\u001b[0m, \u001b[32m'G217_SQ_PN35'\u001b[0m: \u001b[1;36m8\u001b[0m\u001b[1m}\u001b[0m,\n",
       "    \u001b[32m'Decimals'\u001b[0m: \u001b[1m{\u001b[0m\u001b[32m'G214_PQ_PN35'\u001b[0m: \u001b[32m'0'\u001b[0m, \u001b[32m'G214_SQ_PN35'\u001b[0m: \u001b[32m'0'\u001b[0m, \u001b[32m'G217_PQ_PN35'\u001b[0m: \u001b[32m'0'\u001b[0m, \u001b[32m'G217_SQ_PN35'\u001b[0m: \u001b[32m'0'\u001b[0m\u001b[1m}\u001b[0m,\n",
       "    \u001b[32m'Variable Type'\u001b[0m: \u001b[1m{\u001b[0m\n",
       "        \u001b[32m'G214_PQ_PN35'\u001b[0m: \u001b[32m'scale'\u001b[0m,\n",
       "        \u001b[32m'G214_SQ_PN35'\u001b[0m: \u001b[32m'scale'\u001b[0m,\n",
       "        \u001b[32m'G217_PQ_PN35'\u001b[0m: \u001b[32m'scale'\u001b[0m,\n",
       "        \u001b[32m'G217_SQ_PN35'\u001b[0m: \u001b[32m'scale'\u001b[0m\n",
       "    \u001b[1m}\u001b[0m,\n",
       "    \u001b[32m'Field Values'\u001b[0m: \u001b[1m{\u001b[0m\n",
       "        \u001b[32m'G214_PQ_PN35'\u001b[0m: \u001b[1m{\u001b[0m\u001b[1;36m0.0\u001b[0m: \u001b[32m'No'\u001b[0m, \u001b[1;36m1.0\u001b[0m: \u001b[32m'Yes'\u001b[0m, \u001b[1;36m8.0\u001b[0m: \u001b[32m'Not applicable'\u001b[0m, \u001b[1;36m9.0\u001b[0m: \u001b[32m'Not stated'\u001b[0m\u001b[1m}\u001b[0m,\n",
       "        \u001b[32m'G214_SQ_PN35'\u001b[0m: \u001b[1m{\u001b[0m\u001b[1;36m0.0\u001b[0m: \u001b[32m'No'\u001b[0m, \u001b[1;36m1.0\u001b[0m: \u001b[32m'Yes'\u001b[0m, \u001b[1;36m8.0\u001b[0m: \u001b[32m'Not applicable'\u001b[0m, \u001b[1;36m9.0\u001b[0m: \u001b[32m'Not stated'\u001b[0m\u001b[1m}\u001b[0m,\n",
       "        \u001b[32m'G217_PQ_PN35'\u001b[0m: \u001b[1m{\u001b[0m\n",
       "            \u001b[1;36m0.0\u001b[0m: \u001b[32m'No'\u001b[0m,\n",
       "            \u001b[1;36m1.0\u001b[0m: \u001b[32m'Yes'\u001b[0m,\n",
       "            \u001b[1;36m7.0\u001b[0m: \u001b[32m'Involved in incorrect skip - not answered'\u001b[0m,\n",
       "            \u001b[1;36m9.0\u001b[0m: \u001b[32m'Not stated'\u001b[0m\n",
       "        \u001b[1m}\u001b[0m,\n",
       "        \u001b[32m'G217_SQ_PN35'\u001b[0m: \u001b[1m{\u001b[0m\u001b[1;36m0.0\u001b[0m: \u001b[32m'No'\u001b[0m, \u001b[1;36m1.0\u001b[0m: \u001b[32m'Yes'\u001b[0m, \u001b[1;36m9.0\u001b[0m: \u001b[32m'Not stated'\u001b[0m\u001b[1m}\u001b[0m\n",
       "    \u001b[1m}\u001b[0m\n",
       "\u001b[1m}\u001b[0m\u001b[1m)\u001b[0m\n"
      ]
     },
     "metadata": {},
     "output_type": "display_data"
    }
   ],
   "source": [
    "rprint(m)"
   ]
  },
  {
   "cell_type": "code",
   "execution_count": null,
   "metadata": {},
   "outputs": [
    {
     "data": {
      "text/html": [
       "<pre style=\"white-space:pre;overflow-x:auto;line-height:normal;font-family:Menlo,'DejaVu Sans Mono',consolas,'Courier New',monospace\"><span style=\"font-weight: bold\">{</span>\n",
       "    <span style=\"color: #008000; text-decoration-color: #008000\">'G214_PQ_PN35'</span>: <span style=\"font-weight: bold\">{</span><span style=\"color: #008080; text-decoration-color: #008080; font-weight: bold\">0.0</span>: <span style=\"color: #008000; text-decoration-color: #008000\">'No'</span>, <span style=\"color: #008080; text-decoration-color: #008080; font-weight: bold\">1.0</span>: <span style=\"color: #008000; text-decoration-color: #008000\">'Yes'</span>, <span style=\"color: #008080; text-decoration-color: #008080; font-weight: bold\">8.0</span>: <span style=\"color: #008000; text-decoration-color: #008000\">'Not applicable'</span>, <span style=\"color: #008080; text-decoration-color: #008080; font-weight: bold\">9.0</span>: <span style=\"color: #008000; text-decoration-color: #008000\">'Not stated'</span><span style=\"font-weight: bold\">}</span>,\n",
       "    <span style=\"color: #008000; text-decoration-color: #008000\">'G214_SQ_PN35'</span>: <span style=\"font-weight: bold\">{</span><span style=\"color: #008080; text-decoration-color: #008080; font-weight: bold\">0.0</span>: <span style=\"color: #008000; text-decoration-color: #008000\">'No'</span>, <span style=\"color: #008080; text-decoration-color: #008080; font-weight: bold\">1.0</span>: <span style=\"color: #008000; text-decoration-color: #008000\">'Yes'</span>, <span style=\"color: #008080; text-decoration-color: #008080; font-weight: bold\">8.0</span>: <span style=\"color: #008000; text-decoration-color: #008000\">'Not applicable'</span>, <span style=\"color: #008080; text-decoration-color: #008080; font-weight: bold\">9.0</span>: <span style=\"color: #008000; text-decoration-color: #008000\">'Not stated'</span><span style=\"font-weight: bold\">}</span>,\n",
       "    <span style=\"color: #008000; text-decoration-color: #008000\">'G217_PQ_PN35'</span>: <span style=\"font-weight: bold\">{</span><span style=\"color: #008080; text-decoration-color: #008080; font-weight: bold\">0.0</span>: <span style=\"color: #008000; text-decoration-color: #008000\">'No'</span>, <span style=\"color: #008080; text-decoration-color: #008080; font-weight: bold\">1.0</span>: <span style=\"color: #008000; text-decoration-color: #008000\">'Yes'</span>, <span style=\"color: #008080; text-decoration-color: #008080; font-weight: bold\">7.0</span>: <span style=\"color: #008000; text-decoration-color: #008000\">'Involved in incorrect skip - not answered'</span>, <span style=\"color: #008080; text-decoration-color: #008080; font-weight: bold\">9.0</span>: <span style=\"color: #008000; text-decoration-color: #008000\">'Not stated'</span><span style=\"font-weight: bold\">}</span>,\n",
       "    <span style=\"color: #008000; text-decoration-color: #008000\">'G217_SQ_PN35'</span>: <span style=\"font-weight: bold\">{</span><span style=\"color: #008080; text-decoration-color: #008080; font-weight: bold\">0.0</span>: <span style=\"color: #008000; text-decoration-color: #008000\">'No'</span>, <span style=\"color: #008080; text-decoration-color: #008080; font-weight: bold\">1.0</span>: <span style=\"color: #008000; text-decoration-color: #008000\">'Yes'</span>, <span style=\"color: #008080; text-decoration-color: #008080; font-weight: bold\">9.0</span>: <span style=\"color: #008000; text-decoration-color: #008000\">'Not stated'</span><span style=\"font-weight: bold\">}</span>\n",
       "<span style=\"font-weight: bold\">}</span>\n",
       "</pre>\n"
      ],
      "text/plain": [
       "\u001b[1m{\u001b[0m\n",
       "    \u001b[32m'G214_PQ_PN35'\u001b[0m: \u001b[1m{\u001b[0m\u001b[1;36m0.0\u001b[0m: \u001b[32m'No'\u001b[0m, \u001b[1;36m1.0\u001b[0m: \u001b[32m'Yes'\u001b[0m, \u001b[1;36m8.0\u001b[0m: \u001b[32m'Not applicable'\u001b[0m, \u001b[1;36m9.0\u001b[0m: \u001b[32m'Not stated'\u001b[0m\u001b[1m}\u001b[0m,\n",
       "    \u001b[32m'G214_SQ_PN35'\u001b[0m: \u001b[1m{\u001b[0m\u001b[1;36m0.0\u001b[0m: \u001b[32m'No'\u001b[0m, \u001b[1;36m1.0\u001b[0m: \u001b[32m'Yes'\u001b[0m, \u001b[1;36m8.0\u001b[0m: \u001b[32m'Not applicable'\u001b[0m, \u001b[1;36m9.0\u001b[0m: \u001b[32m'Not stated'\u001b[0m\u001b[1m}\u001b[0m,\n",
       "    \u001b[32m'G217_PQ_PN35'\u001b[0m: \u001b[1m{\u001b[0m\u001b[1;36m0.0\u001b[0m: \u001b[32m'No'\u001b[0m, \u001b[1;36m1.0\u001b[0m: \u001b[32m'Yes'\u001b[0m, \u001b[1;36m7.0\u001b[0m: \u001b[32m'Involved in incorrect skip - not answered'\u001b[0m, \u001b[1;36m9.0\u001b[0m: \u001b[32m'Not stated'\u001b[0m\u001b[1m}\u001b[0m,\n",
       "    \u001b[32m'G217_SQ_PN35'\u001b[0m: \u001b[1m{\u001b[0m\u001b[1;36m0.0\u001b[0m: \u001b[32m'No'\u001b[0m, \u001b[1;36m1.0\u001b[0m: \u001b[32m'Yes'\u001b[0m, \u001b[1;36m9.0\u001b[0m: \u001b[32m'Not stated'\u001b[0m\u001b[1m}\u001b[0m\n",
       "\u001b[1m}\u001b[0m\n"
      ]
     },
     "metadata": {},
     "output_type": "display_data"
    }
   ],
   "source": [
    "rprint(m[\"Field Values\"])"
   ]
  },
  {
   "cell_type": "code",
   "execution_count": null,
   "metadata": {},
   "outputs": [],
   "source": [
    "PN35 = Metadata(\n",
    "    label= \"Missed work due to pain\",\n",
    "    field_values = {-88: \"N/A\", -99: \"Missing\", 0: \"No\", 1: \"Yes\"},\n",
    "    field_type = \"Numeric\",\n",
    "    field_width = 3,\n",
    "    decimals =  0,\n",
    "    variable_type = \"Nominal\"\n",
    ")"
   ]
  },
  {
   "cell_type": "markdown",
   "metadata": {},
   "source": [
    "## PN36"
   ]
  },
  {
   "cell_type": "code",
   "execution_count": null,
   "metadata": {},
   "outputs": [],
   "source": [
    "var = \"PN36\""
   ]
  },
  {
   "cell_type": "markdown",
   "metadata": {},
   "source": [
    "### Data"
   ]
  },
  {
   "cell_type": "markdown",
   "metadata": {},
   "source": [
    "Some of the existing options are the same across all datasets:\n",
    "- 0: No\n",
    "- 1: Yes\n",
    "- 9: Missing\n",
    "\n",
    "For G214_PQ and G214_SQ\n",
    "- 8: N/A\n",
    "\n",
    "For G217_PQ:\n",
    "- 7: Involved in incorrect skip - not answered\n",
    "\n",
    "Values of 7 should be considered missing, as discussed with Alex D'Vauz.\n",
    "\n",
    "Changes:\n",
    "- Convert 8 to -88\n",
    "- Convert 9 to -99\n",
    "- Convert 7 to -99"
   ]
  },
  {
   "cell_type": "code",
   "execution_count": null,
   "metadata": {},
   "outputs": [
    {
     "data": {
      "text/html": [
       "<pre style=\"white-space:pre;overflow-x:auto;line-height:normal;font-family:Menlo,'DejaVu Sans Mono',consolas,'Courier New',monospace\"><span style=\"font-weight: bold\">{</span>\n",
       "    <span style=\"color: #008000; text-decoration-color: #008000\">'G214_PQ_PN36'</span>: <span style=\"font-weight: bold\">(</span><span style=\"color: #800080; text-decoration-color: #800080; font-style: italic\">None</span>, <span style=\"color: #008080; text-decoration-color: #008080; font-weight: bold\">0.0</span>, <span style=\"color: #008080; text-decoration-color: #008080; font-weight: bold\">1.0</span>, <span style=\"color: #008080; text-decoration-color: #008080; font-weight: bold\">8.0</span>, <span style=\"color: #008080; text-decoration-color: #008080; font-weight: bold\">9.0</span><span style=\"font-weight: bold\">)</span>,\n",
       "    <span style=\"color: #008000; text-decoration-color: #008000\">'G214_SQ_PN36'</span>: <span style=\"font-weight: bold\">(</span><span style=\"color: #800080; text-decoration-color: #800080; font-style: italic\">None</span>, <span style=\"color: #008080; text-decoration-color: #008080; font-weight: bold\">0.0</span>, <span style=\"color: #008080; text-decoration-color: #008080; font-weight: bold\">1.0</span>, <span style=\"color: #008080; text-decoration-color: #008080; font-weight: bold\">8.0</span>, <span style=\"color: #008080; text-decoration-color: #008080; font-weight: bold\">9.0</span><span style=\"font-weight: bold\">)</span>,\n",
       "    <span style=\"color: #008000; text-decoration-color: #008000\">'G217_PQ_PN36'</span>: <span style=\"font-weight: bold\">(</span><span style=\"color: #800080; text-decoration-color: #800080; font-style: italic\">None</span>, <span style=\"color: #008080; text-decoration-color: #008080; font-weight: bold\">0.0</span>, <span style=\"color: #008080; text-decoration-color: #008080; font-weight: bold\">1.0</span>, <span style=\"color: #008080; text-decoration-color: #008080; font-weight: bold\">7.0</span>, <span style=\"color: #008080; text-decoration-color: #008080; font-weight: bold\">9.0</span><span style=\"font-weight: bold\">)</span>,\n",
       "    <span style=\"color: #008000; text-decoration-color: #008000\">'G217_SQ_PN36'</span>: <span style=\"font-weight: bold\">(</span><span style=\"color: #800080; text-decoration-color: #800080; font-style: italic\">None</span>, <span style=\"color: #008080; text-decoration-color: #008080; font-weight: bold\">0.0</span>, <span style=\"color: #008080; text-decoration-color: #008080; font-weight: bold\">1.0</span>, <span style=\"color: #008080; text-decoration-color: #008080; font-weight: bold\">9.0</span><span style=\"font-weight: bold\">)</span>\n",
       "<span style=\"font-weight: bold\">}</span>\n",
       "</pre>\n"
      ],
      "text/plain": [
       "\u001b[1m{\u001b[0m\n",
       "    \u001b[32m'G214_PQ_PN36'\u001b[0m: \u001b[1m(\u001b[0m\u001b[3;35mNone\u001b[0m, \u001b[1;36m0.0\u001b[0m, \u001b[1;36m1.0\u001b[0m, \u001b[1;36m8.0\u001b[0m, \u001b[1;36m9.0\u001b[0m\u001b[1m)\u001b[0m,\n",
       "    \u001b[32m'G214_SQ_PN36'\u001b[0m: \u001b[1m(\u001b[0m\u001b[3;35mNone\u001b[0m, \u001b[1;36m0.0\u001b[0m, \u001b[1;36m1.0\u001b[0m, \u001b[1;36m8.0\u001b[0m, \u001b[1;36m9.0\u001b[0m\u001b[1m)\u001b[0m,\n",
       "    \u001b[32m'G217_PQ_PN36'\u001b[0m: \u001b[1m(\u001b[0m\u001b[3;35mNone\u001b[0m, \u001b[1;36m0.0\u001b[0m, \u001b[1;36m1.0\u001b[0m, \u001b[1;36m7.0\u001b[0m, \u001b[1;36m9.0\u001b[0m\u001b[1m)\u001b[0m,\n",
       "    \u001b[32m'G217_SQ_PN36'\u001b[0m: \u001b[1m(\u001b[0m\u001b[3;35mNone\u001b[0m, \u001b[1;36m0.0\u001b[0m, \u001b[1;36m1.0\u001b[0m, \u001b[1;36m9.0\u001b[0m\u001b[1m)\u001b[0m\n",
       "\u001b[1m}\u001b[0m\n"
      ]
     },
     "metadata": {},
     "output_type": "display_data"
    }
   ],
   "source": [
    "unique_vals = unique_values(df, var)\n",
    "rprint(unique_vals)"
   ]
  },
  {
   "cell_type": "code",
   "execution_count": null,
   "metadata": {},
   "outputs": [
    {
     "data": {
      "text/html": [
       "<pre style=\"white-space:pre;overflow-x:auto;line-height:normal;font-family:Menlo,'DejaVu Sans Mono',consolas,'Courier New',monospace\"></pre>\n"
      ],
      "text/plain": []
     },
     "metadata": {},
     "output_type": "display_data"
    },
    {
     "data": {
      "text/plain": [
       "\u001b[1m{\u001b[0m\u001b[1;36m0.0\u001b[0m, \u001b[1;36m1.0\u001b[0m, \u001b[1;36m7.0\u001b[0m, \u001b[1;36m8.0\u001b[0m, \u001b[1;36m9.0\u001b[0m\u001b[1m}\u001b[0m"
      ]
     },
     "execution_count": null,
     "metadata": {},
     "output_type": "execute_result"
    }
   ],
   "source": [
    "# Note the unique values for PN36 across all datasets combined\n",
    "value_options = set()\n",
    "for values in unique_vals.values(): \n",
    "    value_options.update(values)\n",
    "value_options.discard(None)\n",
    "value_options"
   ]
  },
  {
   "cell_type": "markdown",
   "metadata": {},
   "source": [
    "#### Define properties to test, validate, and explore\n",
    "\n",
    "- When PN17 is 0 (No), PN36 should be 8 (N/A)\n",
    "- When PN17 is 1 (Yes), PN36 should be 0, 1, or 9\n",
    "- When PN17 is 9 (Missing), PN36 should be 9"
   ]
  },
  {
   "cell_type": "code",
   "execution_count": null,
   "metadata": {},
   "outputs": [],
   "source": [
    "test = df.clone().collect()"
   ]
  },
  {
   "cell_type": "code",
   "execution_count": null,
   "metadata": {},
   "outputs": [
    {
     "data": {
      "text/html": [
       "<pre style=\"white-space:pre;overflow-x:auto;line-height:normal;font-family:Menlo,'DejaVu Sans Mono',consolas,'Courier New',monospace\">When PN17 == <span style=\"color: #008080; text-decoration-color: #008080; font-weight: bold\">0</span>\n",
       "</pre>\n"
      ],
      "text/plain": [
       "When PN17 == \u001b[1;36m0\u001b[0m\n"
      ]
     },
     "metadata": {},
     "output_type": "display_data"
    },
    {
     "data": {
      "text/html": [
       "<pre style=\"white-space:pre;overflow-x:auto;line-height:normal;font-family:Menlo,'DejaVu Sans Mono',consolas,'Courier New',monospace\"><span style=\"font-weight: bold\">{</span><span style=\"color: #008000; text-decoration-color: #008000\">'G214_PQ_PN36'</span>: <span style=\"font-weight: bold\">[</span><span style=\"color: #008080; text-decoration-color: #008080; font-weight: bold\">8.0</span><span style=\"font-weight: bold\">]}</span>\n",
       "</pre>\n"
      ],
      "text/plain": [
       "\u001b[1m{\u001b[0m\u001b[32m'G214_PQ_PN36'\u001b[0m: \u001b[1m[\u001b[0m\u001b[1;36m8.0\u001b[0m\u001b[1m]\u001b[0m\u001b[1m}\u001b[0m\n"
      ]
     },
     "metadata": {},
     "output_type": "display_data"
    },
    {
     "data": {
      "text/html": [
       "<pre style=\"white-space:pre;overflow-x:auto;line-height:normal;font-family:Menlo,'DejaVu Sans Mono',consolas,'Courier New',monospace\"><span style=\"font-weight: bold\">{</span><span style=\"color: #008000; text-decoration-color: #008000\">'G214_SQ_PN36'</span>: <span style=\"font-weight: bold\">[</span><span style=\"color: #008080; text-decoration-color: #008080; font-weight: bold\">8.0</span><span style=\"font-weight: bold\">]}</span>\n",
       "</pre>\n"
      ],
      "text/plain": [
       "\u001b[1m{\u001b[0m\u001b[32m'G214_SQ_PN36'\u001b[0m: \u001b[1m[\u001b[0m\u001b[1;36m8.0\u001b[0m\u001b[1m]\u001b[0m\u001b[1m}\u001b[0m\n"
      ]
     },
     "metadata": {},
     "output_type": "display_data"
    },
    {
     "data": {
      "text/html": [
       "<pre style=\"white-space:pre;overflow-x:auto;line-height:normal;font-family:Menlo,'DejaVu Sans Mono',consolas,'Courier New',monospace\"><span style=\"font-weight: bold\">{</span><span style=\"color: #008000; text-decoration-color: #008000\">'G217_PQ_PN36'</span>: <span style=\"font-weight: bold\">[</span><span style=\"color: #008080; text-decoration-color: #008080; font-weight: bold\">0.0</span>, <span style=\"color: #008080; text-decoration-color: #008080; font-weight: bold\">1.0</span>, <span style=\"color: #008080; text-decoration-color: #008080; font-weight: bold\">9.0</span>, <span style=\"color: #008080; text-decoration-color: #008080; font-weight: bold\">7.0</span><span style=\"font-weight: bold\">]}</span>\n",
       "</pre>\n"
      ],
      "text/plain": [
       "\u001b[1m{\u001b[0m\u001b[32m'G217_PQ_PN36'\u001b[0m: \u001b[1m[\u001b[0m\u001b[1;36m0.0\u001b[0m, \u001b[1;36m1.0\u001b[0m, \u001b[1;36m9.0\u001b[0m, \u001b[1;36m7.0\u001b[0m\u001b[1m]\u001b[0m\u001b[1m}\u001b[0m\n"
      ]
     },
     "metadata": {},
     "output_type": "display_data"
    },
    {
     "data": {
      "text/html": [
       "<pre style=\"white-space:pre;overflow-x:auto;line-height:normal;font-family:Menlo,'DejaVu Sans Mono',consolas,'Courier New',monospace\"><span style=\"font-weight: bold\">{</span><span style=\"color: #008000; text-decoration-color: #008000\">'G217_SQ_PN36'</span>: <span style=\"font-weight: bold\">[</span><span style=\"color: #008080; text-decoration-color: #008080; font-weight: bold\">9.0</span>, <span style=\"color: #008080; text-decoration-color: #008080; font-weight: bold\">0.0</span>, <span style=\"color: #008080; text-decoration-color: #008080; font-weight: bold\">1.0</span><span style=\"font-weight: bold\">]}</span>\n",
       "</pre>\n"
      ],
      "text/plain": [
       "\u001b[1m{\u001b[0m\u001b[32m'G217_SQ_PN36'\u001b[0m: \u001b[1m[\u001b[0m\u001b[1;36m9.0\u001b[0m, \u001b[1;36m0.0\u001b[0m, \u001b[1;36m1.0\u001b[0m\u001b[1m]\u001b[0m\u001b[1m}\u001b[0m\n"
      ]
     },
     "metadata": {},
     "output_type": "display_data"
    },
    {
     "data": {
      "text/html": [
       "<pre style=\"white-space:pre;overflow-x:auto;line-height:normal;font-family:Menlo,'DejaVu Sans Mono',consolas,'Courier New',monospace\">When PN17 == <span style=\"color: #008080; text-decoration-color: #008080; font-weight: bold\">1</span>\n",
       "</pre>\n"
      ],
      "text/plain": [
       "When PN17 == \u001b[1;36m1\u001b[0m\n"
      ]
     },
     "metadata": {},
     "output_type": "display_data"
    },
    {
     "data": {
      "text/html": [
       "<pre style=\"white-space:pre;overflow-x:auto;line-height:normal;font-family:Menlo,'DejaVu Sans Mono',consolas,'Courier New',monospace\"><span style=\"font-weight: bold\">{</span><span style=\"color: #008000; text-decoration-color: #008000\">'G214_PQ_PN36'</span>: <span style=\"font-weight: bold\">[</span><span style=\"color: #008080; text-decoration-color: #008080; font-weight: bold\">0.0</span>, <span style=\"color: #008080; text-decoration-color: #008080; font-weight: bold\">1.0</span><span style=\"font-weight: bold\">]}</span>\n",
       "</pre>\n"
      ],
      "text/plain": [
       "\u001b[1m{\u001b[0m\u001b[32m'G214_PQ_PN36'\u001b[0m: \u001b[1m[\u001b[0m\u001b[1;36m0.0\u001b[0m, \u001b[1;36m1.0\u001b[0m\u001b[1m]\u001b[0m\u001b[1m}\u001b[0m\n"
      ]
     },
     "metadata": {},
     "output_type": "display_data"
    },
    {
     "data": {
      "text/html": [
       "<pre style=\"white-space:pre;overflow-x:auto;line-height:normal;font-family:Menlo,'DejaVu Sans Mono',consolas,'Courier New',monospace\"><span style=\"font-weight: bold\">{</span><span style=\"color: #008000; text-decoration-color: #008000\">'G214_SQ_PN36'</span>: <span style=\"font-weight: bold\">[</span><span style=\"color: #008080; text-decoration-color: #008080; font-weight: bold\">0.0</span>, <span style=\"color: #008080; text-decoration-color: #008080; font-weight: bold\">1.0</span>, <span style=\"color: #008080; text-decoration-color: #008080; font-weight: bold\">9.0</span><span style=\"font-weight: bold\">]}</span>\n",
       "</pre>\n"
      ],
      "text/plain": [
       "\u001b[1m{\u001b[0m\u001b[32m'G214_SQ_PN36'\u001b[0m: \u001b[1m[\u001b[0m\u001b[1;36m0.0\u001b[0m, \u001b[1;36m1.0\u001b[0m, \u001b[1;36m9.0\u001b[0m\u001b[1m]\u001b[0m\u001b[1m}\u001b[0m\n"
      ]
     },
     "metadata": {},
     "output_type": "display_data"
    },
    {
     "data": {
      "text/html": [
       "<pre style=\"white-space:pre;overflow-x:auto;line-height:normal;font-family:Menlo,'DejaVu Sans Mono',consolas,'Courier New',monospace\"><span style=\"font-weight: bold\">{</span><span style=\"color: #008000; text-decoration-color: #008000\">'G217_PQ_PN36'</span>: <span style=\"font-weight: bold\">[</span><span style=\"color: #008080; text-decoration-color: #008080; font-weight: bold\">0.0</span>, <span style=\"color: #008080; text-decoration-color: #008080; font-weight: bold\">9.0</span>, <span style=\"color: #008080; text-decoration-color: #008080; font-weight: bold\">1.0</span><span style=\"font-weight: bold\">]}</span>\n",
       "</pre>\n"
      ],
      "text/plain": [
       "\u001b[1m{\u001b[0m\u001b[32m'G217_PQ_PN36'\u001b[0m: \u001b[1m[\u001b[0m\u001b[1;36m0.0\u001b[0m, \u001b[1;36m9.0\u001b[0m, \u001b[1;36m1.0\u001b[0m\u001b[1m]\u001b[0m\u001b[1m}\u001b[0m\n"
      ]
     },
     "metadata": {},
     "output_type": "display_data"
    },
    {
     "data": {
      "text/html": [
       "<pre style=\"white-space:pre;overflow-x:auto;line-height:normal;font-family:Menlo,'DejaVu Sans Mono',consolas,'Courier New',monospace\"><span style=\"font-weight: bold\">{</span><span style=\"color: #008000; text-decoration-color: #008000\">'G217_SQ_PN36'</span>: <span style=\"font-weight: bold\">[</span><span style=\"color: #008080; text-decoration-color: #008080; font-weight: bold\">0.0</span>, <span style=\"color: #008080; text-decoration-color: #008080; font-weight: bold\">1.0</span>, <span style=\"color: #008080; text-decoration-color: #008080; font-weight: bold\">9.0</span><span style=\"font-weight: bold\">]}</span>\n",
       "</pre>\n"
      ],
      "text/plain": [
       "\u001b[1m{\u001b[0m\u001b[32m'G217_SQ_PN36'\u001b[0m: \u001b[1m[\u001b[0m\u001b[1;36m0.0\u001b[0m, \u001b[1;36m1.0\u001b[0m, \u001b[1;36m9.0\u001b[0m\u001b[1m]\u001b[0m\u001b[1m}\u001b[0m\n"
      ]
     },
     "metadata": {},
     "output_type": "display_data"
    },
    {
     "data": {
      "text/html": [
       "<pre style=\"white-space:pre;overflow-x:auto;line-height:normal;font-family:Menlo,'DejaVu Sans Mono',consolas,'Courier New',monospace\">When PN17 == <span style=\"color: #008080; text-decoration-color: #008080; font-weight: bold\">9</span>\n",
       "</pre>\n"
      ],
      "text/plain": [
       "When PN17 == \u001b[1;36m9\u001b[0m\n"
      ]
     },
     "metadata": {},
     "output_type": "display_data"
    },
    {
     "data": {
      "text/html": [
       "<pre style=\"white-space:pre;overflow-x:auto;line-height:normal;font-family:Menlo,'DejaVu Sans Mono',consolas,'Courier New',monospace\"><span style=\"font-weight: bold\">{</span><span style=\"color: #008000; text-decoration-color: #008000\">'G214_PQ_PN36'</span>: <span style=\"font-weight: bold\">[</span><span style=\"color: #008080; text-decoration-color: #008080; font-weight: bold\">9.0</span><span style=\"font-weight: bold\">]}</span>\n",
       "</pre>\n"
      ],
      "text/plain": [
       "\u001b[1m{\u001b[0m\u001b[32m'G214_PQ_PN36'\u001b[0m: \u001b[1m[\u001b[0m\u001b[1;36m9.0\u001b[0m\u001b[1m]\u001b[0m\u001b[1m}\u001b[0m\n"
      ]
     },
     "metadata": {},
     "output_type": "display_data"
    },
    {
     "data": {
      "text/html": [
       "<pre style=\"white-space:pre;overflow-x:auto;line-height:normal;font-family:Menlo,'DejaVu Sans Mono',consolas,'Courier New',monospace\"><span style=\"font-weight: bold\">{</span><span style=\"color: #008000; text-decoration-color: #008000\">'G214_SQ_PN36'</span>: <span style=\"font-weight: bold\">[</span><span style=\"color: #008080; text-decoration-color: #008080; font-weight: bold\">9.0</span><span style=\"font-weight: bold\">]}</span>\n",
       "</pre>\n"
      ],
      "text/plain": [
       "\u001b[1m{\u001b[0m\u001b[32m'G214_SQ_PN36'\u001b[0m: \u001b[1m[\u001b[0m\u001b[1;36m9.0\u001b[0m\u001b[1m]\u001b[0m\u001b[1m}\u001b[0m\n"
      ]
     },
     "metadata": {},
     "output_type": "display_data"
    },
    {
     "data": {
      "text/html": [
       "<pre style=\"white-space:pre;overflow-x:auto;line-height:normal;font-family:Menlo,'DejaVu Sans Mono',consolas,'Courier New',monospace\"><span style=\"font-weight: bold\">{</span><span style=\"color: #008000; text-decoration-color: #008000\">'G217_PQ_PN36'</span>: <span style=\"font-weight: bold\">[</span><span style=\"color: #008080; text-decoration-color: #008080; font-weight: bold\">9.0</span><span style=\"font-weight: bold\">]}</span>\n",
       "</pre>\n"
      ],
      "text/plain": [
       "\u001b[1m{\u001b[0m\u001b[32m'G217_PQ_PN36'\u001b[0m: \u001b[1m[\u001b[0m\u001b[1;36m9.0\u001b[0m\u001b[1m]\u001b[0m\u001b[1m}\u001b[0m\n"
      ]
     },
     "metadata": {},
     "output_type": "display_data"
    },
    {
     "data": {
      "text/html": [
       "<pre style=\"white-space:pre;overflow-x:auto;line-height:normal;font-family:Menlo,'DejaVu Sans Mono',consolas,'Courier New',monospace\"><span style=\"font-weight: bold\">{</span><span style=\"color: #008000; text-decoration-color: #008000\">'G217_SQ_PN36'</span>: <span style=\"font-weight: bold\">[</span><span style=\"color: #008080; text-decoration-color: #008080; font-weight: bold\">9.0</span><span style=\"font-weight: bold\">]}</span>\n",
       "</pre>\n"
      ],
      "text/plain": [
       "\u001b[1m{\u001b[0m\u001b[32m'G217_SQ_PN36'\u001b[0m: \u001b[1m[\u001b[0m\u001b[1;36m9.0\u001b[0m\u001b[1m]\u001b[0m\u001b[1m}\u001b[0m\n"
      ]
     },
     "metadata": {},
     "output_type": "display_data"
    }
   ],
   "source": [
    "for value in (0, 1, 9):\n",
    "    rprint(f\"When PN17 == {value}\")\n",
    "    for p in prefixes:\n",
    "        rprint(\n",
    "            test\n",
    "            .filter(pl.col(f\"{p}PN17\") == value)\n",
    "            .select(f\"{p}{var}\")\n",
    "            .unique()\n",
    "            .to_dict(as_series=False)\n",
    "        )"
   ]
  },
  {
   "cell_type": "markdown",
   "metadata": {},
   "source": [
    "As per PN25, properties 2 and 3 were as expected and property 1 did not pass due to differences in the Y17 follow-ups."
   ]
  },
  {
   "cell_type": "code",
   "execution_count": null,
   "metadata": {},
   "outputs": [
    {
     "data": {
      "text/html": [
       "<pre style=\"white-space:pre;overflow-x:auto;line-height:normal;font-family:Menlo,'DejaVu Sans Mono',consolas,'Courier New',monospace\">When PN36 == <span style=\"color: #008080; text-decoration-color: #008080; font-weight: bold\">0.0</span>\n",
       "</pre>\n"
      ],
      "text/plain": [
       "When PN36 == \u001b[1;36m0.0\u001b[0m\n"
      ]
     },
     "metadata": {},
     "output_type": "display_data"
    },
    {
     "data": {
      "text/html": [
       "<pre style=\"white-space:pre;overflow-x:auto;line-height:normal;font-family:Menlo,'DejaVu Sans Mono',consolas,'Courier New',monospace\"><span style=\"font-weight: bold\">{</span><span style=\"color: #008000; text-decoration-color: #008000\">'G214_PQ_PN17'</span>: <span style=\"font-weight: bold\">[</span><span style=\"color: #008080; text-decoration-color: #008080; font-weight: bold\">1.0</span><span style=\"font-weight: bold\">]}</span>\n",
       "</pre>\n"
      ],
      "text/plain": [
       "\u001b[1m{\u001b[0m\u001b[32m'G214_PQ_PN17'\u001b[0m: \u001b[1m[\u001b[0m\u001b[1;36m1.0\u001b[0m\u001b[1m]\u001b[0m\u001b[1m}\u001b[0m\n"
      ]
     },
     "metadata": {},
     "output_type": "display_data"
    },
    {
     "data": {
      "text/html": [
       "<pre style=\"white-space:pre;overflow-x:auto;line-height:normal;font-family:Menlo,'DejaVu Sans Mono',consolas,'Courier New',monospace\"><span style=\"font-weight: bold\">{</span><span style=\"color: #008000; text-decoration-color: #008000\">'G214_SQ_PN17'</span>: <span style=\"font-weight: bold\">[</span><span style=\"color: #008080; text-decoration-color: #008080; font-weight: bold\">1.0</span><span style=\"font-weight: bold\">]}</span>\n",
       "</pre>\n"
      ],
      "text/plain": [
       "\u001b[1m{\u001b[0m\u001b[32m'G214_SQ_PN17'\u001b[0m: \u001b[1m[\u001b[0m\u001b[1;36m1.0\u001b[0m\u001b[1m]\u001b[0m\u001b[1m}\u001b[0m\n"
      ]
     },
     "metadata": {},
     "output_type": "display_data"
    },
    {
     "data": {
      "text/html": [
       "<pre style=\"white-space:pre;overflow-x:auto;line-height:normal;font-family:Menlo,'DejaVu Sans Mono',consolas,'Courier New',monospace\"><span style=\"font-weight: bold\">{</span><span style=\"color: #008000; text-decoration-color: #008000\">'G217_PQ_PN17'</span>: <span style=\"font-weight: bold\">[</span><span style=\"color: #008080; text-decoration-color: #008080; font-weight: bold\">0.0</span>, <span style=\"color: #008080; text-decoration-color: #008080; font-weight: bold\">1.0</span><span style=\"font-weight: bold\">]}</span>\n",
       "</pre>\n"
      ],
      "text/plain": [
       "\u001b[1m{\u001b[0m\u001b[32m'G217_PQ_PN17'\u001b[0m: \u001b[1m[\u001b[0m\u001b[1;36m0.0\u001b[0m, \u001b[1;36m1.0\u001b[0m\u001b[1m]\u001b[0m\u001b[1m}\u001b[0m\n"
      ]
     },
     "metadata": {},
     "output_type": "display_data"
    },
    {
     "data": {
      "text/html": [
       "<pre style=\"white-space:pre;overflow-x:auto;line-height:normal;font-family:Menlo,'DejaVu Sans Mono',consolas,'Courier New',monospace\"><span style=\"font-weight: bold\">{</span><span style=\"color: #008000; text-decoration-color: #008000\">'G217_SQ_PN17'</span>: <span style=\"font-weight: bold\">[</span><span style=\"color: #008080; text-decoration-color: #008080; font-weight: bold\">1.0</span>, <span style=\"color: #008080; text-decoration-color: #008080; font-weight: bold\">0.0</span><span style=\"font-weight: bold\">]}</span>\n",
       "</pre>\n"
      ],
      "text/plain": [
       "\u001b[1m{\u001b[0m\u001b[32m'G217_SQ_PN17'\u001b[0m: \u001b[1m[\u001b[0m\u001b[1;36m1.0\u001b[0m, \u001b[1;36m0.0\u001b[0m\u001b[1m]\u001b[0m\u001b[1m}\u001b[0m\n"
      ]
     },
     "metadata": {},
     "output_type": "display_data"
    },
    {
     "data": {
      "text/html": [
       "<pre style=\"white-space:pre;overflow-x:auto;line-height:normal;font-family:Menlo,'DejaVu Sans Mono',consolas,'Courier New',monospace\">When PN36 == <span style=\"color: #008080; text-decoration-color: #008080; font-weight: bold\">1.0</span>\n",
       "</pre>\n"
      ],
      "text/plain": [
       "When PN36 == \u001b[1;36m1.0\u001b[0m\n"
      ]
     },
     "metadata": {},
     "output_type": "display_data"
    },
    {
     "data": {
      "text/html": [
       "<pre style=\"white-space:pre;overflow-x:auto;line-height:normal;font-family:Menlo,'DejaVu Sans Mono',consolas,'Courier New',monospace\"><span style=\"font-weight: bold\">{</span><span style=\"color: #008000; text-decoration-color: #008000\">'G214_PQ_PN17'</span>: <span style=\"font-weight: bold\">[</span><span style=\"color: #008080; text-decoration-color: #008080; font-weight: bold\">1.0</span><span style=\"font-weight: bold\">]}</span>\n",
       "</pre>\n"
      ],
      "text/plain": [
       "\u001b[1m{\u001b[0m\u001b[32m'G214_PQ_PN17'\u001b[0m: \u001b[1m[\u001b[0m\u001b[1;36m1.0\u001b[0m\u001b[1m]\u001b[0m\u001b[1m}\u001b[0m\n"
      ]
     },
     "metadata": {},
     "output_type": "display_data"
    },
    {
     "data": {
      "text/html": [
       "<pre style=\"white-space:pre;overflow-x:auto;line-height:normal;font-family:Menlo,'DejaVu Sans Mono',consolas,'Courier New',monospace\"><span style=\"font-weight: bold\">{</span><span style=\"color: #008000; text-decoration-color: #008000\">'G214_SQ_PN17'</span>: <span style=\"font-weight: bold\">[</span><span style=\"color: #008080; text-decoration-color: #008080; font-weight: bold\">1.0</span><span style=\"font-weight: bold\">]}</span>\n",
       "</pre>\n"
      ],
      "text/plain": [
       "\u001b[1m{\u001b[0m\u001b[32m'G214_SQ_PN17'\u001b[0m: \u001b[1m[\u001b[0m\u001b[1;36m1.0\u001b[0m\u001b[1m]\u001b[0m\u001b[1m}\u001b[0m\n"
      ]
     },
     "metadata": {},
     "output_type": "display_data"
    },
    {
     "data": {
      "text/html": [
       "<pre style=\"white-space:pre;overflow-x:auto;line-height:normal;font-family:Menlo,'DejaVu Sans Mono',consolas,'Courier New',monospace\"><span style=\"font-weight: bold\">{</span><span style=\"color: #008000; text-decoration-color: #008000\">'G217_PQ_PN17'</span>: <span style=\"font-weight: bold\">[</span><span style=\"color: #008080; text-decoration-color: #008080; font-weight: bold\">1.0</span>, <span style=\"color: #008080; text-decoration-color: #008080; font-weight: bold\">0.0</span><span style=\"font-weight: bold\">]}</span>\n",
       "</pre>\n"
      ],
      "text/plain": [
       "\u001b[1m{\u001b[0m\u001b[32m'G217_PQ_PN17'\u001b[0m: \u001b[1m[\u001b[0m\u001b[1;36m1.0\u001b[0m, \u001b[1;36m0.0\u001b[0m\u001b[1m]\u001b[0m\u001b[1m}\u001b[0m\n"
      ]
     },
     "metadata": {},
     "output_type": "display_data"
    },
    {
     "data": {
      "text/html": [
       "<pre style=\"white-space:pre;overflow-x:auto;line-height:normal;font-family:Menlo,'DejaVu Sans Mono',consolas,'Courier New',monospace\"><span style=\"font-weight: bold\">{</span><span style=\"color: #008000; text-decoration-color: #008000\">'G217_SQ_PN17'</span>: <span style=\"font-weight: bold\">[</span><span style=\"color: #008080; text-decoration-color: #008080; font-weight: bold\">0.0</span>, <span style=\"color: #008080; text-decoration-color: #008080; font-weight: bold\">1.0</span><span style=\"font-weight: bold\">]}</span>\n",
       "</pre>\n"
      ],
      "text/plain": [
       "\u001b[1m{\u001b[0m\u001b[32m'G217_SQ_PN17'\u001b[0m: \u001b[1m[\u001b[0m\u001b[1;36m0.0\u001b[0m, \u001b[1;36m1.0\u001b[0m\u001b[1m]\u001b[0m\u001b[1m}\u001b[0m\n"
      ]
     },
     "metadata": {},
     "output_type": "display_data"
    },
    {
     "data": {
      "text/html": [
       "<pre style=\"white-space:pre;overflow-x:auto;line-height:normal;font-family:Menlo,'DejaVu Sans Mono',consolas,'Courier New',monospace\">When PN36 == <span style=\"color: #008080; text-decoration-color: #008080; font-weight: bold\">7.0</span>\n",
       "</pre>\n"
      ],
      "text/plain": [
       "When PN36 == \u001b[1;36m7.0\u001b[0m\n"
      ]
     },
     "metadata": {},
     "output_type": "display_data"
    },
    {
     "data": {
      "text/html": [
       "<pre style=\"white-space:pre;overflow-x:auto;line-height:normal;font-family:Menlo,'DejaVu Sans Mono',consolas,'Courier New',monospace\"><span style=\"font-weight: bold\">{</span><span style=\"color: #008000; text-decoration-color: #008000\">'G214_PQ_PN17'</span>: <span style=\"font-weight: bold\">[]}</span>\n",
       "</pre>\n"
      ],
      "text/plain": [
       "\u001b[1m{\u001b[0m\u001b[32m'G214_PQ_PN17'\u001b[0m: \u001b[1m[\u001b[0m\u001b[1m]\u001b[0m\u001b[1m}\u001b[0m\n"
      ]
     },
     "metadata": {},
     "output_type": "display_data"
    },
    {
     "data": {
      "text/html": [
       "<pre style=\"white-space:pre;overflow-x:auto;line-height:normal;font-family:Menlo,'DejaVu Sans Mono',consolas,'Courier New',monospace\"><span style=\"font-weight: bold\">{</span><span style=\"color: #008000; text-decoration-color: #008000\">'G214_SQ_PN17'</span>: <span style=\"font-weight: bold\">[]}</span>\n",
       "</pre>\n"
      ],
      "text/plain": [
       "\u001b[1m{\u001b[0m\u001b[32m'G214_SQ_PN17'\u001b[0m: \u001b[1m[\u001b[0m\u001b[1m]\u001b[0m\u001b[1m}\u001b[0m\n"
      ]
     },
     "metadata": {},
     "output_type": "display_data"
    },
    {
     "data": {
      "text/html": [
       "<pre style=\"white-space:pre;overflow-x:auto;line-height:normal;font-family:Menlo,'DejaVu Sans Mono',consolas,'Courier New',monospace\"><span style=\"font-weight: bold\">{</span><span style=\"color: #008000; text-decoration-color: #008000\">'G217_PQ_PN17'</span>: <span style=\"font-weight: bold\">[</span><span style=\"color: #008080; text-decoration-color: #008080; font-weight: bold\">0.0</span><span style=\"font-weight: bold\">]}</span>\n",
       "</pre>\n"
      ],
      "text/plain": [
       "\u001b[1m{\u001b[0m\u001b[32m'G217_PQ_PN17'\u001b[0m: \u001b[1m[\u001b[0m\u001b[1;36m0.0\u001b[0m\u001b[1m]\u001b[0m\u001b[1m}\u001b[0m\n"
      ]
     },
     "metadata": {},
     "output_type": "display_data"
    },
    {
     "data": {
      "text/html": [
       "<pre style=\"white-space:pre;overflow-x:auto;line-height:normal;font-family:Menlo,'DejaVu Sans Mono',consolas,'Courier New',monospace\"><span style=\"font-weight: bold\">{</span><span style=\"color: #008000; text-decoration-color: #008000\">'G217_SQ_PN17'</span>: <span style=\"font-weight: bold\">[]}</span>\n",
       "</pre>\n"
      ],
      "text/plain": [
       "\u001b[1m{\u001b[0m\u001b[32m'G217_SQ_PN17'\u001b[0m: \u001b[1m[\u001b[0m\u001b[1m]\u001b[0m\u001b[1m}\u001b[0m\n"
      ]
     },
     "metadata": {},
     "output_type": "display_data"
    },
    {
     "data": {
      "text/html": [
       "<pre style=\"white-space:pre;overflow-x:auto;line-height:normal;font-family:Menlo,'DejaVu Sans Mono',consolas,'Courier New',monospace\">When PN36 == <span style=\"color: #008080; text-decoration-color: #008080; font-weight: bold\">8.0</span>\n",
       "</pre>\n"
      ],
      "text/plain": [
       "When PN36 == \u001b[1;36m8.0\u001b[0m\n"
      ]
     },
     "metadata": {},
     "output_type": "display_data"
    },
    {
     "data": {
      "text/html": [
       "<pre style=\"white-space:pre;overflow-x:auto;line-height:normal;font-family:Menlo,'DejaVu Sans Mono',consolas,'Courier New',monospace\"><span style=\"font-weight: bold\">{</span><span style=\"color: #008000; text-decoration-color: #008000\">'G214_PQ_PN17'</span>: <span style=\"font-weight: bold\">[</span><span style=\"color: #008080; text-decoration-color: #008080; font-weight: bold\">0.0</span><span style=\"font-weight: bold\">]}</span>\n",
       "</pre>\n"
      ],
      "text/plain": [
       "\u001b[1m{\u001b[0m\u001b[32m'G214_PQ_PN17'\u001b[0m: \u001b[1m[\u001b[0m\u001b[1;36m0.0\u001b[0m\u001b[1m]\u001b[0m\u001b[1m}\u001b[0m\n"
      ]
     },
     "metadata": {},
     "output_type": "display_data"
    },
    {
     "data": {
      "text/html": [
       "<pre style=\"white-space:pre;overflow-x:auto;line-height:normal;font-family:Menlo,'DejaVu Sans Mono',consolas,'Courier New',monospace\"><span style=\"font-weight: bold\">{</span><span style=\"color: #008000; text-decoration-color: #008000\">'G214_SQ_PN17'</span>: <span style=\"font-weight: bold\">[</span><span style=\"color: #008080; text-decoration-color: #008080; font-weight: bold\">0.0</span><span style=\"font-weight: bold\">]}</span>\n",
       "</pre>\n"
      ],
      "text/plain": [
       "\u001b[1m{\u001b[0m\u001b[32m'G214_SQ_PN17'\u001b[0m: \u001b[1m[\u001b[0m\u001b[1;36m0.0\u001b[0m\u001b[1m]\u001b[0m\u001b[1m}\u001b[0m\n"
      ]
     },
     "metadata": {},
     "output_type": "display_data"
    },
    {
     "data": {
      "text/html": [
       "<pre style=\"white-space:pre;overflow-x:auto;line-height:normal;font-family:Menlo,'DejaVu Sans Mono',consolas,'Courier New',monospace\"><span style=\"font-weight: bold\">{</span><span style=\"color: #008000; text-decoration-color: #008000\">'G217_PQ_PN17'</span>: <span style=\"font-weight: bold\">[]}</span>\n",
       "</pre>\n"
      ],
      "text/plain": [
       "\u001b[1m{\u001b[0m\u001b[32m'G217_PQ_PN17'\u001b[0m: \u001b[1m[\u001b[0m\u001b[1m]\u001b[0m\u001b[1m}\u001b[0m\n"
      ]
     },
     "metadata": {},
     "output_type": "display_data"
    },
    {
     "data": {
      "text/html": [
       "<pre style=\"white-space:pre;overflow-x:auto;line-height:normal;font-family:Menlo,'DejaVu Sans Mono',consolas,'Courier New',monospace\"><span style=\"font-weight: bold\">{</span><span style=\"color: #008000; text-decoration-color: #008000\">'G217_SQ_PN17'</span>: <span style=\"font-weight: bold\">[]}</span>\n",
       "</pre>\n"
      ],
      "text/plain": [
       "\u001b[1m{\u001b[0m\u001b[32m'G217_SQ_PN17'\u001b[0m: \u001b[1m[\u001b[0m\u001b[1m]\u001b[0m\u001b[1m}\u001b[0m\n"
      ]
     },
     "metadata": {},
     "output_type": "display_data"
    },
    {
     "data": {
      "text/html": [
       "<pre style=\"white-space:pre;overflow-x:auto;line-height:normal;font-family:Menlo,'DejaVu Sans Mono',consolas,'Courier New',monospace\">When PN36 == <span style=\"color: #008080; text-decoration-color: #008080; font-weight: bold\">9.0</span>\n",
       "</pre>\n"
      ],
      "text/plain": [
       "When PN36 == \u001b[1;36m9.0\u001b[0m\n"
      ]
     },
     "metadata": {},
     "output_type": "display_data"
    },
    {
     "data": {
      "text/html": [
       "<pre style=\"white-space:pre;overflow-x:auto;line-height:normal;font-family:Menlo,'DejaVu Sans Mono',consolas,'Courier New',monospace\"><span style=\"font-weight: bold\">{</span><span style=\"color: #008000; text-decoration-color: #008000\">'G214_PQ_PN17'</span>: <span style=\"font-weight: bold\">[</span><span style=\"color: #008080; text-decoration-color: #008080; font-weight: bold\">9.0</span><span style=\"font-weight: bold\">]}</span>\n",
       "</pre>\n"
      ],
      "text/plain": [
       "\u001b[1m{\u001b[0m\u001b[32m'G214_PQ_PN17'\u001b[0m: \u001b[1m[\u001b[0m\u001b[1;36m9.0\u001b[0m\u001b[1m]\u001b[0m\u001b[1m}\u001b[0m\n"
      ]
     },
     "metadata": {},
     "output_type": "display_data"
    },
    {
     "data": {
      "text/html": [
       "<pre style=\"white-space:pre;overflow-x:auto;line-height:normal;font-family:Menlo,'DejaVu Sans Mono',consolas,'Courier New',monospace\"><span style=\"font-weight: bold\">{</span><span style=\"color: #008000; text-decoration-color: #008000\">'G214_SQ_PN17'</span>: <span style=\"font-weight: bold\">[</span><span style=\"color: #008080; text-decoration-color: #008080; font-weight: bold\">9.0</span>, <span style=\"color: #008080; text-decoration-color: #008080; font-weight: bold\">1.0</span><span style=\"font-weight: bold\">]}</span>\n",
       "</pre>\n"
      ],
      "text/plain": [
       "\u001b[1m{\u001b[0m\u001b[32m'G214_SQ_PN17'\u001b[0m: \u001b[1m[\u001b[0m\u001b[1;36m9.0\u001b[0m, \u001b[1;36m1.0\u001b[0m\u001b[1m]\u001b[0m\u001b[1m}\u001b[0m\n"
      ]
     },
     "metadata": {},
     "output_type": "display_data"
    },
    {
     "data": {
      "text/html": [
       "<pre style=\"white-space:pre;overflow-x:auto;line-height:normal;font-family:Menlo,'DejaVu Sans Mono',consolas,'Courier New',monospace\"><span style=\"font-weight: bold\">{</span><span style=\"color: #008000; text-decoration-color: #008000\">'G217_PQ_PN17'</span>: <span style=\"font-weight: bold\">[</span><span style=\"color: #008080; text-decoration-color: #008080; font-weight: bold\">0.0</span>, <span style=\"color: #008080; text-decoration-color: #008080; font-weight: bold\">9.0</span>, <span style=\"color: #008080; text-decoration-color: #008080; font-weight: bold\">1.0</span><span style=\"font-weight: bold\">]}</span>\n",
       "</pre>\n"
      ],
      "text/plain": [
       "\u001b[1m{\u001b[0m\u001b[32m'G217_PQ_PN17'\u001b[0m: \u001b[1m[\u001b[0m\u001b[1;36m0.0\u001b[0m, \u001b[1;36m9.0\u001b[0m, \u001b[1;36m1.0\u001b[0m\u001b[1m]\u001b[0m\u001b[1m}\u001b[0m\n"
      ]
     },
     "metadata": {},
     "output_type": "display_data"
    },
    {
     "data": {
      "text/html": [
       "<pre style=\"white-space:pre;overflow-x:auto;line-height:normal;font-family:Menlo,'DejaVu Sans Mono',consolas,'Courier New',monospace\"><span style=\"font-weight: bold\">{</span><span style=\"color: #008000; text-decoration-color: #008000\">'G217_SQ_PN17'</span>: <span style=\"font-weight: bold\">[</span><span style=\"color: #008080; text-decoration-color: #008080; font-weight: bold\">9.0</span>, <span style=\"color: #008080; text-decoration-color: #008080; font-weight: bold\">1.0</span>, <span style=\"color: #008080; text-decoration-color: #008080; font-weight: bold\">0.0</span><span style=\"font-weight: bold\">]}</span>\n",
       "</pre>\n"
      ],
      "text/plain": [
       "\u001b[1m{\u001b[0m\u001b[32m'G217_SQ_PN17'\u001b[0m: \u001b[1m[\u001b[0m\u001b[1;36m9.0\u001b[0m, \u001b[1;36m1.0\u001b[0m, \u001b[1;36m0.0\u001b[0m\u001b[1m]\u001b[0m\u001b[1m}\u001b[0m\n"
      ]
     },
     "metadata": {},
     "output_type": "display_data"
    }
   ],
   "source": [
    "for value in value_options:\n",
    "    rprint(f\"When {var} == {value}\")\n",
    "    for p in prefixes:\n",
    "        rprint(\n",
    "            test\n",
    "            .filter(pl.col(f\"{p}{var}\") == value)\n",
    "            .select(f\"{p}PN17\")\n",
    "            .unique()\n",
    "            .to_dict(as_series=False)\n",
    "        )"
   ]
  },
  {
   "cell_type": "markdown",
   "metadata": {},
   "source": [
    "No additional, unexpected values were found."
   ]
  },
  {
   "cell_type": "markdown",
   "metadata": {},
   "source": [
    "### Metadata"
   ]
  },
  {
   "cell_type": "markdown",
   "metadata": {},
   "source": [
    "Clear discrepancies in labels and field values.\n",
    "\n",
    "Changes:\n",
    "- Harmonised label to \"Pain interfered with normal activities\"\n",
    "- Updated field values to reflect changes in data"
   ]
  },
  {
   "cell_type": "code",
   "execution_count": null,
   "metadata": {},
   "outputs": [],
   "source": [
    "m = filter_metadata(var, df, meta)"
   ]
  },
  {
   "cell_type": "code",
   "execution_count": null,
   "metadata": {},
   "outputs": [
    {
     "data": {
      "text/html": [
       "<pre style=\"white-space:pre;overflow-x:auto;line-height:normal;font-family:Menlo,'DejaVu Sans Mono',consolas,'Courier New',monospace\"><span style=\"color: #800080; text-decoration-color: #800080; font-weight: bold\">defaultdict</span><span style=\"font-weight: bold\">(&lt;</span><span style=\"color: #ff00ff; text-decoration-color: #ff00ff; font-weight: bold\">class</span><span style=\"color: #000000; text-decoration-color: #000000\"> </span><span style=\"color: #008000; text-decoration-color: #008000\">'dict'</span><span style=\"font-weight: bold\">&gt;</span>, <span style=\"font-weight: bold\">{</span>\n",
       "    <span style=\"color: #008000; text-decoration-color: #008000\">'Label'</span>: <span style=\"font-weight: bold\">{</span>\n",
       "        <span style=\"color: #008000; text-decoration-color: #008000\">'G214_PQ_PN36'</span>: <span style=\"color: #008000; text-decoration-color: #008000\">'Back pain interferes with daily activities'</span>,\n",
       "        <span style=\"color: #008000; text-decoration-color: #008000\">'G214_SQ_PN36'</span>: <span style=\"color: #008000; text-decoration-color: #008000\">'Back pain interferes with daily activities'</span>,\n",
       "        <span style=\"color: #008000; text-decoration-color: #008000\">'G217_PQ_PN36'</span>: <span style=\"color: #008000; text-decoration-color: #008000\">'Back pain interfered with normal activities'</span>,\n",
       "        <span style=\"color: #008000; text-decoration-color: #008000\">'G217_SQ_PN36'</span>: <span style=\"color: #008000; text-decoration-color: #008000\">'Did the back pain interfere with normal activities?'</span>\n",
       "    <span style=\"font-weight: bold\">}</span>,\n",
       "    <span style=\"color: #008000; text-decoration-color: #008000\">'Field Type'</span>: <span style=\"font-weight: bold\">{</span>\n",
       "        <span style=\"color: #008000; text-decoration-color: #008000\">'G214_PQ_PN36'</span>: <span style=\"color: #008000; text-decoration-color: #008000\">'Numeric'</span>,\n",
       "        <span style=\"color: #008000; text-decoration-color: #008000\">'G214_SQ_PN36'</span>: <span style=\"color: #008000; text-decoration-color: #008000\">'Numeric'</span>,\n",
       "        <span style=\"color: #008000; text-decoration-color: #008000\">'G217_PQ_PN36'</span>: <span style=\"color: #008000; text-decoration-color: #008000\">'Numeric'</span>,\n",
       "        <span style=\"color: #008000; text-decoration-color: #008000\">'G217_SQ_PN36'</span>: <span style=\"color: #008000; text-decoration-color: #008000\">'Numeric'</span>\n",
       "    <span style=\"font-weight: bold\">}</span>,\n",
       "    <span style=\"color: #008000; text-decoration-color: #008000\">'Field Width'</span>: <span style=\"font-weight: bold\">{</span><span style=\"color: #008000; text-decoration-color: #008000\">'G214_PQ_PN36'</span>: <span style=\"color: #008080; text-decoration-color: #008080; font-weight: bold\">8</span>, <span style=\"color: #008000; text-decoration-color: #008000\">'G214_SQ_PN36'</span>: <span style=\"color: #008080; text-decoration-color: #008080; font-weight: bold\">8</span>, <span style=\"color: #008000; text-decoration-color: #008000\">'G217_PQ_PN36'</span>: <span style=\"color: #008080; text-decoration-color: #008080; font-weight: bold\">8</span>, <span style=\"color: #008000; text-decoration-color: #008000\">'G217_SQ_PN36'</span>: <span style=\"color: #008080; text-decoration-color: #008080; font-weight: bold\">8</span><span style=\"font-weight: bold\">}</span>,\n",
       "    <span style=\"color: #008000; text-decoration-color: #008000\">'Decimals'</span>: <span style=\"font-weight: bold\">{</span><span style=\"color: #008000; text-decoration-color: #008000\">'G214_PQ_PN36'</span>: <span style=\"color: #008000; text-decoration-color: #008000\">'0'</span>, <span style=\"color: #008000; text-decoration-color: #008000\">'G214_SQ_PN36'</span>: <span style=\"color: #008000; text-decoration-color: #008000\">'0'</span>, <span style=\"color: #008000; text-decoration-color: #008000\">'G217_PQ_PN36'</span>: <span style=\"color: #008000; text-decoration-color: #008000\">'0'</span>, <span style=\"color: #008000; text-decoration-color: #008000\">'G217_SQ_PN36'</span>: <span style=\"color: #008000; text-decoration-color: #008000\">'0'</span><span style=\"font-weight: bold\">}</span>,\n",
       "    <span style=\"color: #008000; text-decoration-color: #008000\">'Variable Type'</span>: <span style=\"font-weight: bold\">{</span>\n",
       "        <span style=\"color: #008000; text-decoration-color: #008000\">'G214_PQ_PN36'</span>: <span style=\"color: #008000; text-decoration-color: #008000\">'scale'</span>,\n",
       "        <span style=\"color: #008000; text-decoration-color: #008000\">'G214_SQ_PN36'</span>: <span style=\"color: #008000; text-decoration-color: #008000\">'scale'</span>,\n",
       "        <span style=\"color: #008000; text-decoration-color: #008000\">'G217_PQ_PN36'</span>: <span style=\"color: #008000; text-decoration-color: #008000\">'scale'</span>,\n",
       "        <span style=\"color: #008000; text-decoration-color: #008000\">'G217_SQ_PN36'</span>: <span style=\"color: #008000; text-decoration-color: #008000\">'scale'</span>\n",
       "    <span style=\"font-weight: bold\">}</span>,\n",
       "    <span style=\"color: #008000; text-decoration-color: #008000\">'Field Values'</span>: <span style=\"font-weight: bold\">{</span>\n",
       "        <span style=\"color: #008000; text-decoration-color: #008000\">'G214_PQ_PN36'</span>: <span style=\"font-weight: bold\">{</span><span style=\"color: #008080; text-decoration-color: #008080; font-weight: bold\">0.0</span>: <span style=\"color: #008000; text-decoration-color: #008000\">'No'</span>, <span style=\"color: #008080; text-decoration-color: #008080; font-weight: bold\">1.0</span>: <span style=\"color: #008000; text-decoration-color: #008000\">'Yes'</span>, <span style=\"color: #008080; text-decoration-color: #008080; font-weight: bold\">8.0</span>: <span style=\"color: #008000; text-decoration-color: #008000\">'Not applicable'</span>, <span style=\"color: #008080; text-decoration-color: #008080; font-weight: bold\">9.0</span>: <span style=\"color: #008000; text-decoration-color: #008000\">'Not stated'</span><span style=\"font-weight: bold\">}</span>,\n",
       "        <span style=\"color: #008000; text-decoration-color: #008000\">'G214_SQ_PN36'</span>: <span style=\"font-weight: bold\">{</span><span style=\"color: #008080; text-decoration-color: #008080; font-weight: bold\">0.0</span>: <span style=\"color: #008000; text-decoration-color: #008000\">'No'</span>, <span style=\"color: #008080; text-decoration-color: #008080; font-weight: bold\">1.0</span>: <span style=\"color: #008000; text-decoration-color: #008000\">'Yes'</span>, <span style=\"color: #008080; text-decoration-color: #008080; font-weight: bold\">8.0</span>: <span style=\"color: #008000; text-decoration-color: #008000\">'Not applicable'</span>, <span style=\"color: #008080; text-decoration-color: #008080; font-weight: bold\">9.0</span>: <span style=\"color: #008000; text-decoration-color: #008000\">'Not stated'</span><span style=\"font-weight: bold\">}</span>,\n",
       "        <span style=\"color: #008000; text-decoration-color: #008000\">'G217_PQ_PN36'</span>: <span style=\"font-weight: bold\">{</span>\n",
       "            <span style=\"color: #008080; text-decoration-color: #008080; font-weight: bold\">0.0</span>: <span style=\"color: #008000; text-decoration-color: #008000\">'No'</span>,\n",
       "            <span style=\"color: #008080; text-decoration-color: #008080; font-weight: bold\">1.0</span>: <span style=\"color: #008000; text-decoration-color: #008000\">'Yes'</span>,\n",
       "            <span style=\"color: #008080; text-decoration-color: #008080; font-weight: bold\">7.0</span>: <span style=\"color: #008000; text-decoration-color: #008000\">'Involved in incorrect skip - not answered'</span>,\n",
       "            <span style=\"color: #008080; text-decoration-color: #008080; font-weight: bold\">9.0</span>: <span style=\"color: #008000; text-decoration-color: #008000\">'Not stated'</span>\n",
       "        <span style=\"font-weight: bold\">}</span>,\n",
       "        <span style=\"color: #008000; text-decoration-color: #008000\">'G217_SQ_PN36'</span>: <span style=\"font-weight: bold\">{</span><span style=\"color: #008080; text-decoration-color: #008080; font-weight: bold\">0.0</span>: <span style=\"color: #008000; text-decoration-color: #008000\">'No'</span>, <span style=\"color: #008080; text-decoration-color: #008080; font-weight: bold\">1.0</span>: <span style=\"color: #008000; text-decoration-color: #008000\">'Yes'</span>, <span style=\"color: #008080; text-decoration-color: #008080; font-weight: bold\">9.0</span>: <span style=\"color: #008000; text-decoration-color: #008000\">'Not stated'</span><span style=\"font-weight: bold\">}</span>\n",
       "    <span style=\"font-weight: bold\">}</span>\n",
       "<span style=\"font-weight: bold\">})</span>\n",
       "</pre>\n"
      ],
      "text/plain": [
       "\u001b[1;35mdefaultdict\u001b[0m\u001b[1m(\u001b[0m\u001b[1m<\u001b[0m\u001b[1;95mclass\u001b[0m\u001b[39m \u001b[0m\u001b[32m'dict'\u001b[0m\u001b[1m>\u001b[0m, \u001b[1m{\u001b[0m\n",
       "    \u001b[32m'Label'\u001b[0m: \u001b[1m{\u001b[0m\n",
       "        \u001b[32m'G214_PQ_PN36'\u001b[0m: \u001b[32m'Back pain interferes with daily activities'\u001b[0m,\n",
       "        \u001b[32m'G214_SQ_PN36'\u001b[0m: \u001b[32m'Back pain interferes with daily activities'\u001b[0m,\n",
       "        \u001b[32m'G217_PQ_PN36'\u001b[0m: \u001b[32m'Back pain interfered with normal activities'\u001b[0m,\n",
       "        \u001b[32m'G217_SQ_PN36'\u001b[0m: \u001b[32m'Did the back pain interfere with normal activities?'\u001b[0m\n",
       "    \u001b[1m}\u001b[0m,\n",
       "    \u001b[32m'Field Type'\u001b[0m: \u001b[1m{\u001b[0m\n",
       "        \u001b[32m'G214_PQ_PN36'\u001b[0m: \u001b[32m'Numeric'\u001b[0m,\n",
       "        \u001b[32m'G214_SQ_PN36'\u001b[0m: \u001b[32m'Numeric'\u001b[0m,\n",
       "        \u001b[32m'G217_PQ_PN36'\u001b[0m: \u001b[32m'Numeric'\u001b[0m,\n",
       "        \u001b[32m'G217_SQ_PN36'\u001b[0m: \u001b[32m'Numeric'\u001b[0m\n",
       "    \u001b[1m}\u001b[0m,\n",
       "    \u001b[32m'Field Width'\u001b[0m: \u001b[1m{\u001b[0m\u001b[32m'G214_PQ_PN36'\u001b[0m: \u001b[1;36m8\u001b[0m, \u001b[32m'G214_SQ_PN36'\u001b[0m: \u001b[1;36m8\u001b[0m, \u001b[32m'G217_PQ_PN36'\u001b[0m: \u001b[1;36m8\u001b[0m, \u001b[32m'G217_SQ_PN36'\u001b[0m: \u001b[1;36m8\u001b[0m\u001b[1m}\u001b[0m,\n",
       "    \u001b[32m'Decimals'\u001b[0m: \u001b[1m{\u001b[0m\u001b[32m'G214_PQ_PN36'\u001b[0m: \u001b[32m'0'\u001b[0m, \u001b[32m'G214_SQ_PN36'\u001b[0m: \u001b[32m'0'\u001b[0m, \u001b[32m'G217_PQ_PN36'\u001b[0m: \u001b[32m'0'\u001b[0m, \u001b[32m'G217_SQ_PN36'\u001b[0m: \u001b[32m'0'\u001b[0m\u001b[1m}\u001b[0m,\n",
       "    \u001b[32m'Variable Type'\u001b[0m: \u001b[1m{\u001b[0m\n",
       "        \u001b[32m'G214_PQ_PN36'\u001b[0m: \u001b[32m'scale'\u001b[0m,\n",
       "        \u001b[32m'G214_SQ_PN36'\u001b[0m: \u001b[32m'scale'\u001b[0m,\n",
       "        \u001b[32m'G217_PQ_PN36'\u001b[0m: \u001b[32m'scale'\u001b[0m,\n",
       "        \u001b[32m'G217_SQ_PN36'\u001b[0m: \u001b[32m'scale'\u001b[0m\n",
       "    \u001b[1m}\u001b[0m,\n",
       "    \u001b[32m'Field Values'\u001b[0m: \u001b[1m{\u001b[0m\n",
       "        \u001b[32m'G214_PQ_PN36'\u001b[0m: \u001b[1m{\u001b[0m\u001b[1;36m0.0\u001b[0m: \u001b[32m'No'\u001b[0m, \u001b[1;36m1.0\u001b[0m: \u001b[32m'Yes'\u001b[0m, \u001b[1;36m8.0\u001b[0m: \u001b[32m'Not applicable'\u001b[0m, \u001b[1;36m9.0\u001b[0m: \u001b[32m'Not stated'\u001b[0m\u001b[1m}\u001b[0m,\n",
       "        \u001b[32m'G214_SQ_PN36'\u001b[0m: \u001b[1m{\u001b[0m\u001b[1;36m0.0\u001b[0m: \u001b[32m'No'\u001b[0m, \u001b[1;36m1.0\u001b[0m: \u001b[32m'Yes'\u001b[0m, \u001b[1;36m8.0\u001b[0m: \u001b[32m'Not applicable'\u001b[0m, \u001b[1;36m9.0\u001b[0m: \u001b[32m'Not stated'\u001b[0m\u001b[1m}\u001b[0m,\n",
       "        \u001b[32m'G217_PQ_PN36'\u001b[0m: \u001b[1m{\u001b[0m\n",
       "            \u001b[1;36m0.0\u001b[0m: \u001b[32m'No'\u001b[0m,\n",
       "            \u001b[1;36m1.0\u001b[0m: \u001b[32m'Yes'\u001b[0m,\n",
       "            \u001b[1;36m7.0\u001b[0m: \u001b[32m'Involved in incorrect skip - not answered'\u001b[0m,\n",
       "            \u001b[1;36m9.0\u001b[0m: \u001b[32m'Not stated'\u001b[0m\n",
       "        \u001b[1m}\u001b[0m,\n",
       "        \u001b[32m'G217_SQ_PN36'\u001b[0m: \u001b[1m{\u001b[0m\u001b[1;36m0.0\u001b[0m: \u001b[32m'No'\u001b[0m, \u001b[1;36m1.0\u001b[0m: \u001b[32m'Yes'\u001b[0m, \u001b[1;36m9.0\u001b[0m: \u001b[32m'Not stated'\u001b[0m\u001b[1m}\u001b[0m\n",
       "    \u001b[1m}\u001b[0m\n",
       "\u001b[1m}\u001b[0m\u001b[1m)\u001b[0m\n"
      ]
     },
     "metadata": {},
     "output_type": "display_data"
    }
   ],
   "source": [
    "rprint(m)"
   ]
  },
  {
   "cell_type": "code",
   "execution_count": null,
   "metadata": {},
   "outputs": [
    {
     "data": {
      "text/html": [
       "<pre style=\"white-space:pre;overflow-x:auto;line-height:normal;font-family:Menlo,'DejaVu Sans Mono',consolas,'Courier New',monospace\"><span style=\"font-weight: bold\">{</span>\n",
       "    <span style=\"color: #008000; text-decoration-color: #008000\">'G214_PQ_PN36'</span>: <span style=\"font-weight: bold\">{</span><span style=\"color: #008080; text-decoration-color: #008080; font-weight: bold\">0.0</span>: <span style=\"color: #008000; text-decoration-color: #008000\">'No'</span>, <span style=\"color: #008080; text-decoration-color: #008080; font-weight: bold\">1.0</span>: <span style=\"color: #008000; text-decoration-color: #008000\">'Yes'</span>, <span style=\"color: #008080; text-decoration-color: #008080; font-weight: bold\">8.0</span>: <span style=\"color: #008000; text-decoration-color: #008000\">'Not applicable'</span>, <span style=\"color: #008080; text-decoration-color: #008080; font-weight: bold\">9.0</span>: <span style=\"color: #008000; text-decoration-color: #008000\">'Not stated'</span><span style=\"font-weight: bold\">}</span>,\n",
       "    <span style=\"color: #008000; text-decoration-color: #008000\">'G214_SQ_PN36'</span>: <span style=\"font-weight: bold\">{</span><span style=\"color: #008080; text-decoration-color: #008080; font-weight: bold\">0.0</span>: <span style=\"color: #008000; text-decoration-color: #008000\">'No'</span>, <span style=\"color: #008080; text-decoration-color: #008080; font-weight: bold\">1.0</span>: <span style=\"color: #008000; text-decoration-color: #008000\">'Yes'</span>, <span style=\"color: #008080; text-decoration-color: #008080; font-weight: bold\">8.0</span>: <span style=\"color: #008000; text-decoration-color: #008000\">'Not applicable'</span>, <span style=\"color: #008080; text-decoration-color: #008080; font-weight: bold\">9.0</span>: <span style=\"color: #008000; text-decoration-color: #008000\">'Not stated'</span><span style=\"font-weight: bold\">}</span>,\n",
       "    <span style=\"color: #008000; text-decoration-color: #008000\">'G217_PQ_PN36'</span>: <span style=\"font-weight: bold\">{</span><span style=\"color: #008080; text-decoration-color: #008080; font-weight: bold\">0.0</span>: <span style=\"color: #008000; text-decoration-color: #008000\">'No'</span>, <span style=\"color: #008080; text-decoration-color: #008080; font-weight: bold\">1.0</span>: <span style=\"color: #008000; text-decoration-color: #008000\">'Yes'</span>, <span style=\"color: #008080; text-decoration-color: #008080; font-weight: bold\">7.0</span>: <span style=\"color: #008000; text-decoration-color: #008000\">'Involved in incorrect skip - not answered'</span>, <span style=\"color: #008080; text-decoration-color: #008080; font-weight: bold\">9.0</span>: <span style=\"color: #008000; text-decoration-color: #008000\">'Not stated'</span><span style=\"font-weight: bold\">}</span>,\n",
       "    <span style=\"color: #008000; text-decoration-color: #008000\">'G217_SQ_PN36'</span>: <span style=\"font-weight: bold\">{</span><span style=\"color: #008080; text-decoration-color: #008080; font-weight: bold\">0.0</span>: <span style=\"color: #008000; text-decoration-color: #008000\">'No'</span>, <span style=\"color: #008080; text-decoration-color: #008080; font-weight: bold\">1.0</span>: <span style=\"color: #008000; text-decoration-color: #008000\">'Yes'</span>, <span style=\"color: #008080; text-decoration-color: #008080; font-weight: bold\">9.0</span>: <span style=\"color: #008000; text-decoration-color: #008000\">'Not stated'</span><span style=\"font-weight: bold\">}</span>\n",
       "<span style=\"font-weight: bold\">}</span>\n",
       "</pre>\n"
      ],
      "text/plain": [
       "\u001b[1m{\u001b[0m\n",
       "    \u001b[32m'G214_PQ_PN36'\u001b[0m: \u001b[1m{\u001b[0m\u001b[1;36m0.0\u001b[0m: \u001b[32m'No'\u001b[0m, \u001b[1;36m1.0\u001b[0m: \u001b[32m'Yes'\u001b[0m, \u001b[1;36m8.0\u001b[0m: \u001b[32m'Not applicable'\u001b[0m, \u001b[1;36m9.0\u001b[0m: \u001b[32m'Not stated'\u001b[0m\u001b[1m}\u001b[0m,\n",
       "    \u001b[32m'G214_SQ_PN36'\u001b[0m: \u001b[1m{\u001b[0m\u001b[1;36m0.0\u001b[0m: \u001b[32m'No'\u001b[0m, \u001b[1;36m1.0\u001b[0m: \u001b[32m'Yes'\u001b[0m, \u001b[1;36m8.0\u001b[0m: \u001b[32m'Not applicable'\u001b[0m, \u001b[1;36m9.0\u001b[0m: \u001b[32m'Not stated'\u001b[0m\u001b[1m}\u001b[0m,\n",
       "    \u001b[32m'G217_PQ_PN36'\u001b[0m: \u001b[1m{\u001b[0m\u001b[1;36m0.0\u001b[0m: \u001b[32m'No'\u001b[0m, \u001b[1;36m1.0\u001b[0m: \u001b[32m'Yes'\u001b[0m, \u001b[1;36m7.0\u001b[0m: \u001b[32m'Involved in incorrect skip - not answered'\u001b[0m, \u001b[1;36m9.0\u001b[0m: \u001b[32m'Not stated'\u001b[0m\u001b[1m}\u001b[0m,\n",
       "    \u001b[32m'G217_SQ_PN36'\u001b[0m: \u001b[1m{\u001b[0m\u001b[1;36m0.0\u001b[0m: \u001b[32m'No'\u001b[0m, \u001b[1;36m1.0\u001b[0m: \u001b[32m'Yes'\u001b[0m, \u001b[1;36m9.0\u001b[0m: \u001b[32m'Not stated'\u001b[0m\u001b[1m}\u001b[0m\n",
       "\u001b[1m}\u001b[0m\n"
      ]
     },
     "metadata": {},
     "output_type": "display_data"
    }
   ],
   "source": [
    "rprint(m[\"Field Values\"])"
   ]
  },
  {
   "cell_type": "code",
   "execution_count": null,
   "metadata": {},
   "outputs": [],
   "source": [
    "PN36 = Metadata(\n",
    "    label= \"Pain interfered with normal activities\",\n",
    "    field_values = {-88: \"N/A\", -99: \"Missing\", 0: \"No\", 1: \"Yes\"},\n",
    "    field_type = \"Numeric\",\n",
    "    field_width = 3,\n",
    "    decimals =  0,\n",
    "    variable_type = \"Nominal\"\n",
    ")"
   ]
  },
  {
   "cell_type": "markdown",
   "metadata": {},
   "source": [
    "## PN9"
   ]
  },
  {
   "cell_type": "code",
   "execution_count": null,
   "metadata": {},
   "outputs": [],
   "source": [
    "var = \"PN9\""
   ]
  },
  {
   "cell_type": "markdown",
   "metadata": {},
   "source": [
    "### Data"
   ]
  },
  {
   "cell_type": "markdown",
   "metadata": {},
   "source": [
    "Some of the existing options are the same across all datasets:\n",
    "- 0: No\n",
    "- 1: Yes\n",
    "- 9: Missing\n",
    "\n",
    "For G217_PQ:\n",
    "- 7: Involved in incorrect skip - not answered\n",
    "\n",
    "Values of 7 should be considered missing, as discussed with Alex D'Vauz.\n",
    "\n",
    "Changes:\n",
    "- Convert 9 to -99\n",
    "- Convert 7 to -99"
   ]
  },
  {
   "cell_type": "code",
   "execution_count": null,
   "metadata": {},
   "outputs": [
    {
     "data": {
      "text/html": [
       "<pre style=\"white-space:pre;overflow-x:auto;line-height:normal;font-family:Menlo,'DejaVu Sans Mono',consolas,'Courier New',monospace\"><span style=\"font-weight: bold\">{</span><span style=\"color: #008000; text-decoration-color: #008000\">'G217_PQ_PN9'</span>: <span style=\"font-weight: bold\">(</span><span style=\"color: #800080; text-decoration-color: #800080; font-style: italic\">None</span>, <span style=\"color: #008080; text-decoration-color: #008080; font-weight: bold\">0.0</span>, <span style=\"color: #008080; text-decoration-color: #008080; font-weight: bold\">1.0</span>, <span style=\"color: #008080; text-decoration-color: #008080; font-weight: bold\">7.0</span>, <span style=\"color: #008080; text-decoration-color: #008080; font-weight: bold\">9.0</span><span style=\"font-weight: bold\">)</span>, <span style=\"color: #008000; text-decoration-color: #008000\">'G217_SQ_PN9'</span>: <span style=\"font-weight: bold\">(</span><span style=\"color: #800080; text-decoration-color: #800080; font-style: italic\">None</span>, <span style=\"color: #008080; text-decoration-color: #008080; font-weight: bold\">0.0</span>, <span style=\"color: #008080; text-decoration-color: #008080; font-weight: bold\">1.0</span>, <span style=\"color: #008080; text-decoration-color: #008080; font-weight: bold\">9.0</span><span style=\"font-weight: bold\">)}</span>\n",
       "</pre>\n"
      ],
      "text/plain": [
       "\u001b[1m{\u001b[0m\u001b[32m'G217_PQ_PN9'\u001b[0m: \u001b[1m(\u001b[0m\u001b[3;35mNone\u001b[0m, \u001b[1;36m0.0\u001b[0m, \u001b[1;36m1.0\u001b[0m, \u001b[1;36m7.0\u001b[0m, \u001b[1;36m9.0\u001b[0m\u001b[1m)\u001b[0m, \u001b[32m'G217_SQ_PN9'\u001b[0m: \u001b[1m(\u001b[0m\u001b[3;35mNone\u001b[0m, \u001b[1;36m0.0\u001b[0m, \u001b[1;36m1.0\u001b[0m, \u001b[1;36m9.0\u001b[0m\u001b[1m)\u001b[0m\u001b[1m}\u001b[0m\n"
      ]
     },
     "metadata": {},
     "output_type": "display_data"
    }
   ],
   "source": [
    "unique_vals = unique_values(df, var)\n",
    "rprint(unique_vals)"
   ]
  },
  {
   "cell_type": "code",
   "execution_count": null,
   "metadata": {},
   "outputs": [
    {
     "data": {
      "text/html": [
       "<pre style=\"white-space:pre;overflow-x:auto;line-height:normal;font-family:Menlo,'DejaVu Sans Mono',consolas,'Courier New',monospace\"></pre>\n"
      ],
      "text/plain": []
     },
     "metadata": {},
     "output_type": "display_data"
    },
    {
     "data": {
      "text/plain": [
       "\u001b[1m{\u001b[0m\u001b[1;36m0.0\u001b[0m, \u001b[1;36m1.0\u001b[0m, \u001b[1;36m7.0\u001b[0m, \u001b[1;36m9.0\u001b[0m\u001b[1m}\u001b[0m"
      ]
     },
     "execution_count": null,
     "metadata": {},
     "output_type": "execute_result"
    }
   ],
   "source": [
    "# Note the unique values for PN9 across all datasets combined\n",
    "value_options = set()\n",
    "for values in unique_vals.values(): \n",
    "    value_options.update(values)\n",
    "value_options.discard(None)\n",
    "value_options"
   ]
  },
  {
   "cell_type": "markdown",
   "metadata": {},
   "source": [
    "#### Define properties to test, validate, and explore\n",
    "\n",
    "PN9 is an independent variable, and as such, has no key properties to test."
   ]
  },
  {
   "cell_type": "code",
   "execution_count": null,
   "metadata": {},
   "outputs": [],
   "source": [
    "test = df.clone().collect()"
   ]
  },
  {
   "cell_type": "markdown",
   "metadata": {},
   "source": [
    "### Metadata"
   ]
  },
  {
   "cell_type": "markdown",
   "metadata": {},
   "source": [
    "Clear discrepancies in labels and field values.\n",
    "\n",
    "Changes:\n",
    "- Harmonised label to \"Ever had neck/shoulder pain\"\n",
    "- Updated field values to reflect changes in data"
   ]
  },
  {
   "cell_type": "code",
   "execution_count": null,
   "metadata": {},
   "outputs": [],
   "source": [
    "m = filter_metadata(var, df, meta)"
   ]
  },
  {
   "cell_type": "code",
   "execution_count": null,
   "metadata": {},
   "outputs": [
    {
     "data": {
      "text/html": [
       "<pre style=\"white-space:pre;overflow-x:auto;line-height:normal;font-family:Menlo,'DejaVu Sans Mono',consolas,'Courier New',monospace\"><span style=\"color: #800080; text-decoration-color: #800080; font-weight: bold\">defaultdict</span><span style=\"font-weight: bold\">(&lt;</span><span style=\"color: #ff00ff; text-decoration-color: #ff00ff; font-weight: bold\">class</span><span style=\"color: #000000; text-decoration-color: #000000\"> </span><span style=\"color: #008000; text-decoration-color: #008000\">'dict'</span><span style=\"font-weight: bold\">&gt;</span>, <span style=\"font-weight: bold\">{</span>\n",
       "    <span style=\"color: #008000; text-decoration-color: #008000\">'Label'</span>: <span style=\"font-weight: bold\">{</span><span style=\"color: #008000; text-decoration-color: #008000\">'G217_PQ_PN9'</span>: <span style=\"color: #008000; text-decoration-color: #008000\">'Ever had neck/shoulder pain'</span>, <span style=\"color: #008000; text-decoration-color: #008000\">'G217_SQ_PN9'</span>: <span style=\"color: #008000; text-decoration-color: #008000\">'Ever had neck/shoulder pain?'</span><span style=\"font-weight: bold\">}</span>,\n",
       "    <span style=\"color: #008000; text-decoration-color: #008000\">'Field Type'</span>: <span style=\"font-weight: bold\">{</span><span style=\"color: #008000; text-decoration-color: #008000\">'G217_PQ_PN9'</span>: <span style=\"color: #008000; text-decoration-color: #008000\">'Numeric'</span>, <span style=\"color: #008000; text-decoration-color: #008000\">'G217_SQ_PN9'</span>: <span style=\"color: #008000; text-decoration-color: #008000\">'Numeric'</span><span style=\"font-weight: bold\">}</span>,\n",
       "    <span style=\"color: #008000; text-decoration-color: #008000\">'Field Width'</span>: <span style=\"font-weight: bold\">{</span><span style=\"color: #008000; text-decoration-color: #008000\">'G217_PQ_PN9'</span>: <span style=\"color: #008080; text-decoration-color: #008080; font-weight: bold\">8</span>, <span style=\"color: #008000; text-decoration-color: #008000\">'G217_SQ_PN9'</span>: <span style=\"color: #008080; text-decoration-color: #008080; font-weight: bold\">8</span><span style=\"font-weight: bold\">}</span>,\n",
       "    <span style=\"color: #008000; text-decoration-color: #008000\">'Decimals'</span>: <span style=\"font-weight: bold\">{</span><span style=\"color: #008000; text-decoration-color: #008000\">'G217_PQ_PN9'</span>: <span style=\"color: #008000; text-decoration-color: #008000\">'0'</span>, <span style=\"color: #008000; text-decoration-color: #008000\">'G217_SQ_PN9'</span>: <span style=\"color: #008000; text-decoration-color: #008000\">'0'</span><span style=\"font-weight: bold\">}</span>,\n",
       "    <span style=\"color: #008000; text-decoration-color: #008000\">'Variable Type'</span>: <span style=\"font-weight: bold\">{</span><span style=\"color: #008000; text-decoration-color: #008000\">'G217_PQ_PN9'</span>: <span style=\"color: #008000; text-decoration-color: #008000\">'scale'</span>, <span style=\"color: #008000; text-decoration-color: #008000\">'G217_SQ_PN9'</span>: <span style=\"color: #008000; text-decoration-color: #008000\">'scale'</span><span style=\"font-weight: bold\">}</span>,\n",
       "    <span style=\"color: #008000; text-decoration-color: #008000\">'Field Values'</span>: <span style=\"font-weight: bold\">{</span>\n",
       "        <span style=\"color: #008000; text-decoration-color: #008000\">'G217_PQ_PN9'</span>: <span style=\"font-weight: bold\">{</span>\n",
       "            <span style=\"color: #008080; text-decoration-color: #008080; font-weight: bold\">0.0</span>: <span style=\"color: #008000; text-decoration-color: #008000\">'No'</span>,\n",
       "            <span style=\"color: #008080; text-decoration-color: #008080; font-weight: bold\">1.0</span>: <span style=\"color: #008000; text-decoration-color: #008000\">'Yes'</span>,\n",
       "            <span style=\"color: #008080; text-decoration-color: #008080; font-weight: bold\">7.0</span>: <span style=\"color: #008000; text-decoration-color: #008000\">'Involved in incorrect skip - not answered'</span>,\n",
       "            <span style=\"color: #008080; text-decoration-color: #008080; font-weight: bold\">9.0</span>: <span style=\"color: #008000; text-decoration-color: #008000\">'Not stated'</span>\n",
       "        <span style=\"font-weight: bold\">}</span>,\n",
       "        <span style=\"color: #008000; text-decoration-color: #008000\">'G217_SQ_PN9'</span>: <span style=\"font-weight: bold\">{</span><span style=\"color: #008080; text-decoration-color: #008080; font-weight: bold\">0.0</span>: <span style=\"color: #008000; text-decoration-color: #008000\">'No'</span>, <span style=\"color: #008080; text-decoration-color: #008080; font-weight: bold\">1.0</span>: <span style=\"color: #008000; text-decoration-color: #008000\">'Yes'</span>, <span style=\"color: #008080; text-decoration-color: #008080; font-weight: bold\">9.0</span>: <span style=\"color: #008000; text-decoration-color: #008000\">'Not stated'</span><span style=\"font-weight: bold\">}</span>\n",
       "    <span style=\"font-weight: bold\">}</span>\n",
       "<span style=\"font-weight: bold\">})</span>\n",
       "</pre>\n"
      ],
      "text/plain": [
       "\u001b[1;35mdefaultdict\u001b[0m\u001b[1m(\u001b[0m\u001b[1m<\u001b[0m\u001b[1;95mclass\u001b[0m\u001b[39m \u001b[0m\u001b[32m'dict'\u001b[0m\u001b[1m>\u001b[0m, \u001b[1m{\u001b[0m\n",
       "    \u001b[32m'Label'\u001b[0m: \u001b[1m{\u001b[0m\u001b[32m'G217_PQ_PN9'\u001b[0m: \u001b[32m'Ever had neck/shoulder pain'\u001b[0m, \u001b[32m'G217_SQ_PN9'\u001b[0m: \u001b[32m'Ever had neck/shoulder pain?'\u001b[0m\u001b[1m}\u001b[0m,\n",
       "    \u001b[32m'Field Type'\u001b[0m: \u001b[1m{\u001b[0m\u001b[32m'G217_PQ_PN9'\u001b[0m: \u001b[32m'Numeric'\u001b[0m, \u001b[32m'G217_SQ_PN9'\u001b[0m: \u001b[32m'Numeric'\u001b[0m\u001b[1m}\u001b[0m,\n",
       "    \u001b[32m'Field Width'\u001b[0m: \u001b[1m{\u001b[0m\u001b[32m'G217_PQ_PN9'\u001b[0m: \u001b[1;36m8\u001b[0m, \u001b[32m'G217_SQ_PN9'\u001b[0m: \u001b[1;36m8\u001b[0m\u001b[1m}\u001b[0m,\n",
       "    \u001b[32m'Decimals'\u001b[0m: \u001b[1m{\u001b[0m\u001b[32m'G217_PQ_PN9'\u001b[0m: \u001b[32m'0'\u001b[0m, \u001b[32m'G217_SQ_PN9'\u001b[0m: \u001b[32m'0'\u001b[0m\u001b[1m}\u001b[0m,\n",
       "    \u001b[32m'Variable Type'\u001b[0m: \u001b[1m{\u001b[0m\u001b[32m'G217_PQ_PN9'\u001b[0m: \u001b[32m'scale'\u001b[0m, \u001b[32m'G217_SQ_PN9'\u001b[0m: \u001b[32m'scale'\u001b[0m\u001b[1m}\u001b[0m,\n",
       "    \u001b[32m'Field Values'\u001b[0m: \u001b[1m{\u001b[0m\n",
       "        \u001b[32m'G217_PQ_PN9'\u001b[0m: \u001b[1m{\u001b[0m\n",
       "            \u001b[1;36m0.0\u001b[0m: \u001b[32m'No'\u001b[0m,\n",
       "            \u001b[1;36m1.0\u001b[0m: \u001b[32m'Yes'\u001b[0m,\n",
       "            \u001b[1;36m7.0\u001b[0m: \u001b[32m'Involved in incorrect skip - not answered'\u001b[0m,\n",
       "            \u001b[1;36m9.0\u001b[0m: \u001b[32m'Not stated'\u001b[0m\n",
       "        \u001b[1m}\u001b[0m,\n",
       "        \u001b[32m'G217_SQ_PN9'\u001b[0m: \u001b[1m{\u001b[0m\u001b[1;36m0.0\u001b[0m: \u001b[32m'No'\u001b[0m, \u001b[1;36m1.0\u001b[0m: \u001b[32m'Yes'\u001b[0m, \u001b[1;36m9.0\u001b[0m: \u001b[32m'Not stated'\u001b[0m\u001b[1m}\u001b[0m\n",
       "    \u001b[1m}\u001b[0m\n",
       "\u001b[1m}\u001b[0m\u001b[1m)\u001b[0m\n"
      ]
     },
     "metadata": {},
     "output_type": "display_data"
    }
   ],
   "source": [
    "rprint(m)"
   ]
  },
  {
   "cell_type": "code",
   "execution_count": null,
   "metadata": {},
   "outputs": [
    {
     "data": {
      "text/html": [
       "<pre style=\"white-space:pre;overflow-x:auto;line-height:normal;font-family:Menlo,'DejaVu Sans Mono',consolas,'Courier New',monospace\"><span style=\"font-weight: bold\">{</span>\n",
       "    <span style=\"color: #008000; text-decoration-color: #008000\">'G217_PQ_PN9'</span>: <span style=\"font-weight: bold\">{</span><span style=\"color: #008080; text-decoration-color: #008080; font-weight: bold\">0.0</span>: <span style=\"color: #008000; text-decoration-color: #008000\">'No'</span>, <span style=\"color: #008080; text-decoration-color: #008080; font-weight: bold\">1.0</span>: <span style=\"color: #008000; text-decoration-color: #008000\">'Yes'</span>, <span style=\"color: #008080; text-decoration-color: #008080; font-weight: bold\">7.0</span>: <span style=\"color: #008000; text-decoration-color: #008000\">'Involved in incorrect skip - not answered'</span>, <span style=\"color: #008080; text-decoration-color: #008080; font-weight: bold\">9.0</span>: <span style=\"color: #008000; text-decoration-color: #008000\">'Not stated'</span><span style=\"font-weight: bold\">}</span>,\n",
       "    <span style=\"color: #008000; text-decoration-color: #008000\">'G217_SQ_PN9'</span>: <span style=\"font-weight: bold\">{</span><span style=\"color: #008080; text-decoration-color: #008080; font-weight: bold\">0.0</span>: <span style=\"color: #008000; text-decoration-color: #008000\">'No'</span>, <span style=\"color: #008080; text-decoration-color: #008080; font-weight: bold\">1.0</span>: <span style=\"color: #008000; text-decoration-color: #008000\">'Yes'</span>, <span style=\"color: #008080; text-decoration-color: #008080; font-weight: bold\">9.0</span>: <span style=\"color: #008000; text-decoration-color: #008000\">'Not stated'</span><span style=\"font-weight: bold\">}</span>\n",
       "<span style=\"font-weight: bold\">}</span>\n",
       "</pre>\n"
      ],
      "text/plain": [
       "\u001b[1m{\u001b[0m\n",
       "    \u001b[32m'G217_PQ_PN9'\u001b[0m: \u001b[1m{\u001b[0m\u001b[1;36m0.0\u001b[0m: \u001b[32m'No'\u001b[0m, \u001b[1;36m1.0\u001b[0m: \u001b[32m'Yes'\u001b[0m, \u001b[1;36m7.0\u001b[0m: \u001b[32m'Involved in incorrect skip - not answered'\u001b[0m, \u001b[1;36m9.0\u001b[0m: \u001b[32m'Not stated'\u001b[0m\u001b[1m}\u001b[0m,\n",
       "    \u001b[32m'G217_SQ_PN9'\u001b[0m: \u001b[1m{\u001b[0m\u001b[1;36m0.0\u001b[0m: \u001b[32m'No'\u001b[0m, \u001b[1;36m1.0\u001b[0m: \u001b[32m'Yes'\u001b[0m, \u001b[1;36m9.0\u001b[0m: \u001b[32m'Not stated'\u001b[0m\u001b[1m}\u001b[0m\n",
       "\u001b[1m}\u001b[0m\n"
      ]
     },
     "metadata": {},
     "output_type": "display_data"
    }
   ],
   "source": [
    "rprint(m[\"Field Values\"])"
   ]
  },
  {
   "cell_type": "code",
   "execution_count": null,
   "metadata": {},
   "outputs": [],
   "source": [
    "PN9 = Metadata(\n",
    "    label= \"Ever had neck/shoulder pain\",\n",
    "    field_values = {-99: \"Missing\", 0: \"No\", 1: \"Yes\"},\n",
    "    field_type = \"Numeric\",\n",
    "    field_width = 3,\n",
    "    decimals =  0,\n",
    "    variable_type = \"Nominal\"\n",
    ")"
   ]
  },
  {
   "cell_type": "markdown",
   "metadata": {},
   "source": [
    "## PN38"
   ]
  },
  {
   "cell_type": "code",
   "execution_count": null,
   "metadata": {},
   "outputs": [],
   "source": [
    "var = \"PN38\""
   ]
  },
  {
   "cell_type": "markdown",
   "metadata": {},
   "source": [
    "### Data"
   ]
  },
  {
   "cell_type": "markdown",
   "metadata": {},
   "source": [
    "Some of the existing options are the same across all datasets:\n",
    "- 0: No\n",
    "- 1: Yes\n",
    "- 9: Missing\n",
    "\n",
    "For G217_PQ:\n",
    "- 7: Involved in incorrect skip - not answered\n",
    "\n",
    "Values of 7 should be considered missing, as discussed with Alex D'Vauz.\n",
    "\n",
    "Changes:\n",
    "- Convert 9 to -99\n",
    "- Convert 7 to -99"
   ]
  },
  {
   "cell_type": "code",
   "execution_count": null,
   "metadata": {},
   "outputs": [
    {
     "data": {
      "text/html": [
       "<pre style=\"white-space:pre;overflow-x:auto;line-height:normal;font-family:Menlo,'DejaVu Sans Mono',consolas,'Courier New',monospace\"><span style=\"font-weight: bold\">{</span><span style=\"color: #008000; text-decoration-color: #008000\">'G217_PQ_PN38'</span>: <span style=\"font-weight: bold\">(</span><span style=\"color: #800080; text-decoration-color: #800080; font-style: italic\">None</span>, <span style=\"color: #008080; text-decoration-color: #008080; font-weight: bold\">0.0</span>, <span style=\"color: #008080; text-decoration-color: #008080; font-weight: bold\">1.0</span>, <span style=\"color: #008080; text-decoration-color: #008080; font-weight: bold\">7.0</span>, <span style=\"color: #008080; text-decoration-color: #008080; font-weight: bold\">9.0</span><span style=\"font-weight: bold\">)</span>, <span style=\"color: #008000; text-decoration-color: #008000\">'G217_SQ_PN38'</span>: <span style=\"font-weight: bold\">(</span><span style=\"color: #800080; text-decoration-color: #800080; font-style: italic\">None</span>, <span style=\"color: #008080; text-decoration-color: #008080; font-weight: bold\">0.0</span>, <span style=\"color: #008080; text-decoration-color: #008080; font-weight: bold\">1.0</span>, <span style=\"color: #008080; text-decoration-color: #008080; font-weight: bold\">9.0</span><span style=\"font-weight: bold\">)}</span>\n",
       "</pre>\n"
      ],
      "text/plain": [
       "\u001b[1m{\u001b[0m\u001b[32m'G217_PQ_PN38'\u001b[0m: \u001b[1m(\u001b[0m\u001b[3;35mNone\u001b[0m, \u001b[1;36m0.0\u001b[0m, \u001b[1;36m1.0\u001b[0m, \u001b[1;36m7.0\u001b[0m, \u001b[1;36m9.0\u001b[0m\u001b[1m)\u001b[0m, \u001b[32m'G217_SQ_PN38'\u001b[0m: \u001b[1m(\u001b[0m\u001b[3;35mNone\u001b[0m, \u001b[1;36m0.0\u001b[0m, \u001b[1;36m1.0\u001b[0m, \u001b[1;36m9.0\u001b[0m\u001b[1m)\u001b[0m\u001b[1m}\u001b[0m\n"
      ]
     },
     "metadata": {},
     "output_type": "display_data"
    }
   ],
   "source": [
    "unique_vals = unique_values(df, var)\n",
    "rprint(unique_vals)"
   ]
  },
  {
   "cell_type": "code",
   "execution_count": null,
   "metadata": {},
   "outputs": [
    {
     "data": {
      "text/html": [
       "<pre style=\"white-space:pre;overflow-x:auto;line-height:normal;font-family:Menlo,'DejaVu Sans Mono',consolas,'Courier New',monospace\"></pre>\n"
      ],
      "text/plain": []
     },
     "metadata": {},
     "output_type": "display_data"
    },
    {
     "data": {
      "text/plain": [
       "\u001b[1m{\u001b[0m\u001b[1;36m0.0\u001b[0m, \u001b[1;36m1.0\u001b[0m, \u001b[1;36m7.0\u001b[0m, \u001b[1;36m9.0\u001b[0m\u001b[1m}\u001b[0m"
      ]
     },
     "execution_count": null,
     "metadata": {},
     "output_type": "execute_result"
    }
   ],
   "source": [
    "# Note the unique values for PN34 across all datasets combined\n",
    "value_options = set()\n",
    "for values in unique_vals.values(): \n",
    "    value_options.update(values)\n",
    "value_options.discard(None)\n",
    "value_options"
   ]
  },
  {
   "cell_type": "markdown",
   "metadata": {},
   "source": [
    "#### Define properties to test, validate, and explore\n",
    "\n",
    "Given PN38 asks \"have you ever had lower back pain\", one would assume it's a subset of PN17 (\"have you ever had back pain\").\n",
    "Therefore, one would expect when PN17 is 0 (No), PN38 would be 8 (N/A).\n",
    "Likewise, when PN17 is 9 (Missing), PN38 would likely (but not necessarily) also be 9."
   ]
  },
  {
   "cell_type": "code",
   "execution_count": null,
   "metadata": {},
   "outputs": [],
   "source": [
    "test = df.clone().collect()"
   ]
  },
  {
   "cell_type": "code",
   "execution_count": null,
   "metadata": {},
   "outputs": [
    {
     "data": {
      "text/html": [
       "<pre style=\"white-space:pre;overflow-x:auto;line-height:normal;font-family:Menlo,'DejaVu Sans Mono',consolas,'Courier New',monospace\"></pre>\n"
      ],
      "text/plain": []
     },
     "metadata": {},
     "output_type": "display_data"
    },
    {
     "data": {
      "text/html": [
       "<div><style>\n",
       ".dataframe > thead > tr,\n",
       ".dataframe > tbody > tr {\n",
       "  text-align: right;\n",
       "  white-space: pre-wrap;\n",
       "}\n",
       "</style>\n",
       "<small>shape: (4, 1)</small><table border=\"1\" class=\"dataframe\"><thead><tr><th>G217_PQ_PN38</th></tr><tr><td>struct[2]</td></tr></thead><tbody><tr><td>{0.0,254}</td></tr><tr><td>{1.0,63}</td></tr><tr><td>{7.0,12}</td></tr><tr><td>{9.0,4}</td></tr></tbody></table></div>"
      ],
      "text/plain": [
       "\n",
       "shape: \u001b[1m(\u001b[0m\u001b[1;36m4\u001b[0m, \u001b[1;36m1\u001b[0m\u001b[1m)\u001b[0m\n",
       "┌──────────────┐\n",
       "│ G217_PQ_PN38 │\n",
       "│ ---          │\n",
       "│ struct\u001b[1m[\u001b[0m\u001b[1;36m2\u001b[0m\u001b[1m]\u001b[0m    │\n",
       "╞══════════════╡\n",
       "│ \u001b[1m{\u001b[0m\u001b[1;36m0.0\u001b[0m,\u001b[1;36m254\u001b[0m\u001b[1m}\u001b[0m    │\n",
       "│ \u001b[1m{\u001b[0m\u001b[1;36m1.0\u001b[0m,\u001b[1;36m63\u001b[0m\u001b[1m}\u001b[0m     │\n",
       "│ \u001b[1m{\u001b[0m\u001b[1;36m7.0\u001b[0m,\u001b[1;36m12\u001b[0m\u001b[1m}\u001b[0m     │\n",
       "│ \u001b[1m{\u001b[0m\u001b[1;36m9.0\u001b[0m,\u001b[1;36m4\u001b[0m\u001b[1m}\u001b[0m      │\n",
       "└──────────────┘"
      ]
     },
     "execution_count": null,
     "metadata": {},
     "output_type": "execute_result"
    }
   ],
   "source": [
    "(\n",
    "    test\n",
    "    .filter(pl.col(\"G217_PQ_PN17\").eq(0))\n",
    "    .select(pl.col(\"G217_PQ_PN38\").value_counts(sort=True))\n",
    ")"
   ]
  },
  {
   "cell_type": "code",
   "execution_count": null,
   "metadata": {},
   "outputs": [
    {
     "data": {
      "text/html": [
       "<pre style=\"white-space:pre;overflow-x:auto;line-height:normal;font-family:Menlo,'DejaVu Sans Mono',consolas,'Courier New',monospace\"></pre>\n"
      ],
      "text/plain": []
     },
     "metadata": {},
     "output_type": "display_data"
    },
    {
     "data": {
      "text/html": [
       "<div><style>\n",
       ".dataframe > thead > tr,\n",
       ".dataframe > tbody > tr {\n",
       "  text-align: right;\n",
       "  white-space: pre-wrap;\n",
       "}\n",
       "</style>\n",
       "<small>shape: (3, 1)</small><table border=\"1\" class=\"dataframe\"><thead><tr><th>G217_SQ_PN38</th></tr><tr><td>struct[2]</td></tr></thead><tbody><tr><td>{0.0,165}</td></tr><tr><td>{1.0,34}</td></tr><tr><td>{9.0,7}</td></tr></tbody></table></div>"
      ],
      "text/plain": [
       "\n",
       "shape: \u001b[1m(\u001b[0m\u001b[1;36m3\u001b[0m, \u001b[1;36m1\u001b[0m\u001b[1m)\u001b[0m\n",
       "┌──────────────┐\n",
       "│ G217_SQ_PN38 │\n",
       "│ ---          │\n",
       "│ struct\u001b[1m[\u001b[0m\u001b[1;36m2\u001b[0m\u001b[1m]\u001b[0m    │\n",
       "╞══════════════╡\n",
       "│ \u001b[1m{\u001b[0m\u001b[1;36m0.0\u001b[0m,\u001b[1;36m165\u001b[0m\u001b[1m}\u001b[0m    │\n",
       "│ \u001b[1m{\u001b[0m\u001b[1;36m1.0\u001b[0m,\u001b[1;36m34\u001b[0m\u001b[1m}\u001b[0m     │\n",
       "│ \u001b[1m{\u001b[0m\u001b[1;36m9.0\u001b[0m,\u001b[1;36m7\u001b[0m\u001b[1m}\u001b[0m      │\n",
       "└──────────────┘"
      ]
     },
     "execution_count": null,
     "metadata": {},
     "output_type": "execute_result"
    }
   ],
   "source": [
    "(\n",
    "    test\n",
    "    .filter(pl.col(\"G217_SQ_PN17\").eq(0))\n",
    "    .select(pl.col(\"G217_SQ_PN38\").value_counts(sort=True))\n",
    ")"
   ]
  },
  {
   "cell_type": "markdown",
   "metadata": {},
   "source": [
    "It's true when PN17 is missing, PN38 is also missing.\n",
    "However, when PN17 is 0, there are numerous instances where PN38 is 1; it appears the logic somehow differs, such that people have said \"Yes, I have had lower back pain\" after saying \"No, I've never had back pain\".\n",
    "This may be a result of either misunderstanding on the participants part, an error in the data, or perhaps lower back pain in the questionnaire intentionally distinguishing a difference between back pain (perhaps being upper back) versus lower back pain.\n",
    "Without further clarification, no changes to the data will be made, and this distinction can be raised and clarified by the researchers."
   ]
  },
  {
   "cell_type": "markdown",
   "metadata": {},
   "source": [
    "### Metadata"
   ]
  },
  {
   "cell_type": "markdown",
   "metadata": {},
   "source": [
    "Clear discrepancies in labels and field values.\n",
    "\n",
    "Changes:\n",
    "- Harmonised label to \"Ever had low back pain\"\n",
    "- Updated field values to reflect changes in data"
   ]
  },
  {
   "cell_type": "code",
   "execution_count": null,
   "metadata": {},
   "outputs": [],
   "source": [
    "m = filter_metadata(var, df, meta)"
   ]
  },
  {
   "cell_type": "code",
   "execution_count": null,
   "metadata": {},
   "outputs": [
    {
     "data": {
      "text/html": [
       "<pre style=\"white-space:pre;overflow-x:auto;line-height:normal;font-family:Menlo,'DejaVu Sans Mono',consolas,'Courier New',monospace\"><span style=\"color: #800080; text-decoration-color: #800080; font-weight: bold\">defaultdict</span><span style=\"font-weight: bold\">(&lt;</span><span style=\"color: #ff00ff; text-decoration-color: #ff00ff; font-weight: bold\">class</span><span style=\"color: #000000; text-decoration-color: #000000\"> </span><span style=\"color: #008000; text-decoration-color: #008000\">'dict'</span><span style=\"font-weight: bold\">&gt;</span>, <span style=\"font-weight: bold\">{</span>\n",
       "    <span style=\"color: #008000; text-decoration-color: #008000\">'Label'</span>: <span style=\"font-weight: bold\">{</span><span style=\"color: #008000; text-decoration-color: #008000\">'G217_PQ_PN38'</span>: <span style=\"color: #008000; text-decoration-color: #008000\">'Ever had low back pain'</span>, <span style=\"color: #008000; text-decoration-color: #008000\">'G217_SQ_PN38'</span>: <span style=\"color: #008000; text-decoration-color: #008000\">'Ever had low back pain?'</span><span style=\"font-weight: bold\">}</span>,\n",
       "    <span style=\"color: #008000; text-decoration-color: #008000\">'Field Type'</span>: <span style=\"font-weight: bold\">{</span><span style=\"color: #008000; text-decoration-color: #008000\">'G217_PQ_PN38'</span>: <span style=\"color: #008000; text-decoration-color: #008000\">'Numeric'</span>, <span style=\"color: #008000; text-decoration-color: #008000\">'G217_SQ_PN38'</span>: <span style=\"color: #008000; text-decoration-color: #008000\">'Numeric'</span><span style=\"font-weight: bold\">}</span>,\n",
       "    <span style=\"color: #008000; text-decoration-color: #008000\">'Field Width'</span>: <span style=\"font-weight: bold\">{</span><span style=\"color: #008000; text-decoration-color: #008000\">'G217_PQ_PN38'</span>: <span style=\"color: #008080; text-decoration-color: #008080; font-weight: bold\">8</span>, <span style=\"color: #008000; text-decoration-color: #008000\">'G217_SQ_PN38'</span>: <span style=\"color: #008080; text-decoration-color: #008080; font-weight: bold\">8</span><span style=\"font-weight: bold\">}</span>,\n",
       "    <span style=\"color: #008000; text-decoration-color: #008000\">'Decimals'</span>: <span style=\"font-weight: bold\">{</span><span style=\"color: #008000; text-decoration-color: #008000\">'G217_PQ_PN38'</span>: <span style=\"color: #008000; text-decoration-color: #008000\">'0'</span>, <span style=\"color: #008000; text-decoration-color: #008000\">'G217_SQ_PN38'</span>: <span style=\"color: #008000; text-decoration-color: #008000\">'0'</span><span style=\"font-weight: bold\">}</span>,\n",
       "    <span style=\"color: #008000; text-decoration-color: #008000\">'Variable Type'</span>: <span style=\"font-weight: bold\">{</span><span style=\"color: #008000; text-decoration-color: #008000\">'G217_PQ_PN38'</span>: <span style=\"color: #008000; text-decoration-color: #008000\">'scale'</span>, <span style=\"color: #008000; text-decoration-color: #008000\">'G217_SQ_PN38'</span>: <span style=\"color: #008000; text-decoration-color: #008000\">'scale'</span><span style=\"font-weight: bold\">}</span>,\n",
       "    <span style=\"color: #008000; text-decoration-color: #008000\">'Field Values'</span>: <span style=\"font-weight: bold\">{</span>\n",
       "        <span style=\"color: #008000; text-decoration-color: #008000\">'G217_PQ_PN38'</span>: <span style=\"font-weight: bold\">{</span>\n",
       "            <span style=\"color: #008080; text-decoration-color: #008080; font-weight: bold\">0.0</span>: <span style=\"color: #008000; text-decoration-color: #008000\">'No'</span>,\n",
       "            <span style=\"color: #008080; text-decoration-color: #008080; font-weight: bold\">1.0</span>: <span style=\"color: #008000; text-decoration-color: #008000\">'Yes'</span>,\n",
       "            <span style=\"color: #008080; text-decoration-color: #008080; font-weight: bold\">7.0</span>: <span style=\"color: #008000; text-decoration-color: #008000\">'Involved in incorrect skip - not answered'</span>,\n",
       "            <span style=\"color: #008080; text-decoration-color: #008080; font-weight: bold\">9.0</span>: <span style=\"color: #008000; text-decoration-color: #008000\">'Not stated'</span>\n",
       "        <span style=\"font-weight: bold\">}</span>,\n",
       "        <span style=\"color: #008000; text-decoration-color: #008000\">'G217_SQ_PN38'</span>: <span style=\"font-weight: bold\">{</span><span style=\"color: #008080; text-decoration-color: #008080; font-weight: bold\">0.0</span>: <span style=\"color: #008000; text-decoration-color: #008000\">'No'</span>, <span style=\"color: #008080; text-decoration-color: #008080; font-weight: bold\">1.0</span>: <span style=\"color: #008000; text-decoration-color: #008000\">'Yes'</span>, <span style=\"color: #008080; text-decoration-color: #008080; font-weight: bold\">9.0</span>: <span style=\"color: #008000; text-decoration-color: #008000\">'Not stated'</span><span style=\"font-weight: bold\">}</span>\n",
       "    <span style=\"font-weight: bold\">}</span>\n",
       "<span style=\"font-weight: bold\">})</span>\n",
       "</pre>\n"
      ],
      "text/plain": [
       "\u001b[1;35mdefaultdict\u001b[0m\u001b[1m(\u001b[0m\u001b[1m<\u001b[0m\u001b[1;95mclass\u001b[0m\u001b[39m \u001b[0m\u001b[32m'dict'\u001b[0m\u001b[1m>\u001b[0m, \u001b[1m{\u001b[0m\n",
       "    \u001b[32m'Label'\u001b[0m: \u001b[1m{\u001b[0m\u001b[32m'G217_PQ_PN38'\u001b[0m: \u001b[32m'Ever had low back pain'\u001b[0m, \u001b[32m'G217_SQ_PN38'\u001b[0m: \u001b[32m'Ever had low back pain?'\u001b[0m\u001b[1m}\u001b[0m,\n",
       "    \u001b[32m'Field Type'\u001b[0m: \u001b[1m{\u001b[0m\u001b[32m'G217_PQ_PN38'\u001b[0m: \u001b[32m'Numeric'\u001b[0m, \u001b[32m'G217_SQ_PN38'\u001b[0m: \u001b[32m'Numeric'\u001b[0m\u001b[1m}\u001b[0m,\n",
       "    \u001b[32m'Field Width'\u001b[0m: \u001b[1m{\u001b[0m\u001b[32m'G217_PQ_PN38'\u001b[0m: \u001b[1;36m8\u001b[0m, \u001b[32m'G217_SQ_PN38'\u001b[0m: \u001b[1;36m8\u001b[0m\u001b[1m}\u001b[0m,\n",
       "    \u001b[32m'Decimals'\u001b[0m: \u001b[1m{\u001b[0m\u001b[32m'G217_PQ_PN38'\u001b[0m: \u001b[32m'0'\u001b[0m, \u001b[32m'G217_SQ_PN38'\u001b[0m: \u001b[32m'0'\u001b[0m\u001b[1m}\u001b[0m,\n",
       "    \u001b[32m'Variable Type'\u001b[0m: \u001b[1m{\u001b[0m\u001b[32m'G217_PQ_PN38'\u001b[0m: \u001b[32m'scale'\u001b[0m, \u001b[32m'G217_SQ_PN38'\u001b[0m: \u001b[32m'scale'\u001b[0m\u001b[1m}\u001b[0m,\n",
       "    \u001b[32m'Field Values'\u001b[0m: \u001b[1m{\u001b[0m\n",
       "        \u001b[32m'G217_PQ_PN38'\u001b[0m: \u001b[1m{\u001b[0m\n",
       "            \u001b[1;36m0.0\u001b[0m: \u001b[32m'No'\u001b[0m,\n",
       "            \u001b[1;36m1.0\u001b[0m: \u001b[32m'Yes'\u001b[0m,\n",
       "            \u001b[1;36m7.0\u001b[0m: \u001b[32m'Involved in incorrect skip - not answered'\u001b[0m,\n",
       "            \u001b[1;36m9.0\u001b[0m: \u001b[32m'Not stated'\u001b[0m\n",
       "        \u001b[1m}\u001b[0m,\n",
       "        \u001b[32m'G217_SQ_PN38'\u001b[0m: \u001b[1m{\u001b[0m\u001b[1;36m0.0\u001b[0m: \u001b[32m'No'\u001b[0m, \u001b[1;36m1.0\u001b[0m: \u001b[32m'Yes'\u001b[0m, \u001b[1;36m9.0\u001b[0m: \u001b[32m'Not stated'\u001b[0m\u001b[1m}\u001b[0m\n",
       "    \u001b[1m}\u001b[0m\n",
       "\u001b[1m}\u001b[0m\u001b[1m)\u001b[0m\n"
      ]
     },
     "metadata": {},
     "output_type": "display_data"
    }
   ],
   "source": [
    "rprint(m)"
   ]
  },
  {
   "cell_type": "code",
   "execution_count": null,
   "metadata": {},
   "outputs": [
    {
     "data": {
      "text/html": [
       "<pre style=\"white-space:pre;overflow-x:auto;line-height:normal;font-family:Menlo,'DejaVu Sans Mono',consolas,'Courier New',monospace\"><span style=\"font-weight: bold\">{</span>\n",
       "    <span style=\"color: #008000; text-decoration-color: #008000\">'G217_PQ_PN38'</span>: <span style=\"font-weight: bold\">{</span><span style=\"color: #008080; text-decoration-color: #008080; font-weight: bold\">0.0</span>: <span style=\"color: #008000; text-decoration-color: #008000\">'No'</span>, <span style=\"color: #008080; text-decoration-color: #008080; font-weight: bold\">1.0</span>: <span style=\"color: #008000; text-decoration-color: #008000\">'Yes'</span>, <span style=\"color: #008080; text-decoration-color: #008080; font-weight: bold\">7.0</span>: <span style=\"color: #008000; text-decoration-color: #008000\">'Involved in incorrect skip - not answered'</span>, <span style=\"color: #008080; text-decoration-color: #008080; font-weight: bold\">9.0</span>: <span style=\"color: #008000; text-decoration-color: #008000\">'Not stated'</span><span style=\"font-weight: bold\">}</span>,\n",
       "    <span style=\"color: #008000; text-decoration-color: #008000\">'G217_SQ_PN38'</span>: <span style=\"font-weight: bold\">{</span><span style=\"color: #008080; text-decoration-color: #008080; font-weight: bold\">0.0</span>: <span style=\"color: #008000; text-decoration-color: #008000\">'No'</span>, <span style=\"color: #008080; text-decoration-color: #008080; font-weight: bold\">1.0</span>: <span style=\"color: #008000; text-decoration-color: #008000\">'Yes'</span>, <span style=\"color: #008080; text-decoration-color: #008080; font-weight: bold\">9.0</span>: <span style=\"color: #008000; text-decoration-color: #008000\">'Not stated'</span><span style=\"font-weight: bold\">}</span>\n",
       "<span style=\"font-weight: bold\">}</span>\n",
       "</pre>\n"
      ],
      "text/plain": [
       "\u001b[1m{\u001b[0m\n",
       "    \u001b[32m'G217_PQ_PN38'\u001b[0m: \u001b[1m{\u001b[0m\u001b[1;36m0.0\u001b[0m: \u001b[32m'No'\u001b[0m, \u001b[1;36m1.0\u001b[0m: \u001b[32m'Yes'\u001b[0m, \u001b[1;36m7.0\u001b[0m: \u001b[32m'Involved in incorrect skip - not answered'\u001b[0m, \u001b[1;36m9.0\u001b[0m: \u001b[32m'Not stated'\u001b[0m\u001b[1m}\u001b[0m,\n",
       "    \u001b[32m'G217_SQ_PN38'\u001b[0m: \u001b[1m{\u001b[0m\u001b[1;36m0.0\u001b[0m: \u001b[32m'No'\u001b[0m, \u001b[1;36m1.0\u001b[0m: \u001b[32m'Yes'\u001b[0m, \u001b[1;36m9.0\u001b[0m: \u001b[32m'Not stated'\u001b[0m\u001b[1m}\u001b[0m\n",
       "\u001b[1m}\u001b[0m\n"
      ]
     },
     "metadata": {},
     "output_type": "display_data"
    }
   ],
   "source": [
    "rprint(m[\"Field Values\"])"
   ]
  },
  {
   "cell_type": "code",
   "execution_count": null,
   "metadata": {},
   "outputs": [],
   "source": [
    "PN38 = Metadata(\n",
    "    label= \"Ever had low back pain\",\n",
    "    field_values = {-99: \"Missing\", 0: \"No\", 1: \"Yes\"},\n",
    "    field_type = \"Numeric\",\n",
    "    field_width = 3,\n",
    "    decimals =  0,\n",
    "    variable_type = \"Nominal\"\n",
    ")"
   ]
  },
  {
   "cell_type": "markdown",
   "metadata": {},
   "source": [
    "## Further investigation\n",
    "\n",
    "What values exist for Y17 follow-ups in subsequent variables when PN17, PN9 and PN38 are 0?"
   ]
  },
  {
   "cell_type": "code",
   "execution_count": null,
   "metadata": {},
   "outputs": [
    {
     "data": {
      "text/html": [
       "<pre style=\"white-space:pre;overflow-x:auto;line-height:normal;font-family:Menlo,'DejaVu Sans Mono',consolas,'Courier New',monospace\"></pre>\n"
      ],
      "text/plain": []
     },
     "metadata": {},
     "output_type": "display_data"
    },
    {
     "data": {
      "text/html": [
       "<div><style>\n",
       ".dataframe > thead > tr,\n",
       ".dataframe > tbody > tr {\n",
       "  text-align: right;\n",
       "  white-space: pre-wrap;\n",
       "}\n",
       "</style>\n",
       "<small>shape: (2, 4)</small><table border=\"1\" class=\"dataframe\"><thead><tr><th>G217_SQ_PN25</th><th>G217_SQ_PN34</th><th>G217_SQ_PN35</th><th>G217_SQ_PN36</th></tr><tr><td>f64</td><td>f64</td><td>f64</td><td>f64</td></tr></thead><tbody><tr><td>0.0</td><td>0.0</td><td>0.0</td><td>0.0</td></tr><tr><td>0.0</td><td>0.0</td><td>0.0</td><td>9.0</td></tr></tbody></table></div>"
      ],
      "text/plain": [
       "\n",
       "shape: \u001b[1m(\u001b[0m\u001b[1;36m2\u001b[0m, \u001b[1;36m4\u001b[0m\u001b[1m)\u001b[0m\n",
       "┌──────────────┬──────────────┬──────────────┬──────────────┐\n",
       "│ G217_SQ_PN25 ┆ G217_SQ_PN34 ┆ G217_SQ_PN35 ┆ G217_SQ_PN36 │\n",
       "│ ---          ┆ ---          ┆ ---          ┆ ---          │\n",
       "│ f64          ┆ f64          ┆ f64          ┆ f64          │\n",
       "╞══════════════╪══════════════╪══════════════╪══════════════╡\n",
       "│ \u001b[1;36m0.0\u001b[0m          ┆ \u001b[1;36m0.0\u001b[0m          ┆ \u001b[1;36m0.0\u001b[0m          ┆ \u001b[1;36m0.0\u001b[0m          │\n",
       "│ \u001b[1;36m0.0\u001b[0m          ┆ \u001b[1;36m0.0\u001b[0m          ┆ \u001b[1;36m0.0\u001b[0m          ┆ \u001b[1;36m9.0\u001b[0m          │\n",
       "└──────────────┴──────────────┴──────────────┴──────────────┘"
      ]
     },
     "execution_count": null,
     "metadata": {},
     "output_type": "execute_result"
    }
   ],
   "source": [
    "(\n",
    "    df\n",
    "    .filter(\n",
    "        pl.col(\"G217_SQ_PN17\") == 0,\n",
    "        pl.col(\"G217_SQ_PN9\") == 0,\n",
    "        pl.col(\"G217_SQ_PN38\") == 0\n",
    "    )\n",
    "    .select('G217_SQ_PN25', 'G217_SQ_PN34', 'G217_SQ_PN35', 'G217_SQ_PN36')\n",
    "    .unique()\n",
    "    .collect()\n",
    ")"
   ]
  },
  {
   "cell_type": "code",
   "execution_count": null,
   "metadata": {},
   "outputs": [
    {
     "data": {
      "text/html": [
       "<pre style=\"white-space:pre;overflow-x:auto;line-height:normal;font-family:Menlo,'DejaVu Sans Mono',consolas,'Courier New',monospace\"></pre>\n"
      ],
      "text/plain": []
     },
     "metadata": {},
     "output_type": "display_data"
    },
    {
     "data": {
      "text/html": [
       "<div><style>\n",
       ".dataframe > thead > tr,\n",
       ".dataframe > tbody > tr {\n",
       "  text-align: right;\n",
       "  white-space: pre-wrap;\n",
       "}\n",
       "</style>\n",
       "<small>shape: (15, 4)</small><table border=\"1\" class=\"dataframe\"><thead><tr><th>G217_PQ_PN25</th><th>G217_PQ_PN34</th><th>G217_PQ_PN35</th><th>G217_PQ_PN36</th></tr><tr><td>f64</td><td>f64</td><td>f64</td><td>f64</td></tr></thead><tbody><tr><td>9.0</td><td>9.0</td><td>9.0</td><td>9.0</td></tr><tr><td>1.0</td><td>1.0</td><td>1.0</td><td>1.0</td></tr><tr><td>1.0</td><td>1.0</td><td>0.0</td><td>0.0</td></tr><tr><td>0.0</td><td>1.0</td><td>0.0</td><td>1.0</td></tr><tr><td>0.0</td><td>0.0</td><td>0.0</td><td>0.0</td></tr><tr><td>&hellip;</td><td>&hellip;</td><td>&hellip;</td><td>&hellip;</td></tr><tr><td>7.0</td><td>7.0</td><td>7.0</td><td>7.0</td></tr><tr><td>0.0</td><td>1.0</td><td>0.0</td><td>0.0</td></tr><tr><td>1.0</td><td>1.0</td><td>0.0</td><td>1.0</td></tr><tr><td>0.0</td><td>0.0</td><td>9.0</td><td>0.0</td></tr><tr><td>0.0</td><td>1.0</td><td>1.0</td><td>1.0</td></tr></tbody></table></div>"
      ],
      "text/plain": [
       "\n",
       "shape: \u001b[1m(\u001b[0m\u001b[1;36m15\u001b[0m, \u001b[1;36m4\u001b[0m\u001b[1m)\u001b[0m\n",
       "┌──────────────┬──────────────┬──────────────┬──────────────┐\n",
       "│ G217_PQ_PN25 ┆ G217_PQ_PN34 ┆ G217_PQ_PN35 ┆ G217_PQ_PN36 │\n",
       "│ ---          ┆ ---          ┆ ---          ┆ ---          │\n",
       "│ f64          ┆ f64          ┆ f64          ┆ f64          │\n",
       "╞══════════════╪══════════════╪══════════════╪══════════════╡\n",
       "│ \u001b[1;36m9.0\u001b[0m          ┆ \u001b[1;36m9.0\u001b[0m          ┆ \u001b[1;36m9.0\u001b[0m          ┆ \u001b[1;36m9.0\u001b[0m          │\n",
       "│ \u001b[1;36m1.0\u001b[0m          ┆ \u001b[1;36m1.0\u001b[0m          ┆ \u001b[1;36m1.0\u001b[0m          ┆ \u001b[1;36m1.0\u001b[0m          │\n",
       "│ \u001b[1;36m1.0\u001b[0m          ┆ \u001b[1;36m1.0\u001b[0m          ┆ \u001b[1;36m0.0\u001b[0m          ┆ \u001b[1;36m0.0\u001b[0m          │\n",
       "│ \u001b[1;36m0.0\u001b[0m          ┆ \u001b[1;36m1.0\u001b[0m          ┆ \u001b[1;36m0.0\u001b[0m          ┆ \u001b[1;36m1.0\u001b[0m          │\n",
       "│ \u001b[1;36m0.0\u001b[0m          ┆ \u001b[1;36m0.0\u001b[0m          ┆ \u001b[1;36m0.0\u001b[0m          ┆ \u001b[1;36m0.0\u001b[0m          │\n",
       "│ …            ┆ …            ┆ …            ┆ …            │\n",
       "│ \u001b[1;36m7.0\u001b[0m          ┆ \u001b[1;36m7.0\u001b[0m          ┆ \u001b[1;36m7.0\u001b[0m          ┆ \u001b[1;36m7.0\u001b[0m          │\n",
       "│ \u001b[1;36m0.0\u001b[0m          ┆ \u001b[1;36m1.0\u001b[0m          ┆ \u001b[1;36m0.0\u001b[0m          ┆ \u001b[1;36m0.0\u001b[0m          │\n",
       "│ \u001b[1;36m1.0\u001b[0m          ┆ \u001b[1;36m1.0\u001b[0m          ┆ \u001b[1;36m0.0\u001b[0m          ┆ \u001b[1;36m1.0\u001b[0m          │\n",
       "│ \u001b[1;36m0.0\u001b[0m          ┆ \u001b[1;36m0.0\u001b[0m          ┆ \u001b[1;36m9.0\u001b[0m          ┆ \u001b[1;36m0.0\u001b[0m          │\n",
       "│ \u001b[1;36m0.0\u001b[0m          ┆ \u001b[1;36m1.0\u001b[0m          ┆ \u001b[1;36m1.0\u001b[0m          ┆ \u001b[1;36m1.0\u001b[0m          │\n",
       "└──────────────┴──────────────┴──────────────┴──────────────┘"
      ]
     },
     "execution_count": null,
     "metadata": {},
     "output_type": "execute_result"
    }
   ],
   "source": [
    "(\n",
    "    df\n",
    "    .filter(\n",
    "        pl.col(\"G217_PQ_PN17\") == 0,\n",
    "    )\n",
    "    .select('G217_PQ_PN25', 'G217_PQ_PN34', 'G217_PQ_PN35', 'G217_PQ_PN36')\n",
    "    .unique()\n",
    "    .collect()\n",
    ")"
   ]
  },
  {
   "cell_type": "code",
   "execution_count": null,
   "metadata": {},
   "outputs": [
    {
     "data": {
      "text/html": [
       "<pre style=\"white-space:pre;overflow-x:auto;line-height:normal;font-family:Menlo,'DejaVu Sans Mono',consolas,'Courier New',monospace\"></pre>\n"
      ],
      "text/plain": []
     },
     "metadata": {},
     "output_type": "display_data"
    },
    {
     "data": {
      "text/html": [
       "<div><style>\n",
       ".dataframe > thead > tr,\n",
       ".dataframe > tbody > tr {\n",
       "  text-align: right;\n",
       "  white-space: pre-wrap;\n",
       "}\n",
       "</style>\n",
       "<small>shape: (9, 2)</small><table border=\"1\" class=\"dataframe\"><thead><tr><th>G217_PQ_PN9</th><th>G217_PQ_PN38</th></tr><tr><td>f64</td><td>f64</td></tr></thead><tbody><tr><td>9.0</td><td>9.0</td></tr><tr><td>9.0</td><td>0.0</td></tr><tr><td>0.0</td><td>1.0</td></tr><tr><td>0.0</td><td>0.0</td></tr><tr><td>7.0</td><td>7.0</td></tr><tr><td>1.0</td><td>0.0</td></tr><tr><td>1.0</td><td>9.0</td></tr><tr><td>1.0</td><td>1.0</td></tr><tr><td>0.0</td><td>9.0</td></tr></tbody></table></div>"
      ],
      "text/plain": [
       "\n",
       "shape: \u001b[1m(\u001b[0m\u001b[1;36m9\u001b[0m, \u001b[1;36m2\u001b[0m\u001b[1m)\u001b[0m\n",
       "┌─────────────┬──────────────┐\n",
       "│ G217_PQ_PN9 ┆ G217_PQ_PN38 │\n",
       "│ ---         ┆ ---          │\n",
       "│ f64         ┆ f64          │\n",
       "╞═════════════╪══════════════╡\n",
       "│ \u001b[1;36m9.0\u001b[0m         ┆ \u001b[1;36m9.0\u001b[0m          │\n",
       "│ \u001b[1;36m9.0\u001b[0m         ┆ \u001b[1;36m0.0\u001b[0m          │\n",
       "│ \u001b[1;36m0.0\u001b[0m         ┆ \u001b[1;36m1.0\u001b[0m          │\n",
       "│ \u001b[1;36m0.0\u001b[0m         ┆ \u001b[1;36m0.0\u001b[0m          │\n",
       "│ \u001b[1;36m7.0\u001b[0m         ┆ \u001b[1;36m7.0\u001b[0m          │\n",
       "│ \u001b[1;36m1.0\u001b[0m         ┆ \u001b[1;36m0.0\u001b[0m          │\n",
       "│ \u001b[1;36m1.0\u001b[0m         ┆ \u001b[1;36m9.0\u001b[0m          │\n",
       "│ \u001b[1;36m1.0\u001b[0m         ┆ \u001b[1;36m1.0\u001b[0m          │\n",
       "│ \u001b[1;36m0.0\u001b[0m         ┆ \u001b[1;36m9.0\u001b[0m          │\n",
       "└─────────────┴──────────────┘"
      ]
     },
     "execution_count": null,
     "metadata": {},
     "output_type": "execute_result"
    }
   ],
   "source": [
    "(\n",
    "    df\n",
    "    .filter(\n",
    "        pl.col(\"G217_PQ_PN17\") == 0,\n",
    "    )\n",
    "    .select('G217_PQ_PN9', 'G217_PQ_PN38')\n",
    "    .unique()\n",
    "    .collect()\n",
    ")"
   ]
  }
 ],
 "metadata": {
  "kernelspec": {
   "display_name": "python3",
   "language": "python",
   "name": "python3"
  }
 },
 "nbformat": 4,
 "nbformat_minor": 2
}
