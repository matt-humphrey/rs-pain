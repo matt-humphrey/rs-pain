{
 "cells": [
  {
   "cell_type": "code",
   "execution_count": null,
   "metadata": {},
   "outputs": [],
   "source": [
    "%load_ext autoreload\n",
    "%autoreload 2"
   ]
  },
  {
   "cell_type": "code",
   "execution_count": null,
   "metadata": {},
   "outputs": [],
   "source": [
    "from pain.read import *\n",
    "from pathlib import Path\n",
    "import polars as pl\n",
    "import numpy as np"
   ]
  },
  {
   "cell_type": "code",
   "execution_count": null,
   "metadata": {},
   "outputs": [],
   "source": [
    "data_dir = Path(\"../data/raw\")"
   ]
  },
  {
   "cell_type": "code",
   "execution_count": null,
   "metadata": {},
   "outputs": [],
   "source": [
    "datasets = [\n",
    "    Dataset(\"G214_PQ.sav\", data_dir, \"G214_PQ_\", [\"ID\", \"G214_PQ_PN17\", \"G214_PQ_PN25\", \"G214_PQ_PN34\", \"G214_PQ_PN35\", \"G214_PQ_PN36\"]),\n",
    "    Dataset(\"G214_SQ.sav\", data_dir, \"G214_SQ_\", [\"ID\", \"G214_SQ_PN17\", \"G214_SQ_PN25\", \"G214_SQ_PN34\", \"G214_SQ_PN35\", \"G214_SQ_PN36\"]),\n",
    "    Dataset(\"G217_PQ.sav\", data_dir, \"G217_PQ_\", [\"ID\", \"G217_PQ_PN17\", \"G217_PQ_PN25\", \"G217_PQ_PN34\", \"G217_PQ_PN35\", \"G217_PQ_PN36\", \"G217_PQ_PN38\", \"G217_PQ_PN9\"]),\n",
    "    Dataset(\"G217_SQ.sav\", data_dir, \"G217_SQ_\", [\"ID\", \"G217_SQ_PN17\", \"G217_SQ_PN25\", \"G217_SQ_PN34\", \"G217_SQ_PN35\", \"G217_SQ_PN36\", \"G217_SQ_PN38\", \"G217_SQ_PN9\"])\n",
    "]"
   ]
  },
  {
   "cell_type": "code",
   "execution_count": null,
   "metadata": {},
   "outputs": [],
   "source": [
    "dataframes, metadata = read_and_filter_data(datasets)\n",
    "merged_df = combine_dataframes(dataframes)\n",
    "merged_meta = merge_dictionaries(metadata)"
   ]
  },
  {
   "cell_type": "code",
   "execution_count": null,
   "metadata": {},
   "outputs": [
    {
     "name": "stderr",
     "output_type": "stream",
     "text": [
      "C:\\Users\\00113294\\AppData\\Local\\Temp\\ipykernel_26400\\1543300348.py:1: PerformanceWarning: Determining the column names of a LazyFrame requires resolving its schema, which is a potentially expensive operation. Use `LazyFrame.collect_schema().names()` to get the column names without this warning.\n",
      "  cols_pn17 = [col for col in merged_df.columns if \"PN17\" in col]\n"
     ]
    },
    {
     "data": {
      "text/html": [
       "<div><style>\n",
       ".dataframe > thead > tr,\n",
       ".dataframe > tbody > tr {\n",
       "  text-align: right;\n",
       "  white-space: pre-wrap;\n",
       "}\n",
       "</style>\n",
       "<small>shape: (84, 4)</small><table border=\"1\" class=\"dataframe\"><thead><tr><th>G214_PQ_PN17</th><th>G214_SQ_PN17</th><th>G217_PQ_PN17</th><th>G217_SQ_PN17</th></tr><tr><td>f64</td><td>f64</td><td>f64</td><td>f64</td></tr></thead><tbody><tr><td>1.0</td><td>1.0</td><td>1.0</td><td>0.0</td></tr><tr><td>null</td><td>null</td><td>null</td><td>null</td></tr><tr><td>0.0</td><td>null</td><td>0.0</td><td>null</td></tr><tr><td>0.0</td><td>null</td><td>1.0</td><td>1.0</td></tr><tr><td>null</td><td>null</td><td>1.0</td><td>9.0</td></tr><tr><td>&hellip;</td><td>&hellip;</td><td>&hellip;</td><td>&hellip;</td></tr><tr><td>1.0</td><td>null</td><td>null</td><td>null</td></tr><tr><td>null</td><td>1.0</td><td>1.0</td><td>null</td></tr><tr><td>1.0</td><td>9.0</td><td>1.0</td><td>null</td></tr><tr><td>0.0</td><td>1.0</td><td>1.0</td><td>null</td></tr><tr><td>1.0</td><td>1.0</td><td>null</td><td>1.0</td></tr></tbody></table></div>"
      ],
      "text/plain": [
       "shape: (84, 4)\n",
       "┌──────────────┬──────────────┬──────────────┬──────────────┐\n",
       "│ G214_PQ_PN17 ┆ G214_SQ_PN17 ┆ G217_PQ_PN17 ┆ G217_SQ_PN17 │\n",
       "│ ---          ┆ ---          ┆ ---          ┆ ---          │\n",
       "│ f64          ┆ f64          ┆ f64          ┆ f64          │\n",
       "╞══════════════╪══════════════╪══════════════╪══════════════╡\n",
       "│ 1.0          ┆ 1.0          ┆ 1.0          ┆ 0.0          │\n",
       "│ null         ┆ null         ┆ null         ┆ null         │\n",
       "│ 0.0          ┆ null         ┆ 0.0          ┆ null         │\n",
       "│ 0.0          ┆ null         ┆ 1.0          ┆ 1.0          │\n",
       "│ null         ┆ null         ┆ 1.0          ┆ 9.0          │\n",
       "│ …            ┆ …            ┆ …            ┆ …            │\n",
       "│ 1.0          ┆ null         ┆ null         ┆ null         │\n",
       "│ null         ┆ 1.0          ┆ 1.0          ┆ null         │\n",
       "│ 1.0          ┆ 9.0          ┆ 1.0          ┆ null         │\n",
       "│ 0.0          ┆ 1.0          ┆ 1.0          ┆ null         │\n",
       "│ 1.0          ┆ 1.0          ┆ null         ┆ 1.0          │\n",
       "└──────────────┴──────────────┴──────────────┴──────────────┘"
      ]
     },
     "execution_count": null,
     "metadata": {},
     "output_type": "execute_result"
    }
   ],
   "source": [
    "cols_pn17 = [col for col in merged_df.columns if \"PN17\" in col]\n",
    "merged_df.select(cols_pn17).unique().collect()"
   ]
  },
  {
   "cell_type": "code",
   "execution_count": null,
   "metadata": {},
   "outputs": [],
   "source": [
    "d = datasets[2]\n",
    "df, meta = d.load_data(data_dir)"
   ]
  },
  {
   "cell_type": "code",
   "execution_count": null,
   "metadata": {},
   "outputs": [
    {
     "data": {
      "text/plain": [
       "array([0., 9.])"
      ]
     },
     "execution_count": null,
     "metadata": {},
     "output_type": "execute_result"
    }
   ],
   "source": [
    "np.unique(\n",
    "    df\n",
    "    .filter(\n",
    "        pl.col(\"G217_PQ_PN17\") == 0,\n",
    "        pl.col(\"G217_PQ_PN9\") == 0,\n",
    "        pl.col(\"G217_PQ_PN38\") == 0\n",
    "    )\n",
    "    .select('G217_PQ_PN25', 'G217_PQ_PN34', 'G217_PQ_PN35', 'G217_PQ_PN36') #, 'G217_PQ_PN38', 'G217_PQ_PN9')\n",
    ")#.to_pandas().value_counts()"
   ]
  },
  {
   "cell_type": "code",
   "execution_count": null,
   "metadata": {},
   "outputs": [
    {
     "data": {
      "text/html": [
       "<div><style>\n",
       ".dataframe > thead > tr,\n",
       ".dataframe > tbody > tr {\n",
       "  text-align: right;\n",
       "  white-space: pre-wrap;\n",
       "}\n",
       "</style>\n",
       "<small>shape: (109, 7)</small><table border=\"1\" class=\"dataframe\"><thead><tr><th>G217_SQ_PN17</th><th>G217_SQ_PN9</th><th>G217_SQ_PN38</th><th>G217_SQ_PN25</th><th>G217_SQ_PN34</th><th>G217_SQ_PN35</th><th>G217_SQ_PN36</th></tr><tr><td>f64</td><td>f64</td><td>f64</td><td>f64</td><td>f64</td><td>f64</td><td>f64</td></tr></thead><tbody><tr><td>0.0</td><td>0.0</td><td>0.0</td><td>0.0</td><td>0.0</td><td>0.0</td><td>0.0</td></tr><tr><td>0.0</td><td>0.0</td><td>0.0</td><td>0.0</td><td>0.0</td><td>0.0</td><td>0.0</td></tr><tr><td>0.0</td><td>0.0</td><td>0.0</td><td>0.0</td><td>0.0</td><td>0.0</td><td>0.0</td></tr><tr><td>0.0</td><td>0.0</td><td>0.0</td><td>0.0</td><td>0.0</td><td>0.0</td><td>0.0</td></tr><tr><td>0.0</td><td>0.0</td><td>0.0</td><td>0.0</td><td>0.0</td><td>0.0</td><td>0.0</td></tr><tr><td>&hellip;</td><td>&hellip;</td><td>&hellip;</td><td>&hellip;</td><td>&hellip;</td><td>&hellip;</td><td>&hellip;</td></tr><tr><td>0.0</td><td>0.0</td><td>0.0</td><td>0.0</td><td>0.0</td><td>0.0</td><td>0.0</td></tr><tr><td>0.0</td><td>0.0</td><td>0.0</td><td>0.0</td><td>0.0</td><td>0.0</td><td>0.0</td></tr><tr><td>0.0</td><td>0.0</td><td>0.0</td><td>0.0</td><td>0.0</td><td>0.0</td><td>0.0</td></tr><tr><td>0.0</td><td>0.0</td><td>0.0</td><td>0.0</td><td>0.0</td><td>0.0</td><td>0.0</td></tr><tr><td>0.0</td><td>0.0</td><td>0.0</td><td>0.0</td><td>0.0</td><td>0.0</td><td>0.0</td></tr></tbody></table></div>"
      ],
      "text/plain": [
       "shape: (109, 7)\n",
       "┌──────────────┬─────────────┬─────────────┬─────────────┬─────────────┬─────────────┬─────────────┐\n",
       "│ G217_SQ_PN17 ┆ G217_SQ_PN9 ┆ G217_SQ_PN3 ┆ G217_SQ_PN2 ┆ G217_SQ_PN3 ┆ G217_SQ_PN3 ┆ G217_SQ_PN3 │\n",
       "│ ---          ┆ ---         ┆ 8           ┆ 5           ┆ 4           ┆ 5           ┆ 6           │\n",
       "│ f64          ┆ f64         ┆ ---         ┆ ---         ┆ ---         ┆ ---         ┆ ---         │\n",
       "│              ┆             ┆ f64         ┆ f64         ┆ f64         ┆ f64         ┆ f64         │\n",
       "╞══════════════╪═════════════╪═════════════╪═════════════╪═════════════╪═════════════╪═════════════╡\n",
       "│ 0.0          ┆ 0.0         ┆ 0.0         ┆ 0.0         ┆ 0.0         ┆ 0.0         ┆ 0.0         │\n",
       "│ 0.0          ┆ 0.0         ┆ 0.0         ┆ 0.0         ┆ 0.0         ┆ 0.0         ┆ 0.0         │\n",
       "│ 0.0          ┆ 0.0         ┆ 0.0         ┆ 0.0         ┆ 0.0         ┆ 0.0         ┆ 0.0         │\n",
       "│ 0.0          ┆ 0.0         ┆ 0.0         ┆ 0.0         ┆ 0.0         ┆ 0.0         ┆ 0.0         │\n",
       "│ 0.0          ┆ 0.0         ┆ 0.0         ┆ 0.0         ┆ 0.0         ┆ 0.0         ┆ 0.0         │\n",
       "│ …            ┆ …           ┆ …           ┆ …           ┆ …           ┆ …           ┆ …           │\n",
       "│ 0.0          ┆ 0.0         ┆ 0.0         ┆ 0.0         ┆ 0.0         ┆ 0.0         ┆ 0.0         │\n",
       "│ 0.0          ┆ 0.0         ┆ 0.0         ┆ 0.0         ┆ 0.0         ┆ 0.0         ┆ 0.0         │\n",
       "│ 0.0          ┆ 0.0         ┆ 0.0         ┆ 0.0         ┆ 0.0         ┆ 0.0         ┆ 0.0         │\n",
       "│ 0.0          ┆ 0.0         ┆ 0.0         ┆ 0.0         ┆ 0.0         ┆ 0.0         ┆ 0.0         │\n",
       "│ 0.0          ┆ 0.0         ┆ 0.0         ┆ 0.0         ┆ 0.0         ┆ 0.0         ┆ 0.0         │\n",
       "└──────────────┴─────────────┴─────────────┴─────────────┴─────────────┴─────────────┴─────────────┘"
      ]
     },
     "execution_count": null,
     "metadata": {},
     "output_type": "execute_result"
    }
   ],
   "source": [
    "(\n",
    "    df\n",
    "    .filter(\n",
    "        pl.col(\"G217_SQ_PN17\") == 0,\n",
    "        pl.col(\"G217_SQ_PN9\") == 0,\n",
    "        pl.col(\"G217_SQ_PN38\") == 0\n",
    "    )\n",
    "    .select(\"G217_SQ_PN17\", 'G217_SQ_PN9', 'G217_SQ_PN38', 'G217_SQ_PN25', 'G217_SQ_PN34', 'G217_SQ_PN35', 'G217_SQ_PN36')\n",
    "    # .unique()\n",
    ")"
   ]
  },
  {
   "cell_type": "code",
   "execution_count": null,
   "metadata": {},
   "outputs": [
    {
     "data": {
      "text/html": [
       "<div><style>\n",
       ".dataframe > thead > tr,\n",
       ".dataframe > tbody > tr {\n",
       "  text-align: right;\n",
       "  white-space: pre-wrap;\n",
       "}\n",
       "</style>\n",
       "<small>shape: (333, 7)</small><table border=\"1\" class=\"dataframe\"><thead><tr><th>G217_PQ_PN17</th><th>G217_PQ_PN9</th><th>G217_PQ_PN38</th><th>G217_PQ_PN25</th><th>G217_PQ_PN34</th><th>G217_PQ_PN35</th><th>G217_PQ_PN36</th></tr><tr><td>f64</td><td>f64</td><td>f64</td><td>f64</td><td>f64</td><td>f64</td><td>f64</td></tr></thead><tbody><tr><td>0.0</td><td>7.0</td><td>7.0</td><td>7.0</td><td>7.0</td><td>7.0</td><td>7.0</td></tr><tr><td>0.0</td><td>7.0</td><td>7.0</td><td>7.0</td><td>7.0</td><td>7.0</td><td>7.0</td></tr><tr><td>0.0</td><td>7.0</td><td>7.0</td><td>7.0</td><td>7.0</td><td>7.0</td><td>7.0</td></tr><tr><td>0.0</td><td>7.0</td><td>7.0</td><td>7.0</td><td>7.0</td><td>7.0</td><td>7.0</td></tr><tr><td>0.0</td><td>1.0</td><td>0.0</td><td>0.0</td><td>0.0</td><td>0.0</td><td>0.0</td></tr><tr><td>&hellip;</td><td>&hellip;</td><td>&hellip;</td><td>&hellip;</td><td>&hellip;</td><td>&hellip;</td><td>&hellip;</td></tr><tr><td>0.0</td><td>1.0</td><td>0.0</td><td>0.0</td><td>0.0</td><td>0.0</td><td>0.0</td></tr><tr><td>0.0</td><td>1.0</td><td>0.0</td><td>0.0</td><td>0.0</td><td>0.0</td><td>0.0</td></tr><tr><td>0.0</td><td>1.0</td><td>0.0</td><td>0.0</td><td>0.0</td><td>0.0</td><td>0.0</td></tr><tr><td>0.0</td><td>0.0</td><td>0.0</td><td>0.0</td><td>0.0</td><td>0.0</td><td>0.0</td></tr><tr><td>0.0</td><td>0.0</td><td>9.0</td><td>0.0</td><td>0.0</td><td>0.0</td><td>0.0</td></tr></tbody></table></div>"
      ],
      "text/plain": [
       "shape: (333, 7)\n",
       "┌──────────────┬─────────────┬─────────────┬─────────────┬─────────────┬─────────────┬─────────────┐\n",
       "│ G217_PQ_PN17 ┆ G217_PQ_PN9 ┆ G217_PQ_PN3 ┆ G217_PQ_PN2 ┆ G217_PQ_PN3 ┆ G217_PQ_PN3 ┆ G217_PQ_PN3 │\n",
       "│ ---          ┆ ---         ┆ 8           ┆ 5           ┆ 4           ┆ 5           ┆ 6           │\n",
       "│ f64          ┆ f64         ┆ ---         ┆ ---         ┆ ---         ┆ ---         ┆ ---         │\n",
       "│              ┆             ┆ f64         ┆ f64         ┆ f64         ┆ f64         ┆ f64         │\n",
       "╞══════════════╪═════════════╪═════════════╪═════════════╪═════════════╪═════════════╪═════════════╡\n",
       "│ 0.0          ┆ 7.0         ┆ 7.0         ┆ 7.0         ┆ 7.0         ┆ 7.0         ┆ 7.0         │\n",
       "│ 0.0          ┆ 7.0         ┆ 7.0         ┆ 7.0         ┆ 7.0         ┆ 7.0         ┆ 7.0         │\n",
       "│ 0.0          ┆ 7.0         ┆ 7.0         ┆ 7.0         ┆ 7.0         ┆ 7.0         ┆ 7.0         │\n",
       "│ 0.0          ┆ 7.0         ┆ 7.0         ┆ 7.0         ┆ 7.0         ┆ 7.0         ┆ 7.0         │\n",
       "│ 0.0          ┆ 1.0         ┆ 0.0         ┆ 0.0         ┆ 0.0         ┆ 0.0         ┆ 0.0         │\n",
       "│ …            ┆ …           ┆ …           ┆ …           ┆ …           ┆ …           ┆ …           │\n",
       "│ 0.0          ┆ 1.0         ┆ 0.0         ┆ 0.0         ┆ 0.0         ┆ 0.0         ┆ 0.0         │\n",
       "│ 0.0          ┆ 1.0         ┆ 0.0         ┆ 0.0         ┆ 0.0         ┆ 0.0         ┆ 0.0         │\n",
       "│ 0.0          ┆ 1.0         ┆ 0.0         ┆ 0.0         ┆ 0.0         ┆ 0.0         ┆ 0.0         │\n",
       "│ 0.0          ┆ 0.0         ┆ 0.0         ┆ 0.0         ┆ 0.0         ┆ 0.0         ┆ 0.0         │\n",
       "│ 0.0          ┆ 0.0         ┆ 9.0         ┆ 0.0         ┆ 0.0         ┆ 0.0         ┆ 0.0         │\n",
       "└──────────────┴─────────────┴─────────────┴─────────────┴─────────────┴─────────────┴─────────────┘"
      ]
     },
     "execution_count": null,
     "metadata": {},
     "output_type": "execute_result"
    }
   ],
   "source": [
    "(\n",
    "    df\n",
    "    .filter(\n",
    "        pl.col(\"G217_PQ_PN17\") == 0,\n",
    "    )\n",
    "    .select(\"G217_PQ_PN17\", 'G217_PQ_PN9', 'G217_PQ_PN38', 'G217_PQ_PN25', 'G217_PQ_PN34', 'G217_PQ_PN35', 'G217_PQ_PN36')\n",
    "    # .unique()\n",
    ")"
   ]
  },
  {
   "cell_type": "markdown",
   "metadata": {},
   "source": [
    "Define metadata using the class for PN17"
   ]
  },
  {
   "cell_type": "code",
   "execution_count": null,
   "metadata": {},
   "outputs": [],
   "source": [
    "PN17 = Metadata(\n",
    "    label= \"Ever had back pain\",\n",
    "    field_values = {-99: \"Missing\", 0: \"No\", 1: \"Yes\"},\n",
    "    field_type = \"Numeric\",\n",
    "    field_width = \"3\",\n",
    "    decimals =  \"0\",\n",
    "    variable_type = \"Nominal\"\n",
    ")"
   ]
  }
 ],
 "metadata": {
  "kernelspec": {
   "display_name": "python3",
   "language": "python",
   "name": "python3"
  }
 },
 "nbformat": 4,
 "nbformat_minor": 2
}
