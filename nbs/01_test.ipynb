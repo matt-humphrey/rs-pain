{
 "cells": [
  {
   "cell_type": "markdown",
   "metadata": {},
   "source": [
    "# TODO\n",
    "\n",
    "Variables to explore:\n",
    "\n",
    "- [x] PN17\n",
    "- [x] PN25\n",
    "- [ ] PN34\n",
    "- [ ] PN35\n",
    "- [ ] PN36\n",
    "- [ ] PN38\n",
    "- [ ] PN9"
   ]
  },
  {
   "cell_type": "markdown",
   "metadata": {},
   "source": [
    "## Set up"
   ]
  },
  {
   "cell_type": "code",
   "execution_count": null,
   "metadata": {},
   "outputs": [
    {
     "name": "stdout",
     "output_type": "stream",
     "text": [
      "The autoreload extension is already loaded. To reload it, use:\n",
      "  %reload_ext autoreload\n"
     ]
    }
   ],
   "source": [
    "%load_ext rich\n",
    "%load_ext autoreload\n",
    "%autoreload 2"
   ]
  },
  {
   "cell_type": "code",
   "execution_count": null,
   "metadata": {},
   "outputs": [],
   "source": [
    "from pathlib import Path\n",
    "import polars as pl\n",
    "import pandas as pd\n",
    "import numpy as np\n",
    "from rich import print as rprint\n",
    "\n",
    "from pain.read import *\n",
    "from pain.explore import *"
   ]
  },
  {
   "cell_type": "code",
   "execution_count": null,
   "metadata": {},
   "outputs": [],
   "source": [
    "data_dir = Path(\"../data/raw\")"
   ]
  },
  {
   "cell_type": "code",
   "execution_count": null,
   "metadata": {},
   "outputs": [],
   "source": [
    "datasets = [\n",
    "    Dataset(\"G214_PQ.sav\", data_dir, \"G214_PQ_\", [\"ID\", \"G214_PQ_PN17\", \"G214_PQ_PN25\", \"G214_PQ_PN34\", \"G214_PQ_PN35\", \"G214_PQ_PN36\"]),\n",
    "    Dataset(\"G214_SQ.sav\", data_dir, \"G214_SQ_\", [\"ID\", \"G214_SQ_PN17\", \"G214_SQ_PN25\", \"G214_SQ_PN34\", \"G214_SQ_PN35\", \"G214_SQ_PN36\"]),\n",
    "    Dataset(\"G217_PQ.sav\", data_dir, \"G217_PQ_\", [\"ID\", \"G217_PQ_PN17\", \"G217_PQ_PN25\", \"G217_PQ_PN34\", \"G217_PQ_PN35\", \"G217_PQ_PN36\", \"G217_PQ_PN38\", \"G217_PQ_PN9\"]),\n",
    "    Dataset(\"G217_SQ.sav\", data_dir, \"G217_SQ_\", [\"ID\", \"G217_SQ_PN17\", \"G217_SQ_PN25\", \"G217_SQ_PN34\", \"G217_SQ_PN35\", \"G217_SQ_PN36\", \"G217_SQ_PN38\", \"G217_SQ_PN9\"])\n",
    "]"
   ]
  },
  {
   "cell_type": "code",
   "execution_count": null,
   "metadata": {},
   "outputs": [],
   "source": [
    "dataframes, metadata = read_and_filter_data(datasets)\n",
    "df = combine_dataframes(dataframes)\n",
    "meta = merge_dictionaries(metadata)"
   ]
  },
  {
   "cell_type": "markdown",
   "metadata": {},
   "source": [
    "## PN17"
   ]
  },
  {
   "cell_type": "code",
   "execution_count": null,
   "metadata": {},
   "outputs": [],
   "source": [
    "var = \"PN17\""
   ]
  },
  {
   "cell_type": "markdown",
   "metadata": {},
   "source": [
    "### Data"
   ]
  },
  {
   "cell_type": "markdown",
   "metadata": {},
   "source": [
    "The existing data options for PN17 are all the same:\n",
    "- 0: No\n",
    "- 1: Yes\n",
    "- 9: Missing\n",
    "\n",
    "Changes to make:\n",
    "- Convert 9 to -99 in all cases"
   ]
  },
  {
   "cell_type": "code",
   "execution_count": null,
   "metadata": {},
   "outputs": [
    {
     "data": {
      "text/plain": [
       "{'G214_PQ_PN17': (None, 0.0, 1.0, 9.0),\n",
       " 'G214_SQ_PN17': (None, 0.0, 1.0, 9.0),\n",
       " 'G217_PQ_PN17': (None, 0.0, 1.0, 9.0),\n",
       " 'G217_SQ_PN17': (None, 0.0, 1.0, 9.0)}"
      ]
     },
     "execution_count": null,
     "metadata": {},
     "output_type": "execute_result"
    }
   ],
   "source": [
    "unique_values(df, var)"
   ]
  },
  {
   "cell_type": "markdown",
   "metadata": {},
   "source": [
    "### Metadata"
   ]
  },
  {
   "cell_type": "markdown",
   "metadata": {},
   "source": [
    "The metadata is generally identical, with a minor discrepancy in the label for G217_SQ.\n",
    "There are differences in value labels, but these values do not exist in the data, so they can be harmonised without changes to the raw data."
   ]
  },
  {
   "cell_type": "code",
   "execution_count": null,
   "metadata": {},
   "outputs": [
    {
     "data": {
      "application/vnd.microsoft.datawrangler.viewer.v0+json": {
       "columns": [
        {
         "name": "index",
         "rawType": "object",
         "type": "string"
        },
        {
         "name": "G214_PQ_PN17",
         "rawType": "object",
         "type": "unknown"
        },
        {
         "name": "G214_SQ_PN17",
         "rawType": "object",
         "type": "unknown"
        },
        {
         "name": "G217_PQ_PN17",
         "rawType": "object",
         "type": "unknown"
        },
        {
         "name": "G217_SQ_PN17",
         "rawType": "object",
         "type": "unknown"
        }
       ],
       "conversionMethod": "pd.DataFrame",
       "ref": "d20d69c5-71a6-4b94-b72d-3f8432a30119",
       "rows": [
        [
         "Label",
         "Ever had back pain",
         "Ever had back pain",
         "Ever had back pain",
         "Ever had back pain?"
        ],
        [
         "Field Type",
         "Numeric",
         "Numeric",
         "Numeric",
         "Numeric"
        ],
        [
         "Field Width",
         "8",
         "8",
         "8",
         "8"
        ],
        [
         "Decimals",
         "0",
         "0",
         "0",
         "0"
        ],
        [
         "Variable Type",
         "scale",
         "scale",
         "scale",
         "scale"
        ],
        [
         "Field Values",
         "{0.0: 'No', 1.0: 'Yes', 8.0: 'Not applicable', 9.0: 'Not stated'}",
         "{0.0: 'No', 1.0: 'Yes', 8.0: 'Not applicable', 9.0: 'Not stated'}",
         "{0.0: 'No', 1.0: 'Yes', 7.0: 'Involved in incorrect skip - not answered', 9.0: 'Not stated'}",
         "{0.0: 'No', 1.0: 'Yes', 9.0: 'Not stated'}"
        ]
       ],
       "shape": {
        "columns": 4,
        "rows": 6
       }
      },
      "text/html": [
       "<div>\n",
       "<style scoped>\n",
       "    .dataframe tbody tr th:only-of-type {\n",
       "        vertical-align: middle;\n",
       "    }\n",
       "\n",
       "    .dataframe tbody tr th {\n",
       "        vertical-align: top;\n",
       "    }\n",
       "\n",
       "    .dataframe thead th {\n",
       "        text-align: right;\n",
       "    }\n",
       "</style>\n",
       "<table border=\"1\" class=\"dataframe\">\n",
       "  <thead>\n",
       "    <tr style=\"text-align: right;\">\n",
       "      <th></th>\n",
       "      <th>G214_PQ_PN17</th>\n",
       "      <th>G214_SQ_PN17</th>\n",
       "      <th>G217_PQ_PN17</th>\n",
       "      <th>G217_SQ_PN17</th>\n",
       "    </tr>\n",
       "  </thead>\n",
       "  <tbody>\n",
       "    <tr>\n",
       "      <th>Label</th>\n",
       "      <td>Ever had back pain</td>\n",
       "      <td>Ever had back pain</td>\n",
       "      <td>Ever had back pain</td>\n",
       "      <td>Ever had back pain?</td>\n",
       "    </tr>\n",
       "    <tr>\n",
       "      <th>Field Type</th>\n",
       "      <td>Numeric</td>\n",
       "      <td>Numeric</td>\n",
       "      <td>Numeric</td>\n",
       "      <td>Numeric</td>\n",
       "    </tr>\n",
       "    <tr>\n",
       "      <th>Field Width</th>\n",
       "      <td>8</td>\n",
       "      <td>8</td>\n",
       "      <td>8</td>\n",
       "      <td>8</td>\n",
       "    </tr>\n",
       "    <tr>\n",
       "      <th>Decimals</th>\n",
       "      <td>0</td>\n",
       "      <td>0</td>\n",
       "      <td>0</td>\n",
       "      <td>0</td>\n",
       "    </tr>\n",
       "    <tr>\n",
       "      <th>Variable Type</th>\n",
       "      <td>scale</td>\n",
       "      <td>scale</td>\n",
       "      <td>scale</td>\n",
       "      <td>scale</td>\n",
       "    </tr>\n",
       "    <tr>\n",
       "      <th>Field Values</th>\n",
       "      <td>{0.0: 'No', 1.0: 'Yes', 8.0: 'Not applicable',...</td>\n",
       "      <td>{0.0: 'No', 1.0: 'Yes', 8.0: 'Not applicable',...</td>\n",
       "      <td>{0.0: 'No', 1.0: 'Yes', 7.0: 'Involved in inco...</td>\n",
       "      <td>{0.0: 'No', 1.0: 'Yes', 9.0: 'Not stated'}</td>\n",
       "    </tr>\n",
       "  </tbody>\n",
       "</table>\n",
       "</div>"
      ],
      "text/plain": [
       "                                                    G214_PQ_PN17  \\\n",
       "Label                                         Ever had back pain   \n",
       "Field Type                                               Numeric   \n",
       "Field Width                                                    8   \n",
       "Decimals                                                       0   \n",
       "Variable Type                                              scale   \n",
       "Field Values   {0.0: 'No', 1.0: 'Yes', 8.0: 'Not applicable',...   \n",
       "\n",
       "                                                    G214_SQ_PN17  \\\n",
       "Label                                         Ever had back pain   \n",
       "Field Type                                               Numeric   \n",
       "Field Width                                                    8   \n",
       "Decimals                                                       0   \n",
       "Variable Type                                              scale   \n",
       "Field Values   {0.0: 'No', 1.0: 'Yes', 8.0: 'Not applicable',...   \n",
       "\n",
       "                                                    G217_PQ_PN17  \\\n",
       "Label                                         Ever had back pain   \n",
       "Field Type                                               Numeric   \n",
       "Field Width                                                    8   \n",
       "Decimals                                                       0   \n",
       "Variable Type                                              scale   \n",
       "Field Values   {0.0: 'No', 1.0: 'Yes', 7.0: 'Involved in inco...   \n",
       "\n",
       "                                             G217_SQ_PN17  \n",
       "Label                                 Ever had back pain?  \n",
       "Field Type                                        Numeric  \n",
       "Field Width                                             8  \n",
       "Decimals                                                0  \n",
       "Variable Type                                       scale  \n",
       "Field Values   {0.0: 'No', 1.0: 'Yes', 9.0: 'Not stated'}  "
      ]
     },
     "execution_count": null,
     "metadata": {},
     "output_type": "execute_result"
    }
   ],
   "source": [
    "m = filter_metadata(var, df, meta)\n",
    "pd.DataFrame(m).T"
   ]
  },
  {
   "cell_type": "markdown",
   "metadata": {},
   "source": [
    "## PN25"
   ]
  },
  {
   "cell_type": "code",
   "execution_count": null,
   "metadata": {},
   "outputs": [],
   "source": [
    "var = \"PN25\""
   ]
  },
  {
   "cell_type": "markdown",
   "metadata": {},
   "source": [
    "### Data"
   ]
  },
  {
   "cell_type": "markdown",
   "metadata": {},
   "source": [
    "Some of the existing options are the same across all datasets:\n",
    "- 0: No\n",
    "- 1: Yes\n",
    "- 9: Missing\n",
    "\n",
    "For G214_PQ and G214_SQ\n",
    "- 8: N/A\n",
    "\n",
    "For G217_PQ:\n",
    "- 7: Involved in incorrect skip - not answered\n",
    "\n",
    "Values of 7 should be considered missing, as discussed with Alex D'Vauz.\n",
    "\n",
    "Changes:\n",
    "- Convert 8 to -88\n",
    "- Convert 9 to -99\n",
    "- Convert 7 to -99"
   ]
  },
  {
   "cell_type": "code",
   "execution_count": null,
   "metadata": {},
   "outputs": [
    {
     "data": {
      "text/html": [
       "<pre style=\"white-space:pre;overflow-x:auto;line-height:normal;font-family:Menlo,'DejaVu Sans Mono',consolas,'Courier New',monospace\"></pre>\n"
      ],
      "text/plain": []
     },
     "metadata": {},
     "output_type": "display_data"
    },
    {
     "data": {
      "text/plain": [
       "\n",
       "\u001b[1m{\u001b[0m\n",
       "    \u001b[32m'G214_PQ_PN25'\u001b[0m: \u001b[1m(\u001b[0m\u001b[3;35mNone\u001b[0m, \u001b[1;36m0.0\u001b[0m, \u001b[1;36m1.0\u001b[0m, \u001b[1;36m8.0\u001b[0m, \u001b[1;36m9.0\u001b[0m\u001b[1m)\u001b[0m,\n",
       "    \u001b[32m'G214_SQ_PN25'\u001b[0m: \u001b[1m(\u001b[0m\u001b[3;35mNone\u001b[0m, \u001b[1;36m0.0\u001b[0m, \u001b[1;36m1.0\u001b[0m, \u001b[1;36m8.0\u001b[0m, \u001b[1;36m9.0\u001b[0m\u001b[1m)\u001b[0m,\n",
       "    \u001b[32m'G217_PQ_PN25'\u001b[0m: \u001b[1m(\u001b[0m\u001b[3;35mNone\u001b[0m, \u001b[1;36m0.0\u001b[0m, \u001b[1;36m1.0\u001b[0m, \u001b[1;36m7.0\u001b[0m, \u001b[1;36m9.0\u001b[0m\u001b[1m)\u001b[0m,\n",
       "    \u001b[32m'G217_SQ_PN25'\u001b[0m: \u001b[1m(\u001b[0m\u001b[3;35mNone\u001b[0m, \u001b[1;36m0.0\u001b[0m, \u001b[1;36m1.0\u001b[0m, \u001b[1;36m9.0\u001b[0m\u001b[1m)\u001b[0m\n",
       "\u001b[1m}\u001b[0m"
      ]
     },
     "execution_count": null,
     "metadata": {},
     "output_type": "execute_result"
    }
   ],
   "source": [
    "unique_values(df, var)"
   ]
  },
  {
   "cell_type": "markdown",
   "metadata": {},
   "source": [
    "#### Define properties to test, validate, and explore\n",
    "\n",
    "- When PN17 is 0 (No), PN25 should be -88 (N/A)\n",
    "- When PN17 is 1 (Yes), PN25 should be 0, 1, or -99\n",
    "- When PN17 is 9 (Missing), PN25 should be "
   ]
  },
  {
   "cell_type": "code",
   "execution_count": null,
   "metadata": {},
   "outputs": [],
   "source": [
    "test = df.clone().collect()"
   ]
  },
  {
   "cell_type": "code",
   "execution_count": null,
   "metadata": {},
   "outputs": [
    {
     "data": {
      "text/html": [
       "<pre style=\"white-space:pre;overflow-x:auto;line-height:normal;font-family:Menlo,'DejaVu Sans Mono',consolas,'Courier New',monospace\"></pre>\n"
      ],
      "text/plain": []
     },
     "metadata": {},
     "output_type": "display_data"
    },
    {
     "data": {
      "text/plain": [
       "\u001b[1m{\u001b[0m\u001b[32m'G214_PQ_PN25'\u001b[0m: \u001b[1m[\u001b[0m\u001b[1;36m9.0\u001b[0m\u001b[1m]\u001b[0m\u001b[1m}\u001b[0m"
      ]
     },
     "execution_count": null,
     "metadata": {},
     "output_type": "execute_result"
    }
   ],
   "source": [
    "(test\n",
    " .filter(\n",
    "     pl.col(\"G214_PQ_PN17\") == 9\n",
    " ).select(\"G214_PQ_PN25\")\n",
    " .unique()\n",
    " .to_dict(as_series=False)\n",
    ")"
   ]
  },
  {
   "cell_type": "code",
   "execution_count": null,
   "metadata": {},
   "outputs": [
    {
     "data": {
      "text/html": [
       "<pre style=\"white-space:pre;overflow-x:auto;line-height:normal;font-family:Menlo,'DejaVu Sans Mono',consolas,'Courier New',monospace\"></pre>\n"
      ],
      "text/plain": []
     },
     "metadata": {},
     "output_type": "display_data"
    },
    {
     "data": {
      "text/html": [
       "<div><style>\n",
       ".dataframe > thead > tr,\n",
       ".dataframe > tbody > tr {\n",
       "  text-align: right;\n",
       "  white-space: pre-wrap;\n",
       "}\n",
       "</style>\n",
       "<small>shape: (523, 25)</small><table border=\"1\" class=\"dataframe\"><thead><tr><th>ID</th><th>G214_PQ_PN17</th><th>G214_PQ_PN25</th><th>G214_PQ_PN34</th><th>G214_PQ_PN35</th><th>G214_PQ_PN36</th><th>G214_SQ_PN17</th><th>G214_SQ_PN25</th><th>G214_SQ_PN34</th><th>G214_SQ_PN35</th><th>G214_SQ_PN36</th><th>G217_PQ_PN17</th><th>G217_PQ_PN9</th><th>G217_PQ_PN38</th><th>G217_PQ_PN25</th><th>G217_PQ_PN34</th><th>G217_PQ_PN35</th><th>G217_PQ_PN36</th><th>G217_SQ_PN17</th><th>G217_SQ_PN9</th><th>G217_SQ_PN38</th><th>G217_SQ_PN25</th><th>G217_SQ_PN34</th><th>G217_SQ_PN35</th><th>G217_SQ_PN36</th></tr><tr><td>f64</td><td>f64</td><td>f64</td><td>f64</td><td>f64</td><td>f64</td><td>f64</td><td>f64</td><td>f64</td><td>f64</td><td>f64</td><td>f64</td><td>f64</td><td>f64</td><td>f64</td><td>f64</td><td>f64</td><td>f64</td><td>f64</td><td>f64</td><td>f64</td><td>f64</td><td>f64</td><td>f64</td><td>f64</td></tr></thead><tbody><tr><td>10010.0</td><td>0.0</td><td>8.0</td><td>8.0</td><td>8.0</td><td>8.0</td><td>1.0</td><td>0.0</td><td>0.0</td><td>8.0</td><td>0.0</td><td>1.0</td><td>1.0</td><td>0.0</td><td>0.0</td><td>0.0</td><td>0.0</td><td>0.0</td><td>null</td><td>null</td><td>null</td><td>null</td><td>null</td><td>null</td><td>null</td></tr><tr><td>10090.0</td><td>0.0</td><td>8.0</td><td>8.0</td><td>8.0</td><td>8.0</td><td>1.0</td><td>1.0</td><td>0.0</td><td>1.0</td><td>1.0</td><td>null</td><td>null</td><td>null</td><td>null</td><td>null</td><td>null</td><td>null</td><td>null</td><td>null</td><td>null</td><td>null</td><td>null</td><td>null</td><td>null</td></tr><tr><td>10150.0</td><td>0.0</td><td>8.0</td><td>8.0</td><td>8.0</td><td>8.0</td><td>0.0</td><td>8.0</td><td>8.0</td><td>8.0</td><td>8.0</td><td>1.0</td><td>0.0</td><td>1.0</td><td>0.0</td><td>0.0</td><td>0.0</td><td>0.0</td><td>1.0</td><td>1.0</td><td>1.0</td><td>0.0</td><td>0.0</td><td>0.0</td><td>0.0</td></tr><tr><td>10170.0</td><td>0.0</td><td>8.0</td><td>8.0</td><td>8.0</td><td>8.0</td><td>1.0</td><td>1.0</td><td>1.0</td><td>1.0</td><td>1.0</td><td>0.0</td><td>7.0</td><td>7.0</td><td>7.0</td><td>7.0</td><td>7.0</td><td>7.0</td><td>1.0</td><td>0.0</td><td>1.0</td><td>1.0</td><td>1.0</td><td>1.0</td><td>1.0</td></tr><tr><td>10200.0</td><td>0.0</td><td>8.0</td><td>8.0</td><td>8.0</td><td>8.0</td><td>0.0</td><td>8.0</td><td>8.0</td><td>8.0</td><td>8.0</td><td>null</td><td>null</td><td>null</td><td>null</td><td>null</td><td>null</td><td>null</td><td>null</td><td>null</td><td>null</td><td>null</td><td>null</td><td>null</td><td>null</td></tr><tr><td>&hellip;</td><td>&hellip;</td><td>&hellip;</td><td>&hellip;</td><td>&hellip;</td><td>&hellip;</td><td>&hellip;</td><td>&hellip;</td><td>&hellip;</td><td>&hellip;</td><td>&hellip;</td><td>&hellip;</td><td>&hellip;</td><td>&hellip;</td><td>&hellip;</td><td>&hellip;</td><td>&hellip;</td><td>&hellip;</td><td>&hellip;</td><td>&hellip;</td><td>&hellip;</td><td>&hellip;</td><td>&hellip;</td><td>&hellip;</td><td>&hellip;</td></tr><tr><td>54200.0</td><td>0.0</td><td>8.0</td><td>8.0</td><td>8.0</td><td>8.0</td><td>1.0</td><td>1.0</td><td>1.0</td><td>1.0</td><td>1.0</td><td>0.0</td><td>1.0</td><td>0.0</td><td>0.0</td><td>0.0</td><td>0.0</td><td>0.0</td><td>1.0</td><td>0.0</td><td>1.0</td><td>1.0</td><td>1.0</td><td>1.0</td><td>1.0</td></tr><tr><td>54210.0</td><td>0.0</td><td>8.0</td><td>8.0</td><td>8.0</td><td>8.0</td><td>null</td><td>null</td><td>null</td><td>null</td><td>null</td><td>0.0</td><td>0.0</td><td>0.0</td><td>0.0</td><td>0.0</td><td>0.0</td><td>0.0</td><td>null</td><td>null</td><td>null</td><td>null</td><td>null</td><td>null</td><td>null</td></tr><tr><td>54300.0</td><td>0.0</td><td>8.0</td><td>8.0</td><td>8.0</td><td>8.0</td><td>1.0</td><td>1.0</td><td>1.0</td><td>0.0</td><td>1.0</td><td>0.0</td><td>1.0</td><td>0.0</td><td>0.0</td><td>0.0</td><td>0.0</td><td>0.0</td><td>null</td><td>null</td><td>null</td><td>null</td><td>null</td><td>null</td><td>null</td></tr><tr><td>54460.0</td><td>0.0</td><td>8.0</td><td>8.0</td><td>8.0</td><td>8.0</td><td>1.0</td><td>1.0</td><td>1.0</td><td>1.0</td><td>1.0</td><td>null</td><td>null</td><td>null</td><td>null</td><td>null</td><td>null</td><td>null</td><td>null</td><td>null</td><td>null</td><td>null</td><td>null</td><td>null</td><td>null</td></tr><tr><td>54560.0</td><td>0.0</td><td>8.0</td><td>8.0</td><td>8.0</td><td>8.0</td><td>1.0</td><td>0.0</td><td>0.0</td><td>0.0</td><td>0.0</td><td>0.0</td><td>0.0</td><td>9.0</td><td>0.0</td><td>0.0</td><td>0.0</td><td>0.0</td><td>null</td><td>null</td><td>null</td><td>null</td><td>null</td><td>null</td><td>null</td></tr></tbody></table></div>"
      ],
      "text/plain": [
       "\n",
       "shape: \u001b[1m(\u001b[0m\u001b[1;36m523\u001b[0m, \u001b[1;36m25\u001b[0m\u001b[1m)\u001b[0m\n",
       "┌─────────┬────────────┬───────────┬───────────┬───┬───────────┬───────────┬───────────┬───────────┐\n",
       "│ ID      ┆ G214_PQ_PN ┆ G214_PQ_P ┆ G214_PQ_P ┆ … ┆ G217_SQ_P ┆ G217_SQ_P ┆ G217_SQ_P ┆ G217_SQ_P │\n",
       "│ ---     ┆ \u001b[1;36m17\u001b[0m         ┆ N25       ┆ N34       ┆   ┆ N25       ┆ N34       ┆ N35       ┆ N36       │\n",
       "│ f64     ┆ ---        ┆ ---       ┆ ---       ┆   ┆ ---       ┆ ---       ┆ ---       ┆ ---       │\n",
       "│         ┆ f64        ┆ f64       ┆ f64       ┆   ┆ f64       ┆ f64       ┆ f64       ┆ f64       │\n",
       "╞═════════╪════════════╪═══════════╪═══════════╪═══╪═══════════╪═══════════╪═══════════╪═══════════╡\n",
       "│ \u001b[1;36m10010.0\u001b[0m ┆ \u001b[1;36m0.0\u001b[0m        ┆ \u001b[1;36m8.0\u001b[0m       ┆ \u001b[1;36m8.0\u001b[0m       ┆ … ┆ null      ┆ null      ┆ null      ┆ null      │\n",
       "│ \u001b[1;36m10090.0\u001b[0m ┆ \u001b[1;36m0.0\u001b[0m        ┆ \u001b[1;36m8.0\u001b[0m       ┆ \u001b[1;36m8.0\u001b[0m       ┆ … ┆ null      ┆ null      ┆ null      ┆ null      │\n",
       "│ \u001b[1;36m10150.0\u001b[0m ┆ \u001b[1;36m0.0\u001b[0m        ┆ \u001b[1;36m8.0\u001b[0m       ┆ \u001b[1;36m8.0\u001b[0m       ┆ … ┆ \u001b[1;36m0.0\u001b[0m       ┆ \u001b[1;36m0.0\u001b[0m       ┆ \u001b[1;36m0.0\u001b[0m       ┆ \u001b[1;36m0.0\u001b[0m       │\n",
       "│ \u001b[1;36m10170.0\u001b[0m ┆ \u001b[1;36m0.0\u001b[0m        ┆ \u001b[1;36m8.0\u001b[0m       ┆ \u001b[1;36m8.0\u001b[0m       ┆ … ┆ \u001b[1;36m1.0\u001b[0m       ┆ \u001b[1;36m1.0\u001b[0m       ┆ \u001b[1;36m1.0\u001b[0m       ┆ \u001b[1;36m1.0\u001b[0m       │\n",
       "│ \u001b[1;36m10200.0\u001b[0m ┆ \u001b[1;36m0.0\u001b[0m        ┆ \u001b[1;36m8.0\u001b[0m       ┆ \u001b[1;36m8.0\u001b[0m       ┆ … ┆ null      ┆ null      ┆ null      ┆ null      │\n",
       "│ …       ┆ …          ┆ …         ┆ …         ┆ … ┆ …         ┆ …         ┆ …         ┆ …         │\n",
       "│ \u001b[1;36m54200.0\u001b[0m ┆ \u001b[1;36m0.0\u001b[0m        ┆ \u001b[1;36m8.0\u001b[0m       ┆ \u001b[1;36m8.0\u001b[0m       ┆ … ┆ \u001b[1;36m1.0\u001b[0m       ┆ \u001b[1;36m1.0\u001b[0m       ┆ \u001b[1;36m1.0\u001b[0m       ┆ \u001b[1;36m1.0\u001b[0m       │\n",
       "│ \u001b[1;36m54210.0\u001b[0m ┆ \u001b[1;36m0.0\u001b[0m        ┆ \u001b[1;36m8.0\u001b[0m       ┆ \u001b[1;36m8.0\u001b[0m       ┆ … ┆ null      ┆ null      ┆ null      ┆ null      │\n",
       "│ \u001b[1;36m54300.0\u001b[0m ┆ \u001b[1;36m0.0\u001b[0m        ┆ \u001b[1;36m8.0\u001b[0m       ┆ \u001b[1;36m8.0\u001b[0m       ┆ … ┆ null      ┆ null      ┆ null      ┆ null      │\n",
       "│ \u001b[1;36m54460.0\u001b[0m ┆ \u001b[1;36m0.0\u001b[0m        ┆ \u001b[1;36m8.0\u001b[0m       ┆ \u001b[1;36m8.0\u001b[0m       ┆ … ┆ null      ┆ null      ┆ null      ┆ null      │\n",
       "│ \u001b[1;36m54560.0\u001b[0m ┆ \u001b[1;36m0.0\u001b[0m        ┆ \u001b[1;36m8.0\u001b[0m       ┆ \u001b[1;36m8.0\u001b[0m       ┆ … ┆ null      ┆ null      ┆ null      ┆ null      │\n",
       "└─────────┴────────────┴───────────┴───────────┴───┴───────────┴───────────┴───────────┴───────────┘"
      ]
     },
     "execution_count": null,
     "metadata": {},
     "output_type": "execute_result"
    }
   ],
   "source": [
    "test.filter(test[\"G214_PQ_PN17\"] == 0)"
   ]
  },
  {
   "cell_type": "markdown",
   "metadata": {},
   "source": [
    "### Metadata"
   ]
  },
  {
   "cell_type": "markdown",
   "metadata": {},
   "source": [
    "Clear discrepancies in labels and field values.\n",
    "\n",
    "Changes:\n",
    "- Harmonised label to \"Sought professional advice/treatment\"\n",
    "- Updated field values to reflect changes in data"
   ]
  },
  {
   "cell_type": "code",
   "execution_count": null,
   "metadata": {},
   "outputs": [],
   "source": [
    "m = filter_metadata(var, df, meta)"
   ]
  },
  {
   "cell_type": "code",
   "execution_count": null,
   "metadata": {},
   "outputs": [
    {
     "data": {
      "text/html": [
       "<pre style=\"white-space:pre;overflow-x:auto;line-height:normal;font-family:Menlo,'DejaVu Sans Mono',consolas,'Courier New',monospace\"><span style=\"color: #800080; text-decoration-color: #800080; font-weight: bold\">defaultdict</span><span style=\"font-weight: bold\">(&lt;</span><span style=\"color: #ff00ff; text-decoration-color: #ff00ff; font-weight: bold\">class</span><span style=\"color: #000000; text-decoration-color: #000000\"> </span><span style=\"color: #008000; text-decoration-color: #008000\">'dict'</span><span style=\"font-weight: bold\">&gt;</span>, <span style=\"font-weight: bold\">{</span>\n",
       "    <span style=\"color: #008000; text-decoration-color: #008000\">'Label'</span>: <span style=\"font-weight: bold\">{</span>\n",
       "        <span style=\"color: #008000; text-decoration-color: #008000\">'G214_PQ_PN25'</span>: <span style=\"color: #008000; text-decoration-color: #008000\">'Seek pro advice for back pain'</span>,\n",
       "        <span style=\"color: #008000; text-decoration-color: #008000\">'G214_SQ_PN25'</span>: <span style=\"color: #008000; text-decoration-color: #008000\">'Seek pro advice for back pain'</span>,\n",
       "        <span style=\"color: #008000; text-decoration-color: #008000\">'G217_PQ_PN25'</span>: <span style=\"color: #008000; text-decoration-color: #008000\">'Ever sought health professional advice/treatment for back pain'</span>,\n",
       "        <span style=\"color: #008000; text-decoration-color: #008000\">'G217_SQ_PN25'</span>: <span style=\"color: #008000; text-decoration-color: #008000\">'Seek treatment for back pain?'</span>\n",
       "    <span style=\"font-weight: bold\">}</span>,\n",
       "    <span style=\"color: #008000; text-decoration-color: #008000\">'Field Type'</span>: <span style=\"font-weight: bold\">{</span>\n",
       "        <span style=\"color: #008000; text-decoration-color: #008000\">'G214_PQ_PN25'</span>: <span style=\"color: #008000; text-decoration-color: #008000\">'Numeric'</span>,\n",
       "        <span style=\"color: #008000; text-decoration-color: #008000\">'G214_SQ_PN25'</span>: <span style=\"color: #008000; text-decoration-color: #008000\">'Numeric'</span>,\n",
       "        <span style=\"color: #008000; text-decoration-color: #008000\">'G217_PQ_PN25'</span>: <span style=\"color: #008000; text-decoration-color: #008000\">'Numeric'</span>,\n",
       "        <span style=\"color: #008000; text-decoration-color: #008000\">'G217_SQ_PN25'</span>: <span style=\"color: #008000; text-decoration-color: #008000\">'Numeric'</span>\n",
       "    <span style=\"font-weight: bold\">}</span>,\n",
       "    <span style=\"color: #008000; text-decoration-color: #008000\">'Field Width'</span>: <span style=\"font-weight: bold\">{</span><span style=\"color: #008000; text-decoration-color: #008000\">'G214_PQ_PN25'</span>: <span style=\"color: #008080; text-decoration-color: #008080; font-weight: bold\">8</span>, <span style=\"color: #008000; text-decoration-color: #008000\">'G214_SQ_PN25'</span>: <span style=\"color: #008080; text-decoration-color: #008080; font-weight: bold\">8</span>, <span style=\"color: #008000; text-decoration-color: #008000\">'G217_PQ_PN25'</span>: <span style=\"color: #008080; text-decoration-color: #008080; font-weight: bold\">8</span>, <span style=\"color: #008000; text-decoration-color: #008000\">'G217_SQ_PN25'</span>: <span style=\"color: #008080; text-decoration-color: #008080; font-weight: bold\">8</span><span style=\"font-weight: bold\">}</span>,\n",
       "    <span style=\"color: #008000; text-decoration-color: #008000\">'Decimals'</span>: <span style=\"font-weight: bold\">{</span><span style=\"color: #008000; text-decoration-color: #008000\">'G214_PQ_PN25'</span>: <span style=\"color: #008000; text-decoration-color: #008000\">'0'</span>, <span style=\"color: #008000; text-decoration-color: #008000\">'G214_SQ_PN25'</span>: <span style=\"color: #008000; text-decoration-color: #008000\">'0'</span>, <span style=\"color: #008000; text-decoration-color: #008000\">'G217_PQ_PN25'</span>: <span style=\"color: #008000; text-decoration-color: #008000\">'0'</span>, <span style=\"color: #008000; text-decoration-color: #008000\">'G217_SQ_PN25'</span>: <span style=\"color: #008000; text-decoration-color: #008000\">'0'</span><span style=\"font-weight: bold\">}</span>,\n",
       "    <span style=\"color: #008000; text-decoration-color: #008000\">'Variable Type'</span>: <span style=\"font-weight: bold\">{</span>\n",
       "        <span style=\"color: #008000; text-decoration-color: #008000\">'G214_PQ_PN25'</span>: <span style=\"color: #008000; text-decoration-color: #008000\">'scale'</span>,\n",
       "        <span style=\"color: #008000; text-decoration-color: #008000\">'G214_SQ_PN25'</span>: <span style=\"color: #008000; text-decoration-color: #008000\">'scale'</span>,\n",
       "        <span style=\"color: #008000; text-decoration-color: #008000\">'G217_PQ_PN25'</span>: <span style=\"color: #008000; text-decoration-color: #008000\">'scale'</span>,\n",
       "        <span style=\"color: #008000; text-decoration-color: #008000\">'G217_SQ_PN25'</span>: <span style=\"color: #008000; text-decoration-color: #008000\">'scale'</span>\n",
       "    <span style=\"font-weight: bold\">}</span>,\n",
       "    <span style=\"color: #008000; text-decoration-color: #008000\">'Field Values'</span>: <span style=\"font-weight: bold\">{</span>\n",
       "        <span style=\"color: #008000; text-decoration-color: #008000\">'G214_PQ_PN25'</span>: <span style=\"font-weight: bold\">{</span><span style=\"color: #008080; text-decoration-color: #008080; font-weight: bold\">0.0</span>: <span style=\"color: #008000; text-decoration-color: #008000\">'No'</span>, <span style=\"color: #008080; text-decoration-color: #008080; font-weight: bold\">1.0</span>: <span style=\"color: #008000; text-decoration-color: #008000\">'Yes'</span>, <span style=\"color: #008080; text-decoration-color: #008080; font-weight: bold\">8.0</span>: <span style=\"color: #008000; text-decoration-color: #008000\">'Not applicable'</span>, <span style=\"color: #008080; text-decoration-color: #008080; font-weight: bold\">9.0</span>: <span style=\"color: #008000; text-decoration-color: #008000\">'Not stated'</span><span style=\"font-weight: bold\">}</span>,\n",
       "        <span style=\"color: #008000; text-decoration-color: #008000\">'G214_SQ_PN25'</span>: <span style=\"font-weight: bold\">{</span><span style=\"color: #008080; text-decoration-color: #008080; font-weight: bold\">0.0</span>: <span style=\"color: #008000; text-decoration-color: #008000\">'No'</span>, <span style=\"color: #008080; text-decoration-color: #008080; font-weight: bold\">1.0</span>: <span style=\"color: #008000; text-decoration-color: #008000\">'Yes'</span>, <span style=\"color: #008080; text-decoration-color: #008080; font-weight: bold\">8.0</span>: <span style=\"color: #008000; text-decoration-color: #008000\">'Not applicable'</span>, <span style=\"color: #008080; text-decoration-color: #008080; font-weight: bold\">9.0</span>: <span style=\"color: #008000; text-decoration-color: #008000\">'Not stated'</span><span style=\"font-weight: bold\">}</span>,\n",
       "        <span style=\"color: #008000; text-decoration-color: #008000\">'G217_PQ_PN25'</span>: <span style=\"font-weight: bold\">{</span>\n",
       "            <span style=\"color: #008080; text-decoration-color: #008080; font-weight: bold\">0.0</span>: <span style=\"color: #008000; text-decoration-color: #008000\">'No'</span>,\n",
       "            <span style=\"color: #008080; text-decoration-color: #008080; font-weight: bold\">1.0</span>: <span style=\"color: #008000; text-decoration-color: #008000\">'Yes'</span>,\n",
       "            <span style=\"color: #008080; text-decoration-color: #008080; font-weight: bold\">7.0</span>: <span style=\"color: #008000; text-decoration-color: #008000\">'Involved in incorrect skip - not answered'</span>,\n",
       "            <span style=\"color: #008080; text-decoration-color: #008080; font-weight: bold\">9.0</span>: <span style=\"color: #008000; text-decoration-color: #008000\">'Not stated'</span>\n",
       "        <span style=\"font-weight: bold\">}</span>,\n",
       "        <span style=\"color: #008000; text-decoration-color: #008000\">'G217_SQ_PN25'</span>: <span style=\"font-weight: bold\">{</span><span style=\"color: #008080; text-decoration-color: #008080; font-weight: bold\">0.0</span>: <span style=\"color: #008000; text-decoration-color: #008000\">'No'</span>, <span style=\"color: #008080; text-decoration-color: #008080; font-weight: bold\">1.0</span>: <span style=\"color: #008000; text-decoration-color: #008000\">'Yes'</span>, <span style=\"color: #008080; text-decoration-color: #008080; font-weight: bold\">9.0</span>: <span style=\"color: #008000; text-decoration-color: #008000\">'Not stated'</span><span style=\"font-weight: bold\">}</span>\n",
       "    <span style=\"font-weight: bold\">}</span>\n",
       "<span style=\"font-weight: bold\">})</span>\n",
       "</pre>\n"
      ],
      "text/plain": [
       "\u001b[1;35mdefaultdict\u001b[0m\u001b[1m(\u001b[0m\u001b[1m<\u001b[0m\u001b[1;95mclass\u001b[0m\u001b[39m \u001b[0m\u001b[32m'dict'\u001b[0m\u001b[1m>\u001b[0m, \u001b[1m{\u001b[0m\n",
       "    \u001b[32m'Label'\u001b[0m: \u001b[1m{\u001b[0m\n",
       "        \u001b[32m'G214_PQ_PN25'\u001b[0m: \u001b[32m'Seek pro advice for back pain'\u001b[0m,\n",
       "        \u001b[32m'G214_SQ_PN25'\u001b[0m: \u001b[32m'Seek pro advice for back pain'\u001b[0m,\n",
       "        \u001b[32m'G217_PQ_PN25'\u001b[0m: \u001b[32m'Ever sought health professional advice/treatment for back pain'\u001b[0m,\n",
       "        \u001b[32m'G217_SQ_PN25'\u001b[0m: \u001b[32m'Seek treatment for back pain?'\u001b[0m\n",
       "    \u001b[1m}\u001b[0m,\n",
       "    \u001b[32m'Field Type'\u001b[0m: \u001b[1m{\u001b[0m\n",
       "        \u001b[32m'G214_PQ_PN25'\u001b[0m: \u001b[32m'Numeric'\u001b[0m,\n",
       "        \u001b[32m'G214_SQ_PN25'\u001b[0m: \u001b[32m'Numeric'\u001b[0m,\n",
       "        \u001b[32m'G217_PQ_PN25'\u001b[0m: \u001b[32m'Numeric'\u001b[0m,\n",
       "        \u001b[32m'G217_SQ_PN25'\u001b[0m: \u001b[32m'Numeric'\u001b[0m\n",
       "    \u001b[1m}\u001b[0m,\n",
       "    \u001b[32m'Field Width'\u001b[0m: \u001b[1m{\u001b[0m\u001b[32m'G214_PQ_PN25'\u001b[0m: \u001b[1;36m8\u001b[0m, \u001b[32m'G214_SQ_PN25'\u001b[0m: \u001b[1;36m8\u001b[0m, \u001b[32m'G217_PQ_PN25'\u001b[0m: \u001b[1;36m8\u001b[0m, \u001b[32m'G217_SQ_PN25'\u001b[0m: \u001b[1;36m8\u001b[0m\u001b[1m}\u001b[0m,\n",
       "    \u001b[32m'Decimals'\u001b[0m: \u001b[1m{\u001b[0m\u001b[32m'G214_PQ_PN25'\u001b[0m: \u001b[32m'0'\u001b[0m, \u001b[32m'G214_SQ_PN25'\u001b[0m: \u001b[32m'0'\u001b[0m, \u001b[32m'G217_PQ_PN25'\u001b[0m: \u001b[32m'0'\u001b[0m, \u001b[32m'G217_SQ_PN25'\u001b[0m: \u001b[32m'0'\u001b[0m\u001b[1m}\u001b[0m,\n",
       "    \u001b[32m'Variable Type'\u001b[0m: \u001b[1m{\u001b[0m\n",
       "        \u001b[32m'G214_PQ_PN25'\u001b[0m: \u001b[32m'scale'\u001b[0m,\n",
       "        \u001b[32m'G214_SQ_PN25'\u001b[0m: \u001b[32m'scale'\u001b[0m,\n",
       "        \u001b[32m'G217_PQ_PN25'\u001b[0m: \u001b[32m'scale'\u001b[0m,\n",
       "        \u001b[32m'G217_SQ_PN25'\u001b[0m: \u001b[32m'scale'\u001b[0m\n",
       "    \u001b[1m}\u001b[0m,\n",
       "    \u001b[32m'Field Values'\u001b[0m: \u001b[1m{\u001b[0m\n",
       "        \u001b[32m'G214_PQ_PN25'\u001b[0m: \u001b[1m{\u001b[0m\u001b[1;36m0.0\u001b[0m: \u001b[32m'No'\u001b[0m, \u001b[1;36m1.0\u001b[0m: \u001b[32m'Yes'\u001b[0m, \u001b[1;36m8.0\u001b[0m: \u001b[32m'Not applicable'\u001b[0m, \u001b[1;36m9.0\u001b[0m: \u001b[32m'Not stated'\u001b[0m\u001b[1m}\u001b[0m,\n",
       "        \u001b[32m'G214_SQ_PN25'\u001b[0m: \u001b[1m{\u001b[0m\u001b[1;36m0.0\u001b[0m: \u001b[32m'No'\u001b[0m, \u001b[1;36m1.0\u001b[0m: \u001b[32m'Yes'\u001b[0m, \u001b[1;36m8.0\u001b[0m: \u001b[32m'Not applicable'\u001b[0m, \u001b[1;36m9.0\u001b[0m: \u001b[32m'Not stated'\u001b[0m\u001b[1m}\u001b[0m,\n",
       "        \u001b[32m'G217_PQ_PN25'\u001b[0m: \u001b[1m{\u001b[0m\n",
       "            \u001b[1;36m0.0\u001b[0m: \u001b[32m'No'\u001b[0m,\n",
       "            \u001b[1;36m1.0\u001b[0m: \u001b[32m'Yes'\u001b[0m,\n",
       "            \u001b[1;36m7.0\u001b[0m: \u001b[32m'Involved in incorrect skip - not answered'\u001b[0m,\n",
       "            \u001b[1;36m9.0\u001b[0m: \u001b[32m'Not stated'\u001b[0m\n",
       "        \u001b[1m}\u001b[0m,\n",
       "        \u001b[32m'G217_SQ_PN25'\u001b[0m: \u001b[1m{\u001b[0m\u001b[1;36m0.0\u001b[0m: \u001b[32m'No'\u001b[0m, \u001b[1;36m1.0\u001b[0m: \u001b[32m'Yes'\u001b[0m, \u001b[1;36m9.0\u001b[0m: \u001b[32m'Not stated'\u001b[0m\u001b[1m}\u001b[0m\n",
       "    \u001b[1m}\u001b[0m\n",
       "\u001b[1m}\u001b[0m\u001b[1m)\u001b[0m\n"
      ]
     },
     "metadata": {},
     "output_type": "display_data"
    }
   ],
   "source": [
    "rprint(m)"
   ]
  },
  {
   "cell_type": "code",
   "execution_count": null,
   "metadata": {},
   "outputs": [
    {
     "data": {
      "text/html": [
       "<pre style=\"white-space:pre;overflow-x:auto;line-height:normal;font-family:Menlo,'DejaVu Sans Mono',consolas,'Courier New',monospace\"><span style=\"font-weight: bold\">{</span>\n",
       "    <span style=\"color: #008000; text-decoration-color: #008000\">'G214_PQ_PN25'</span>: <span style=\"font-weight: bold\">{</span><span style=\"color: #008080; text-decoration-color: #008080; font-weight: bold\">0.0</span>: <span style=\"color: #008000; text-decoration-color: #008000\">'No'</span>, <span style=\"color: #008080; text-decoration-color: #008080; font-weight: bold\">1.0</span>: <span style=\"color: #008000; text-decoration-color: #008000\">'Yes'</span>, <span style=\"color: #008080; text-decoration-color: #008080; font-weight: bold\">8.0</span>: <span style=\"color: #008000; text-decoration-color: #008000\">'Not applicable'</span>, <span style=\"color: #008080; text-decoration-color: #008080; font-weight: bold\">9.0</span>: <span style=\"color: #008000; text-decoration-color: #008000\">'Not stated'</span><span style=\"font-weight: bold\">}</span>,\n",
       "    <span style=\"color: #008000; text-decoration-color: #008000\">'G214_SQ_PN25'</span>: <span style=\"font-weight: bold\">{</span><span style=\"color: #008080; text-decoration-color: #008080; font-weight: bold\">0.0</span>: <span style=\"color: #008000; text-decoration-color: #008000\">'No'</span>, <span style=\"color: #008080; text-decoration-color: #008080; font-weight: bold\">1.0</span>: <span style=\"color: #008000; text-decoration-color: #008000\">'Yes'</span>, <span style=\"color: #008080; text-decoration-color: #008080; font-weight: bold\">8.0</span>: <span style=\"color: #008000; text-decoration-color: #008000\">'Not applicable'</span>, <span style=\"color: #008080; text-decoration-color: #008080; font-weight: bold\">9.0</span>: <span style=\"color: #008000; text-decoration-color: #008000\">'Not stated'</span><span style=\"font-weight: bold\">}</span>,\n",
       "    <span style=\"color: #008000; text-decoration-color: #008000\">'G217_PQ_PN25'</span>: <span style=\"font-weight: bold\">{</span><span style=\"color: #008080; text-decoration-color: #008080; font-weight: bold\">0.0</span>: <span style=\"color: #008000; text-decoration-color: #008000\">'No'</span>, <span style=\"color: #008080; text-decoration-color: #008080; font-weight: bold\">1.0</span>: <span style=\"color: #008000; text-decoration-color: #008000\">'Yes'</span>, <span style=\"color: #008080; text-decoration-color: #008080; font-weight: bold\">7.0</span>: <span style=\"color: #008000; text-decoration-color: #008000\">'Involved in incorrect skip - not answered'</span>, <span style=\"color: #008080; text-decoration-color: #008080; font-weight: bold\">9.0</span>: <span style=\"color: #008000; text-decoration-color: #008000\">'Not stated'</span><span style=\"font-weight: bold\">}</span>,\n",
       "    <span style=\"color: #008000; text-decoration-color: #008000\">'G217_SQ_PN25'</span>: <span style=\"font-weight: bold\">{</span><span style=\"color: #008080; text-decoration-color: #008080; font-weight: bold\">0.0</span>: <span style=\"color: #008000; text-decoration-color: #008000\">'No'</span>, <span style=\"color: #008080; text-decoration-color: #008080; font-weight: bold\">1.0</span>: <span style=\"color: #008000; text-decoration-color: #008000\">'Yes'</span>, <span style=\"color: #008080; text-decoration-color: #008080; font-weight: bold\">9.0</span>: <span style=\"color: #008000; text-decoration-color: #008000\">'Not stated'</span><span style=\"font-weight: bold\">}</span>\n",
       "<span style=\"font-weight: bold\">}</span>\n",
       "</pre>\n"
      ],
      "text/plain": [
       "\u001b[1m{\u001b[0m\n",
       "    \u001b[32m'G214_PQ_PN25'\u001b[0m: \u001b[1m{\u001b[0m\u001b[1;36m0.0\u001b[0m: \u001b[32m'No'\u001b[0m, \u001b[1;36m1.0\u001b[0m: \u001b[32m'Yes'\u001b[0m, \u001b[1;36m8.0\u001b[0m: \u001b[32m'Not applicable'\u001b[0m, \u001b[1;36m9.0\u001b[0m: \u001b[32m'Not stated'\u001b[0m\u001b[1m}\u001b[0m,\n",
       "    \u001b[32m'G214_SQ_PN25'\u001b[0m: \u001b[1m{\u001b[0m\u001b[1;36m0.0\u001b[0m: \u001b[32m'No'\u001b[0m, \u001b[1;36m1.0\u001b[0m: \u001b[32m'Yes'\u001b[0m, \u001b[1;36m8.0\u001b[0m: \u001b[32m'Not applicable'\u001b[0m, \u001b[1;36m9.0\u001b[0m: \u001b[32m'Not stated'\u001b[0m\u001b[1m}\u001b[0m,\n",
       "    \u001b[32m'G217_PQ_PN25'\u001b[0m: \u001b[1m{\u001b[0m\u001b[1;36m0.0\u001b[0m: \u001b[32m'No'\u001b[0m, \u001b[1;36m1.0\u001b[0m: \u001b[32m'Yes'\u001b[0m, \u001b[1;36m7.0\u001b[0m: \u001b[32m'Involved in incorrect skip - not answered'\u001b[0m, \u001b[1;36m9.0\u001b[0m: \u001b[32m'Not stated'\u001b[0m\u001b[1m}\u001b[0m,\n",
       "    \u001b[32m'G217_SQ_PN25'\u001b[0m: \u001b[1m{\u001b[0m\u001b[1;36m0.0\u001b[0m: \u001b[32m'No'\u001b[0m, \u001b[1;36m1.0\u001b[0m: \u001b[32m'Yes'\u001b[0m, \u001b[1;36m9.0\u001b[0m: \u001b[32m'Not stated'\u001b[0m\u001b[1m}\u001b[0m\n",
       "\u001b[1m}\u001b[0m\n"
      ]
     },
     "metadata": {},
     "output_type": "display_data"
    }
   ],
   "source": [
    "rprint(m[\"Field Values\"])"
   ]
  },
  {
   "cell_type": "code",
   "execution_count": null,
   "metadata": {},
   "outputs": [],
   "source": [
    "PN25 = Metadata(\n",
    "    label= \"Sought professional advice/treatment\",\n",
    "    field_values = {-88: \"N/A\", -99: \"Missing\", 0: \"No\", 1: \"Yes\"},\n",
    "    field_type = \"Numeric\",\n",
    "    field_width = 3,\n",
    "    decimals =  0,\n",
    "    variable_type = \"Nominal\"\n",
    ")"
   ]
  },
  {
   "cell_type": "markdown",
   "metadata": {},
   "source": [
    "## PN34"
   ]
  },
  {
   "cell_type": "code",
   "execution_count": null,
   "metadata": {},
   "outputs": [],
   "source": [
    "var = \"PN34\""
   ]
  },
  {
   "cell_type": "markdown",
   "metadata": {},
   "source": [
    "### Data"
   ]
  },
  {
   "cell_type": "markdown",
   "metadata": {},
   "source": [
    "Some of the existing options are the same across all datasets:\n",
    "- 0: No\n",
    "- 1: Yes\n",
    "- 9: Missing\n",
    "\n",
    "For G214_PQ and G214_SQ\n",
    "- 8: N/A\n",
    "\n",
    "For G217_PQ:\n",
    "- 7: Involved in incorrect skip - not answered\n",
    "\n",
    "Values of 7 should be considered missing, as discussed with Alex D'Vauz.\n",
    "\n",
    "Changes:\n",
    "- Convert 8 to -88\n",
    "- Convert 9 to -99\n",
    "- Convert 7 to -99"
   ]
  },
  {
   "cell_type": "code",
   "execution_count": null,
   "metadata": {},
   "outputs": [
    {
     "data": {
      "text/plain": [
       "{'G214_PQ_PN25': (None, 0.0, 1.0, 8.0, 9.0),\n",
       " 'G214_SQ_PN25': (None, 0.0, 1.0, 8.0, 9.0),\n",
       " 'G217_PQ_PN25': (None, 0.0, 1.0, 7.0, 9.0),\n",
       " 'G217_SQ_PN25': (None, 0.0, 1.0, 9.0)}"
      ]
     },
     "metadata": {},
     "output_type": "display_data"
    }
   ],
   "source": [
    "unique_values(df, var)"
   ]
  },
  {
   "cell_type": "markdown",
   "metadata": {},
   "source": [
    "### Metadata"
   ]
  },
  {
   "cell_type": "markdown",
   "metadata": {},
   "source": [
    "Clear discrepancies in labels and field values.\n",
    "\n",
    "Changes:\n",
    "- Harmonised label to \"Sought professional advice/treatment\"\n",
    "- Updated field values to reflect changes in data"
   ]
  },
  {
   "cell_type": "code",
   "execution_count": null,
   "metadata": {},
   "outputs": [],
   "source": [
    "m = filter_metadata(var, df, meta)"
   ]
  },
  {
   "cell_type": "code",
   "execution_count": null,
   "metadata": {},
   "outputs": [
    {
     "data": {
      "text/html": [
       "<pre style=\"white-space:pre;overflow-x:auto;line-height:normal;font-family:Menlo,'DejaVu Sans Mono',consolas,'Courier New',monospace\"><span style=\"color: #800080; text-decoration-color: #800080; font-weight: bold\">defaultdict</span><span style=\"font-weight: bold\">(&lt;</span><span style=\"color: #ff00ff; text-decoration-color: #ff00ff; font-weight: bold\">class</span><span style=\"color: #000000; text-decoration-color: #000000\"> </span><span style=\"color: #008000; text-decoration-color: #008000\">'dict'</span><span style=\"font-weight: bold\">&gt;</span>, <span style=\"font-weight: bold\">{</span>\n",
       "    <span style=\"color: #008000; text-decoration-color: #008000\">'Label'</span>: <span style=\"font-weight: bold\">{</span>\n",
       "        <span style=\"color: #008000; text-decoration-color: #008000\">'G214_PQ_PN25'</span>: <span style=\"color: #008000; text-decoration-color: #008000\">'Seek pro advice for back pain'</span>,\n",
       "        <span style=\"color: #008000; text-decoration-color: #008000\">'G214_SQ_PN25'</span>: <span style=\"color: #008000; text-decoration-color: #008000\">'Seek pro advice for back pain'</span>,\n",
       "        <span style=\"color: #008000; text-decoration-color: #008000\">'G217_PQ_PN25'</span>: <span style=\"color: #008000; text-decoration-color: #008000\">'Ever sought health professional advice/treatment for back pain'</span>,\n",
       "        <span style=\"color: #008000; text-decoration-color: #008000\">'G217_SQ_PN25'</span>: <span style=\"color: #008000; text-decoration-color: #008000\">'Seek treatment for back pain?'</span>\n",
       "    <span style=\"font-weight: bold\">}</span>,\n",
       "    <span style=\"color: #008000; text-decoration-color: #008000\">'Field Type'</span>: <span style=\"font-weight: bold\">{</span>\n",
       "        <span style=\"color: #008000; text-decoration-color: #008000\">'G214_PQ_PN25'</span>: <span style=\"color: #008000; text-decoration-color: #008000\">'Numeric'</span>,\n",
       "        <span style=\"color: #008000; text-decoration-color: #008000\">'G214_SQ_PN25'</span>: <span style=\"color: #008000; text-decoration-color: #008000\">'Numeric'</span>,\n",
       "        <span style=\"color: #008000; text-decoration-color: #008000\">'G217_PQ_PN25'</span>: <span style=\"color: #008000; text-decoration-color: #008000\">'Numeric'</span>,\n",
       "        <span style=\"color: #008000; text-decoration-color: #008000\">'G217_SQ_PN25'</span>: <span style=\"color: #008000; text-decoration-color: #008000\">'Numeric'</span>\n",
       "    <span style=\"font-weight: bold\">}</span>,\n",
       "    <span style=\"color: #008000; text-decoration-color: #008000\">'Field Width'</span>: <span style=\"font-weight: bold\">{</span><span style=\"color: #008000; text-decoration-color: #008000\">'G214_PQ_PN25'</span>: <span style=\"color: #008080; text-decoration-color: #008080; font-weight: bold\">8</span>, <span style=\"color: #008000; text-decoration-color: #008000\">'G214_SQ_PN25'</span>: <span style=\"color: #008080; text-decoration-color: #008080; font-weight: bold\">8</span>, <span style=\"color: #008000; text-decoration-color: #008000\">'G217_PQ_PN25'</span>: <span style=\"color: #008080; text-decoration-color: #008080; font-weight: bold\">8</span>, <span style=\"color: #008000; text-decoration-color: #008000\">'G217_SQ_PN25'</span>: <span style=\"color: #008080; text-decoration-color: #008080; font-weight: bold\">8</span><span style=\"font-weight: bold\">}</span>,\n",
       "    <span style=\"color: #008000; text-decoration-color: #008000\">'Decimals'</span>: <span style=\"font-weight: bold\">{</span><span style=\"color: #008000; text-decoration-color: #008000\">'G214_PQ_PN25'</span>: <span style=\"color: #008000; text-decoration-color: #008000\">'0'</span>, <span style=\"color: #008000; text-decoration-color: #008000\">'G214_SQ_PN25'</span>: <span style=\"color: #008000; text-decoration-color: #008000\">'0'</span>, <span style=\"color: #008000; text-decoration-color: #008000\">'G217_PQ_PN25'</span>: <span style=\"color: #008000; text-decoration-color: #008000\">'0'</span>, <span style=\"color: #008000; text-decoration-color: #008000\">'G217_SQ_PN25'</span>: <span style=\"color: #008000; text-decoration-color: #008000\">'0'</span><span style=\"font-weight: bold\">}</span>,\n",
       "    <span style=\"color: #008000; text-decoration-color: #008000\">'Variable Type'</span>: <span style=\"font-weight: bold\">{</span>\n",
       "        <span style=\"color: #008000; text-decoration-color: #008000\">'G214_PQ_PN25'</span>: <span style=\"color: #008000; text-decoration-color: #008000\">'scale'</span>,\n",
       "        <span style=\"color: #008000; text-decoration-color: #008000\">'G214_SQ_PN25'</span>: <span style=\"color: #008000; text-decoration-color: #008000\">'scale'</span>,\n",
       "        <span style=\"color: #008000; text-decoration-color: #008000\">'G217_PQ_PN25'</span>: <span style=\"color: #008000; text-decoration-color: #008000\">'scale'</span>,\n",
       "        <span style=\"color: #008000; text-decoration-color: #008000\">'G217_SQ_PN25'</span>: <span style=\"color: #008000; text-decoration-color: #008000\">'scale'</span>\n",
       "    <span style=\"font-weight: bold\">}</span>,\n",
       "    <span style=\"color: #008000; text-decoration-color: #008000\">'Field Values'</span>: <span style=\"font-weight: bold\">{</span>\n",
       "        <span style=\"color: #008000; text-decoration-color: #008000\">'G214_PQ_PN25'</span>: <span style=\"font-weight: bold\">{</span><span style=\"color: #008080; text-decoration-color: #008080; font-weight: bold\">0.0</span>: <span style=\"color: #008000; text-decoration-color: #008000\">'No'</span>, <span style=\"color: #008080; text-decoration-color: #008080; font-weight: bold\">1.0</span>: <span style=\"color: #008000; text-decoration-color: #008000\">'Yes'</span>, <span style=\"color: #008080; text-decoration-color: #008080; font-weight: bold\">8.0</span>: <span style=\"color: #008000; text-decoration-color: #008000\">'Not applicable'</span>, <span style=\"color: #008080; text-decoration-color: #008080; font-weight: bold\">9.0</span>: <span style=\"color: #008000; text-decoration-color: #008000\">'Not stated'</span><span style=\"font-weight: bold\">}</span>,\n",
       "        <span style=\"color: #008000; text-decoration-color: #008000\">'G214_SQ_PN25'</span>: <span style=\"font-weight: bold\">{</span><span style=\"color: #008080; text-decoration-color: #008080; font-weight: bold\">0.0</span>: <span style=\"color: #008000; text-decoration-color: #008000\">'No'</span>, <span style=\"color: #008080; text-decoration-color: #008080; font-weight: bold\">1.0</span>: <span style=\"color: #008000; text-decoration-color: #008000\">'Yes'</span>, <span style=\"color: #008080; text-decoration-color: #008080; font-weight: bold\">8.0</span>: <span style=\"color: #008000; text-decoration-color: #008000\">'Not applicable'</span>, <span style=\"color: #008080; text-decoration-color: #008080; font-weight: bold\">9.0</span>: <span style=\"color: #008000; text-decoration-color: #008000\">'Not stated'</span><span style=\"font-weight: bold\">}</span>,\n",
       "        <span style=\"color: #008000; text-decoration-color: #008000\">'G217_PQ_PN25'</span>: <span style=\"font-weight: bold\">{</span>\n",
       "            <span style=\"color: #008080; text-decoration-color: #008080; font-weight: bold\">0.0</span>: <span style=\"color: #008000; text-decoration-color: #008000\">'No'</span>,\n",
       "            <span style=\"color: #008080; text-decoration-color: #008080; font-weight: bold\">1.0</span>: <span style=\"color: #008000; text-decoration-color: #008000\">'Yes'</span>,\n",
       "            <span style=\"color: #008080; text-decoration-color: #008080; font-weight: bold\">7.0</span>: <span style=\"color: #008000; text-decoration-color: #008000\">'Involved in incorrect skip - not answered'</span>,\n",
       "            <span style=\"color: #008080; text-decoration-color: #008080; font-weight: bold\">9.0</span>: <span style=\"color: #008000; text-decoration-color: #008000\">'Not stated'</span>\n",
       "        <span style=\"font-weight: bold\">}</span>,\n",
       "        <span style=\"color: #008000; text-decoration-color: #008000\">'G217_SQ_PN25'</span>: <span style=\"font-weight: bold\">{</span><span style=\"color: #008080; text-decoration-color: #008080; font-weight: bold\">0.0</span>: <span style=\"color: #008000; text-decoration-color: #008000\">'No'</span>, <span style=\"color: #008080; text-decoration-color: #008080; font-weight: bold\">1.0</span>: <span style=\"color: #008000; text-decoration-color: #008000\">'Yes'</span>, <span style=\"color: #008080; text-decoration-color: #008080; font-weight: bold\">9.0</span>: <span style=\"color: #008000; text-decoration-color: #008000\">'Not stated'</span><span style=\"font-weight: bold\">}</span>\n",
       "    <span style=\"font-weight: bold\">}</span>\n",
       "<span style=\"font-weight: bold\">})</span>\n",
       "</pre>\n"
      ],
      "text/plain": [
       "\u001b[1;35mdefaultdict\u001b[0m\u001b[1m(\u001b[0m\u001b[1m<\u001b[0m\u001b[1;95mclass\u001b[0m\u001b[39m \u001b[0m\u001b[32m'dict'\u001b[0m\u001b[1m>\u001b[0m, \u001b[1m{\u001b[0m\n",
       "    \u001b[32m'Label'\u001b[0m: \u001b[1m{\u001b[0m\n",
       "        \u001b[32m'G214_PQ_PN25'\u001b[0m: \u001b[32m'Seek pro advice for back pain'\u001b[0m,\n",
       "        \u001b[32m'G214_SQ_PN25'\u001b[0m: \u001b[32m'Seek pro advice for back pain'\u001b[0m,\n",
       "        \u001b[32m'G217_PQ_PN25'\u001b[0m: \u001b[32m'Ever sought health professional advice/treatment for back pain'\u001b[0m,\n",
       "        \u001b[32m'G217_SQ_PN25'\u001b[0m: \u001b[32m'Seek treatment for back pain?'\u001b[0m\n",
       "    \u001b[1m}\u001b[0m,\n",
       "    \u001b[32m'Field Type'\u001b[0m: \u001b[1m{\u001b[0m\n",
       "        \u001b[32m'G214_PQ_PN25'\u001b[0m: \u001b[32m'Numeric'\u001b[0m,\n",
       "        \u001b[32m'G214_SQ_PN25'\u001b[0m: \u001b[32m'Numeric'\u001b[0m,\n",
       "        \u001b[32m'G217_PQ_PN25'\u001b[0m: \u001b[32m'Numeric'\u001b[0m,\n",
       "        \u001b[32m'G217_SQ_PN25'\u001b[0m: \u001b[32m'Numeric'\u001b[0m\n",
       "    \u001b[1m}\u001b[0m,\n",
       "    \u001b[32m'Field Width'\u001b[0m: \u001b[1m{\u001b[0m\u001b[32m'G214_PQ_PN25'\u001b[0m: \u001b[1;36m8\u001b[0m, \u001b[32m'G214_SQ_PN25'\u001b[0m: \u001b[1;36m8\u001b[0m, \u001b[32m'G217_PQ_PN25'\u001b[0m: \u001b[1;36m8\u001b[0m, \u001b[32m'G217_SQ_PN25'\u001b[0m: \u001b[1;36m8\u001b[0m\u001b[1m}\u001b[0m,\n",
       "    \u001b[32m'Decimals'\u001b[0m: \u001b[1m{\u001b[0m\u001b[32m'G214_PQ_PN25'\u001b[0m: \u001b[32m'0'\u001b[0m, \u001b[32m'G214_SQ_PN25'\u001b[0m: \u001b[32m'0'\u001b[0m, \u001b[32m'G217_PQ_PN25'\u001b[0m: \u001b[32m'0'\u001b[0m, \u001b[32m'G217_SQ_PN25'\u001b[0m: \u001b[32m'0'\u001b[0m\u001b[1m}\u001b[0m,\n",
       "    \u001b[32m'Variable Type'\u001b[0m: \u001b[1m{\u001b[0m\n",
       "        \u001b[32m'G214_PQ_PN25'\u001b[0m: \u001b[32m'scale'\u001b[0m,\n",
       "        \u001b[32m'G214_SQ_PN25'\u001b[0m: \u001b[32m'scale'\u001b[0m,\n",
       "        \u001b[32m'G217_PQ_PN25'\u001b[0m: \u001b[32m'scale'\u001b[0m,\n",
       "        \u001b[32m'G217_SQ_PN25'\u001b[0m: \u001b[32m'scale'\u001b[0m\n",
       "    \u001b[1m}\u001b[0m,\n",
       "    \u001b[32m'Field Values'\u001b[0m: \u001b[1m{\u001b[0m\n",
       "        \u001b[32m'G214_PQ_PN25'\u001b[0m: \u001b[1m{\u001b[0m\u001b[1;36m0.0\u001b[0m: \u001b[32m'No'\u001b[0m, \u001b[1;36m1.0\u001b[0m: \u001b[32m'Yes'\u001b[0m, \u001b[1;36m8.0\u001b[0m: \u001b[32m'Not applicable'\u001b[0m, \u001b[1;36m9.0\u001b[0m: \u001b[32m'Not stated'\u001b[0m\u001b[1m}\u001b[0m,\n",
       "        \u001b[32m'G214_SQ_PN25'\u001b[0m: \u001b[1m{\u001b[0m\u001b[1;36m0.0\u001b[0m: \u001b[32m'No'\u001b[0m, \u001b[1;36m1.0\u001b[0m: \u001b[32m'Yes'\u001b[0m, \u001b[1;36m8.0\u001b[0m: \u001b[32m'Not applicable'\u001b[0m, \u001b[1;36m9.0\u001b[0m: \u001b[32m'Not stated'\u001b[0m\u001b[1m}\u001b[0m,\n",
       "        \u001b[32m'G217_PQ_PN25'\u001b[0m: \u001b[1m{\u001b[0m\n",
       "            \u001b[1;36m0.0\u001b[0m: \u001b[32m'No'\u001b[0m,\n",
       "            \u001b[1;36m1.0\u001b[0m: \u001b[32m'Yes'\u001b[0m,\n",
       "            \u001b[1;36m7.0\u001b[0m: \u001b[32m'Involved in incorrect skip - not answered'\u001b[0m,\n",
       "            \u001b[1;36m9.0\u001b[0m: \u001b[32m'Not stated'\u001b[0m\n",
       "        \u001b[1m}\u001b[0m,\n",
       "        \u001b[32m'G217_SQ_PN25'\u001b[0m: \u001b[1m{\u001b[0m\u001b[1;36m0.0\u001b[0m: \u001b[32m'No'\u001b[0m, \u001b[1;36m1.0\u001b[0m: \u001b[32m'Yes'\u001b[0m, \u001b[1;36m9.0\u001b[0m: \u001b[32m'Not stated'\u001b[0m\u001b[1m}\u001b[0m\n",
       "    \u001b[1m}\u001b[0m\n",
       "\u001b[1m}\u001b[0m\u001b[1m)\u001b[0m\n"
      ]
     },
     "metadata": {},
     "output_type": "display_data"
    }
   ],
   "source": [
    "rprint(m)"
   ]
  },
  {
   "cell_type": "code",
   "execution_count": null,
   "metadata": {},
   "outputs": [
    {
     "data": {
      "text/html": [
       "<pre style=\"white-space:pre;overflow-x:auto;line-height:normal;font-family:Menlo,'DejaVu Sans Mono',consolas,'Courier New',monospace\"><span style=\"font-weight: bold\">{</span>\n",
       "    <span style=\"color: #008000; text-decoration-color: #008000\">'G214_PQ_PN25'</span>: <span style=\"font-weight: bold\">{</span><span style=\"color: #008080; text-decoration-color: #008080; font-weight: bold\">0.0</span>: <span style=\"color: #008000; text-decoration-color: #008000\">'No'</span>, <span style=\"color: #008080; text-decoration-color: #008080; font-weight: bold\">1.0</span>: <span style=\"color: #008000; text-decoration-color: #008000\">'Yes'</span>, <span style=\"color: #008080; text-decoration-color: #008080; font-weight: bold\">8.0</span>: <span style=\"color: #008000; text-decoration-color: #008000\">'Not applicable'</span>, <span style=\"color: #008080; text-decoration-color: #008080; font-weight: bold\">9.0</span>: <span style=\"color: #008000; text-decoration-color: #008000\">'Not stated'</span><span style=\"font-weight: bold\">}</span>,\n",
       "    <span style=\"color: #008000; text-decoration-color: #008000\">'G214_SQ_PN25'</span>: <span style=\"font-weight: bold\">{</span><span style=\"color: #008080; text-decoration-color: #008080; font-weight: bold\">0.0</span>: <span style=\"color: #008000; text-decoration-color: #008000\">'No'</span>, <span style=\"color: #008080; text-decoration-color: #008080; font-weight: bold\">1.0</span>: <span style=\"color: #008000; text-decoration-color: #008000\">'Yes'</span>, <span style=\"color: #008080; text-decoration-color: #008080; font-weight: bold\">8.0</span>: <span style=\"color: #008000; text-decoration-color: #008000\">'Not applicable'</span>, <span style=\"color: #008080; text-decoration-color: #008080; font-weight: bold\">9.0</span>: <span style=\"color: #008000; text-decoration-color: #008000\">'Not stated'</span><span style=\"font-weight: bold\">}</span>,\n",
       "    <span style=\"color: #008000; text-decoration-color: #008000\">'G217_PQ_PN25'</span>: <span style=\"font-weight: bold\">{</span><span style=\"color: #008080; text-decoration-color: #008080; font-weight: bold\">0.0</span>: <span style=\"color: #008000; text-decoration-color: #008000\">'No'</span>, <span style=\"color: #008080; text-decoration-color: #008080; font-weight: bold\">1.0</span>: <span style=\"color: #008000; text-decoration-color: #008000\">'Yes'</span>, <span style=\"color: #008080; text-decoration-color: #008080; font-weight: bold\">7.0</span>: <span style=\"color: #008000; text-decoration-color: #008000\">'Involved in incorrect skip - not answered'</span>, <span style=\"color: #008080; text-decoration-color: #008080; font-weight: bold\">9.0</span>: <span style=\"color: #008000; text-decoration-color: #008000\">'Not stated'</span><span style=\"font-weight: bold\">}</span>,\n",
       "    <span style=\"color: #008000; text-decoration-color: #008000\">'G217_SQ_PN25'</span>: <span style=\"font-weight: bold\">{</span><span style=\"color: #008080; text-decoration-color: #008080; font-weight: bold\">0.0</span>: <span style=\"color: #008000; text-decoration-color: #008000\">'No'</span>, <span style=\"color: #008080; text-decoration-color: #008080; font-weight: bold\">1.0</span>: <span style=\"color: #008000; text-decoration-color: #008000\">'Yes'</span>, <span style=\"color: #008080; text-decoration-color: #008080; font-weight: bold\">9.0</span>: <span style=\"color: #008000; text-decoration-color: #008000\">'Not stated'</span><span style=\"font-weight: bold\">}</span>\n",
       "<span style=\"font-weight: bold\">}</span>\n",
       "</pre>\n"
      ],
      "text/plain": [
       "\u001b[1m{\u001b[0m\n",
       "    \u001b[32m'G214_PQ_PN25'\u001b[0m: \u001b[1m{\u001b[0m\u001b[1;36m0.0\u001b[0m: \u001b[32m'No'\u001b[0m, \u001b[1;36m1.0\u001b[0m: \u001b[32m'Yes'\u001b[0m, \u001b[1;36m8.0\u001b[0m: \u001b[32m'Not applicable'\u001b[0m, \u001b[1;36m9.0\u001b[0m: \u001b[32m'Not stated'\u001b[0m\u001b[1m}\u001b[0m,\n",
       "    \u001b[32m'G214_SQ_PN25'\u001b[0m: \u001b[1m{\u001b[0m\u001b[1;36m0.0\u001b[0m: \u001b[32m'No'\u001b[0m, \u001b[1;36m1.0\u001b[0m: \u001b[32m'Yes'\u001b[0m, \u001b[1;36m8.0\u001b[0m: \u001b[32m'Not applicable'\u001b[0m, \u001b[1;36m9.0\u001b[0m: \u001b[32m'Not stated'\u001b[0m\u001b[1m}\u001b[0m,\n",
       "    \u001b[32m'G217_PQ_PN25'\u001b[0m: \u001b[1m{\u001b[0m\u001b[1;36m0.0\u001b[0m: \u001b[32m'No'\u001b[0m, \u001b[1;36m1.0\u001b[0m: \u001b[32m'Yes'\u001b[0m, \u001b[1;36m7.0\u001b[0m: \u001b[32m'Involved in incorrect skip - not answered'\u001b[0m, \u001b[1;36m9.0\u001b[0m: \u001b[32m'Not stated'\u001b[0m\u001b[1m}\u001b[0m,\n",
       "    \u001b[32m'G217_SQ_PN25'\u001b[0m: \u001b[1m{\u001b[0m\u001b[1;36m0.0\u001b[0m: \u001b[32m'No'\u001b[0m, \u001b[1;36m1.0\u001b[0m: \u001b[32m'Yes'\u001b[0m, \u001b[1;36m9.0\u001b[0m: \u001b[32m'Not stated'\u001b[0m\u001b[1m}\u001b[0m\n",
       "\u001b[1m}\u001b[0m\n"
      ]
     },
     "metadata": {},
     "output_type": "display_data"
    }
   ],
   "source": [
    "rprint(m[\"Field Values\"])"
   ]
  },
  {
   "cell_type": "code",
   "execution_count": null,
   "metadata": {},
   "outputs": [],
   "source": [
    "PN25 = Metadata(\n",
    "    label= \"Sought professional advice/treatment\",\n",
    "    field_values = {-88: \"N/A\", -99: \"Missing\", 0: \"No\", 1: \"Yes\"},\n",
    "    field_type = \"Numeric\",\n",
    "    field_width = 3,\n",
    "    decimals =  0,\n",
    "    variable_type = \"Nominal\"\n",
    ")"
   ]
  },
  {
   "cell_type": "markdown",
   "metadata": {},
   "source": [
    "## Sandbox\n",
    "\n",
    "What values exist in subsequent variables when PN17 (and for G217, PN9 and PN38) is 0?"
   ]
  },
  {
   "cell_type": "code",
   "execution_count": null,
   "metadata": {},
   "outputs": [
    {
     "data": {
      "text/plain": [
       "array([0., 9.])"
      ]
     },
     "execution_count": null,
     "metadata": {},
     "output_type": "execute_result"
    }
   ],
   "source": [
    "np.unique(\n",
    "    df\n",
    "    .filter(\n",
    "        pl.col(\"G217_PQ_PN17\") == 0,\n",
    "        pl.col(\"G217_PQ_PN9\") == 0,\n",
    "        pl.col(\"G217_PQ_PN38\") == 0\n",
    "    )\n",
    "    .select('G217_PQ_PN25', 'G217_PQ_PN34', 'G217_PQ_PN35', 'G217_PQ_PN36', 'G217_PQ_PN38', 'G217_PQ_PN9')\n",
    "    .collect()\n",
    ")#.to_pandas().value_counts()"
   ]
  },
  {
   "cell_type": "code",
   "execution_count": null,
   "metadata": {},
   "outputs": [
    {
     "data": {
      "text/html": [
       "<div><style>\n",
       ".dataframe > thead > tr,\n",
       ".dataframe > tbody > tr {\n",
       "  text-align: right;\n",
       "  white-space: pre-wrap;\n",
       "}\n",
       "</style>\n",
       "<small>shape: (109, 7)</small><table border=\"1\" class=\"dataframe\"><thead><tr><th>G217_SQ_PN17</th><th>G217_SQ_PN9</th><th>G217_SQ_PN38</th><th>G217_SQ_PN25</th><th>G217_SQ_PN34</th><th>G217_SQ_PN35</th><th>G217_SQ_PN36</th></tr><tr><td>f64</td><td>f64</td><td>f64</td><td>f64</td><td>f64</td><td>f64</td><td>f64</td></tr></thead><tbody><tr><td>0.0</td><td>0.0</td><td>0.0</td><td>0.0</td><td>0.0</td><td>0.0</td><td>0.0</td></tr><tr><td>0.0</td><td>0.0</td><td>0.0</td><td>0.0</td><td>0.0</td><td>0.0</td><td>0.0</td></tr><tr><td>0.0</td><td>0.0</td><td>0.0</td><td>0.0</td><td>0.0</td><td>0.0</td><td>0.0</td></tr><tr><td>0.0</td><td>0.0</td><td>0.0</td><td>0.0</td><td>0.0</td><td>0.0</td><td>0.0</td></tr><tr><td>0.0</td><td>0.0</td><td>0.0</td><td>0.0</td><td>0.0</td><td>0.0</td><td>0.0</td></tr><tr><td>&hellip;</td><td>&hellip;</td><td>&hellip;</td><td>&hellip;</td><td>&hellip;</td><td>&hellip;</td><td>&hellip;</td></tr><tr><td>0.0</td><td>0.0</td><td>0.0</td><td>0.0</td><td>0.0</td><td>0.0</td><td>0.0</td></tr><tr><td>0.0</td><td>0.0</td><td>0.0</td><td>0.0</td><td>0.0</td><td>0.0</td><td>0.0</td></tr><tr><td>0.0</td><td>0.0</td><td>0.0</td><td>0.0</td><td>0.0</td><td>0.0</td><td>0.0</td></tr><tr><td>0.0</td><td>0.0</td><td>0.0</td><td>0.0</td><td>0.0</td><td>0.0</td><td>0.0</td></tr><tr><td>0.0</td><td>0.0</td><td>0.0</td><td>0.0</td><td>0.0</td><td>0.0</td><td>0.0</td></tr></tbody></table></div>"
      ],
      "text/plain": [
       "shape: (109, 7)\n",
       "┌──────────────┬─────────────┬─────────────┬─────────────┬─────────────┬─────────────┬─────────────┐\n",
       "│ G217_SQ_PN17 ┆ G217_SQ_PN9 ┆ G217_SQ_PN3 ┆ G217_SQ_PN2 ┆ G217_SQ_PN3 ┆ G217_SQ_PN3 ┆ G217_SQ_PN3 │\n",
       "│ ---          ┆ ---         ┆ 8           ┆ 5           ┆ 4           ┆ 5           ┆ 6           │\n",
       "│ f64          ┆ f64         ┆ ---         ┆ ---         ┆ ---         ┆ ---         ┆ ---         │\n",
       "│              ┆             ┆ f64         ┆ f64         ┆ f64         ┆ f64         ┆ f64         │\n",
       "╞══════════════╪═════════════╪═════════════╪═════════════╪═════════════╪═════════════╪═════════════╡\n",
       "│ 0.0          ┆ 0.0         ┆ 0.0         ┆ 0.0         ┆ 0.0         ┆ 0.0         ┆ 0.0         │\n",
       "│ 0.0          ┆ 0.0         ┆ 0.0         ┆ 0.0         ┆ 0.0         ┆ 0.0         ┆ 0.0         │\n",
       "│ 0.0          ┆ 0.0         ┆ 0.0         ┆ 0.0         ┆ 0.0         ┆ 0.0         ┆ 0.0         │\n",
       "│ 0.0          ┆ 0.0         ┆ 0.0         ┆ 0.0         ┆ 0.0         ┆ 0.0         ┆ 0.0         │\n",
       "│ 0.0          ┆ 0.0         ┆ 0.0         ┆ 0.0         ┆ 0.0         ┆ 0.0         ┆ 0.0         │\n",
       "│ …            ┆ …           ┆ …           ┆ …           ┆ …           ┆ …           ┆ …           │\n",
       "│ 0.0          ┆ 0.0         ┆ 0.0         ┆ 0.0         ┆ 0.0         ┆ 0.0         ┆ 0.0         │\n",
       "│ 0.0          ┆ 0.0         ┆ 0.0         ┆ 0.0         ┆ 0.0         ┆ 0.0         ┆ 0.0         │\n",
       "│ 0.0          ┆ 0.0         ┆ 0.0         ┆ 0.0         ┆ 0.0         ┆ 0.0         ┆ 0.0         │\n",
       "│ 0.0          ┆ 0.0         ┆ 0.0         ┆ 0.0         ┆ 0.0         ┆ 0.0         ┆ 0.0         │\n",
       "│ 0.0          ┆ 0.0         ┆ 0.0         ┆ 0.0         ┆ 0.0         ┆ 0.0         ┆ 0.0         │\n",
       "└──────────────┴─────────────┴─────────────┴─────────────┴─────────────┴─────────────┴─────────────┘"
      ]
     },
     "execution_count": null,
     "metadata": {},
     "output_type": "execute_result"
    }
   ],
   "source": [
    "(\n",
    "    df\n",
    "    .filter(\n",
    "        pl.col(\"G217_SQ_PN17\") == 0,\n",
    "        pl.col(\"G217_SQ_PN9\") == 0,\n",
    "        pl.col(\"G217_SQ_PN38\") == 0\n",
    "    )\n",
    "    .select(\"G217_SQ_PN17\", 'G217_SQ_PN9', 'G217_SQ_PN38', 'G217_SQ_PN25', 'G217_SQ_PN34', 'G217_SQ_PN35', 'G217_SQ_PN36')\n",
    "    # .unique()\n",
    ")"
   ]
  },
  {
   "cell_type": "code",
   "execution_count": null,
   "metadata": {},
   "outputs": [
    {
     "data": {
      "text/html": [
       "<div><style>\n",
       ".dataframe > thead > tr,\n",
       ".dataframe > tbody > tr {\n",
       "  text-align: right;\n",
       "  white-space: pre-wrap;\n",
       "}\n",
       "</style>\n",
       "<small>shape: (333, 7)</small><table border=\"1\" class=\"dataframe\"><thead><tr><th>G217_PQ_PN17</th><th>G217_PQ_PN9</th><th>G217_PQ_PN38</th><th>G217_PQ_PN25</th><th>G217_PQ_PN34</th><th>G217_PQ_PN35</th><th>G217_PQ_PN36</th></tr><tr><td>f64</td><td>f64</td><td>f64</td><td>f64</td><td>f64</td><td>f64</td><td>f64</td></tr></thead><tbody><tr><td>0.0</td><td>7.0</td><td>7.0</td><td>7.0</td><td>7.0</td><td>7.0</td><td>7.0</td></tr><tr><td>0.0</td><td>7.0</td><td>7.0</td><td>7.0</td><td>7.0</td><td>7.0</td><td>7.0</td></tr><tr><td>0.0</td><td>7.0</td><td>7.0</td><td>7.0</td><td>7.0</td><td>7.0</td><td>7.0</td></tr><tr><td>0.0</td><td>7.0</td><td>7.0</td><td>7.0</td><td>7.0</td><td>7.0</td><td>7.0</td></tr><tr><td>0.0</td><td>1.0</td><td>0.0</td><td>0.0</td><td>0.0</td><td>0.0</td><td>0.0</td></tr><tr><td>&hellip;</td><td>&hellip;</td><td>&hellip;</td><td>&hellip;</td><td>&hellip;</td><td>&hellip;</td><td>&hellip;</td></tr><tr><td>0.0</td><td>1.0</td><td>0.0</td><td>0.0</td><td>0.0</td><td>0.0</td><td>0.0</td></tr><tr><td>0.0</td><td>1.0</td><td>0.0</td><td>0.0</td><td>0.0</td><td>0.0</td><td>0.0</td></tr><tr><td>0.0</td><td>1.0</td><td>0.0</td><td>0.0</td><td>0.0</td><td>0.0</td><td>0.0</td></tr><tr><td>0.0</td><td>0.0</td><td>0.0</td><td>0.0</td><td>0.0</td><td>0.0</td><td>0.0</td></tr><tr><td>0.0</td><td>0.0</td><td>9.0</td><td>0.0</td><td>0.0</td><td>0.0</td><td>0.0</td></tr></tbody></table></div>"
      ],
      "text/plain": [
       "shape: (333, 7)\n",
       "┌──────────────┬─────────────┬─────────────┬─────────────┬─────────────┬─────────────┬─────────────┐\n",
       "│ G217_PQ_PN17 ┆ G217_PQ_PN9 ┆ G217_PQ_PN3 ┆ G217_PQ_PN2 ┆ G217_PQ_PN3 ┆ G217_PQ_PN3 ┆ G217_PQ_PN3 │\n",
       "│ ---          ┆ ---         ┆ 8           ┆ 5           ┆ 4           ┆ 5           ┆ 6           │\n",
       "│ f64          ┆ f64         ┆ ---         ┆ ---         ┆ ---         ┆ ---         ┆ ---         │\n",
       "│              ┆             ┆ f64         ┆ f64         ┆ f64         ┆ f64         ┆ f64         │\n",
       "╞══════════════╪═════════════╪═════════════╪═════════════╪═════════════╪═════════════╪═════════════╡\n",
       "│ 0.0          ┆ 7.0         ┆ 7.0         ┆ 7.0         ┆ 7.0         ┆ 7.0         ┆ 7.0         │\n",
       "│ 0.0          ┆ 7.0         ┆ 7.0         ┆ 7.0         ┆ 7.0         ┆ 7.0         ┆ 7.0         │\n",
       "│ 0.0          ┆ 7.0         ┆ 7.0         ┆ 7.0         ┆ 7.0         ┆ 7.0         ┆ 7.0         │\n",
       "│ 0.0          ┆ 7.0         ┆ 7.0         ┆ 7.0         ┆ 7.0         ┆ 7.0         ┆ 7.0         │\n",
       "│ 0.0          ┆ 1.0         ┆ 0.0         ┆ 0.0         ┆ 0.0         ┆ 0.0         ┆ 0.0         │\n",
       "│ …            ┆ …           ┆ …           ┆ …           ┆ …           ┆ …           ┆ …           │\n",
       "│ 0.0          ┆ 1.0         ┆ 0.0         ┆ 0.0         ┆ 0.0         ┆ 0.0         ┆ 0.0         │\n",
       "│ 0.0          ┆ 1.0         ┆ 0.0         ┆ 0.0         ┆ 0.0         ┆ 0.0         ┆ 0.0         │\n",
       "│ 0.0          ┆ 1.0         ┆ 0.0         ┆ 0.0         ┆ 0.0         ┆ 0.0         ┆ 0.0         │\n",
       "│ 0.0          ┆ 0.0         ┆ 0.0         ┆ 0.0         ┆ 0.0         ┆ 0.0         ┆ 0.0         │\n",
       "│ 0.0          ┆ 0.0         ┆ 9.0         ┆ 0.0         ┆ 0.0         ┆ 0.0         ┆ 0.0         │\n",
       "└──────────────┴─────────────┴─────────────┴─────────────┴─────────────┴─────────────┴─────────────┘"
      ]
     },
     "execution_count": null,
     "metadata": {},
     "output_type": "execute_result"
    }
   ],
   "source": [
    "(\n",
    "    df\n",
    "    .filter(\n",
    "        pl.col(\"G217_PQ_PN17\") == 0,\n",
    "    )\n",
    "    .select(\"G217_PQ_PN17\", 'G217_PQ_PN9', 'G217_PQ_PN38', 'G217_PQ_PN25', 'G217_PQ_PN34', 'G217_PQ_PN35', 'G217_PQ_PN36')\n",
    "    # .unique()\n",
    ")"
   ]
  }
 ],
 "metadata": {
  "kernelspec": {
   "display_name": "python3",
   "language": "python",
   "name": "python3"
  }
 },
 "nbformat": 4,
 "nbformat_minor": 2
}
