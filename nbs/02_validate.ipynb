{
 "cells": [
  {
   "cell_type": "markdown",
   "metadata": {},
   "source": [
    "## TODO\n",
    "\n",
    "- Add validation for metadata -> should be a separate heading (validate alignment across ALL datasets: should be identical)\n",
    "- Update Dataset class so it doesn't have to take prefix or usecols"
   ]
  },
  {
   "cell_type": "code",
   "execution_count": null,
   "metadata": {},
   "outputs": [],
   "source": [
    "%load_ext rich\n",
    "%load_ext autoreload\n",
    "%autoreload 2"
   ]
  },
  {
   "cell_type": "code",
   "execution_count": null,
   "metadata": {},
   "outputs": [],
   "source": [
    "from pathlib import Path\n",
    "import numpy as np\n",
    "import polars as pl\n",
    "import pandera.polars as pa\n",
    "from pandera.typing import DataFrame, Series\n",
    "from typing import Any\n",
    "import pyreadstat\n",
    "\n",
    "from pain.read import *\n",
    "from fastcore.test import *"
   ]
  },
  {
   "cell_type": "code",
   "execution_count": null,
   "metadata": {},
   "outputs": [],
   "source": [
    "from config import METADATA, M\n",
    "data_dir = Path(\"../data/raw\")"
   ]
  },
  {
   "cell_type": "markdown",
   "metadata": {},
   "source": [
    "## Data Schema"
   ]
  },
  {
   "cell_type": "markdown",
   "metadata": {},
   "source": [
    "Define expected data structure for each variable"
   ]
  },
  {
   "cell_type": "code",
   "execution_count": null,
   "metadata": {},
   "outputs": [],
   "source": [
    "PN17 = pa.Field(isin=(-99, 0, 1), coerce=True)\n",
    "PN25 = pa.Field(isin=(-88, -99, 0, 1), coerce=True)\n",
    "PN34 = pa.Field(isin=(-88, -99, 0, 1), coerce=True)\n",
    "PN35 = pa.Field(isin=(-88, -99, 0, 1), coerce=True)\n",
    "PN36 = pa.Field(isin=(-88, -99, 0, 1), coerce=True)\n",
    "\n",
    "# Only applicable for G217_PQ and G217_SQ\n",
    "PN9 = pa.Field(isin=(-88, -99, 0, 1), coerce=True)\n",
    "PN38 = pa.Field(isin=(-88, -99, 0, 1), coerce=True)"
   ]
  },
  {
   "cell_type": "markdown",
   "metadata": {},
   "source": [
    "## G214_PQ"
   ]
  },
  {
   "cell_type": "code",
   "execution_count": null,
   "metadata": {},
   "outputs": [],
   "source": [
    "G214_PQ = Dataset(\"G214_PQ.sav\", data_dir)\n",
    "df, meta = G214_PQ.load_data()"
   ]
  },
  {
   "cell_type": "code",
   "execution_count": null,
   "metadata": {},
   "outputs": [],
   "source": [
    "df = (\n",
    "    df\n",
    "    .select(\n",
    "        pl.col(\"G214_PQ_PN17\").replace({9: -99}),\n",
    "        pl.col(\"G214_PQ_PN25\").replace({8: -88, 9: -99}),\n",
    "        pl.col(\"G214_PQ_PN34\").replace({8: -88, 9: -99}),\n",
    "        pl.col(\"G214_PQ_PN35\").replace({8: -88, 9: -99}),\n",
    "        pl.col(\"G214_PQ_PN36\").replace({8: -88, 9: -99})\n",
    "    )\n",
    ").collect()"
   ]
  },
  {
   "cell_type": "code",
   "execution_count": null,
   "metadata": {},
   "outputs": [],
   "source": [
    "class G214PQSchema(pa.DataFrameModel):\n",
    "    G214_PQ_PN17: Series[int] = PN17\n",
    "    G214_PQ_PN25: Series[int] = PN25\n",
    "    G214_PQ_PN34: Series[int] = PN34\n",
    "    G214_PQ_PN35: Series[int] = PN35\n",
    "    G214_PQ_PN36: Series[int] = PN36\n",
    "\n",
    "    @pa.dataframe_check\n",
    "    def check_for_na(cls, data: pa.PolarsData) -> pl.LazyFrame:\n",
    "        \"\"\"Verify when PN17 is 0, all subsequent values are -88 (ie. if no back pain, other variables should be N/A).\"\"\"\n",
    "        s = pl.col(\"G214_PQ_PN25\", \"G214_PQ_PN34\", \"G214_PQ_PN35\", \"G214_PQ_PN36\")\n",
    "        return data.lazyframe.filter(pl.col(\"G214_PQ_PN17\") == 0).select(s == -88)\n",
    "    \n",
    "    @pa.dataframe_check\n",
    "    def check_for_na2(cls, data: pa.PolarsData) -> pl.LazyFrame:\n",
    "        \"\"\"\n",
    "        Verify the reverse of the above, where if any subsequent variables has a value of -88, PN17 should be 0.\n",
    "        Except PN35, where there are valid values of -88 when PN17 is 0\n",
    "        \"\"\"\n",
    "        f = ((pl.col(\"G214_PQ_PN25\") == -88) |\n",
    "             (pl.col(\"G214_PQ_PN34\") == -88) |\n",
    "             (pl.col(\"G214_PQ_PN36\") == -88))\n",
    "        return data.lazyframe.filter(f).select(pl.col(\"G214_PQ_PN17\") == 0)\n",
    "\n",
    "try:\n",
    "    G214PQSchema.validate(df, lazy=True)\n",
    "except pa.errors.SchemaErrors as err:\n",
    "    print(err)"
   ]
  },
  {
   "cell_type": "markdown",
   "metadata": {},
   "source": [
    "One sensible approach would be to take a collection of Metadata and transform it so rather than having each variable defined independently, in isolation, that data is converted to be in the same format as the current metadata structure of the dataset (ie. Parameters as parents, variables as children)"
   ]
  },
  {
   "cell_type": "code",
   "execution_count": null,
   "metadata": {},
   "outputs": [],
   "source": [
    "new_meta = convert_metadata_list_to_dict(M, p=\"G214_PQ_\")\n",
    "m = merge_dictionaries([new_meta, meta])"
   ]
  },
  {
   "cell_type": "markdown",
   "metadata": {},
   "source": [
    "TODO:\n",
    "- Verify that for each parameter, the final metadata matches the defined metadata from `config.py`\n",
    "- Verify all other metadata remains identical\n",
    "\n",
    "Use Pydantic model for validation?"
   ]
  },
  {
   "cell_type": "markdown",
   "metadata": {},
   "source": [
    "## G214_SQ"
   ]
  },
  {
   "cell_type": "code",
   "execution_count": null,
   "metadata": {},
   "outputs": [],
   "source": [
    "G214_SQ = Dataset(\"G214_SQ.sav\", data_dir)\n",
    "df, _ = G214_SQ.load_data()"
   ]
  },
  {
   "cell_type": "code",
   "execution_count": null,
   "metadata": {},
   "outputs": [],
   "source": [
    "df = (\n",
    "    df\n",
    "    .select(\n",
    "        pl.col(\"G214_SQ_PN17\").replace({9: -99}),\n",
    "        pl.col(\"G214_SQ_PN25\").replace({8: -88, 9: -99}),\n",
    "        pl.col(\"G214_SQ_PN34\").replace({8: -88, 9: -99}),\n",
    "        pl.col(\"G214_SQ_PN35\").replace({8: -88, 9: -99}),\n",
    "        pl.col(\"G214_SQ_PN36\").replace({8: -88, 9: -99}),\n",
    "    )\n",
    ")"
   ]
  },
  {
   "cell_type": "code",
   "execution_count": null,
   "metadata": {},
   "outputs": [],
   "source": [
    "class G214SQSchema(pa.DataFrameModel):\n",
    "    G214_SQ_PN17: Series[int] = PN17\n",
    "    G214_SQ_PN25: Series[int] = PN25\n",
    "    G214_SQ_PN34: Series[int] = PN34\n",
    "    G214_SQ_PN35: Series[int] = PN35\n",
    "    G214_SQ_PN36: Series[int] = PN36\n",
    "\n",
    "    @pa.dataframe_check\n",
    "    def check_for_na(cls, data: pa.PolarsData) -> pl.LazyFrame:\n",
    "        \"\"\"Verify when PN17 is 0, all subsequent values are -88 (ie. if no back pain, other variables should be N/A).\"\"\"\n",
    "        s = pl.col(\"G214_SQ_PN25\", \"G214_SQ_PN34\", \"G214_SQ_PN35\", \"G214_SQ_PN36\")\n",
    "        return data.lazyframe.filter(pl.col(\"G214_SQ_PN17\") == 0).select(s == -88)\n",
    "    \n",
    "    @pa.dataframe_check\n",
    "    def check_for_na2(cls, data: pa.PolarsData) -> pl.LazyFrame:\n",
    "        \"\"\"\n",
    "        Verify the reverse of the above, where if any subsequent variables has a value of -88, PN17 should be 0.\n",
    "        Except PN35, where there are valid values of -88 when PN17 is 0\n",
    "        \"\"\"\n",
    "        f = ((pl.col(\"G214_SQ_PN25\") == -88) |\n",
    "             (pl.col(\"G214_SQ_PN34\") == -88) |\n",
    "             (pl.col(\"G214_SQ_PN36\") == -88))\n",
    "        return data.lazyframe.filter(f).select(pl.col(\"G214_SQ_PN17\") == 0)\n",
    "\n",
    "try:\n",
    "    df = G214SQSchema.validate(df, lazy=True)\n",
    "except pa.errors.SchemaErrors as err:\n",
    "    print(err)"
   ]
  },
  {
   "cell_type": "markdown",
   "metadata": {},
   "source": [
    "## G217_PQ"
   ]
  },
  {
   "cell_type": "code",
   "execution_count": null,
   "metadata": {},
   "outputs": [],
   "source": [
    "G217_PQ = Dataset(\"G217_PQ.sav\", data_dir)\n",
    "df, _ = G217_PQ.load_data()"
   ]
  },
  {
   "cell_type": "code",
   "execution_count": null,
   "metadata": {},
   "outputs": [],
   "source": [
    "df = (\n",
    "    df\n",
    "    .select(\n",
    "        pl.col(\"G217_PQ_PN17\").replace({9: -99}),\n",
    "        pl.col(\"G217_PQ_PN9\").replace({7: -99, 9: -99}),\n",
    "        pl.col(\"G217_PQ_PN38\").replace({7: -99, 9: -99}),\n",
    "        pl.col(\"G217_PQ_PN25\").replace({7: -99, 9: -99}),\n",
    "        pl.col(\"G217_PQ_PN34\").replace({7: -99, 9: -99}),\n",
    "        pl.col(\"G217_PQ_PN35\").replace({7: -99, 9: -99}),\n",
    "        pl.col(\"G217_PQ_PN36\").replace({7: -99, 9: -99})\n",
    "    )\n",
    ")"
   ]
  },
  {
   "cell_type": "code",
   "execution_count": null,
   "metadata": {},
   "outputs": [],
   "source": [
    "class G217PQSchema(pa.DataFrameModel):\n",
    "    G217_PQ_PN17: Series[int] = PN17\n",
    "    G217_PQ_PN9: Series[int] = PN9\n",
    "    G217_PQ_PN38: Series[int] = PN38\n",
    "    G217_PQ_PN25: Series[int] = PN25\n",
    "    G217_PQ_PN34: Series[int] = PN34\n",
    "    G217_PQ_PN35: Series[int] = PN35\n",
    "    G217_PQ_PN36: Series[int] = PN36\n",
    "\n",
    "try:\n",
    "    df = G217PQSchema.validate(df, lazy=True)\n",
    "except pa.errors.SchemaErrors as err:\n",
    "    print(err)"
   ]
  },
  {
   "cell_type": "markdown",
   "metadata": {},
   "source": [
    "## G217_SQ"
   ]
  },
  {
   "cell_type": "code",
   "execution_count": null,
   "metadata": {},
   "outputs": [],
   "source": [
    "G217_SQ = Dataset(\"G217_SQ.sav\", data_dir)\n",
    "df, _ = G217_SQ.load_data()"
   ]
  },
  {
   "cell_type": "code",
   "execution_count": null,
   "metadata": {},
   "outputs": [],
   "source": [
    "df = (\n",
    "    df\n",
    "    .select(\n",
    "        pl.col(\"G217_SQ_PN17\").replace({9: -99}),\n",
    "        pl.col(\"G217_SQ_PN9\").replace({9: -99}),\n",
    "        pl.col(\"G217_SQ_PN38\").replace({9: -99}),\n",
    "        pl.col(\"G217_SQ_PN25\").replace({9: -99}),\n",
    "        pl.col(\"G217_SQ_PN34\").replace({9: -99}),\n",
    "        pl.col(\"G217_SQ_PN35\").replace({9: -99}),\n",
    "        pl.col(\"G217_SQ_PN36\").replace({9: -99})\n",
    "    )\n",
    ")"
   ]
  },
  {
   "cell_type": "code",
   "execution_count": null,
   "metadata": {},
   "outputs": [],
   "source": [
    "class G217SQDataSchema(pa.DataFrameModel):\n",
    "    G217_SQ_PN17: Series[int] = PN17\n",
    "    G217_SQ_PN9: Series[int] = PN9\n",
    "    G217_SQ_PN38: Series[int] = PN38\n",
    "    G217_SQ_PN25: Series[int] = PN25\n",
    "    G217_SQ_PN34: Series[int] = PN34\n",
    "    G217_SQ_PN35: Series[int] = PN35\n",
    "    G217_SQ_PN36: Series[int] = PN36\n",
    "\n",
    "try:\n",
    "    df = G217SQDataSchema.validate(df, lazy=True)\n",
    "except pa.errors.SchemaErrors as err:\n",
    "    print(err)"
   ]
  }
 ],
 "metadata": {
  "kernelspec": {
   "display_name": "python3",
   "language": "python",
   "name": "python3"
  }
 },
 "nbformat": 4,
 "nbformat_minor": 2
}
