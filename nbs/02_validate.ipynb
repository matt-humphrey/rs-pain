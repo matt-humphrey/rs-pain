{
 "cells": [
  {
   "cell_type": "markdown",
   "metadata": {},
   "source": [
    "## TODO\n",
    "\n",
    "- Add validation for metadata -> should be a separate heading (validate alignment across ALL datasets: should be identical)\n",
    "- Update Dataset class so it doesn't have to take prefix or usecols"
   ]
  },
  {
   "cell_type": "code",
   "execution_count": null,
   "metadata": {},
   "outputs": [],
   "source": [
    "%load_ext autoreload\n",
    "%autoreload 2"
   ]
  },
  {
   "cell_type": "code",
   "execution_count": null,
   "metadata": {},
   "outputs": [],
   "source": [
    "from pain.read import *\n",
    "from pathlib import Path\n",
    "import numpy as np\n",
    "\n",
    "import polars as pl\n",
    "import pandera.polars as pa"
   ]
  },
  {
   "cell_type": "code",
   "execution_count": null,
   "metadata": {},
   "outputs": [],
   "source": [
    "# from config import METADATA\n",
    "data_dir = Path(\"../data/raw\")"
   ]
  },
  {
   "cell_type": "markdown",
   "metadata": {},
   "source": [
    "## Metadata Validation"
   ]
  },
  {
   "cell_type": "code",
   "execution_count": null,
   "metadata": {},
   "outputs": [],
   "source": [
    "# Read and combine relevant datasets"
   ]
  },
  {
   "cell_type": "code",
   "execution_count": null,
   "metadata": {},
   "outputs": [],
   "source": [
    "# "
   ]
  },
  {
   "cell_type": "code",
   "execution_count": null,
   "metadata": {},
   "outputs": [],
   "source": [
    "# Schema to validate metadata"
   ]
  },
  {
   "cell_type": "markdown",
   "metadata": {},
   "source": [
    "## G214_PQ"
   ]
  },
  {
   "cell_type": "code",
   "execution_count": null,
   "metadata": {},
   "outputs": [],
   "source": [
    "G214_PQ = Dataset(\"G214_PQ.sav\", data_dir)\n",
    "df, _ = G214_PQ.load_data()"
   ]
  },
  {
   "cell_type": "code",
   "execution_count": null,
   "metadata": {},
   "outputs": [],
   "source": [
    "df = df.select(pl.col(\"G214_PQ_PN17\").replace(9, -99))"
   ]
  },
  {
   "cell_type": "code",
   "execution_count": null,
   "metadata": {},
   "outputs": [],
   "source": [
    "class G214PQDataSchema(pa.DataFrameModel):\n",
    "    G214_PQ_PN17: int = pa.Field(isin=(-99, 0, 1), coerce=True)\n",
    "    # G214_PQ_PN25: int = pa.Field(isin=(8, 9, 0, 1), coerce=True)\n",
    "    # G214_PQ_PN34: int = pa.Field(coerce=True)\n",
    "    # G214_PQ_PN35: int = pa.Field(coerce=True)\n",
    "    # G214_PQ_PN36: int = pa.Field(coerce=True)\n",
    "\n",
    "try:\n",
    "    df = G214PQDataSchema.validate(df, lazy=True)\n",
    "except Exception as e:\n",
    "    print(e)"
   ]
  },
  {
   "cell_type": "markdown",
   "metadata": {},
   "source": [
    "## G214_SQ"
   ]
  },
  {
   "cell_type": "code",
   "execution_count": null,
   "metadata": {},
   "outputs": [
    {
     "name": "stdout",
     "output_type": "stream",
     "text": [
      "G214_SQ_PN17\n",
      "\n",
      "This error occurred with the following context stack:\n",
      "\t[1] 'with_columns' failed\n",
      "\t[2] 'slice' input failed to resolve\n",
      "\n"
     ]
    }
   ],
   "source": [
    "class G214SQDataSchema(pa.DataFrameModel):\n",
    "    G214_SQ_PN17: Int16 = pa.Field(isin=(9, 0, 1), coerce=True)\n",
    "    # G214_SQ_PN25: Int16 = pa.Field(isin=(8, 9, 0, 1), coerce=True)\n",
    "    # G214_SQ_PN34: Int16 = pa.Field(coerce=True)\n",
    "    # G214_SQ_PN35: Int16 = pa.Field(coerce=True)\n",
    "    # G214_SQ_PN36: Int16 = pa.Field(coerce=True)\n",
    "\n",
    "try:\n",
    "    df = G214SQDataSchema.validate(df, lazy=True)\n",
    "except Exception as e:\n",
    "    print(e)"
   ]
  },
  {
   "cell_type": "code",
   "execution_count": null,
   "metadata": {},
   "outputs": [],
   "source": [
    "class G217PQDataSchema(pa.DataFrameModel):\n",
    "    G217_PQ_PN17: Int16 = pa.Field(isin=(9, 0, 1), coerce=True)\n",
    "    # G217_PQ_PN9: Int16 = pa.Field(coerce=True)\n",
    "    # G217_PQ_PN38: Int16 = pa.Field(coerce=True)\n",
    "    # G217_PQ_PN25: Int16 = pa.Field(isin=(8, 9, 0, 1), coerce=True)\n",
    "    # G217_PQ_PN34: Int16 = pa.Field(coerce=True)\n",
    "    # G217_PQ_PN35: Int16 = pa.Field(coerce=True)\n",
    "    # G217_PQ_PN36: Int16 = pa.Field(coerce=True)"
   ]
  },
  {
   "cell_type": "code",
   "execution_count": null,
   "metadata": {},
   "outputs": [],
   "source": [
    "class G217SQDataSchema(pa.DataFrameModel):\n",
    "    G217_SQ_PN17: Int16 = pa.Field(isin=(9, 0, 1), coerce=True)\n",
    "    # G217_SQ_PN9: Int16 = pa.Field(coerce=True)\n",
    "    # G217_SQ_PN38: Int16 = pa.Field(coerce=True)\n",
    "    # G217_SQ_PN25: Int16 = pa.Field(isin=(8, 9, 0, 1), coerce=True)\n",
    "    # G217_SQ_PN34: Int16 = pa.Field(coerce=True)\n",
    "    # G217_SQ_PN35: Int16 = pa.Field(coerce=True)\n",
    "    # G217_SQ_PN36: Int16 = pa.Field(coerce=True)"
   ]
  }
 ],
 "metadata": {
  "kernelspec": {
   "display_name": "python3",
   "language": "python",
   "name": "python3"
  }
 },
 "nbformat": 4,
 "nbformat_minor": 2
}
