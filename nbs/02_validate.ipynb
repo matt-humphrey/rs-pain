{
 "cells": [
  {
   "cell_type": "markdown",
   "metadata": {},
   "source": [
    "## TODO\n",
    "\n",
    "- Add validation for metadata -> should be a separate heading (validate alignment across ALL datasets: should be identical)\n",
    "- Update Dataset class so it doesn't have to take prefix or usecols"
   ]
  },
  {
   "cell_type": "code",
   "execution_count": null,
   "metadata": {},
   "outputs": [
    {
     "name": "stdout",
     "output_type": "stream",
     "text": [
      "The rich extension is already loaded. To reload it, use:\n",
      "  %reload_ext rich\n",
      "The autoreload extension is already loaded. To reload it, use:\n",
      "  %reload_ext autoreload\n"
     ]
    }
   ],
   "source": [
    "%load_ext rich\n",
    "%load_ext autoreload\n",
    "%autoreload 2"
   ]
  },
  {
   "cell_type": "code",
   "execution_count": null,
   "metadata": {},
   "outputs": [],
   "source": [
    "from pain.read import *\n",
    "from pathlib import Path\n",
    "import numpy as np\n",
    "\n",
    "import polars as pl\n",
    "import pandera.polars as pa\n",
    "from pandera.typing import DataFrame, Series"
   ]
  },
  {
   "cell_type": "code",
   "execution_count": null,
   "metadata": {},
   "outputs": [],
   "source": [
    "# from config import METADATA\n",
    "data_dir = Path(\"../data/raw\")"
   ]
  },
  {
   "cell_type": "markdown",
   "metadata": {},
   "source": [
    "## Data Schema"
   ]
  },
  {
   "cell_type": "markdown",
   "metadata": {},
   "source": [
    "Define expected data structure for each variable"
   ]
  },
  {
   "cell_type": "code",
   "execution_count": null,
   "metadata": {},
   "outputs": [],
   "source": [
    "PN17 = pa.Field(isin=(-99, 0, 1), coerce=True)\n",
    "PN25 = pa.Field(isin=(-88, -99, 0, 1), coerce=True)\n",
    "PN34 = pa.Field(isin=(-88, -99, 0, 1), coerce=True)\n",
    "PN35 = pa.Field(isin=(-88, -99, 0, 1), coerce=True) # do not include when checking N/A when PN17 is 0\n",
    "PN36 = pa.Field(isin=(-88, -99, 0, 1), coerce=True)\n",
    "PN9 = pa.Field(isin=(-88, -99, 0, 1), coerce=True)\n",
    "PN38 = pa.Field(isin=(-88, -99, 0, 1), coerce=True)"
   ]
  },
  {
   "cell_type": "markdown",
   "metadata": {},
   "source": [
    "## Metadata Validation"
   ]
  },
  {
   "cell_type": "code",
   "execution_count": null,
   "metadata": {},
   "outputs": [],
   "source": [
    "# Schema to validate metadata\n",
    "# TODO: create a MetadataClass class which contains a list of metadata containers? -> rename current Metadata class to VariableMetadata?\n",
    "# TODO: Create these in the config file and read them in here\n",
    "\n",
    "PN17 = Metadata(\n",
    "    label= \"Ever had back pain\",\n",
    "    field_values = {-99: \"Missing\", 0: \"No\", 1: \"Yes\"},\n",
    "    field_type = \"Numeric\",\n",
    "    field_width = 3,\n",
    "    decimals =  0,\n",
    "    variable_type = \"Nominal\"\n",
    ")\n",
    "\n",
    "PN25 = Metadata(\n",
    "    label= \"Sought professional advice/treatment\",\n",
    "    field_values = {-88: \"N/A\", -99: \"Missing\", 0: \"No\", 1: \"Yes\"},\n",
    "    field_type = \"Numeric\",\n",
    "    field_width = 3,\n",
    "    decimals =  0,\n",
    "    variable_type = \"Nominal\"\n",
    ")\n",
    "\n",
    "PN34 = Metadata(\n",
    "    label= \"Took medication to relieve pain\",\n",
    "    field_values = {-88: \"N/A\", -99: \"Missing\", 0: \"No\", 1: \"Yes\"},\n",
    "    field_type = \"Numeric\",\n",
    "    field_width = 3,\n",
    "    decimals =  0,\n",
    "    variable_type = \"Nominal\"\n",
    ")\n",
    "\n",
    "PN35 = Metadata(\n",
    "    label= \"Missed work due to pain\",\n",
    "    field_values = {-88: \"N/A\", -99: \"Missing\", 0: \"No\", 1: \"Yes\"},\n",
    "    field_type = \"Numeric\",\n",
    "    field_width = 3,\n",
    "    decimals =  0,\n",
    "    variable_type = \"Nominal\"\n",
    ")"
   ]
  },
  {
   "cell_type": "markdown",
   "metadata": {},
   "source": [
    "## G214_PQ"
   ]
  },
  {
   "cell_type": "code",
   "execution_count": null,
   "metadata": {},
   "outputs": [],
   "source": [
    "G214_PQ = Dataset(\"G214_PQ.sav\", data_dir)\n",
    "df, meta = G214_PQ.load_data()"
   ]
  },
  {
   "cell_type": "code",
   "execution_count": null,
   "metadata": {},
   "outputs": [],
   "source": [
    "# Create df designed to return an error\n",
    "fake_df = df.collect().to_pandas()\n",
    "fake_df.iloc[0, 0] = 1\n",
    "# fake_df.iloc[6, 1] = 1\n",
    "fake_df = pl.from_pandas(fake_df)"
   ]
  },
  {
   "cell_type": "code",
   "execution_count": null,
   "metadata": {},
   "outputs": [],
   "source": [
    "df = (\n",
    "    df\n",
    "    .select(\n",
    "        pl.col(\"G214_PQ_PN17\").replace({9: -99}),\n",
    "        pl.col(\"G214_PQ_PN25\").replace({8: -88, 9: -99}),\n",
    "        pl.col(\"G214_PQ_PN34\").replace({8: -88, 9: -99}),\n",
    "        pl.col(\"G214_PQ_PN35\").replace({8: -88, 9: -99}),\n",
    "        pl.col(\"G214_PQ_PN36\"),#.replace({8: -88, 9: -99})\n",
    "    )\n",
    ").collect()"
   ]
  },
  {
   "cell_type": "code",
   "execution_count": null,
   "metadata": {},
   "outputs": [
    {
     "name": "stdout",
     "output_type": "stream",
     "text": [
      "{\n",
      "    \"DATA\": {\n",
      "        \"DATAFRAME_CHECK\": [\n",
      "            {\n",
      "                \"schema\": \"G214PQDataSchema\",\n",
      "                \"column\": \"G214_PQ_PN35\",\n",
      "                \"check\": \"isin((-88, -99, 0, 1))\",\n",
      "                \"error\": \"Column 'G214_PQ_PN35' failed validator number 0: <Check isin: isin((-88, -99, 0, 1))> failure case examples: [{'G214_PQ_PN35': 8}, {'G214_PQ_PN35': 8}, {'G214_PQ_PN35': 8}, {'G214_PQ_PN35': 8}, {'G214_PQ_PN35': 8}]\"\n",
      "            },\n",
      "            {\n",
      "                \"schema\": \"G214PQDataSchema\",\n",
      "                \"column\": \"G214_PQ_PN36\",\n",
      "                \"check\": \"isin((-88, -99, 0, 1))\",\n",
      "                \"error\": \"Column 'G214_PQ_PN36' failed validator number 0: <Check isin: isin((-88, -99, 0, 1))> failure case examples: [{'G214_PQ_PN36': 8}, {'G214_PQ_PN36': 8}, {'G214_PQ_PN36': 8}, {'G214_PQ_PN36': 8}, {'G214_PQ_PN36': 8}]\"\n",
      "            }\n",
      "        ]\n",
      "    }\n",
      "}\n"
     ]
    }
   ],
   "source": [
    "cols_to_check = pl.col(\"G214_PQ_PN25\", \"G214_PQ_PN34\")\n",
    "\n",
    "class G214PQDataSchema(pa.DataFrameModel):\n",
    "    G214_PQ_PN17: Series[int] = PN17\n",
    "    G214_PQ_PN25: Series[int] = PN25\n",
    "    G214_PQ_PN34: Series[int] = PN34\n",
    "    G214_PQ_PN35: Series[int] = PN35\n",
    "    G214_PQ_PN36: Series[int] = PN36\n",
    "\n",
    "    # TODO: this check does not apply for PN35\n",
    "    @pa.dataframe_check\n",
    "    def check_for_na(cls, data: pa.PolarsData) -> pl.LazyFrame:\n",
    "        \"\"\"Return a LazyFrame with multiple boolean columns.\"\"\"\n",
    "        return data.lazyframe.filter(pl.col(\"G214_PQ_PN17\") == 0).select(cols_to_check == -88)\n",
    "    \n",
    "    @pa.dataframe_check\n",
    "    def check_for_na2(cls, data: pa.PolarsData) -> pl.LazyFrame:\n",
    "        \"\"\"Return a LazyFrame with multiple boolean columns.\"\"\"\n",
    "        return data.lazyframe.filter(pl.col(\"G214_PQ_PN25\") == -88).select(pl.col(\"G214_PQ_PN17\") == 0)\n",
    "\n",
    "try:\n",
    "    G214PQDataSchema.validate(df, lazy=True)\n",
    "except pa.errors.SchemaErrors as err:\n",
    "    print(err)"
   ]
  },
  {
   "cell_type": "markdown",
   "metadata": {},
   "source": [
    "## G214_SQ"
   ]
  },
  {
   "cell_type": "code",
   "execution_count": null,
   "metadata": {},
   "outputs": [],
   "source": [
    "G214_SQ = Dataset(\"G214_SQ.sav\", data_dir)\n",
    "df, _ = G214_SQ.load_data()"
   ]
  },
  {
   "cell_type": "code",
   "execution_count": null,
   "metadata": {},
   "outputs": [],
   "source": [
    "df = (\n",
    "    df\n",
    "    .select(\n",
    "        pl.col(\"G214_SQ_PN17\").replace({9: -99}),\n",
    "        pl.col(\"G214_SQ_PN25\").replace({8: -88, 9: -99}),\n",
    "        pl.col(\"G214_SQ_PN34\").replace({8: -88, 9: -99}),\n",
    "        pl.col(\"G214_SQ_PN35\").replace({8: -88, 9: -99}),\n",
    "        pl.col(\"G214_SQ_PN36\"),#.replace({8: -88, 9: -99}),\n",
    "    )\n",
    ")"
   ]
  },
  {
   "cell_type": "code",
   "execution_count": null,
   "metadata": {},
   "outputs": [],
   "source": [
    "class G214SQDataSchema(pa.DataFrameModel):\n",
    "    G214_SQ_PN17: Series[int] = PN17\n",
    "    G214_SQ_PN25: Series[int] = PN25\n",
    "    G214_SQ_PN34: Series[int] = PN34\n",
    "    G214_SQ_PN35: Series[int] = PN35\n",
    "    G214_SQ_PN36: Series[int] = PN36\n",
    "\n",
    "try:\n",
    "    df = G214SQDataSchema.validate(df, lazy=True)\n",
    "except pa.errors.SchemaErrors as err:\n",
    "    print(err)"
   ]
  },
  {
   "cell_type": "markdown",
   "metadata": {},
   "source": [
    "## G217_PQ"
   ]
  },
  {
   "cell_type": "code",
   "execution_count": null,
   "metadata": {},
   "outputs": [],
   "source": [
    "G217_PQ = Dataset(\"G217_PQ.sav\", data_dir)\n",
    "df, _ = G217_PQ.load_data()"
   ]
  },
  {
   "cell_type": "code",
   "execution_count": null,
   "metadata": {},
   "outputs": [],
   "source": [
    "df = (\n",
    "    df\n",
    "    .select(\n",
    "        pl.col(\"G217_PQ_PN17\").replace({9: -99}),\n",
    "        pl.col(\"G217_PQ_PN9\"),#.replace({9: -99}),\n",
    "        pl.col(\"G217_PQ_PN38\"),#.replace({9: -99}),\n",
    "        pl.col(\"G217_PQ_PN25\").replace({7: -99, 9: -99}),\n",
    "        pl.col(\"G217_PQ_PN34\").replace({7: -99, 9: -99}),\n",
    "        pl.col(\"G217_PQ_PN35\").replace({7: -99, 9: -99}),\n",
    "        pl.col(\"G217_PQ_PN36\"),#.replace({7: -99, 9: -99})\n",
    "    )\n",
    ")"
   ]
  },
  {
   "cell_type": "code",
   "execution_count": null,
   "metadata": {},
   "outputs": [],
   "source": [
    "class G217PQDataSchema(pa.DataFrameModel):\n",
    "    G217_PQ_PN17: Series[int] = PN17\n",
    "    G217_PQ_PN9: Series[int] = PN9\n",
    "    G217_PQ_PN38: Series[int] = PN38\n",
    "    G217_PQ_PN25: Series[int] = PN25\n",
    "    G217_PQ_PN34: Series[int] = PN34\n",
    "    G217_PQ_PN35: Series[int] = PN35\n",
    "    G217_PQ_PN36: Series[int] = PN36\n",
    "\n",
    "try:\n",
    "    df = G217PQDataSchema.validate(df, lazy=True)\n",
    "except pa.errors.SchemaErrors as err:\n",
    "    print(err)"
   ]
  },
  {
   "cell_type": "markdown",
   "metadata": {},
   "source": [
    "## G217_SQ"
   ]
  },
  {
   "cell_type": "code",
   "execution_count": null,
   "metadata": {},
   "outputs": [],
   "source": [
    "G217_SQ = Dataset(\"G217_SQ.sav\", data_dir)\n",
    "df, _ = G217_SQ.load_data()"
   ]
  },
  {
   "cell_type": "code",
   "execution_count": null,
   "metadata": {},
   "outputs": [],
   "source": [
    "df = (\n",
    "    df\n",
    "    .select(\n",
    "        pl.col(\"G217_SQ_PN17\").replace({9: -99}),\n",
    "        pl.col(\"G217_SQ_PN9\"),#.replace({9: -99}),\n",
    "        pl.col(\"G217_SQ_PN38\"),#.replace({9: -99}),\n",
    "        pl.col(\"G217_SQ_PN25\").replace({9: -99}),\n",
    "        pl.col(\"G217_SQ_PN34\").replace({9: -99}),\n",
    "        pl.col(\"G217_SQ_PN35\").replace({9: -99}),\n",
    "        pl.col(\"G217_SQ_PN36\"),#.replace({9: -99})\n",
    "    )\n",
    ")"
   ]
  },
  {
   "cell_type": "code",
   "execution_count": null,
   "metadata": {},
   "outputs": [],
   "source": [
    "class G217SQDataSchema(pa.DataFrameModel):\n",
    "    G217_SQ_PN17: Series[int] = PN17\n",
    "    G217_SQ_PN9: Series[int] = PN9\n",
    "    G217_SQ_PN38: Series[int] = PN38\n",
    "    G217_SQ_PN25: Series[int] = PN25\n",
    "    G217_SQ_PN34: Series[int] = PN34\n",
    "    G217_SQ_PN35: Series[int] = PN35\n",
    "    G217_SQ_PN36: Series[int] = PN36\n",
    "\n",
    "try:\n",
    "    df = G217SQDataSchema.validate(df, lazy=True)\n",
    "except pa.errors.SchemaErrors as err:\n",
    "    print(err)"
   ]
  }
 ],
 "metadata": {
  "kernelspec": {
   "display_name": "python3",
   "language": "python",
   "name": "python3"
  }
 },
 "nbformat": 4,
 "nbformat_minor": 2
}
